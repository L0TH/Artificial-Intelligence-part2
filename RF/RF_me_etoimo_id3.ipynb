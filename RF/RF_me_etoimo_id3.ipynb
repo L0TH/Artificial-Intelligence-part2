{
  "cells": [
    {
      "cell_type": "markdown",
      "metadata": {
        "id": "YsOzWPK3sQTk"
      },
      "source": [
        "add data"
      ]
    },
    {
      "cell_type": "code",
      "execution_count": 1,
      "metadata": {
        "colab": {
          "base_uri": "https://localhost:8080/"
        },
        "id": "Kg6skOVdlPyy",
        "outputId": "b91cb984-0bbd-4bde-cc6a-e188274ac18c"
      },
      "outputs": [
        {
          "output_type": "stream",
          "name": "stdout",
          "text": [
            "Downloading data from https://storage.googleapis.com/tensorflow/tf-keras-datasets/imdb.npz\n",
            "17465344/17464789 [==============================] - 0s 0us/step\n",
            "17473536/17464789 [==============================] - 0s 0us/step\n",
            "Downloading data from https://storage.googleapis.com/tensorflow/tf-keras-datasets/imdb_word_index.json\n",
            "1646592/1641221 [==============================] - 0s 0us/step\n",
            "1654784/1641221 [==============================] - 0s 0us/step\n"
          ]
        }
      ],
      "source": [
        "import tensorflow as tf\n",
        "import numpy as np\n",
        "\n",
        "(x_train, y_train), (x_test, y_test) = tf.keras.datasets.imdb.load_data(num_words=4000)\n",
        "\n",
        "word_index = tf.keras.datasets.imdb.get_word_index()\n",
        "index2word = dict((i + 3, word) for (word, i) in word_index.items())\n",
        "index2word[0] = '[pad]'\n",
        "index2word[1] = '[bos]'\n",
        "index2word[2] = '[oov]'\n",
        "x_train = np.array([' '.join([index2word[idx] for idx in text]) for text in x_train])\n",
        "x_test = np.array([' '.join([index2word[idx] for idx in text]) for text in x_test])"
      ]
    },
    {
      "cell_type": "code",
      "execution_count": 2,
      "metadata": {
        "colab": {
          "base_uri": "https://localhost:8080/"
        },
        "id": "vvyxjs6X1D_3",
        "outputId": "e55642df-6326-4511-ff94-1af3347dfc9f"
      },
      "outputs": [
        {
          "output_type": "stream",
          "name": "stdout",
          "text": [
            "3998\n"
          ]
        }
      ],
      "source": [
        "vocabulary = list()\n",
        "for text in x_train:\n",
        "  tokens = text.split()\n",
        "  vocabulary.extend(tokens)\n",
        "\n",
        "vocabulary = set(vocabulary)\n",
        "print(len(vocabulary))"
      ]
    },
    {
      "cell_type": "code",
      "execution_count": 4,
      "metadata": {
        "colab": {
          "base_uri": "https://localhost:8080/"
        },
        "id": "awd5VZ4DzA4-",
        "outputId": "86af068b-fe7c-4864-8dc3-fed62058a8c4"
      },
      "outputs": [
        {
          "output_type": "stream",
          "name": "stderr",
          "text": [
            "100%|██████████| 25000/25000 [07:22<00:00, 56.49it/s]\n",
            "100%|██████████| 25000/25000 [06:59<00:00, 59.61it/s]\n"
          ]
        }
      ],
      "source": [
        "from tqdm import tqdm\n",
        "\n",
        "x_train_binary = list()\n",
        "x_test_binary = list()\n",
        "\n",
        "for text in tqdm(x_train):\n",
        "  tokens = text.split()\n",
        "  binary_vector = list()\n",
        "  for vocab_token in vocabulary:\n",
        "    if vocab_token in tokens:\n",
        "      binary_vector.append(1)\n",
        "    else:\n",
        "      binary_vector.append(0)\n",
        "  x_train_binary.append(binary_vector)\n",
        "\n",
        "x_train_binary = np.array(x_train_binary)\n",
        "\n",
        "for text in tqdm(x_test):\n",
        "  tokens = text.split()\n",
        "  binary_vector = list()\n",
        "  for vocab_token in vocabulary:\n",
        "    if vocab_token in tokens:\n",
        "      binary_vector.append(1)\n",
        "    else:\n",
        "      binary_vector.append(0)\n",
        "  x_test_binary.append(binary_vector)\n",
        "\n",
        "x_test_binary = np.array(x_test_binary)"
      ]
    },
    {
      "cell_type": "code",
      "source": [
        "my_x_train_binary = x_train_binary\n",
        "my_y_train = y_train"
      ],
      "metadata": {
        "id": "nRN5WUCcO9n2"
      },
      "execution_count": 5,
      "outputs": []
    },
    {
      "cell_type": "code",
      "source": [
        "print(\"len(my_x_train_binary): \", len(my_x_train_binary))\n",
        "print(\"my_x_train_binary:\", my_x_train_binary)"
      ],
      "metadata": {
        "colab": {
          "base_uri": "https://localhost:8080/"
        },
        "id": "8QKl7gA6kiNv",
        "outputId": "20190a4a-209f-4380-8fc9-c4c6deb404a0"
      },
      "execution_count": 6,
      "outputs": [
        {
          "output_type": "stream",
          "name": "stdout",
          "text": [
            "len(my_x_train_binary):  25000\n",
            "my_x_train_binary: [[0 0 0 ... 0 0 0]\n",
            " [0 0 0 ... 0 0 0]\n",
            " [0 0 1 ... 0 0 0]\n",
            " ...\n",
            " [0 0 0 ... 0 0 0]\n",
            " [0 0 1 ... 0 0 0]\n",
            " [0 0 0 ... 0 0 0]]\n"
          ]
        }
      ]
    },
    {
      "cell_type": "code",
      "source": [
        "print(type(x_train_binary))\n",
        "print(len(x_train_binary))\n",
        "print(x_train_binary)\n",
        "new_x_train_binary = x_train_binary\n",
        "np.random.shuffle(new_x_train_binary)\n",
        "print(len(new_x_train_binary))\n",
        "print(new_x_train_binary)"
      ],
      "metadata": {
        "id": "ZNOvJQBtlQ2o"
      },
      "execution_count": null,
      "outputs": []
    },
    {
      "cell_type": "markdown",
      "source": [
        "Shuffle be like(enna kamei j to x_train_binary j to y_train opos prepei)"
      ],
      "metadata": {
        "id": "mJstuZ90s3Zx"
      }
    },
    {
      "cell_type": "code",
      "source": [
        "xar = np.array([[1, 11, 111], [2, 22, 222], [3, 33, 333], [4, 44, 444], [5, 55, 555]])\n",
        "yar = np.array([1, 2, 3, 4, 5])\n",
        "print(xar)\n",
        "print(yar)\n",
        "from sklearn.utils import shuffle\n",
        "xar, yar = shuffle(xar, yar, random_state=0)\n",
        "print(xar)\n",
        "print(yar)"
      ],
      "metadata": {
        "colab": {
          "base_uri": "https://localhost:8080/"
        },
        "id": "Jm5wCJz5nOpO",
        "outputId": "acd9dd30-ba71-4484-bcf4-f2192658f23d"
      },
      "execution_count": null,
      "outputs": [
        {
          "output_type": "stream",
          "name": "stdout",
          "text": [
            "[[  1  11 111]\n",
            " [  2  22 222]\n",
            " [  3  33 333]\n",
            " [  4  44 444]\n",
            " [  5  55 555]]\n",
            "[1 2 3 4 5]\n",
            "[[  3  33 333]\n",
            " [  1  11 111]\n",
            " [  2  22 222]\n",
            " [  4  44 444]\n",
            " [  5  55 555]]\n",
            "[3 1 2 4 5]\n"
          ]
        }
      ]
    },
    {
      "cell_type": "markdown",
      "metadata": {
        "id": "5jIRutchfXsh"
      },
      "source": [
        "return the position of a word"
      ]
    },
    {
      "cell_type": "code",
      "source": [
        "print(len(vocabulary))\n",
        "print(vocabulary)"
      ],
      "metadata": {
        "colab": {
          "base_uri": "https://localhost:8080/"
        },
        "id": "3vIQYeGmUjW9",
        "outputId": "945175b7-3405-4427-d72e-73533d48f810"
      },
      "execution_count": 7,
      "outputs": [
        {
          "output_type": "stream",
          "name": "stdout",
          "text": [
            "3998\n",
            "{'taylor', 'brando', 'we', 'victoria', 'alan', 'acted', 'examples', 'degree', 'shallow', 'biggest', 'discovered', 'vietnam', 'halfway', 'essentially', 'trash', 'nation', 'strictly', 'older', 'ghost', 'cheesy', 'country', 'cartoons', 'driven', 'cusack', 'anthony', 'eye', 'treated', 'lake', 'reviewer', 'ripped', 'fancy', 'recognized', 'stick', 'anna', 'stiff', 'split', 'getting', 'morality', 'francisco', 'stanwyck', 'audience', 'quite', 'pregnant', \"here's\", 'thinking', 'morning', 'changed', 'happening', 'smith', 'concerns', 'asian', 'medical', 'eva', 'terrifying', 'wall', 'insulting', 'footage', 'driver', 'work', 'rating', 'sacrifice', 'status', \"there's\", 'builds', 'irritating', \"we've\", 'shown', 'arnold', 'cried', 'nick', 'instantly', 'progress', 'sharp', 'references', 'leaving', \"i'd\", 'their', 'ho', 'joy', 'failure', 'checking', 'desperate', 'christian', 'remotely', 'typical', 'surprised', 'technical', 'eddie', 'bought', 'twelve', 'on', 'lots', 'stupid', 'asked', 'nature', 'genius', 'prince', 'characters', 'baby', 'glass', 'adaptation', 'executed', 'ann', 'dad', 'national', 'aimed', 'days', 'along', 'shows', 'notes', 'handsome', 'entertained', 'silly', 'acts', 'now', 'lights', '1930s', 'allowing', 'believe', 'pain', 'shines', 'towards', 'mere', 'existent', 'intention', 'technology', 'dialogues', 'waiting', 'may', 'cube', 'guilty', 'buddies', 'eyes', 'tribute', 'dude', 'most', 'personalities', 'seek', '100', 'behavior', 'awkward', 'kurt', 'sheer', 'accomplished', 'visually', 'adventures', 'painful', 'design', 'director', 'support', 'amongst', 'terribly', 'lewis', 'lesser', 'reveals', 'fail', 'lose', 'surrounding', 'case', 'knock', 'keeping', 'decides', 'determined', 'graphic', 'sleazy', 'lovable', 'bomb', 'obsession', '1980s', 'rescue', 'colorful', 'pleasant', 'opening', 'glenn', 'myself', '2006', 'shame', 'projects', 'stunning', 's', 'account', 'given', 'ancient', 'welcome', 'precious', 'beast', 'information', 'philip', 'lack', 'threatening', 'romance', 'burton', 'magic', 'least', 'ride', 'daring', 'said', 'french', 'deserved', 'improved', 'convinced', 'helps', 'dogs', 'joan', 'gotten', 'witty', 'force', 'voices', 'subtitles', 'four', 'project', 'turner', 'clothing', 'established', 'motivation', 'broad', 'united', 'creating', 'gives', 'clichéd', 'stole', 'fully', 'disgusting', 'corner', 'revelation', 'forest', 'convey', 'ahead', 'enter', 'maybe', 'classic', 'good', 'circumstances', 'building', 'going', 'press', 'explosions', 'expecting', 'represents', 'results', 'wayne', 'ran', 'dreadful', 'blame', 'foot', 'realizes', 'past', 'desire', 'scene', 'treat', 'spielberg', 'aka', 'competition', 'rather', 'top', 'town', 'wooden', 'abuse', 'wins', 'parody', '90', 'hip', '99', 'hours', 'apart', 'unexpected', 'exactly', 'perfect', 'effort', 'release', 'combined', 'gordon', 'titanic', 'local', 'serve', 'north', \"you'll\", 'smoke', 'member', 'count', 'minimal', 'importance', 'fairly', 'once', 'frame', '16', 'campy', 'sent', 'dimensional', 'rent', 'talent', 'guns', 'highly', 'without', 'some', 'breath', 'save', 'stage', 'bringing', 'cross', 'bus', 'vehicle', 'cruise', 'questions', 'clever', 'entertain', 'ron', 'encounters', 'alexander', 'confusion', 'pseudo', 'allow', 'birds', 'fire', 'problem', 'recommended', 'blows', 'number', 'use', 'robot', 'texas', 'value', 'dancing', 'nazis', 'evening', 'weapons', 'incredibly', 'understand', 'team', 'victims', 'into', 'fictional', 'taste', 'shower', 'cult', 'boss', 'visuals', 'louis', \"you're\", 'daily', 'swear', 'picture', 'helping', 'hearts', 'spoiler', 'short', 'followed', 'robert', 'but', 'spots', 'decision', 'douglas', 'bleak', 'utter', 'psychotic', 'floor', 'somebody', 'turn', 'action', 'composed', 'creatures', 'brothers', 'sell', 'convince', 'younger', 'directors', 'novels', 'renting', 'summary', 'elvira', 'involving', 'resembles', 'directing', 'dubbing', \"wouldn't\", 'easily', 'aged', 'served', 'captain', 'notable', 'write', 'dangerous', 'territory', 'noise', 'body', 'crowd', 'erotic', 'necessary', 'credit', 'joseph', 'spoken', 'stranger', 'warned', 'trade', 'terrific', 'holding', 'countries', 'amusing', '20th', 'blob', 'prime', 'watch', 'remind', 'humanity', 'super', 'parts', 'lame', 'genuinely', 'sophisticated', 'learning', '1950s', 'saying', 'locations', 'allows', 'nuclear', 'rings', 'kane', 'x', 'herself', 'fairy', 'destroy', 'carry', 'fun', 'meets', 'planning', 'returned', 'community', 'forgot', 'irony', 'paying', 'anything', 'drive', 'build', 'known', 'still', 'gore', 'looks', 'notorious', 'scale', '24', 'pushing', 'kong', 'need', 'claims', 'rights', 'pre', 'insult', 'initially', 'thought', \"isn't\", 'someone', 'job', 'mrs', 'positive', 'loosely', 'dinosaurs', 'scientists', 'nancy', 'display', 'drivel', 'enjoyable', 'civil', 'amount', 'andrew', 'lucky', 'coming', 'fighting', 'par', 'watches', 'likely', 'environment', 'creature', 'none', 'clips', 'alive', 'heavy', 'rape', 'many', 'carefully', 'mentally', 'marie', 'failing', 'ex', 'bring', 'critics', 'knife', 'experience', 'pool', 'arrive', 'wanting', 'locked', 'dress', 'slow', 'conflict', 'sports', 'sub', 'trite', 'certain', 'slowly', 'actresses', 'piece', 'california', 'okay', 'main', 'chase', 'incident', 'imagery', 'wide', 'downright', 'almost', 'aliens', 'guest', 'culture', 'adult', 'lifetime', 'dance', 'city', 'overlooked', 'made', 'forgettable', 'alice', 'merely', 'gift', 'discussion', 'watching', 'powell', 'sing', 'mix', 'columbo', 'working', 'places', 'white', '\\x96', 'tedious', 'lying', 'anyways', 'casting', 'word', 're', 'ward', 'hand', 'is', 'stuff', 'forget', 'around', 'turned', 'arts', 'howard', 'changing', 'hospital', 'state', 'angels', 'block', 'full', 'indian', 'identity', 'independent', 'creates', 'safe', 'version', 'accents', 'tunes', 'prefer', 'government', 'occurred', 'rush', 'dick', 'include', 'ritter', 'wwii', 'corny', 'interesting', 'multiple', 'provided', 'sequel', 'jean', 'sight', 'picking', 'bullet', '2002', 'arthur', 'factory', 'scooby', 'named', 'like', 'indians', 'attack', 'learned', 'played', 'opinion', 'frank', 'kim', 'sequence', 'greek', 'union', 'copy', 'hills', 'charm', 'product', 'stylish', 'martial', 'melodrama', 'passed', 'managed', 'back', 'flow', 'upper', 'suck', 'gothic', 'agent', 'nelson', 'loved', 'marvelous', 'saves', 'upset', 'hell', 'research', 'boredom', 'partly', 'maker', 'engaging', '2004', 'might', 'them', 'hundreds', 'uncomfortable', 'u', '11', 'move', 'lily', 'dignity', 'dramatic', 'manage', 'works', 'presence', 'branagh', 'farm', 'butt', 'choreography', 'stop', 'looking', 'ironically', 'le', 'willing', 'editing', 'few', '13', 'theater', 'guilt', 'here', 'because', 'every', 'scares', 'chances', 'ghosts', 'washington', 'visit', 'called', 'comical', 'channel', '15', 'horrible', 'though', 'explained', 'racist', 'overcome', 'home', 'serves', \"80's\", 'best', 'saving', 'knows', 'busy', 'episodes', 'magnificent', 'fact', 'anyway', \"people's\", 'uninteresting', 'whole', 'quality', 'better', 'appreciated', 'monster', 'mr', 'original', 'correct', 'gonna', 'iii', 'at', 'flawless', 'harris', 'trailer', 'false', 'idea', 'charge', 'superb', 'raw', 'majority', 'gross', 'loud', 'topic', '45', 'mel', 'fashion', 'humans', 'asking', 'michelle', 'cell', 'protect', 'expert', 'troubled', 'reaction', 'andy', 'comedies', '60', 'latest', 'attacked', 'anger', 'war', 'elements', 'fay', 'edited', 'together', 'rental', 'choices', 'term', 'off', 'continuity', 'reduced', 'shortly', 'rich', 'raped', 'plans', 'basis', 'pie', 'convincing', 'scenario', 'guys', 'thrown', 'be', 'military', 'apparently', 'blah', 'advantage', 'kept', 'pick', 'about', 'redeeming', 'conceived', 'approach', 'neck', 'spanish', 'believed', 'memories', 'tells', 'moment', 'tame', 'season', 'please', 'temple', 'naturally', 'miller', 'mile', 'surreal', 'messages', 'year', '60s', 'albeit', 'nominated', \"we're\", 'fare', 'speaking', 'destruction', 'japanese', 'understanding', 'hoffman', 'humour', 'high', 'denzel', 'written', 'surprise', 'types', 'person', 'animals', 'chan', 'hired', 'experiences', 'manner', 'pulled', 'teacher', 'evil', 'model', 'felt', 'claim', 'kate', 'type', 'calling', 'weekend', 'dressed', 'meat', 'end', 'pat', 'imdb', 'speed', 'anti', 'should', \"girl's\", 'viewers', 'his', 'appear', 'painting', 'cops', 'flawed', 'horse', 'bloody', 'ridiculously', 'politics', 'de', 'scary', 'change', 'alike', 'requires', 'highlight', 'forgive', 'heard', 'condition', 'brosnan', 'male', 'stuck', 'far', 'exploitation', 'ruth', 'korean', 'statement', '2001', 'charlie', 'psychiatrist', 'jazz', 'teach', 'dialogue', 'jay', 'had', 'chemistry', 'movie', 'totally', 'marry', 'cook', 'suspects', 'videos', 'opened', 'bear', 'aside', 'tries', 'focuses', 'outrageous', 'ad', 'friend', 'ups', 'vote', 'rushed', 'king', 'warner', 'faithful', 'ruin', 'desert', 'regarding', 'universal', 'details', 'faith', 'hearing', 'drag', 'distant', 'tiny', 'cultural', 'lie', 'seasons', 'officer', 'associated', 'idiotic', 'besides', 'delight', 'arms', 'talked', 'mistakes', 'look', 'runs', 'three', \"aren't\", 'etc', 'millions', 'monkey', 'embarrassed', 'threw', 'ben', 'uncle', 'interested', 'cannot', 'writers', 'near', 'names', 'web', 'hundred', 'overdone', 'beaten', 'closing', 'personal', 'spooky', 'sticks', 'basically', 'smart', 'proud', 'fallen', 'sandler', 'gory', 'hanks', 'bathroom', 'fill', 'cheek', 'singing', 'murphy', '18', 'horribly', 'displays', 'proof', 'become', 'understood', 'fantasy', 'suspenseful', 'crappy', 'mainly', 'comfortable', 'completely', 'innovative', 'drawing', \"60's\", 'ignore', 'properly', 'remote', 'lies', 'escaped', 'jewish', 'dying', 'mass', 'sad', 'legend', 'too', 'dead', 'rubbish', 'ages', 'theatrical', 'narrator', 'shut', 'cheap', 'pacing', 'major', 'vampire', 'hoping', 'rule', 'midnight', 'cruel', 'doing', 'starred', 'third', 'second', 'they', '70s', 'highlights', \"70's\", 'laid', 'sword', 'achieved', 'pair', 'hard', 'roles', 'hanging', 'ha', 'life', 'prevent', 'london', 'africa', 'torn', 'n', 'things', 'mood', 'americans', 'gave', 'heck', 'endless', 'gas', 'mid', 'corpse', 'everywhere', 'replaced', 'avoid', 'wrote', 'nor', 'harry', 'money', 'dorothy', 'warn', 'concert', 'attracted', '2', 'month', 'makes', 'elaborate', 'carol', 'hence', 'woods', 'dark', 'different', 'threat', 'madness', 'annoying', 'ladies', 'it', 'fx', 'loose', 'skip', 'ultimate', 'attempt', 'longer', 'samurai', 'noticed', 'packed', 'come', 'funnier', 'says', 'books', 'dropped', 'quirky', 'student', 'caught', 'develop', 'tarzan', 'underrated', 'walken', 'screaming', 'frankly', 'england', 'eating', 'living', 'summer', \"'s\", 'incredible', 'kids', \"who's\", 'himself', 'cry', 'cameras', 'bridge', 'winning', 'margaret', \"they'd\", 'virus', 'remembered', 'shoot', 'theaters', '17', 'occasional', 'realize', 'vivid', 'oscars', 'warren', 'manager', 'mgm', 'allowed', 'instance', 'video', 'interviews', 'absurd', 'no', 'keep', 'humor', 'jump', 'trio', 'if', 'green', 'production', 'sexually', 'gay', 'painfully', 'maria', 'giallo', 't', 'think', 'storyline', 'told', 'example', 'jumps', 'passing', 'decided', 'grant', 'barry', \"shouldn't\", 'step', 'screening', 'gripping', 'damn', 'where', \"wasn't\", 'treatment', 'reed', 'pieces', 'so', 'useless', \"one's\", 'humorous', 'overly', 'artistic', 'wild', 'mindless', 'co', 'suppose', 'segments', 'struggles', 'blank', 'afterwards', 'larry', 'seeking', 'dreams', 'killers', 'line', 'refreshing', 'hurt', 'brand', 'angel', 'land', 'unnecessary', 'bucks', 'unforgettable', 'interest', 'previous', 'yourself', 'saved', '9', 'tea', 'sleeping', 'supporting', 'involvement', 'nasty', 'santa', 'legendary', 'danger', 'as', \"what's\", 'extreme', 'expressions', 'strikes', 'roberts', 'dinner', 'did', 'sadness', 'drunk', 'camera', 'fourth', 'producer', 'hunter', 'big', 'trip', 'boy', \"haven't\", 'died', 'gone', 'focus', 'odd', 'matthau', 'space', 'taking', 'misses', '20', 'small', 'southern', 'nobody', 'hunting', 'game', 'teen', \"character's\", 'nice', 'combination', 'bit', 'will', 'nevertheless', 'racism', 'awards', 'ignored', 'street', 'kudos', 'enjoys', 'terms', 'letting', 'endearing', 'waste', 'serious', 'importantly', 'final', 'recall', 'thrilling', 'news', 'baker', 'pathetic', 'poorly', 'ability', 'listening', 'intended', 'race', 'till', 'minor', 'pretty', 'kelly', 'true', 'accused', 'recognize', 'generation', 'laugh', 'gags', 'surface', 'ralph', 'wonder', 'lovely', \"man's\", 'burning', 'fiction', 'sadly', 'masterpiece', 'role', 'sequels', 'atmospheric', 'based', 'sexy', 'ugly', 'epic', 'imagination', 'code', 'adults', 'caring', 'smoking', 'join', 'wanna', 'satisfying', 'hitler', 'fantastic', 'tradition', 'greatly', 'ways', 'potential', 'buddy', 'oil', 'sisters', 'genuine', 'issue', 'concerned', 'path', 'river', 'opera', 'claire', 'flynn', 'destroyed', 'talk', 'wise', 'receive', 'feature', 'fake', 'actors', 'hey', 'hate', 'while', 'history', 'army', 'wonderful', 'win', 'former', 'enemy', 'stretch', 'alex', 'what', 'begin', 'night', 'saw', 'british', 'part', 'triumph', 'appeal', 'criminal', 'oliver', 'carrie', 'gold', 'solve', 'cole', 'criticism', 'son', 'print', 'cinderella', 'children', 'insight', 'president', 'largely', 'mission', 'meanwhile', 'watchable', 'family', 'thomas', 'rival', 'minutes', 'snow', 'proper', 'middle', 'several', 'possibly', 'equal', 'collection', 'dealt', 'development', 'looked', 'art', 'hitchcock', 'bitter', 'post', 'matt', 'greater', 'segment', 'born', 'stars', '2003', 'audio', 'remake', 'century', 'rolling', 'virtually', 'featuring', 'confusing', 'rules', 'max', 'rock', 'exciting', 'italy', 'tree', \"she's\", 'poverty', 'harsh', 'comedy', 'drunken', 'old', 'drug', 'acceptable', 'location', 'cat', 'seemingly', 'dancer', 'pictures', 'feelings', 'professor', 'met', 'matter', 'particularly', 'security', 'pg', '000', 'needs', 'pointed', 'commercial', 'wrong', 'mexico', 'gratuitous', 'proceedings', 'die', 'train', 'entertaining', 'standing', 'darker', 'strange', 'truly', 'lincoln', 'popular', 'lot', 'trick', 'basement', 'child', 'twists', 'then', 'creative', 'yes', 'dan', 'words', 'large', 'themes', 'winter', 'harder', 'half', 'jon', 'he', 'previously', 'dawn', 'hair', 'killing', 'stephen', 'sheriff', 'noted', 'warrior', 'fit', 'moore', 'elderly', 'mother', 'crew', 'related', 'photographer', 'note', 'holds', 'brian', 'wasting', 'cop', 'crude', 'bush', 'pull', 'pass', 'happy', 'tragic', 'boys', 'study', 'bride', 'hardy', 'handled', 'players', 'wreck', 'drugs', 'pilot', 'filmmaker', 'found', 'larger', 'sudden', 'killer', 'reach', 'guard', 'spoil', 'site', 'relative', 'era', 'escape', 'jim', 'finished', 'built', 'definitely', 'pity', 'car', 'appealing', 'premise', 'annie', 'providing', 'chick', 'flight', 'own', 'dear', 'suffered', 'arrives', 'heads', 'ruined', 'finds', 'hall', 'splendid', 'angle', 'thankfully', 'fortune', 'apparent', 'football', 'college', 'solid', 'anyone', '10', 'newspaper', 'kitchen', 'wait', 'silver', 'laughed', 'provoking', 'grey', 'credibility', \"show's\", 'mom', 'nightmare', 'rex', 'japan', 'viewed', 'and', 'produce', 'davis', 'pretend', '[oov]', 'twice', 'ice', 'over', 'hands', 'prepared', 'young', 'breaks', 'partner', 'attitude', 'rap', 'inspired', 'tale', 'hero', 'bits', 'failed', 'uk', 'angry', 'victor', 'contain', 'alone', 'successful', 'sun', 'asleep', 'filming', 'parents', 'weeks', 'lived', 'consider', 'spy', 'melodramatic', 'record', 'antics', 'lousy', 'eventually', 'relationship', 'scare', 'titled', 'common', 'suggests', 'cold', 'repetitive', 'noir', 'live', 'blair', 'period', 'bo', 'regard', 'hardly', 'norman', 'pace', 'moments', 'jones', 'workers', 'ludicrous', 'fight', 'surprises', 'television', 'executive', 'countless', 'obscure', 'earlier', 'quote', 'fred', 'darkness', 'funny', 'thank', 'unlike', 'industry', 'kid', 'evident', 'wit', 'matrix', 'stunts', 'favorites', 'break', 'portray', 'johnson', 'dave', 'modesty', 'cinematic', 'double', 'important', 'music', 'happened', 'sitcom', 'pure', 'choice', 'gritty', 'directly', 'well', 'express', 'mitchell', 'track', 'blue', 'competent', 'stolen', 'flashbacks', 'eerie', 'fails', 'why', 'stronger', 'hold', 'starting', 'opportunity', 'career', 'mental', 'lacks', 'added', 'modern', 'media', 'others', 'sinister', 'gradually', 'per', 'spend', 'put', 'closely', 'lady', 'presents', 'adam', 'tune', 'wars', 'throat', 'control', 'match', 'kevin', 'von', 'bat', 'shy', \"won't\", 'christ', 'nude', 'hooked', 'journalist', 'spring', 'quest', 'paul', 'wicked', 'romantic', 'moon', 'weight', 'beating', 'trying', 'shakespeare', 'bank', 'normally', 'makeup', 'provide', 'grace', 'arrested', 'placed', 'passion', 'shocked', 'mind', 'delightful', 'or', 'bobby', 'speech', 'check', 'goofy', 'abc', 'liberal', 'sister', 'reality', 'obvious', 'folks', 'citizen', 'joe', 'al', 'oddly', 'sin', 'cameo', 'sucked', 'graphics', 'deliver', 'drives', 'clothes', 'peter', 'loss', 'patrick', 'paris', 'blind', 'friendly', 'thin', 'con', \"hadn't\", 'stopped', 'merit', \"'the\", 'due', 'emotions', 'viewer', 'actress', 'cause', 'took', 'cute', 'overall', 'narrative', 'ask', 'twisted', 'states', 'disney', 'law', 'itself', 'wave', 'freeman', 'tons', 'device', 'attempts', 'thousands', 'shadow', 'review', 'grown', 'women', 'george', 'suited', 'spending', 'heroes', 'ago', 'significant', 'reasonable', 'savage', 'stayed', 'songs', 'plays', 'john', \"that's\", 'farce', 'movies', 'artists', 'currently', 'effects', 'fly', 'producers', 'futuristic', 'view', 'card', 'last', 'helen', 'drink', 'soldier', 'technique', 'guessing', 'against', 'gets', 'india', 'continue', 'chasing', 'nowhere', 'tour', 'disappointment', 'zone', 'fisher', 'versions', 'm', 'more', 'mary', 'students', 'down', 'talking', 'were', 'cool', 'pitt', 'france', 'title', 'scenery', 'matters', 'thinks', 'grand', 'streets', 'your', 'strength', 'joey', 'hour', 'flicks', 'tough', 'spin', 'effect', \"children's\", 'superman', 'possible', 'regular', 'grew', 'attempted', 'pleasure', 'portraying', 'bird', 'hotel', \"would've\", 'suffers', 'loves', 'anne', 'blockbuster', 'diamond', 'she', 'relief', 'walked', 'struck', 'fever', 'unrealistic', 'franchise', 'center', 'week', 'success', 'dumb', 'text', 'vague', 'sensitive', 'argument', 'allen', 'being', 'self', 'closer', 'cousin', 'horses', 'search', 'bone', 'returns', 'vicious', 'shadows', 'reunion', 'thrill', 'fights', 'cartoon', 'ratings', 'neil', 'thus', 'unconvincing', 'spike', 'starring', 'right', 'network', 'luckily', 'lines', 'demons', 'genres', 'nicely', 'stan', 'bizarre', 'window', 'school', 'creation', 'however', 'carrey', 'since', 'hearted', 'devil', 'provides', 'leading', 'portrays', '80s', 'awful', 'kind', 'hudson', 'ray', 'affected', 'captivating', 'mouth', 'forward', 'skills', 'dire', 'losing', 'anime', 'below', 'inept', 'q', 'deeper', 'all', 'area', 'similar', 'powerful', 'edge', 'lazy', 'mexican', 'bullets', 'beyond', 'nonsense', 'craft', 'tom', 'castle', 'bollywood', 'professional', 'heart', 'wanted', 'efforts', 'bed', 'van', 'certainly', 'university', 'don', 'page', 'truck', 'ridiculous', 'bourne', 'thriller', 'american', 'under', 'each', 'arm', 'tight', 'saturday', 'murder', 'simple', 'direction', 'emotional', 'present', 'hopefully', 'day', 'occurs', 'factor', 'element', 'bound', 'incoherent', 'emotionally', 'evidence', 'profound', 'probably', 'wake', 'ned', 'brilliantly', 'canadian', 'rose', 'putting', 'ian', 'translation', 'cliché', 'retarded', \"don't\", 'tv', 'episode', 'focused', 'sound', 'definite', 'e', 'queen', 'park', 'hint', 'boyfriend', 'amazing', 'tragedy', 'stupidity', 'actor', 'mark', 'boring', 'doctor', 'fell', 'higher', 'included', 'ah', 'identify', 'crap', 'vhs', 'returning', 'five', 'usually', 'through', 'shop', 'sir', 'catherine', 'indie', \"doesn't\", 'nights', 'forever', 'shooting', 'impressed', 'contained', 'stewart', 'fitting', 'risk', 'market', 'guts', 'format', 'buying', 'object', 'scott', 'selling', 'red', 'dated', 'stereotypes', 'glover', 'bbc', 'beats', 'flying', 'grandmother', 'steals', 'not', 'brooks', 'men', 'throughout', 'invisible', 'priest', 'hamlet', 'million', 'dare', 'rogers', 'skill', 'brief', 'core', 'lead', 'barbara', 'moral', 'admire', 'sense', 'everybody', 'library', 'praise', 'foster', 'phone', 'digital', 'lesson', 'perfection', 'tied', 'greatest', 'eve', 'start', 'persona', 'purely', 'minute', 'unbelievably', 'flesh', 'richard', 'see', 'frightening', 'sleep', 'faced', 'beloved', 'european', 'intriguing', 'depiction', 'sarah', 'ought', 'cinematography', 'black', 'grim', 'constant', 'steal', 'choose', 'investigate', 'sadistic', 'screenwriter', 'whatsoever', 'brain', 'sex', 'yet', 'structure', 'neat', 'trial', 'conversations', 'editor', 'slightest', 'shoes', 'numbers', 'points', 'werewolf', 'jerry', 'sometimes', 'slap', 'swedish', 'poster', 'somewhat', 'danny', 'ken', 'husband', 'mate', 'used', 'anywhere', 'soundtrack', 'animated', 'led', 'helped', 'worthy', 'cut', 'entry', 'covered', 'interview', 'changes', 'leaves', 'occasionally', 'dealing', 'thief', 'surprising', 'population', \"world's\", 'actual', 'wearing', 'holes', 'refuses', 'chief', 'hits', 'latter', 'walter', 'doc', 'spell', 'slightly', 'attacks', 'eat', 'wondered', 'my', 'response', 'wow', 'exposed', 'europe', 'style', 'accent', 'suddenly', 'category', 'wish', 'repeat', 'headed', 'che', 'limited', 'offer', 'oh', 'investigation', 'unusual', 'cant', 'stand', 'belongs', 'within', 'buried', 'charismatic', 'today', 'hopes', 'ok', 'asks', 'morgan', 'terry', 'league', 'unbelievable', 'fatal', 'honest', 'impressive', 'the', 'opposite', 'brutal', 'fault', 'com', 'sole', 'either', 'familiar', 'beings', 'room', 'than', 'studio', 'australia', 'amazed', 'contrary', 'haunted', 'secret', 'murders', '2005', 'spectacular', 'point', 'c', 'excellent', 'stories', 'thats', 'essential', 'wolf', 'done', 'pile', 'guide', 'content', 'religious', 'accidentally', 'chain', 'light', 'wilson', 'numerous', 'everyday', 'smooth', 'price', 'offered', 'admit', 'notice', 'encounter', 'current', 'charming', 'care', 'infamous', 'have', 'imagined', 'holmes', 'amateur', 'reactions', \"they've\", 'intellectual', 'wonders', 'balance', 'trap', 'marriage', 'ever', 'forgotten', 'navy', 'central', 'likes', 'standard', 'billy', 'handful', 'happiness', 'suits', 'seagal', 'dig', 'throw', 'spite', 'scream', 'deep', 'fate', 'loses', 'thirty', 'series', 'steven', 'west', 'theme', 'cox', 'first', 'yeah', 'blood', 'cagney', 'ireland', 'name', 'deals', 'can', 'involves', 'behind', 'average', 'taken', 'zombies', 'cowboy', 'hollywood', '5', 'task', 'necessarily', 'tell', 'neighbor', 'welles', 'johnny', 'perhaps', 'blown', 'you', 'filmmakers', 'soft', 'mature', 'mountains', 'afraid', 'english', 'begins', 'pop', 'agree', 'fascinating', 'birth', 'door', 'lord', 'stock', 'inevitable', 'jail', 'russian', 'female', 'reynolds', 'sure', 'catch', 'literally', 'mediocre', 'doo', 'trilogy', 'lab', 'brilliant', 'jackie', 'mostly', 'mini', 'wedding', 'complete', 'beautiful', 'atmosphere', 'easy', 'crisis', 'hole', 'characterization', 'station', 'intense', 'dragged', 'reasons', 'meant', 'to', 'married', 'situations', 'brother', 'broke', 'guy', 'keeps', 'throwing', 'naive', 'after', 'ii', 'addition', 'succeeds', 'watched', 'friendship', 'suicide', 'level', 'jobs', 'bar', 'w', 'weird', 'website', 'hysterical', 'table', 'string', 'generally', 'spirited', 'paper', 'score', 'porn', 'garbage', 'neighborhood', 'thanks', 'sci', 'wear', 'themselves', 'foreign', 'follow', 'regardless', 'plane', 'lonely', 'actually', '50', 'got', 'ending', 'horrid', 'kidnapped', 'thumbs', 'homeless', 'hope', 'beginning', 'mine', 'rid', 'fool', 'classics', 'cardboard', 'program', 'idiots', 'natural', 'opposed', 'engaged', 'who', 'gang', 'subsequent', 'daughter', 'brought', 'dragon', 'leg', 'massive', 'colors', 'technically', 'sings', 'happily', '12', 'ryan', 'remains', 'hoped', 'teenager', 'heston', 'disbelief', 'ill', 'reminds', 'advice', 'mafia', 'normal', 'curiosity', 'typically', 'creators', 'any', 'tracy', 'adventure', 'wannabe', 'dentist', 'silence', 'daniel', 'police', 'hood', \"he's\", 'making', 'fat', 'contact', 'nose', 'intentions', 'laura', 'increasingly', 'clichés', 'settings', 'religion', 'critic', 'sky', 'believable', 'memorable', 'essence', 'delivers', 'miscast', 'henry', 'roll', 'deadly', 'message', 'credible', 'cia', 'enjoyment', 'urban', 'laughs', 'ass', 'sunday', 'office', 'realized', 'families', 'place', 'timeless', 'screams', 'developed', 'chris', 'length', 'justice', 'suspense', 'both', 'new', 'which', 'superior', 'authentic', 'psycho', 'granted', '[bos]', 'deserve', 'vampires', 'sutherland', 'touched', 'song', 'face', 'again', 'movements', 'pay', 'clue', 'spoiled', 'lacking', 'ends', 'german', 'bodies', 'wishes', 'legs', 'theory', 'border', 'uses', 'consists', 'freedom', 'one', 'shots', 'concept', 'insane', 'disappointing', 'intelligence', 'alas', \"90's\", 'really', 'blow', 'rate', 'hire', 'does', 'easier', 'jesse', 'anybody', 'following', 'p', 'photography', 'has', 'audiences', 'form', 'performers', 'flaw', 'explore', 'cameos', 'j', 'nazi', 'hiding', 'charles', 'china', 'nurse', 'journey', 'including', 'host', 'colour', 'underground', 'chilling', 'depression', 'until', 'before', 'earth', 'notably', '7', 'satire', 'broadway', 'whether', 'suit', 'grade', 'time', 'argue', 'thoroughly', 'logic', 'sentimental', 'surely', 'toward', 'department', '30', 'stunt', 'soon', 'mild', 'commit', 'years', 'neither', 'artist', 'even', 'jeff', 'flick', 'survive', 'another', 'gag', 'musicals', 'goal', 'h', 'fans', 'apartment', 'in', 'foul', 'martin', 'exception', 'able', 'fellow', 'discovery', 'cases', 'gotta', 'photographed', 'fear', 'surprisingly', 'detail', 'outcome', 'needed', 'among', 'relationships', 'edward', 'adapted', 'acting', 'considered', 'created', 'tear', 'raise', 'lesbian', 'comparison', 'winner', 'party', 'lou', 'section', \"i've\", 'academy', 'menacing', 'real', 'by', 'gem', 'international', 'row', 'aforementioned', 'motion', 'pointless', 'practically', 'broken', 'scenes', 'away', 'pushed', 'williams', 'widmark', 'aware', 'six', 'dull', 'soul', 'add', 'offensive', 'drinking', 'soviet', 'enters', 'metal', 'social', '0', 'brown', 'wood', 'low', 'rain', 'a', 'amateurish', 'let', 'special', 'thoughts', 'respect', 'whereas', 'presented', 'battle', 'growing', 'productions', 'sets', 'enjoyed', 'vs', 'dollar', 'steve', 'wonderfully', 'substance', 'answers', 'pleased', 'bin', 'streisand', 'baseball', 'reviews', 'captures', 'disaster', 'truth', 'screen', 'innocent', 'witch', 'revenge', 'redemption', 'ticket', 'talks', 'superficial', 'island', 'less', 'fortunately', 'grows', 'thousand', 'resolution', 'clear', 'prison', 'figures', 'using', 'ambitious', 'eyed', 'dancers', 'storm', 'lost', 'hated', 'explosion', 'enjoy', 'donald', 'thick', 'happen', 'ourselves', 'plain', 'went', 'test', 'dry', 'ten', 'impossible', 'burt', 'tried', 'cast', 'something', 'develops', 'st', 'jealous', 'vision', 'versus', 'paced', 'material', 'company', 'killings', 'whoever', 'd', 'simon', 'dramas', 'becomes', 'detective', 'water', 'anderson', 'delivery', 'negative', 'could', 'hang', 'york', 'telling', 'steps', 'crying', 'those', 'world', 'bet', 'root', 'leads', 'ellen', 'mansion', 'shorts', 'vincent', 'tap', 'wondering', 'picks', 'birthday', 'stealing', 'veteran', 'seriously', 'target', 'kung', '2000', 'leader', 'luck', 'originally', 'succeed', 'won', 'crime', 'minds', 'her', 'woman', 'loving', 'mouse', 'escapes', 'suffer', 'extent', 'turkey', 'extra', 'finale', 'mask', 'desperately', 'wears', 'lessons', 'talented', 'routine', 'guess', 'hatred', 'universe', 'between', 'sends', 'puts', 'warning', 'luke', 'everyone', \"today's\", 'random', 'lucas', 'novel', 'learns', 'massacre', 'strong', '3', 'odds', 'connected', 'caused', 'explicit', 'appearance', 'musical', 'walk', 'excited', 'sort', 'strip', 'atrocious', 'crafted', 'call', 'jake', 'budget', 'drags', 'ideas', 'mystery', 'heroic', 'performing', 'jamie', 'lisa', 'huh', 'jungle', 'glimpse', 'historical', 'abandoned', 'karloff', 'whilst', 'finish', 'timothy', 'only', 'nowadays', 'elizabeth', 'experienced', 'attached', 'performances', 'meaning', 'favor', 'him', 'health', 'beat', '6', 'seen', 'cuts', \"woman's\", \"can't\", 'emotion', 'plague', 'hitting', 'monsters', 'power', 'ones', 'scripted', 'also', 'badly', 'proved', 'gentle', \"we'll\", 'single', 'absolute', 'alien', 'free', 'murdered', 'cage', 'flashback', 'say', 'wants', 'handed', 'stone', 'ensemble', 'entirely', 'grow', 'bothered', 'reached', 'likable', 'individual', 'introduced', 'trapped', 'tense', 'la', 'tension', 'out', '25', 'tend', 'lucy', 'compared', 'meeting', 'pack', 'horrific', 'spends', 'calls', 'r', 'for', 'supernatural', 'jennifer', 'causes', 'kinds', 'fan', 'seems', '2nd', 'mess', 'inspiration', 'ultimately', 'story', 'result', 'dollars', 'therefore', 'of', 'achieve', 'contemporary', 'comments', 'how', 'character', 'tape', 'protagonist', 'extended', 'throws', \"ain't\", 'disappointed', 'board', 'master', 'village', 'church', 'cover', 'freddy', 'makers', 'considering', 'whose', 'scared', 'bette', 'fame', 'usual', \"it's\", 'girls', 'sexuality', 'plan', 'band', 'script', 'britain', 'give', \"let's\", 'glory', 'later', 'horrors', 'hidden', 'youth', 'contains', 'get', 'expression', 'disagree', 'seemed', 'gun', 'forces', 'worthless', 'hide', 'semi', 'knowledge', 'critical', 'revealing', 'cable', 'courage', 'try', 'tortured', 'joke', 'appearing', 'regret', 'bettie', 'usa', 'boxing', 'propaganda', 'emma', 'complaint', 'embarrassing', 'absolutely', \"director's\", 'remain', 'juvenile', 'sitting', 'albert', 'moves', 'standards', 'kiss', 'idiot', 'bottom', 'beach', 'reporter', 'take', 'group', 'prove', 'spent', 'difference', 'raised', 'demands', 'punch', 'fast', 'visual', 'famous', 'comes', 'late', 'process', 'mysterious', 'extras', 'assistant', 'friday', 'fish', 'inspector', 'deaths', 'jessica', 'b', 'existed', 'sullivan', 'hit', 'dennis', 'christmas', 'violent', 'stood', 'came', 'tony', 'silent', 'strike', 'complicated', 'worried', 'gruesome', 'singer', 'anymore', 'striking', 'curse', 'russell', 'glad', 'sympathetic', 'lee', 'return', 'nearly', 'drew', 'victim', 'during', 'running', 'creepy', 'noble', 'beauty', 'never', 'absence', 'stomach', 'holy', 'science', 'sold', 'staged', 'skin', 'connection', 'plastic', 'stay', 'list', 'specific', 'next', 'conspiracy', 'hear', 'offering', 'san', 'toy', 'portrait', 'planet', 'twenty', 'walking', 'lacked', 'film', 'revolves', 'gorgeous', 'key', 'differences', 'general', 'attraction', 'such', 'seeing', 'filmed', 'i', 'roger', 'westerns', 'class', 'depth', 'discover', 'installment', 'chaplin', 'set', 'empty', 'lion', 'breasts', 'becoming', 'explains', 'lugosi', 'worse', 'am', 'rambo', \"film's\", 'kill', 'capable', 'us', 'reference', 'teeth', 'just', \"i'll\", 'basic', 'there', 'situation', 'challenge', 'speak', 'from', 'dog', 'food', 'burn', 'caine', 'mirror', 'deserves', 'corrupt', 'james', 'close', 'grave', 'kicks', 'cgi', 'book', 'forced', 'listed', 'paid', 'clark', 'separate', 'events', 'reasonably', 'remember', 'disc', 'shirt', 'learn', 'covers', 'personality', 'robin', 'horror', 'produced', 'jackson', 'bill', 'repeated', 'promise', 'bible', 'setting', 'estate', 'load', 'perspective', 'voice', 'stays', 'consequences', 'people', 'riding', 'tired', 'animation', 'cared', 'various', 'context', 'fair', 'showing', 'appears', 'manhattan', 'rarely', 'other', 'read', 'portrayal', 'depicted', 'sum', 'starts', 'virgin', 'patient', 'timing', 'bruce', 'wife', 'affair', 'terrible', 'briefly', 'must', 'cost', 'expect', 'blend', 'responsible', 'was', 'oscar', 'secrets', 'drawn', 'star', 'description', 'shining', 'appeared', \"he'd\", 'portrayed', 'logical', 'hat', 'eight', 'mountain', 'figure', 'terror', 'problems', 'teens', 'decent', 'canada', 'dozen', 'walks', 'members', 'beer', 'me', 'gene', 'touches', 'lower', 'unique', 'above', 'already', 'roy', 'road', 'clues', 'debut', \"didn't\", 'hot', 'initial', 'davies', 'originality', 'rachel', 'knew', 'would', 'ranks', 'complex', 'values', 'camp', 'cynical', 'inside', 'reading', 'unfunny', '8', 'bob', 'daughters', 'mad', 'secretary', 'leave', 'unless', 'batman', 'doubt', 'available', 'appalling', 'when', 'equally', 'tongue', 'human', \"you'd\", 'walls', 'somehow', 'public', 'sounds', 'despite', 'effective', 'frustrated', 'personally', 'storytelling', '1', 'create', 'villains', 'g', 'language', 'required', 'aging', 'overwhelming', 'horrendous', 'suggest', 'poor', 'reputation', 'talents', 'proves', 'directed', 'piano', 'heroine', 'wasted', 'months', 'honestly', 'slapstick', 'deeply', 'capture', 'reveal', 'giving', 'pacino', 'appropriate', 'revealed', 'dubbed', 'studios', 'conversation', 'ready', 'perfectly', 'an', 'rise', 'comedian', 'carries', 'total', 'gangster', 'villain', 'extremely', 'expensive', 'takes', 'worthwhile', 'styles', 'exercise', 'quiet', 'annoyed', 'dynamic', \"couldn't\", 'according', 'rural', 'sympathy', 'disease', '80', 'bond', 'utterly', \"hasn't\", 'heavily', 'judge', 'private', 'hype', 'broadcast', 'cooper', 'fashioned', 'haunting', 'empire', 'confused', 'successfully', 'liners', 'image', 'flash', 'accepted', 'unbearable', 'ford', 'breathtaking', 'worlds', 'execution', 'brings', 'upon', 'credits', 'whom', 'girl', 'instead', 'adds', 'stands', 'meaningful', 'kinda', 'forth', 'violence', 'moving', 'became', 'ted', 'describe', 'business', 'facts', 'prior', 'revolution', 'slasher', '4', 'imagine', 'enough', 'cares', 'jason', 'couple', 'overrated', 'turning', 'ego', 'generous', 'reviewers', 'presumably', 'fired', 'driving', 'unfortunately', 'dislike', 'expected', \"1950's\", 'magazine', 'ultra', \"50's\", 'commentary', 'rochester', 'with', \"could've\", 'childhood', 'especially', 'extraordinary', 'purple', 'know', 'obsessed', 'political', 'brave', 'zero', 'drop', 'assume', 'fresh', 'achievement', 'began', 'chases', 'mention', 'sunshine', 'gary', 'drama', 'narration', 'appreciate', 'field', 'intrigued', 'western', 'sally', 'sea', 'boat', 'order', 'great', 'court', 'sidney', 'fabulous', 'often', 'society', 'memory', 'marks', 'draws', 'un', 'left', 'very', 'chose', 'adding', 'award', 'demon', 'junk', 'stops', 'head', 'awesome', 'brad', 'want', 'believes', 'america', \"movie's\", 'rest', 'struggle', 'nonetheless', 'existence', 'symbolism', 'worker', 'jesus', 'matthew', 'areas', 'house', 'michael', 'friends', 'feet', 'our', 'huge', 'moved', 'chuck', '14', 'stated', 'finest', 'costs', 'picked', 'sees', 'sean', 'comment', 'los', 'surrounded', 'decade', 'relate', 'beautifully', 'disturbing', 'actions', 'murderer', 'doors', 'superbly', 'ordinary', 'lovers', 'pulling', 'coherent', 'folk', 'teenage', 'inner', 'act', 'involved', 'twist', 'computer', 'exact', 'powers', 'o', 'buck', 'mst3k', 'catholic', 'films', 'course', 'documentary', 'missing', 'godfather', 'distance', 'cars', 'irish', 'side', 'contrast', '1970s', 'influence', 'rare', 'cutting', 'criminals', 'vacation', 'scripts', 'breaking', 'chosen', 'miserably', 'that', 'favorite', 'outside', 'bad', 'showed', 'jokes', 'rob', 'air', 'documentaries', 'kills', 'except', 'rented', 'club', 'sick', 'scientist', 'reminded', 'hugh', 'emily', 'ashamed', 'contract', 'heaven', 'draw', 'lynch', \"weren't\", 'features', 'bore', 'viewing', 'exists', 'flat', 'size', 'date', 'protagonists', 'jimmy', 'enjoying', 'concerning', 'listen', 'sorts', 'quickly', 'julie', 'kidding', 'altogether', 'finally', 'south', \"he'll\", 'v', 'base', 'otherwise', 'dies', 'ball', 'conclusion', 'craig', 'machines', 'funniest', 'machine', 'knowing', 'christopher', 'ground', 'prom', 'its', 'angles', 'crimes', 'spoilers', 'bag', 'writing', 'sinatra', 'barely', 'early', 'shoots', 'mixed', 'send', 'sat', 'excuse', 'sake', 'make', 'offers', 'techniques', 'lloyd', 'designed', 'event', 'held', 'introduction', 'laurel', 'worth', 'k', 'kenneth', 'via', 'holiday', 'supposedly', 'outstanding', 'death', 'buy', 'screenplay', 'jet', 'astaire', 'duo', 'play', 'continues', 'sam', 'laughing', 'multi', 'killed', 'push', 'images', 'mildly', \"father's\", 'susan', 'shock', 'inspiring', 'go', 'opens', 'rage', 'entire', 'realise', 'thrills', 'dvd', 'plenty', 'strongly', 'unintentionally', 'manages', 'received', 'bland', 'nine', 'liked', 'obnoxious', 'mike', 'range', 'childish', 'entertainment', 'shark', 'spot', 'blonde', 'wing', 'f', 'bugs', 'unfortunate', 'spirit', 'girlfriend', 'dialogs', 'crash', 'australian', 'reason', 'goes', 'l', 'non', 'suffering', 'indeed', 'internet', 'torture', 'impact', 'this', 'effectively', 'cash', 'favourite', 'hill', 'these', 'struggling', 'unable', 'stereotypical', 'treasure', 'candy', 'touching', 'pro', 'tim', 'facial', 'relevant', 'ring', 'bother', 'meet', 'fbi', 'gain', 'jane', 'lawyer', 'perform', 'lighting', 'father', 'aspect', 'bigger', 'help', 'sign', 'having', 'particular', 'finding', 'african', 'question', 'adequate', 'pitch', 'thrillers', 'frequently', 'round', 'much', 'alright', 'sons', 'rocks', 'david', 'pride', 'dean', 'jerk', 'sequences', '40', 'magical', 'recommend', 'front', 'duke', 'pleasantly', 'warm', 'bears', 'pulls', 'delivered', 'committed', 'costumes', 'traditional', 'bite', 'letter', 'woody', 'trek', 'boll', 'heat', 'fest', 'titles', 'clearly', 'elvis', 'belief', 'paint', 'described', 'subject', 'reminiscent', 'weak', 'plot', 'mainstream', 'recent', 'author', 'ironic', 'miles', 'captured', 'accurate', 'landscape', 'ed', 'jr', 'service', 'bright', 'system', \"mother's\", 'open', 'seconds', 'jeremy', 'decades', 'released', 'playing', 'somewhere', 'sorry', 'energy', 'mob', 'rip', 'missed', 'writer', 'clean', 'andrews', 'intelligent', \"i'm\", 'love', 'falls', 'ship', 'fears', 'teenagers', 'answer', 'souls', 'shocking', 'thugs', 'goldberg', 'slight', 'sloppy', 'bored', 'purpose', 'miss', 'intensity', 'pet', 'lit', 'aunt', 'physical', 'stanley', 'individuals', 'psychological', 'italian', 'age', 'derek', 'pulp', 'directorial', 'quick', 'variety', 'subplot', 'toilet', 'mistake', 'notch', 'constantly', 'leslie', 'show', 'brilliance', 'imaginative', 'are', 'flaws', 'find', 'player', 'radio', 'amazingly', 'cup', 'unknown', 'tone', 'poignant', 'across', 'east', 'run', 'princess', 'comedic', 'carrying', 'owner', 'ease', 'aspects', 'carpenter', 'mentioned', 'jack', 'started', 'attractive', 'although', 'accident', 'attempting', 'dialog', 'intent', \"they'll\", 'straight', 'repeatedly', 'fits', 'cabin', 'worst', 'compelling', 'witness', 'burned', 'costume', 'controversial', 'lets', 'genre', 'turns', 'sounded', 'weapon', 'superhero', \"'\", 'expectations', 'william', 'needless', 'hong', 'contrived', 'explanation', 'do', 'innocence', 'lane', 'attention', 'exaggerated', 'tricks', 'golden', '1st', 'speaks', 'nothing', 'discovers', 'restaurant', 'climax', 'worked', 'seat', 'connect', 'festival', 'fine', 'plus', 'dr', 'performance', 'chinese', 'falling', 'whatever', 'position', 'crazy', 'figured', 'worry', 'shot', 'same', 'feels', 'commercials', 'direct', 'occur', 'br', 'believing', 'times', 'experiment', 'homage', 'difficult', 'sweet', 'featured', 'charisma', 'predictable', 'store', 'promising', 'fifteen', 'curious', 'whenever', 'source', 'sexual', 'convoluted', 'jumping', 'carter', 'sit', 'brazil', 'recently', 'else', 'levels', 'appearances', 'long', 'simply', 'searching', 'hilarious', \"you've\", 'interpretation', 'exceptional', 'uninspired', 'spiritual', 'freak', 'parker', 'compare', 'honor', 'battles', 'carried', 'elsewhere', 'plots', 'fox', 'slave', 'selfish', 'onto', 'issues', 'animal', 'smile', 'qualities', 'depressing', 'touch', 'tears', 'thing', 'means', 'wind', 'popcorn', 'cinema', 'filled', 'lover', 'suspect', 'views', 'games', 'zombie', 'includes', 'movement', 'loser', 'ms', 'curtis', 'bunch', 'fi', 'scientific', 'pretentious', 'sucks', 'realism', 'relatively', 'serial', 'julia', 'remaining', 'halloween', 'dawson', 'excitement', 'supposed', 'burns', 'subtle', 'physically', 'laughter', 'presentation', 'hunt', 'aired', 'man', 'mean', 'germany', 'strangely', 'formula', 'laughable', 'always', 'admittedly', 'follows', 'comic', 'impression', 'soap', 'feeling', 'background', 'tremendous', 'ended', 'accept', 'explain', 'future', 'exist', 'keaton', 'immediately', 'little', 'god', 'share', 'two', 'tall', 'rough', 'travel', 'afternoon', 'complain', 'twin', 'obviously', 'wes', 'tales', 'shape', 'eric', 'native', 'gray', 'minded', 'decide', 'theatre', 'dirty', 'faces', 'soldiers', 'spoof', 'trust', 'chair', 'remarkable', 'synopsis', 'fu', 'comics', 'giant', 'deal', 'color', 'medium', 'continued', 'way', 'happens', 'everything', 'chance', 'training', 'cheese', 'realistic', 'nudity', 'unlikely', 'further', 'kick', 'dream', 'peace', 'fall', 'lives', 'bare', 'up', 'feel', 'performed', 'sides', 'robots', \"they're\", 'wealthy', 'handle', 'naked', 'been', 'rated', 'box', 'shall', 'seem', 'trouble', 'seven'}\n"
          ]
        }
      ]
    },
    {
      "cell_type": "markdown",
      "source": [
        "ID3 class"
      ],
      "metadata": {
        "id": "9CntF0sUe4TK"
      }
    },
    {
      "cell_type": "code",
      "source": [
        "class ID3:\n",
        "    def __init__(self, x_tr_bin:list(), y_tr:list(), wor:list()):\n",
        "        self.x_tr_bin = x_tr_bin\n",
        "        self.y_tr = y_tr\n",
        "        self.wor  = wor\n",
        "\n",
        "    def run(self):\n",
        "      j = 0 #next = findTheNextWord(max, words, c)\n",
        "      good_result = 0\n",
        "      print('------------------------------stolou------- len(self.x_tr_bin)', len(self.x_tr_bin))\n",
        "      print(\"------------------------------stolou------- hello let's start\")\n",
        "      print(self.wor)\n",
        "      for sentense in self.x_tr_bin:\n",
        "        print('!!@@@@!!@!@!@protash')\n",
        "        copy_words = self.wor.copy()\n",
        "        max = copy_words.pop()\n",
        "        stopTheWhile = False\n",
        "        while len(copy_words) !=0 and not stopTheWhile:\n",
        "          c = findValueFromArray(sentense, max.index)\n",
        "          while len(copy_words) != 0 and max.p0 != 1 and max.p1 !=1:\n",
        "            next = findTheNextWord(max, copy_words, c)\n",
        "            if(next == None):\n",
        "              stopTheWhile = True\n",
        "              break\n",
        "            max = next\n",
        "        if(max.p0 > max.p1):\n",
        "          if 0 == self.y_tr[j]:\n",
        "            good_result += 1\n",
        "        else:\n",
        "          if 1 == self.y_tr[j]:\n",
        "            good_result += 1\n",
        "\n",
        "        j+=1\n",
        "        \n",
        "        print('------------------------------stolou------- ', good_result/j*100)\n",
        "      return good_result/j*100"
      ],
      "metadata": {
        "id": "rOFM9pjQGfrj"
      },
      "execution_count": null,
      "outputs": []
    },
    {
      "cell_type": "markdown",
      "source": [
        "Run ID3 class"
      ],
      "metadata": {
        "id": "hQWm1a7yezRg"
      }
    },
    {
      "cell_type": "code",
      "source": [
        "id3Obj = ID3(x_train_binary, y_train, words)\n",
        "id3Obj.run()"
      ],
      "metadata": {
        "id": "rE0TZa4YGnJO"
      },
      "execution_count": null,
      "outputs": []
    },
    {
      "cell_type": "markdown",
      "source": [
        "RF pou paizw panw tou"
      ],
      "metadata": {
        "id": "NdyPzH23qKd6"
      }
    },
    {
      "cell_type": "code",
      "source": [
        "import random\n",
        "from random import randint\n",
        "from sklearn.utils import shuffle\n",
        "from sklearn.tree import DecisionTreeClassifier\n",
        "\n",
        "\n",
        "# @TODO def myRF(x_train, y_train, words, numOfTrees):\n",
        "def myRF(x_train, y_train, numOfTrees):\n",
        "  # random size for words' subset(prepei na einai idio gia kathe dentro)\n",
        "  # @TODO wordsSize = 100 # randint(100, len(words))\n",
        "\n",
        "  randomForest = []\n",
        "  # @ del newX_train = x_train[:5] # prosorina, meta enna mpei oullh alios osh theloume\n",
        "  # @ del newY_train = y_train[:5] # >>\n",
        "\n",
        "  for i in range(numOfTrees):\n",
        "    # @TODO subWords = random.choices(words, k=5) # subWords = random.choices(words, k=wordsSize)\n",
        "    # @TODO shuffle() j to subWords\n",
        "    # @TODO randomForest.append(ID3(newX_train, newY_train, subWords))\n",
        "    # me etoimo ID3:\n",
        "    dt = DecisionTreeClassifier(criterion='entropy')\n",
        "    x_train, y_train = shuffle(x_train, y_train)\n",
        "    dt.fit(x_train, y_train)\n",
        "    temp = dt.predict(x_train)\n",
        "    randomForest.append(temp) # @TODO (enna kamnw to idio prama, enna vallw mes ton randomForest[] ton pinaka pou enna epistrefei o apostolou)\n",
        "\n",
        "  for pin in randomForest:\n",
        "    print(pin)\n",
        "\n",
        "  telikosPinakas = predictRF(randomForest)\n",
        "\n",
        "  return telikosPinakas\n",
        "\n",
        "  # @ del print(\"len(randomForest): \", len(randomForest))\n",
        "\n",
        "\n",
        "  # @TODO for obj in randomForest:\n",
        "    # @TODO temp = obj.run()\n",
        "    # @TODO resRF.append(temp)\n",
        "    # print('end of tree\\n\\n\\n\\n', temp)\n"
      ],
      "metadata": {
        "id": "tFjP5wFpe91D"
      },
      "execution_count": 113,
      "outputs": []
    },
    {
      "cell_type": "code",
      "source": [
        "myRF(x_train_binary, y_train, 2)\n",
        "print(x_train_binary)\n",
        "print(len(x_train_binary))\n",
        "#print(y_train)"
      ],
      "metadata": {
        "colab": {
          "base_uri": "https://localhost:8080/"
        },
        "id": "O6yaqfZd6YZ0",
        "outputId": "c68b5b3a-817a-4bef-f5c9-958159725fdb"
      },
      "execution_count": 115,
      "outputs": [
        {
          "output_type": "stream",
          "name": "stdout",
          "text": [
            "[0 1 1 ... 0 0 1]\n",
            "[1 1 0 ... 1 1 0]\n",
            "25000\n",
            "[[0 0 0 ... 0 0 0]\n",
            " [0 0 0 ... 0 0 0]\n",
            " [0 0 0 ... 0 0 0]\n",
            " ...\n",
            " [0 0 0 ... 0 0 0]\n",
            " [0 0 0 ... 0 0 0]\n",
            " [0 0 1 ... 0 0 0]]\n",
            "25000\n"
          ]
        }
      ]
    },
    {
      "cell_type": "code",
      "source": [
        "from sklearn.ensemble import RandomForestClassifier\n",
        "from sklearn.metrics import classification_report\n",
        "\n",
        "print(classification_report(y_test, myRF(x_test_binary, y_test, 8)))"
      ],
      "metadata": {
        "colab": {
          "base_uri": "https://localhost:8080/"
        },
        "id": "Q5Xo0Pv-8nfJ",
        "outputId": "e6958528-d81d-4df2-d5f0-7580eab7a4db"
      },
      "execution_count": 124,
      "outputs": [
        {
          "output_type": "stream",
          "name": "stdout",
          "text": [
            "[1 0 1 ... 0 0 0]\n",
            "[1 1 1 ... 1 1 1]\n",
            "[1 1 0 ... 0 1 1]\n",
            "[0 1 1 ... 0 0 0]\n",
            "[0 1 0 ... 1 1 0]\n",
            "[0 0 1 ... 1 0 1]\n",
            "[0 1 0 ... 1 0 1]\n",
            "[1 0 0 ... 1 1 1]\n",
            "25000\n",
            "              precision    recall  f1-score   support\n",
            "\n",
            "           0       0.50      0.64      0.56     12500\n",
            "           1       0.50      0.37      0.42     12500\n",
            "\n",
            "    accuracy                           0.50     25000\n",
            "   macro avg       0.50      0.50      0.49     25000\n",
            "weighted avg       0.50      0.50      0.49     25000\n",
            "\n"
          ]
        }
      ]
    },
    {
      "cell_type": "markdown",
      "source": [
        "assoi j midenika kathe stilis"
      ],
      "metadata": {
        "id": "kSZQEnMIzh4X"
      }
    },
    {
      "cell_type": "code",
      "source": [
        "arr_2ad = np.array([[1, 1, 0],\n",
        "                   [2, 1, 2],\n",
        "                   [2, 1, 0]])\n",
        "\n",
        "# vazontas arr_2d == myNum, metra posa myNum eshei h kathe stili\n",
        "n_zeros = np.count_nonzero(arr_2ad==1, axis=0)\n",
        "# display the count of zeros\n",
        "print(n_zeros)"
      ],
      "metadata": {
        "colab": {
          "base_uri": "https://localhost:8080/"
        },
        "id": "4vRhWstmx9qX",
        "outputId": "5c1807fa-697e-4ecb-8b2e-74a1f633bf53"
      },
      "execution_count": 68,
      "outputs": [
        {
          "output_type": "stream",
          "name": "stdout",
          "text": [
            "[1 3 0]\n"
          ]
        }
      ]
    },
    {
      "cell_type": "code",
      "source": [
        "testRF = [[1, 0, 0, 1, 1, 0], [1, 0, 1, 0, 1, 1], [1, 0, 0, 1, 1, 0]]\n",
        "\n",
        "testRFnp = np.array(testRF)\n",
        "midenika = np.count_nonzero(testRFnp==0, axis=0)\n",
        "assoi = np.count_nonzero(testRFnp==1, axis=0)\n",
        "\n",
        "toReturn = list()\n",
        "\n",
        "for i in range(len(testRFnp[0])):\n",
        "  if midenika[i] > assoi[i]:\n",
        "    toReturn.append(0)\n",
        "  elif assoi[i] > midenika[i]:\n",
        "    toReturn.append(1)\n",
        "  elif assoi[i] == midenika[i]:\n",
        "    toReturn.append(0)\n",
        "\n",
        "print(toReturn)\n",
        "print(len(testRFnp))"
      ],
      "metadata": {
        "colab": {
          "base_uri": "https://localhost:8080/"
        },
        "id": "EQhWUiVb0WM9",
        "outputId": "33a6530e-4908-45d8-eb92-8469d4a03d55"
      },
      "execution_count": 92,
      "outputs": [
        {
          "output_type": "stream",
          "name": "stdout",
          "text": [
            "[1, 0, 0, 1, 1, 0]\n",
            "3\n"
          ]
        }
      ]
    },
    {
      "cell_type": "code",
      "source": [
        "def predictRF(array_2d):\n",
        "  np_2d_array = np.array(array_2d)\n",
        "  \n",
        "  midenika = np.count_nonzero(np_2d_array==0, axis=0)\n",
        "  assoi = np.count_nonzero(np_2d_array==1, axis=0)\n",
        "\n",
        "  toReturn = list()\n",
        "  print(len(np_2d_array[0]))\n",
        "  for i in range(len(np_2d_array[0])):\n",
        "    if midenika[i] > assoi[i]:\n",
        "      toReturn.append(0)\n",
        "    elif assoi[i] > midenika[i]:\n",
        "      toReturn.append(1)\n",
        "    elif assoi[i] == midenika[i]:\n",
        "      toReturn.append(0)\n",
        "    \n",
        "  return toReturn"
      ],
      "metadata": {
        "id": "m0lzi7JX3Clo"
      },
      "execution_count": 107,
      "outputs": []
    },
    {
      "cell_type": "code",
      "source": [
        "testRF = [[1, 0, 0, 1, 1, 0], [1, 0, 1, 0, 1, 1], [1, 0, 0, 1, 1, 0]]\n",
        "print(predictRF(testRF))"
      ],
      "metadata": {
        "colab": {
          "base_uri": "https://localhost:8080/"
        },
        "id": "yHgpOWZd4Uil",
        "outputId": "5d675db6-9ea6-458a-a3a5-e890eb07dbdf"
      },
      "execution_count": 108,
      "outputs": [
        {
          "output_type": "stream",
          "name": "stdout",
          "text": [
            "6\n",
            "[1, 0, 0, 1, 1, 0]\n"
          ]
        }
      ]
    },
    {
      "cell_type": "markdown",
      "source": [
        "Etimos ID3 me: telefteioPinaka = predict()"
      ],
      "metadata": {
        "id": "M0nEjbK5hNMo"
      }
    },
    {
      "cell_type": "code",
      "source": [
        "from sklearn.tree import DecisionTreeClassifier\n",
        "\n",
        "original_x_train_binary = x_train_binary\n",
        "original_y_train = y_train\n",
        "\n",
        "dt = DecisionTreeClassifier(criterion='entropy')\n",
        "dt.fit(x_train_binary, y_train)\n",
        "\n",
        "telikosPinakasID3 = dt.predict(x_train_binary)\n",
        "\n",
        "print(\"TIPOS: \", type(telikosPinakasID3))\n",
        "\n",
        "print(\"telikosPinakasID3:\\n\")\n",
        "print(telikosPinakasID3)\n",
        "print(\"len(telikosPinakasID3)\")\n",
        "print(len(telikosPinakasID3))"
      ],
      "metadata": {
        "colab": {
          "base_uri": "https://localhost:8080/"
        },
        "id": "RtXGZYuWcyzF",
        "outputId": "951c491e-c941-4dc8-b64c-47bac4d73d1d"
      },
      "execution_count": 43,
      "outputs": [
        {
          "output_type": "stream",
          "name": "stdout",
          "text": [
            "TIPOS:  <class 'numpy.ndarray'>\n",
            "telikosPinakasID3:\n",
            "\n",
            "[0 0 0 ... 0 0 0]\n",
            "len(telikosPinakasID3)\n",
            "25000\n"
          ]
        }
      ]
    },
    {
      "cell_type": "code",
      "source": [
        "# print(telikosPinakasID3)\n",
        "telikosT = telikosPinakasID3\n",
        "for i in range(len(telikosT)):\n",
        "  if telikosT[i] == 0:\n",
        "    telikosT[i] = 1\n",
        "  if telikosT[i] == 1:\n",
        "    telikosT[i] = 0\n",
        "\n",
        "print(len(telikosT))\n",
        "print(telikosT)"
      ],
      "metadata": {
        "colab": {
          "base_uri": "https://localhost:8080/"
        },
        "id": "q7PWWNrkktml",
        "outputId": "3ff83c2e-8940-40ad-bea7-ae39e3e86375"
      },
      "execution_count": 28,
      "outputs": [
        {
          "output_type": "stream",
          "name": "stdout",
          "text": [
            "25000\n",
            "[0 0 0 ... 0 0 0]\n"
          ]
        }
      ]
    },
    {
      "cell_type": "markdown",
      "source": [
        "shuffle() tous pinakes mas(x_train_bin j y_train)"
      ],
      "metadata": {
        "id": "ejTYNkFEhb8h"
      }
    },
    {
      "cell_type": "code",
      "source": [
        "import random\n",
        "from random import randint\n",
        "import tensorflow as tf\n",
        "import numpy as np\n",
        "from sklearn.utils import shuffle\n",
        "\n",
        "# ekso apo th methodo RF\n",
        "x_train_binary_original = x_train_binary # x_array = np.array([[1, 11, 111], [2, 22, 222], [3, 33, 333], [4, 44, 444], [5, 55, 555]])\n",
        "y_train_original = y_train # y_array = np.array([1, 2, 3, 4, 5])\n",
        "\n",
        "# mesa sth methodo tou RF(for loop pou tha gemizi ton pinaka):\n",
        "x_train_binary, y_train = shuffle(x_train_binary, y_train)\n",
        "print(\"x_train_binary: \", x_train_binary)\n",
        "print(\"y_train: \", y_train)"
      ],
      "metadata": {
        "id": "bw9tTtt8hcix"
      },
      "execution_count": null,
      "outputs": []
    },
    {
      "cell_type": "markdown",
      "source": [
        "ORIGINAL RF PRIN NA KAMW ALLAGES:"
      ],
      "metadata": {
        "id": "AthPcvjhiaua"
      }
    },
    {
      "cell_type": "code",
      "source": [
        "import random\n",
        "from random import randint\n",
        "\"\"\"\n",
        "- emina sth fash pou enna mikratw thn lista words(tixeo iposinolo, idio gia oulla)\n",
        "na dw dld pws enna gnt o xorismos giati en j h lista words pou enna allassei gia kathe dentro\n",
        "na eshei omos diplotipa\n",
        "\"\"\"\n",
        "#print(len(words))\n",
        "#print(words)\n",
        "\n",
        "numOfTrees = 3 # number of trees in random forest, kanonika prepei na en tosa nmz: int(len(x_train_binary) * 0.3)\n",
        "\n",
        "# random size for words' subset(prepei na einai idio gia kathe dentro)\n",
        "wordsSize = 100 # randint(100, len(words))\n",
        "newl = random.choices(words, k=wordsSize) # subets with same length\n",
        "#print(len(newl))\n",
        "\n",
        "\"\"\"\n",
        "id3Obj = ID3(x_train_binary, y_train, words)\n",
        "\"\"\"\n",
        "randomForest = []\n",
        "resRF = []\n",
        "newX_train_binary = x_train_binary[:5] # prosorina, meta enna mpei oullh alios osh theloume\n",
        "newY_train = y_train[:5] # >>\n",
        "\n",
        "for i in range(numOfTrees):\n",
        "  subWords = random.choices(words, k=5) # subWords = random.choices(words, k=wordsSize)\n",
        "  randomForest.append(ID3(newX_train_binary, newY_train, subWords))\n",
        "\n",
        "print(len(randomForest))\n",
        "\n",
        "for obj in randomForest:\n",
        "  temp = obj.run()\n",
        "  resRF.append(temp)\n",
        "  print('end of tree\\n\\n\\n\\n', temp)\n",
        "\n",
        "\n",
        "\n",
        "print('\\nresRF: ', resRF)\n"
      ],
      "metadata": {
        "id": "ySWTGTvVh3D7"
      },
      "execution_count": null,
      "outputs": []
    }
  ],
  "metadata": {
    "colab": {
      "collapsed_sections": [],
      "name": "RF me etoimo id3.ipynb",
      "provenance": []
    },
    "kernelspec": {
      "display_name": "Python 3",
      "name": "python3"
    },
    "language_info": {
      "name": "python"
    }
  },
  "nbformat": 4,
  "nbformat_minor": 0
}