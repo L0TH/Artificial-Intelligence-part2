{
  "cells": [
    {
      "cell_type": "markdown",
      "metadata": {
        "id": "YsOzWPK3sQTk"
      },
      "source": [
        "add data"
      ]
    },
    {
      "cell_type": "code",
      "execution_count": null,
      "metadata": {
        "colab": {
          "base_uri": "https://localhost:8080/"
        },
        "id": "Kg6skOVdlPyy",
        "outputId": "afc85446-f08c-4d8f-b59f-9f1aca0e6ae3"
      },
      "outputs": [
        {
          "output_type": "stream",
          "name": "stdout",
          "text": [
            "Downloading data from https://storage.googleapis.com/tensorflow/tf-keras-datasets/imdb.npz\n",
            "17465344/17464789 [==============================] - 0s 0us/step\n",
            "17473536/17464789 [==============================] - 0s 0us/step\n",
            "Downloading data from https://storage.googleapis.com/tensorflow/tf-keras-datasets/imdb_word_index.json\n",
            "1646592/1641221 [==============================] - 0s 0us/step\n",
            "1654784/1641221 [==============================] - 0s 0us/step\n"
          ]
        }
      ],
      "source": [
        "import tensorflow as tf\n",
        "import numpy as np\n",
        "\n",
        "(x_train, y_train), (x_test, y_test) = tf.keras.datasets.imdb.load_data(num_words=4000)\n",
        "\n",
        "word_index = tf.keras.datasets.imdb.get_word_index()\n",
        "index2word = dict((i + 3, word) for (word, i) in word_index.items())\n",
        "index2word[0] = '[pad]'\n",
        "index2word[1] = '[bos]'\n",
        "index2word[2] = '[oov]'\n",
        "x_train = np.array([' '.join([index2word[idx] for idx in text]) for text in x_train])\n",
        "x_test = np.array([' '.join([index2word[idx] for idx in text]) for text in x_test])"
      ]
    },
    {
      "cell_type": "code",
      "execution_count": null,
      "metadata": {
        "colab": {
          "base_uri": "https://localhost:8080/"
        },
        "id": "vvyxjs6X1D_3",
        "outputId": "ff7d6949-5060-4feb-93c1-84dae2cf8b26"
      },
      "outputs": [
        {
          "output_type": "stream",
          "name": "stdout",
          "text": [
            "3998\n"
          ]
        }
      ],
      "source": [
        "vocabulary = list()\n",
        "for text in x_train:\n",
        "  tokens = text.split()\n",
        "  vocabulary.extend(tokens)\n",
        "\n",
        "vocabulary = set(vocabulary)\n",
        "print(len(vocabulary))"
      ]
    },
    {
      "cell_type": "code",
      "execution_count": null,
      "metadata": {
        "colab": {
          "base_uri": "https://localhost:8080/"
        },
        "id": "awd5VZ4DzA4-",
        "outputId": "7ac3b59b-9589-408b-9c8e-99e31fa54878"
      },
      "outputs": [
        {
          "output_type": "stream",
          "name": "stderr",
          "text": [
            "100%|██████████| 25000/25000 [06:31<00:00, 63.87it/s]\n",
            "100%|██████████| 25000/25000 [06:06<00:00, 68.13it/s]\n"
          ]
        }
      ],
      "source": [
        "from tqdm import tqdm\n",
        "\n",
        "x_train_binary = list()\n",
        "x_test_binary = list()\n",
        "\n",
        "for text in tqdm(x_train):\n",
        "  tokens = text.split()\n",
        "  binary_vector = list()\n",
        "  for vocab_token in vocabulary:\n",
        "    if vocab_token in tokens:\n",
        "      binary_vector.append(1)\n",
        "    else:\n",
        "      binary_vector.append(0)\n",
        "  x_train_binary.append(binary_vector)\n",
        "\n",
        "x_train_binary = np.array(x_train_binary)\n",
        "\n",
        "for text in tqdm(x_test):\n",
        "  tokens = text.split()\n",
        "  binary_vector = list()\n",
        "  for vocab_token in vocabulary:\n",
        "    if vocab_token in tokens:\n",
        "      binary_vector.append(1)\n",
        "    else:\n",
        "      binary_vector.append(0)\n",
        "  x_test_binary.append(binary_vector)\n",
        "\n",
        "x_test_binary = np.array(x_test_binary)"
      ]
    },
    {
      "cell_type": "code",
      "execution_count": null,
      "metadata": {
        "colab": {
          "base_uri": "https://localhost:8080/"
        },
        "id": "kEmeqaw4xvxG",
        "outputId": "d028c560-6e97-4ef9-fe35-3beaa5504183"
      },
      "outputs": [
        {
          "output_type": "stream",
          "name": "stdout",
          "text": [
            "[1 0 0 ... 0 0 0]\n",
            "1\n",
            "[1 0 0 ... 0 0 0]\n",
            "0\n",
            "# idiotitwn(features):\n",
            "\n",
            "len(x_test_binary):  25000\n",
            "len(y_test):  25000\n"
          ]
        }
      ],
      "source": [
        "print(x_test_binary[2])\n",
        "print(y_test[2])\n",
        "print(x_train_binary[2])\n",
        "print(y_train[2])\n",
        "print('# idiotitwn(features):\\n')\n",
        "print('len(x_test_binary): ', len(x_test_binary))\n",
        "print('len(y_test): ', len(y_test))"
      ]
    },
    {
      "cell_type": "markdown",
      "metadata": {
        "id": "l6vNaFxJO7ya"
      },
      "source": [
        "Calculate entropy"
      ]
    },
    {
      "cell_type": "code",
      "execution_count": null,
      "metadata": {
        "id": "lVXZNBd1NFpd",
        "colab": {
          "base_uri": "https://localhost:8080/"
        },
        "outputId": "9a9dc10c-7e8d-4530-9f90-e0d1cd2e909c"
      },
      "outputs": [
        {
          "output_type": "stream",
          "name": "stdout",
          "text": [
            "0.1133869708654645\n"
          ]
        }
      ],
      "source": [
        "import math\n",
        "from math import log2 \n",
        "\n",
        "def calculate_entropy_total_word(binary_array, c, word, word_position = -1):\n",
        "  first = 0 # c value\n",
        "  second = 0 # other than c value\n",
        "  count = 0 # lengeth\n",
        "  if word_position == -1:\n",
        "    word_position = return_word(word) # the word column\n",
        "\n",
        "  for element in binary_array:\n",
        "      pos = element[word_position]\n",
        "      count += 1\n",
        "      if(pos == c):\n",
        "        first += 1\n",
        "      else:\n",
        "        second += 1\n",
        "  return -(first/count) * math.log2((first/count) - (second/count) * math.log2((second/count)))\n",
        "\n",
        "def calculate_entropy_word(binary_array, c, word, word_position = -1):\n",
        "  first = 0 # c value\n",
        "  second = 0 # other than c value\n",
        "  count = 0 # lengeth\n",
        "\n",
        "  if word_position == -1:\n",
        "    word_position = return_word(word) # the word column\n",
        "  \n",
        "  for element in binary_array:\n",
        "      element = element[word_position]\n",
        "      count += 1\n",
        "      if(element == c):\n",
        "        first += 1\n",
        "      else:\n",
        "        second += 1\n",
        "  \n",
        "  val = -(first/count) * log2((first/count) - (second/count) * log2((second/count)))\n",
        "  return val\n",
        "\n",
        "\n",
        "def calculate_entropy_total(binary_array):\n",
        "  first = 0 # c value\n",
        "  second = 0 # other than c value\n",
        "  count = 0 # lengeth\n",
        "  for element in binary_array:\n",
        "      for pos in element:\n",
        "        count += 1\n",
        "        if(pos == 1):\n",
        "          first += 1\n",
        "        else:\n",
        "          second += 1\n",
        "  return -(first/count) * log2((first/count) - (second/count) * log2((second/count)))\n",
        "\n",
        "\n",
        "  \n",
        "\n",
        "print(calculate_entropy_total(x_train_binary))"
      ]
    },
    {
      "cell_type": "markdown",
      "metadata": {
        "id": "5jIRutchfXsh"
      },
      "source": [
        "return the position of a word"
      ]
    },
    {
      "cell_type": "code",
      "execution_count": null,
      "metadata": {
        "id": "yinX5BZncTjX"
      },
      "outputs": [],
      "source": [
        "# -1 = has not found the word\n",
        "def return_word(word):\n",
        "  count = 0\n",
        "  for element in vocabulary:\n",
        "    if word == element:\n",
        "      return count\n",
        "    else:\n",
        "      count += 1\n",
        "  \n",
        "  return -1"
      ]
    },
    {
      "cell_type": "markdown",
      "metadata": {
        "id": "4cviRH02okRX"
      },
      "source": [
        "calculate probability"
      ]
    },
    {
      "cell_type": "code",
      "execution_count": null,
      "metadata": {
        "id": "b92d_G8GnLI8"
      },
      "outputs": [],
      "source": [
        "def calculate_probability_old(array, c, word, word_position = -1):\n",
        "  count = 0\n",
        "  if word_position == -1:\n",
        "    word_position = return_word(word) # the word column\n",
        "  for element in array:\n",
        "    if(element[word_position] == c):\n",
        "      count += 1\n",
        "  return count / len(array)\n",
        "\n",
        "\n",
        "\n",
        "def calculate_probability(array, c, word, word_position = -1):\n",
        "  count = 0\n",
        "  p = 0\n",
        "  index = 0\n",
        "  if word_position == -1:\n",
        "    word_position = return_word(word) # the word column\n",
        "  for element in array:\n",
        "    if(element[word_position] == 1):\n",
        "      count += 1\n",
        "      if(y_train[index] == c):\n",
        "        p += 1\n",
        "    index += 1\n",
        "  return p / count"
      ]
    },
    {
      "cell_type": "markdown",
      "metadata": {
        "id": "cGM9ktOgVG62"
      },
      "source": [
        "calculate sum"
      ]
    },
    {
      "cell_type": "code",
      "execution_count": null,
      "metadata": {
        "id": "njQ8iEwnVGlw"
      },
      "outputs": [],
      "source": [
        "def calculate_sum(binary_array, word):\n",
        "  try:\n",
        "    word_position = word.index\n",
        "    p0 = (calculate_probability_old(binary_array, 0, word, word_position))\n",
        "    p1 = (calculate_probability_old(binary_array, 1, word, word_position))\n",
        "    word.setEntropy0(calculate_entropy_word(binary_array, 0, word,  word_position))\n",
        "    word.setEntropy1(calculate_entropy_word(binary_array, 1, word,  word_position))\n",
        "    a = p0 * word.entropy0\n",
        "    b = p1 * word.entropy1\n",
        "    return  a + b\n",
        "  except:\n",
        "    return None\n",
        "  "
      ]
    },
    {
      "cell_type": "markdown",
      "metadata": {
        "id": "srdFOxEBVe4v"
      },
      "source": [
        "calculate IG"
      ]
    },
    {
      "cell_type": "code",
      "execution_count": null,
      "metadata": {
        "id": "vw5xlXQiVguR"
      },
      "outputs": [],
      "source": [
        "def calculate_IG(binary_array, c, word, calculate_entrupy_total = 'no value'):\n",
        "  if calculate_entrupy_total == 'no value':\n",
        "    calculate_entrupy_total = calculate_entropy_total(binary_array)\n",
        "  try:\n",
        "    word.setIg(calculate_entrupy_total - calculate_sum(binary_array, word))\n",
        "  except:\n",
        "    word.setIg(None)"
      ]
    },
    {
      "cell_type": "markdown",
      "metadata": {
        "id": "uo-7ZZppO6SF"
      },
      "source": [
        "Get featured IG\n",
        "\n",
        "We have some problem with 2 words\n"
      ]
    },
    {
      "cell_type": "code",
      "execution_count": null,
      "metadata": {
        "id": "0z0NLVggO56z",
        "colab": {
          "base_uri": "https://localhost:8080/",
          "height": 425
        },
        "outputId": "ef57011e-a2f0-45e9-90e4-c17d72feec40"
      },
      "outputs": [
        {
          "output_type": "stream",
          "name": "stdout",
          "text": [
            "\n",
            "\n",
            "\n",
            "\n",
            "\n",
            "\n"
          ]
        },
        {
          "output_type": "error",
          "ename": "UnboundLocalError",
          "evalue": "ignored",
          "traceback": [
            "\u001b[0;31m---------------------------------------------------------------------------\u001b[0m",
            "\u001b[0;31mUnboundLocalError\u001b[0m                         Traceback (most recent call last)",
            "\u001b[0;32m<ipython-input-12-3427c32b55fe>\u001b[0m in \u001b[0;36m<module>\u001b[0;34m()\u001b[0m\n\u001b[1;32m     22\u001b[0m   \u001b[0;32mreturn\u001b[0m \u001b[0;34m(\u001b[0m\u001b[0mresult\u001b[0m\u001b[0;34m,\u001b[0m \u001b[0mmaxS\u001b[0m\u001b[0;34m)\u001b[0m\u001b[0;34m\u001b[0m\u001b[0;34m\u001b[0m\u001b[0m\n\u001b[1;32m     23\u001b[0m \u001b[0;34m\u001b[0m\u001b[0m\n\u001b[0;32m---> 24\u001b[0;31m \u001b[0mprint\u001b[0m\u001b[0;34m(\u001b[0m\u001b[0mget_featured_max_IG\u001b[0m\u001b[0;34m(\u001b[0m\u001b[0mx_train_binary\u001b[0m\u001b[0;34m,\u001b[0m \u001b[0;36m1\u001b[0m\u001b[0;34m)\u001b[0m\u001b[0;34m)\u001b[0m\u001b[0;34m\u001b[0m\u001b[0;34m\u001b[0m\u001b[0m\n\u001b[0m",
            "\u001b[0;32m<ipython-input-12-3427c32b55fe>\u001b[0m in \u001b[0;36mget_featured_max_IG\u001b[0;34m(binary_array, c)\u001b[0m\n\u001b[1;32m     20\u001b[0m   \u001b[0mprint\u001b[0m\u001b[0;34m(\u001b[0m\u001b[0;34m\"\\n\"\u001b[0m\u001b[0;34m)\u001b[0m\u001b[0;34m\u001b[0m\u001b[0;34m\u001b[0m\u001b[0m\n\u001b[1;32m     21\u001b[0m   \u001b[0mprint\u001b[0m\u001b[0;34m(\u001b[0m\u001b[0;34m\"\\n\"\u001b[0m\u001b[0;34m)\u001b[0m\u001b[0;34m\u001b[0m\u001b[0;34m\u001b[0m\u001b[0m\n\u001b[0;32m---> 22\u001b[0;31m   \u001b[0;32mreturn\u001b[0m \u001b[0;34m(\u001b[0m\u001b[0mresult\u001b[0m\u001b[0;34m,\u001b[0m \u001b[0mmaxS\u001b[0m\u001b[0;34m)\u001b[0m\u001b[0;34m\u001b[0m\u001b[0;34m\u001b[0m\u001b[0m\n\u001b[0m\u001b[1;32m     23\u001b[0m \u001b[0;34m\u001b[0m\u001b[0m\n\u001b[1;32m     24\u001b[0m \u001b[0mprint\u001b[0m\u001b[0;34m(\u001b[0m\u001b[0mget_featured_max_IG\u001b[0m\u001b[0;34m(\u001b[0m\u001b[0mx_train_binary\u001b[0m\u001b[0;34m,\u001b[0m \u001b[0;36m1\u001b[0m\u001b[0;34m)\u001b[0m\u001b[0;34m)\u001b[0m\u001b[0;34m\u001b[0m\u001b[0;34m\u001b[0m\u001b[0m\n",
            "\u001b[0;31mUnboundLocalError\u001b[0m: local variable 'result' referenced before assignment"
          ]
        }
      ],
      "source": [
        "import math\n",
        "def get_featured_max_IG(binary_array, c):\n",
        "  count = 0\n",
        "  a = list()\n",
        "  cet = calculate_entropy_total(binary_array)\n",
        "  max = -9^999999999\n",
        "  maxS = \"\"\n",
        "  for x in vocabulary:\n",
        "    count += 1\n",
        "    try:\n",
        "      result = calculate_IG(binary_array,1 , x, cet)\n",
        "      if result > max:\n",
        "        max = result\n",
        "        maxS = x\n",
        "      a.append(calculate_IG(binary_array,1 , x, cet))\n",
        "    except:\n",
        "      continue\n",
        "\n",
        "  print(\"\\n\")\n",
        "  print(\"\\n\")\n",
        "  print(\"\\n\")\n",
        "  return (result, maxS)\n",
        "\n",
        "print(get_featured_max_IG(x_train_binary, 1))"
      ]
    },
    {
      "cell_type": "markdown",
      "metadata": {
        "id": "flxeQqSyahtP"
      },
      "source": [
        "Node"
      ]
    },
    {
      "cell_type": "code",
      "execution_count": null,
      "metadata": {
        "colab": {
          "base_uri": "https://localhost:8080/"
        },
        "id": "W4zpecd3X39Q",
        "outputId": "bc729e41-7a11-426a-becb-1f621ebc2d3d"
      },
      "outputs": [
        {
          "output_type": "stream",
          "name": "stdout",
          "text": [
            "5\n"
          ]
        }
      ],
      "source": [
        "class Node:\n",
        "  value: int\n",
        "  p0: int\n",
        "  p1: int\n",
        "  left = None # must be Node\n",
        "  right = None # must be Node\n",
        "\n",
        "  def __init__(self, v: int = None):\n",
        "    self.value = v\n",
        "  \n",
        "  def setLeftChild(self, v):\n",
        "    self.left = v\n",
        "\n",
        "  def setRightChild(self, v):\n",
        "    self.right  = v\n",
        "\n",
        "  def setChilds(self, l, r):\n",
        "    self.setLeftChild(l)\n",
        "    self.setRightChild(r)\n",
        "  def result(self):\n",
        "    if(p0 > p1):\n",
        "      return \"positive\"\n",
        "    return \"negative\"\n",
        "  def __str__(self):\n",
        "    return str(self.value)\n",
        "      \n",
        "\n",
        "\n",
        "h = Node(5)\n",
        "h.setLeftChild(Node(3))\n",
        "print(h)\n",
        "\n",
        "\n",
        "    #create else"
      ]
    },
    {
      "cell_type": "markdown",
      "metadata": {
        "id": "x7d48TpzqULq"
      },
      "source": [
        "Remove words"
      ]
    },
    {
      "cell_type": "code",
      "execution_count": null,
      "metadata": {
        "id": "Qav_EFbBqT1T"
      },
      "outputs": [],
      "source": [
        "def hasTheWord(word1: Word, word2: Word):\n",
        "  index1 = word1.index\n",
        "  index2 = word2.index\n",
        "  for x in x_train_binary:\n",
        "    if(x[index1] == 1 and x[index2] == 1):\n",
        "      return 1\n",
        "\n",
        "  return 0\n"
      ]
    },
    {
      "cell_type": "code",
      "execution_count": null,
      "metadata": {
        "id": "AQ_HScftv6J2"
      },
      "outputs": [],
      "source": [
        "class Word:\n",
        "\n",
        "  def __init__(self, value:str, index:int):\n",
        "    self.value = value\n",
        "    self.index = index\n",
        "    self.p0 = None\n",
        "    self.p1 = None\n",
        "    self.ig = None\n",
        "    self.entropy0 = None\n",
        "    self.entropy1 = None\n",
        "\n",
        "\n",
        "  def setP0(self, p0):\n",
        "    self.p0 = p0\n",
        "  \n",
        "  def setP1(self, p1):\n",
        "    self.p1 = p1\n",
        "  \n",
        "  def setIg(self, ig):\n",
        "    if(ig != None):\n",
        "      self.ig = float(ig)\n",
        "\n",
        "  def setEntropy0(self, entropy0):\n",
        "    self.entropy0 = entropy0\n",
        "\n",
        "  def setEntropy1(self, entropy1):\n",
        "    self.entropy1  = entropy1\n",
        "\n",
        "  def __str__(self):\n",
        "    return self.ig\n",
        "\n",
        "  def __repr__(self):\n",
        "    return self.value + \" \" + str(self.ig)\n",
        "  "
      ]
    },
    {
      "cell_type": "code",
      "execution_count": null,
      "metadata": {
        "id": "J8dyqz8W0ey5"
      },
      "outputs": [],
      "source": [
        "#there is the word in the setence\n",
        "def findValueFromArray(array, index):\n",
        "  if len(array) < index:\n",
        "    return None\n",
        "  count = 0\n",
        "  for x in array:\n",
        "    if(count == index):\n",
        "      return x\n",
        "    count+= 1"
      ]
    },
    {
      "cell_type": "code",
      "execution_count": null,
      "metadata": {
        "id": "W-NJOe03lbpx"
      },
      "outputs": [],
      "source": [
        "def findTheNextWord(maxWord, array, c):\n",
        "  nextWord = array.pop()\n",
        "  while hasTheWord(maxWord, nextWord) != c:\n",
        "    if len(array) == 0:\n",
        "      return None\n",
        "    try:\n",
        "      nextWord = array.pop()\n",
        "    except:\n",
        "      return None\n",
        "  return nextWord\n"
      ]
    },
    {
      "cell_type": "markdown",
      "metadata": {
        "id": "rgqEATG5hkBX"
      },
      "source": [
        "Main run one"
      ]
    },
    {
      "cell_type": "code",
      "execution_count": null,
      "metadata": {
        "colab": {
          "base_uri": "https://localhost:8080/"
        },
        "id": "vrdI_6vQhnkF",
        "outputId": "0d063e5e-f853-4986-dbc0-4bbecc6ec470"
      },
      "outputs": [
        {
          "output_type": "stream",
          "name": "stdout",
          "text": [
            "1\n",
            "bad\n",
            "0.6733966745843231\n",
            "0.32660332541567694\n"
          ]
        }
      ],
      "source": [
        "test = x_train_binary[0]\n",
        "print(y_train[0])\n",
        "ar = x_train_binary.tolist()\n",
        "i = 0\n",
        "et = calculate_entropy_total(x_train_binary)\n",
        "words = list()\n",
        "for x in vocabulary:\n",
        "  words.append(Word(x, i))\n",
        "  i+= 1\n",
        "words_to_remove = list()\n",
        "for word in words:\n",
        "  calculate_IG(x_train_binary, 1, word, et)\n",
        "  word.setP0(calculate_probability(x_train_binary, 0, word, word.index))\n",
        "  word.setP1(calculate_probability(x_train_binary, 1, word, word.index))\n",
        "  if(word.ig == None):\n",
        "    words_to_remove.append(word)\n",
        "\n",
        "\n",
        "\n",
        "for x in words_to_remove:\n",
        "  words.remove(x)\n",
        "\n",
        "\n",
        "\n",
        "words.sort(key=lambda x: x.ig, reverse=True)\n",
        "max = words.pop()\n",
        "stopTheWhile = False\n",
        "#next = findTheNextWord(max, words, c)\n",
        "while len(words) !=0 and not stopTheWhile:\n",
        "  c = findValueFromArray(test, max.index)\n",
        "  while len(words) != 0 and max.p0 != 1 and max.p1 !=1:\n",
        "    next = findTheNextWord(max, words, c)\n",
        "    if(next == None):\n",
        "      stopTheWhile = True\n",
        "      break\n",
        "    max = next\n",
        "\n",
        "\n",
        "if(max.p0 > max.p1):\n",
        "  print(\"bad\")\n",
        "  print(max.p0)\n",
        "  print(max.p1)\n",
        "else:\n",
        "  print(\"good\")\n",
        "  print(max.p0)\n",
        "  print(max.p1)\n",
        "\n"
      ]
    },
    {
      "cell_type": "markdown",
      "metadata": {
        "id": "kDhSVIjz-qh9"
      },
      "source": [
        "create words"
      ]
    },
    {
      "cell_type": "code",
      "execution_count": null,
      "metadata": {
        "id": "M8PdAlrq-nKl"
      },
      "outputs": [],
      "source": [
        "test = x_train_binary[0]\n",
        "ar = x_train_binary.tolist()\n",
        "i = 0\n",
        "et = calculate_entropy_total(x_train_binary)\n",
        "words = list()\n",
        "for x in vocabulary:\n",
        "  words.append(Word(x, i))\n",
        "  i+= 1\n",
        "words_to_remove = list()\n",
        "for word in words:\n",
        "  calculate_IG(x_train_binary, 1, word, et)\n",
        "  word.setP0(calculate_probability(x_train_binary, 0, word, word.index))\n",
        "  word.setP1(calculate_probability(x_train_binary, 1, word, word.index))\n",
        "  if(word.ig == None):\n",
        "    words_to_remove.append(word)\n",
        "\n",
        "\n",
        "\n",
        "for x in words_to_remove:\n",
        "  words.remove(x)\n",
        "\n",
        "\n",
        "\n",
        "words.sort(key=lambda x: x.ig, reverse=True)"
      ]
    },
    {
      "cell_type": "code",
      "source": [
        "print(len(vocabulary))\n",
        "print(vocabulary)"
      ],
      "metadata": {
        "colab": {
          "base_uri": "https://localhost:8080/"
        },
        "id": "3vIQYeGmUjW9",
        "outputId": "79b050af-2cc0-4c4b-b79d-46df10a32a66"
      },
      "execution_count": null,
      "outputs": [
        {
          "output_type": "stream",
          "name": "stdout",
          "text": [
            "3998\n",
            "{'one', 'learn', 'existent', 'food', 'portrayal', 'challenge', 'biggest', 'certain', 'much', 'sets', 'gone', 'inspector', 'general', 'seeing', 'destroyed', 'reach', 'planning', 'wondering', 'unbelievably', 'enemy', 'lord', 'boys', 'everyday', 'passed', 'sadly', 'grace', 'wars', 'focus', 'comic', 'knowledge', 'fi', 'moving', 'support', 'appearance', 'previously', 'power', 'qualities', 'piece', 'learning', 'appalling', 'prefer', 'personalities', 'starring', 'attack', 'content', 'junk', 'leave', 'bill', 'placed', 'future', 'whose', 'supposedly', 'loves', 'projects', 'superior', 'wants', 'women', 'female', 'corny', 'moves', 'contains', 'falls', 'follows', 'writer', 'join', 'mild', 'watch', 'setting', 'canada', 'ned', 'decides', 'besides', 'steals', 'vicious', 'altogether', 'higher', 'meaning', 'dreams', 'land', 'lacks', 'cartoon', 'meaningful', '2003', 'standard', 'whether', 'lazy', 'offer', 'suffers', 'produce', 'astaire', 'shows', 'lit', 'stunts', 'estate', \"wouldn't\", 'cops', '99', 'imagine', 'french', 'sisters', 'feelings', 'blown', 'l', 'abuse', 'breath', 'villain', 'nights', 'copy', 'con', 'contrary', 'sidney', 'night', 'hell', 'danny', 'magnificent', 'awards', 'unique', 'streisand', 'brings', 'managed', 'surreal', 'lives', 'sat', 'dream', 'surrounded', 'lovely', 'decade', 'b', 'mind', 'werewolf', 'want', 'material', 'introduced', 'mostly', 'handed', 'blind', \"girl's\", 'average', 'two', 'plays', 'anyways', 'second', 'sit', 'anime', 'appeal', 'jason', 'versions', 'flick', 'gem', 'narration', 'he', 'clue', 'dry', 'workers', 'van', \"what's\", 'atmosphere', 'twisted', 'cost', 'comparison', 'target', 'allows', 'encounter', 'accomplished', 'lessons', 'finest', 'ultimate', 'warren', 'daring', 'richard', 'foot', 'alright', 'as', 'choose', 'at', 'i', 'world', 'davies', 'investigate', 'toward', 'except', 'concerned', 'service', 'bat', 'such', 'criticism', 'charlie', 'terry', 'intense', 'appealing', 'tells', 'reminded', 'neighborhood', 'return', 'portray', 'thinks', 'stylish', 'zone', 'wanting', 'himself', 'succeed', 'intent', 'golden', 'first', 'expected', 'ranks', 'produced', 'zombies', 'causes', 'wayne', 'brother', 'bothered', 'joseph', 'rich', 'ho', 'ironic', 'prevent', 'daily', 'prison', 'picture', 'lousy', 'mouse', 'no', 'trouble', 'development', 'bore', 'angles', 'private', 'rest', 'strongly', 'do', 'basis', 'embarrassed', 'directorial', 'laughter', 'here', 'sky', 'father', 'robert', 'rated', 'brosnan', 'complaint', 'style', 'dragged', 'killing', 'easy', 'horrific', 'cinematography', 'gotta', 'jackson', 'rival', 'rural', 'draw', 'spots', 'providing', 'big', 'sake', 'screening', 'written', 'cars', 'charm', 'involved', 'existence', 'st', 'dated', 'brilliance', 'recent', 'test', 'remain', 'guest', 'kate', 'edited', 'clothes', 'candy', 'individuals', 'trilogy', 'provide', 'present', 'relevant', 'profound', 'lincoln', 'walls', 'segments', '25', 'realistic', 'irritating', 'endearing', 'minds', 'chose', 'ludicrous', 'terms', 'latter', 'styles', 'sister', 'treat', 'wins', 'constantly', 'escape', 'north', 'heck', 'subplot', 'list', 'wes', '[oov]', 'clean', 'sound', \"80's\", 'lucy', 'magazine', 'destroy', 'were', 'harris', 'held', 'separate', 'extreme', 'bite', 'secretary', 'hong', 'revolution', 'casting', 'pulp', 'chasing', 'society', 'topic', \"they've\", 'crisis', 'which', 'disappointed', 'wife', 'disgusting', 'exception', 'shower', 'paris', 'decision', 'pacing', 'portrait', 'becomes', 'quality', 'overdone', 'near', 'decide', 'hope', 'brain', 'boring', 'ancient', 'ah', 'singing', 'meet', '[bos]', 'talent', 'little', 'looking', 'authentic', 'racism', 'makers', 'teach', 'universal', 'majority', 'three', 'hated', 'recommend', 'plastic', 'multi', 'translation', 'reached', 'attention', 'need', 'baby', 'monsters', 'com', 'plague', 'shock', 'somewhere', 'suffering', 'battle', 'department', 'bottom', 'anyway', 'repetitive', 'memory', 'psycho', 'lighting', 'victoria', 'actual', 'noted', 'burns', 'dentist', 'government', 'pilot', 'excellent', 'jane', 'motivation', 'started', 'catch', 'artist', 'merely', 'sometimes', 'ok', 'hour', 'right', 'miserably', 'knowing', 'pieces', 'assistant', 'disc', 'library', 'asking', 'duo', 'checking', 'mountains', 'slapstick', 'interest', 'dignity', 'cinderella', \"show's\", 'frame', 'idea', 'australia', 'beauty', 'island', 'countless', 'worlds', 'expectations', 'code', 'finale', \"hadn't\", 'everywhere', 'suffered', 'peace', \"we're\", 'baker', 'jazz', 'committed', 'tragic', 'sword', 'extended', 'fictional', 'barry', 'executed', 'ice', 'kim', 'unnecessary', 'cynical', 'yet', 'me', 'wrote', 'terrifying', 'was', 'irony', 'hoffman', 'attached', 'fate', 'producer', 'failure', 'passing', 'trust', 'loosely', 'thank', 'represents', 'woman', 'absence', 'screen', 'audio', 'balance', 'pay', 'nobody', 'speaking', 'figured', 'video', 'nor', 'considered', 'sutherland', 'questions', 'final', 'said', 'dire', '30', 'watches', 'remains', 'sort', 'creating', 'quickly', 'noir', 'hudson', 'bank', 'provoking', 'victims', 'christian', 'silence', 'go', 'fairly', 'corrupt', 'jealous', 'red', 'members', 'dean', 'lewis', 'necessarily', 'arrive', 'regret', 'today', 'paid', 'gene', 'interviews', 'properly', 'julie', 'aunt', 'reading', 'snow', 'deals', 'footage', 'pretty', 'commercial', 'form', 'leslie', 'melodramatic', 'best', 'title', 'execution', 'fourth', 'cole', 'sexy', 'shines', 'reality', 'horrors', '2004', 'bbc', 'heat', 'spoiled', 'gritty', 'oscars', 'space', 'involves', 'crash', 'fifteen', 'naked', '2001', 'addition', 'convey', 'plenty', 'post', 'highlight', 'andy', 'bird', 'continue', 'nancy', 'tribute', 'deserve', 'dropped', 'ring', 'clearly', 'whom', 'mainstream', 'timeless', 'laughing', 'format', 'immediately', 'lake', 'wasted', 'receive', 'only', 'kevin', 'friday', 'fair', 'enjoyment', 'nine', 'context', 'columbo', 'fan', 'together', 'hot', 'party', 'superman', 'unlike', 'birds', 'handled', 'funnier', 'onto', 'continuity', 'week', 'sucks', 'attacks', 'paced', 'easier', 'nevertheless', 'death', 'sheer', 'technique', 'shadows', 'possibly', \"i'll\", 'system', '1980s', 'synopsis', 'difference', 'ought', 'order', 'notes', 'delightful', 'cabin', 'unconvincing', 'notice', 'intention', 'occasionally', 'shark', 'element', 'quirky', 'easily', 'expensive', 'summer', 'surely', 'definite', 'carefully', 'intelligent', 'surprised', 'understanding', 'outside', 'roger', 'heavily', 'hall', 'arrested', 'goes', 'reactions', \"movie's\", 'fool', 'putting', 'hunter', 'choices', 'matthau', 'birthday', 'spielberg', 'manner', 'ground', 'wearing', 'also', 'technology', 'whenever', 'gore', \"ain't\", 'magical', '1950s', 'india', 'past', 'forever', 'hero', 'is', 'since', 'political', 'blank', 'scenery', 'wedding', 'during', 'returns', 'superhero', 'sold', 'always', 'fly', 'indian', 'recognized', 'chick', 'washington', 'darkness', 'meat', 'clichés', 'loser', 'twelve', 'too', 'within', 'sunshine', 'split', 'road', 'web', 'bathroom', 'rights', 'rushed', 'soul', '80', 'still', 'social', 'massive', 'adam', 'beautiful', 'using', 'guess', 'musical', 'alive', 'these', 'ending', 'provides', 'did', 'tons', 'nicely', 'remotely', 'another', 'bourne', 'overrated', 'bit', 'aliens', 'chris', 'cry', 'spooky', 'n', 'theaters', 'crew', 'glad', 'disappointing', 'eve', 'nazis', 'deserves', 'six', 'bringing', 'blob', 'ideas', 'hint', 'juvenile', 'expression', 'closer', 'suit', 'drivel', 'display', 'opinion', 'fall', 'warning', 'thrill', 'sex', 'dr', 'combined', 'worst', 'subtle', 'months', 'knew', 'designed', 'talks', 'having', 'hills', 'puts', 'bored', 'fit', 'portrays', 'asked', 'nowhere', 'gratuitous', 'look', 'dialogs', 'image', 'hearts', 'flicks', 'curse', 'overall', 'childhood', 'actually', 'ourselves', 'cop', 'confusion', 'critical', 'blair', 'finished', 'speak', 'patient', 'interview', 'part', 'less', 'shall', 'anthony', 'thought', 'seems', 'slap', 'therefore', 'ball', 'catherine', 'jungle', 'dig', 'act', 'generous', 'etc', 'mitchell', 'die', 'kitchen', 'actresses', 'rain', 'territory', 'changes', 'imagery', 'done', 'daniel', 'swedish', 'been', 'ten', 'costume', 'seeking', 'trap', 'better', 'boat', 'broken', 'basement', 'mystery', 'sole', 'carry', 'self', 'maybe', 'get', 'eight', 'weak', 'grey', 'master', 'disturbing', 'weeks', 'bridge', 'gang', 'find', 'non', 'inside', 'worse', 'reviewer', 'lily', 'americans', 'remaining', 'karloff', 'lifetime', 'lloyd', 'bodies', 'special', 'sorry', 'under', 'teenager', 'seven', 'interpretation', 'scary', 'disaster', 'suspects', 'thinking', \"it's\", 'weapon', 'conspiracy', 'above', '\\x96', 'craig', 'grim', 'dancers', 'fault', 'makes', \"isn't\", 'thousand', 'cell', 'church', 'tend', 'extra', 'cinema', 'adults', 'heads', 'market', 'titles', 'sure', 'tension', 'security', 'walked', 'christ', 'creative', 'finally', 'feature', 'track', 'halloween', 'them', 'motion', 'engaged', 'tame', 'miller', 'intended', 'journey', 'will', 'realizes', 'moments', 'superficial', 'absurd', 'effects', 'extremely', 'chaplin', 'impact', 'impressive', 'member', 'met', 'tired', 'stronger', 'virgin', 'information', 'failing', 'guide', 'john', 'fx', 'bette', 'version', \"character's\", 'human', '50', 'river', 'neck', 'stiff', 'nurse', 'buck', 'children', 'advantage', 'installment', 'dying', 'highlights', 'traditional', 'exploitation', 'hands', 'franchise', 'nelson', 'including', 'cameo', 'artistic', 'decided', 'former', 'subsequent', 'southern', 'investigation', 'joe', 'cover', 'forced', 'natural', 'dogs', 'print', 'emily', 'latest', 'emma', 'due', 'gory', 'makeup', 'spring', 'locked', 'african', 'elderly', 'explain', 'took', 'sleeping', 'writers', 'instance', 'pleased', 'romantic', 'appear', 'runs', 'monster', 'paying', 'village', 'butt', 'definitely', 'bother', 'positive', 'hood', 'invisible', 'million', 'remote', 'him', 'medical', 'presence', 'broadway', 'days', 'center', 'green', 'cares', '10', 'sandler', 'photography', 'people', 'grows', 'inspiring', 'let', 'smile', 'face', 'vampire', 'heroic', 'proceedings', 'credibility', 'wooden', 'jay', 'monkey', 'suspenseful', 'perfectly', 'spend', 'fun', 'mentally', 'douglas', 'pulls', 'double', 'pacino', 'strikes', 'dare', 'type', 'stupid', 'chances', 'elements', 'sell', 'francisco', 'luckily', '1', 'shoes', 'opens', 'states', 'technical', 'say', 'itself', 'ritter', 'selfish', '5', 'photographed', 'dollars', 'teens', 'wears', 'blah', 'thick', 'cousin', 'saw', 'kidnapped', 'christmas', 'ted', 'related', 'british', '2006', 'almost', 'matt', 'significant', 'count', 'punch', 'clips', 'abandoned', 'older', 'stand', 'slight', 'ii', 'cause', 'scenes', \"they'd\", 'change', 'threat', 'overly', 'secrets', 'superb', 'barely', 'search', 'required', 'weird', 'able', 'surface', 'with', 'skin', 'university', 'ron', 'radio', 'bound', 'come', 'bitter', 'everyone', 'mean', 'inspired', 'serious', 'sophisticated', 'elsewhere', 'occasional', 'word', 'however', 'earlier', 'beating', 'recall', \"mother's\", 'david', 'write', 'vacation', 'forward', 'potential', 'amazingly', 'keep', 'opposite', 'lack', 'seagal', 'favor', 'towards', 'delivery', 'bond', 'marvelous', 'distance', 'drop', 'wishes', '000', 'if', 'parents', 'documentaries', 'soldier', 'movies', 'buddy', 'broad', 'effectively', 'deliver', 'ahead', 'pace', 'enjoys', 'sleazy', 'fill', 'jennifer', 'fu', 'seemingly', 'boredom', 'break', 'very', 'remember', 'dialogues', 'man', 'sounded', 'reveals', 'wit', 'beloved', 'sullivan', 'belief', 'happiness', 'mentioned', 'friend', 'via', 'sequels', '20th', 'fay', 'midnight', 'retarded', 'jumping', 'famous', 'writing', '45', 'time', 'folks', 'stood', 'brilliant', 'advice', 'faith', 'lead', 'hey', 'cannot', 'aforementioned', 'crude', 'rock', \"let's\", 'warm', 'climax', 'by', 'winning', 'jerk', \"we'll\", 'wealthy', 'express', 'ha', 'shut', '60', 'savage', 'truck', 'empty', 'killer', 'buying', 'worthless', 'typical', 'unusual', 'telling', 'circumstances', 'stars', 'vote', 'reviewers', 'a', 'tunes', 'individual', 'eyed', 'conflict', 'value', 'ultimately', 'considering', 'spy', 'years', 'hours', 'cat', 'mansion', 'closely', 'am', 'culture', 'sean', 'elvis', 'competition', 'difficult', 'public', 'johnson', 'fired', 'tragedy', 'c', 'views', 'dramas', 'interesting', 'breaking', 'ruth', 'annoyed', 'forgettable', 'away', 'wannabe', 'flying', 'structure', 'oliver', 'dealt', 'sum', 'focuses', 'suspect', 'throw', 'twice', 'god', 'apartment', \"could've\", 'success', 'book', 'when', 'resembles', 'kudos', 'theatre', 'dubbing', 'glory', 'growing', 'came', 'blend', 'dialog', 'mix', 'deal', 'through', 'tv', 'worthy', 'f', 'drives', 'flash', 'paper', 'evident', 'concerns', 'pregnant', 'predictable', 'aged', 'horrible', 'voice', 'unfortunate', 'twists', 'hitting', 'mediocre', 'stories', 'pie', 'each', 'rarely', 'aimed', 'set', 'beautifully', 'offensive', 'slave', 'burt', 'likes', 'results', \"that's\", 'relationships', 'toilet', 'leaves', 'sadistic', 'strictly', 'trek', 'essential', 'poorly', 'had', 'nudity', '1970s', 'takes', 'calling', 'war', 'sitting', 'emotion', 'ridiculously', 'entertainment', 'unrealistic', 'false', 'changed', 'symbolism', '14', 'pointed', 'narrator', 'nude', 'scenario', 'decades', 'coherent', 'problems', 'claim', 'horrendous', 'woody', 'dinner', 'musicals', 'showing', 'logic', 'satire', 'throws', 'fantastic', 'efforts', 'sees', 'headed', 'leg', 'task', 'fantasy', 'confused', 'white', 'camp', 'sentimental', 'importantly', 'dear', 'accused', 'breaks', 'president', 'unfunny', 'explains', 'arnold', 'grant', 'fallen', 'drawn', 'arrives', 'being', 'sally', 'officer', 'baseball', 'visually', 'battles', 'mental', 'provided', 'protect', 'okay', 'surprises', 'v', 'needs', 'fell', 'touch', 'enjoyed', 'sheriff', 'kane', \"you'd\", 'sadness', 'excitement', 'asks', 'perform', 'exercise', 'rex', 'nose', 'purple', 'slasher', 'features', 'intelligence', 'helps', 'proper', 'don', '8', 'refreshing', 'anger', 'proves', 'stone', 'beats', 'plus', 'of', 'moved', 'affected', 'tarzan', 'turkey', 'died', 'peter', 'notably', 'creature', 'burning', 'waiting', 'shorts', 'make', \"woman's\", 'remembered', 'plans', 'playing', 'fast', 'revealing', 'critics', 'marie', 'thats', 'quest', 'husband', 'married', 'funniest', 'missing', 'device', 'sequel', 'viewer', 'tear', 'identity', '2nd', 'independent', 'unbearable', 'pleasantly', 'border', 'stay', 'miles', 'odd', 'company', 'gag', 'plots', 'appearing', 'bettie', 'comes', 'teeth', 'period', 'work', 'water', 'into', 'health', 'choice', 'included', 'anyone', 'killings', 'faithful', 'noticed', 'west', 'played', 'international', 'blows', 'obvious', 'comedian', 'heroine', 'especially', 'gags', 'san', 'themes', 'agree', 'similar', 'funny', 'facial', 'victor', 'comments', 'selling', 'site', 'made', 'captures', 'w', 'misses', 'covered', 'host', 'wear', 'lets', 'wasting', 'rambo', 'cowboy', 'teenagers', 'solve', 'sexual', 'versus', 'turn', 'frequently', 'seen', 'common', 'hits', 'annoying', 'end', 'influence', 'sci', 'la', 'angle', 'painting', 'cute', 'become', 'simply', 'welcome', '13', 'massacre', 'elaborate', 'major', '4', 'shot', 'lose', 'presentation', 'owner', 'books', 'toy', 'clothing', 'hanging', 'street', 'fat', 'filmmaker', 'drinking', 'thrills', 'serial', 'guilt', 'succeeds', 'spell', 'holy', 'negative', 'attracted', 'their', 'fear', 'exists', 'rolling', 'product', 'smith', 'court', 'widmark', 'care', 'visual', 'forget', 'events', 'industry', 'italian', 'ages', 'hopes', 'morgan', 'gripping', 'just', 'atmospheric', 'chair', 'precious', 'design', 'lot', 'guts', 'connect', 'classic', 'unknown', 'carries', 'holmes', 'technically', 'craft', '80s', 'queen', 'demands', 'gold', 'finish', 'rating', 'protagonist', 'research', 'brooks', 'captured', 'regarding', 'fisher', 'yeah', 'names', 'laughed', 'warn', 'delivers', 'listening', 'brazil', 'it', 'evening', 'imdb', '90', 'afraid', 'worry', 'wild', 'england', 'tom', 'dubbed', 'brave', 'out', 'sleep', 'flaw', 'mood', 'win', 'but', 'feet', 'genre', 'childish', 'kill', 'begins', 'bits', 'clark', 'understand', \"one's\", 'caused', 'michelle', 'city', 'sports', 'filming', 'chinese', 'praise', 'mildly', 'door', 'performers', 'gothic', \"'\", 'ship', 'comedies', 'eerie', 'bare', 'news', 'directly', 'adds', 'fred', 'nasty', 'watchable', 'honestly', 'academy', 'sudden', 'cia', 'press', 'new', 'intriguing', 'cable', 'idiot', 'numerous', 'portrayed', 'middle', \"couldn't\", 'process', 'hitler', 'ago', 'score', 'storm', 'usual', 'modesty', 'experiment', 'start', 'shown', 'clichéd', 'tricks', 'references', 'blockbuster', 'billy', 'contrast', 'hit', 'revelation', 'blood', \"man's\", 'listed', 'viewers', 'arms', 'force', 'result', 'category', 'adapted', 'p', 'ordinary', 'max', 'le', 'police', 'priest', 'attempting', 'explicit', 'happens', 'eventually', 'times', 'mainly', 'vehicle', 'locations', 'tears', 'utter', 'consists', 'fascinating', \"film's\", 'genuine', 'add', 'extent', 'suddenly', 'thrillers', 'boy', 'concerning', 'ghosts', 'anything', 'sucked', 'films', 'captivating', 'her', 'bobby', 'yourself', 'straight', 'forces', 'generally', 'suits', 'getting', 'know', 'shining', 'cheek', 'genres', 'added', 'smoking', 'curiosity', 'cheap', 'effect', 'wait', 'merit', 'iii', 'luke', 'travel', 'kind', 'card', 'noble', 'frankly', 'making', 'now', 'coming', 'ironically', 'hire', 'number', 'restaurant', 'every', 'thrilling', 'trailer', 'has', 'instead', 'lesson', 'condition', 'beer', 'china', 'sick', 'dynamic', 'jokes', 'derek', 'depressing', 'standards', 'likable', 'try', 'kidding', 'program', 'helen', 'dude', 'depiction', 'captain', 'revolves', 'loses', 'contact', 'resolution', 'appropriate', 'mark', 'simon', 'humanity', 'meets', 'king', 'repeatedly', 'date', 'pseudo', 'comfortable', 'subject', 'native', 'enter', 'oddly', 'leader', 'words', 'seriously', 'ian', 'deeper', 'later', 'terror', 'turner', 'dull', 'oil', 'idiotic', 'grave', 'freak', 'teen', 'personally', 'trapped', 'sitcom', 'view', 'vampires', 'computer', 'walk', 'stated', 'ann', 'length', 'ex', 'military', 'interested', 'floor', 'irish', 'studios', 'neat', 'aka', 'skip', 'briefly', 'x', 'murders', 'australian', 'question', 'searching', 'liberal', 'parody', 'in', 'louis', 'picking', 'patrick', 'supposed', 'haunting', 'digital', 'adult', 'situations', 'where', 'campy', 'creates', 'ones', 'explore', 'nothing', 'strong', 'aging', 'internet', 'accent', 'howard', 'opposed', 'mid', 'ellen', 'violent', 'humor', 'spike', 'cruel', 'sons', 'passion', 'mother', 'fail', 'europe', 'kick', 'bet', 'background', 'comical', 'ever', 'entertaining', 'martial', 'union', 'goldberg', 'lesbian', 'crime', 'featured', 'romance', 'issues', 'blame', 't', 'acting', 'class', 'realized', 'far', 'step', 'argue', 'sunday', 'kept', 'seemed', '12', 'hanks', 'aired', 'achieved', 'unless', 'reynolds', 'tried', 'strangely', 'walken', 'accept', 'gruesome', 'pg', 'emotions', 'slightest', 'taking', 'settings', 'wicked', 'name', 'mini', 'religion', 'cameras', 'trio', 'brutal', 'mere', 'event', 'reed', 'light', 'winner', 'busy', 'lived', '16', 'could', 'willing', 'sloppy', 'lie', 'lies', 'requires', 'ruined', 'recognize', 'record', 'meant', 'fact', 'storytelling', 'spoilers', 'brian', 'accident', 'raped', 'multiple', 'pointless', 'fits', 'soviet', 'editor', 'california', 'criminals', 'stop', 'deaths', 'bizarre', 'cheese', 'embarrassing', 'morality', 'apart', 'paul', 'else', 'pain', 'excuse', 'told', 'necessary', 'minute', 'afterwards', 'routine', 'boyfriend', 'creepy', 'secret', 'four', 'pulling', 'particular', 'desire', 'wall', 'drive', 'impressed', 'foul', 'national', 'helped', 'longer', \"i'm\", 'deadly', 'doc', 'believing', 'popular', 'melodrama', 'occurred', 'poverty', 'depth', 'plane', 'differences', 'story', 'looks', 'pop', 'head', 'see', 'year', 'gives', 'brown', 'daughters', 'science', 'enjoyable', 'cinematic', 'suck', 'kenneth', 'protagonists', 'obsession', 'chemistry', 'daughter', 'upset', 'nick', 'quite', 'homeless', 'prom', 'overcome', 'redeeming', 'carried', 'hold', 'thumbs', 'already', 'graphics', 'tap', 'giallo', 'compared', 'touching', 'whole', 'how', 'move', 'batman', 'george', 'actor', 'answer', 'desperate', 'carrey', 'racist', 'raise', 'killers', 'shadow', 'newspaper', 'emotional', 'graphic', 'office', 'director', 'century', 'movement', 'pity', 'typically', 'steps', 'lights', 'farce', 'object', 'read', 'civil', 'needed', 'jump', 'miss', 'review', 'student', 'thoroughly', 'speed', 'rough', 'taylor', 'your', 'semi', 'reduced', 'late', 'intensity', 'brando', 'notable', 'training', 'professor', 'viewing', 'point', 'bo', 'g', 'vivid', '1930s', 'overlooked', 'era', 'sir', 'often', 'notch', \"children's\", 'hoping', 'al', 'relative', 'driver', 'from', 'team', 'fashion', 'core', 'than', 'deserved', 'age', 'really', 'cult', 'after', 'career', 'men', 'downright', 'vietnam', \"world's\", 'began', 'hip', 'college', 'obnoxious', 'mel', 'warrior', 'themselves', 'says', 'presents', 'channel', 'surprisingly', 'jean', 'lawyer', 'h', 'mob', 'explained', 'fortunately', 'purpose', 'occurs', 'insulting', 'rap', 'reason', 'soldiers', 'you', 'naturally', 'loss', 'south', 'expert', 'dog', 'message', 'steal', 'drunken', 'dark', 'cusack', 'pick', 'entry', 'lucas', 'terribly', 'kurt', 'picked', 'scientist', 'donald', 'dawn', 'survive', 'hitchcock', 'corner', 'innocence', 'samurai', 'evil', 'experience', 'favourite', 'displays', 'struggling', 'bag', 'lower', 'compare', 'received', 'incident', 'progress', 'epic', 'canadian', 'page', 'mate', 'continues', 'wake', 'underrated', 'farm', 'troubled', 'diamond', 'attempted', 'barbara', 'free', 'factor', 'mexican', 'zombie', 'hard', 'german', 'rare', \"we've\", 'figures', 'universe', '9', 'producers', 'note', 'piano', 'shots', 'terrible', 'williams', 'realize', \"'the\", 'torture', 'cash', 'ryan', '7', 'clever', 'fare', '2002', 'realise', 'vs', 'ruin', 'thousands', 'closing', 'cast', 'hearing', 'importance', 'pat', 'doing', 'fashioned', 'threw', 'surprise', 'artists', 'inevitable', 'again', 'statement', 'found', 'alice', 'johnny', 'struggle', 'cried', 'rise', 'scientists', 'stole', 'drink', 'loving', 'neighbor', 'huge', 'they', 'english', 'mysterious', 'spends', 'country', 'bride', 'hundred', 'laurel', 'male', 'flow', 'factory', 'showed', 'obscure', 'stolen', 'numbers', 'usually', 'gain', 'develops', 'text', 'hardly', 'different', 'obsessed', 'mile', 'ben', 'son', 'carrie', 'bears', 'somebody', 'sensitive', 'crimes', 'legendary', 'robin', \"he'll\", 'performed', \"1950's\", 'giant', 'associated', 'uncomfortable', 'unbelievable', 'happy', 'norman', 'script', 'ladies', 'superbly', 'damn', 'believable', 'cant', 'disappointment', 'caring', 'tree', 'enjoying', 'weapons', 'most', 'kung', 'spoil', 'values', 'screenplay', 'surprising', 'charge', 'letter', 'anywhere', 'who', 'mountain', 'comedy', 'others', 'herself', 'down', 'minutes', 'dozen', 'direction', 'utterly', 'entire', 'chilling', 'stays', 'detail', 'please', 'equally', 'combination', 'an', 'on', 'relatively', 'luck', 'exposed', 'basically', 'alex', 'infamous', 'hundreds', 'evidence', 'lugosi', 'thriller', 'car', 'got', 'disease', 'trial', 'nation', 'rocks', 'film', 'giving', 'lee', 'edward', 'pathetic', 'u', 'regular', 'gun', 'same', 'accurate', 'starting', 'fails', 'adventure', 'minded', 'stops', 'horses', 'lady', 'range', 'used', 'revenge', 'amazing', 'grade', 'action', 'particularly', 'rental', 'bomb', 'loud', 'drag', 'intentions', 'community', 'normal', 'claire', 'lots', 'julia', 'prior', 'powell', 'my', 'either', 'colorful', 'studio', 'served', 'completely', 'greatest', 'thankfully', 'camera', \"60's\", 'futuristic', 'stuff', 'cagney', 'exist', 'cartoons', 'angel', 'france', 'trying', 'jesus', 'sense', 'achieve', 'history', 'thanks', 'continued', 'philip', 'faces', 'running', 'citizen', 'maker', 'filled', 'virus', 'worth', 'complicated', 'villains', 'surrounding', 'author', 'dialogue', 'released', 'half', 'like', 'bunch', 'intrigued', 'physical', 'fine', 'shallow', 'beings', 'gift', 'africa', '20', 'susan', 'cared', '3', 'explosion', 'shoots', 'gangster', 'cube', 'tall', 'unforgettable', 'drug', 'aware', '1st', 'executive', 'westerns', 'fiction', 'gas', \"i'd\", 'performances', \"there's\", 'allen', 'blonde', 'hospital', 'viewed', 'position', 'tape', 'though', 'throwing', 'cruise', 'suppose', 'thugs', 'fitting', 'wreck', 'caine', 'journalist', 'york', 'called', 'dead', 'crap', 'saving', 'meanwhile', 'going', 'without', 'marks', 'brought', 'outrageous', 'tales', 'phone', 'ambitious', 'blue', 'actions', 'thief', 'concert', 'hunt', 'reaction', 'flight', 'improved', 'project', 'poor', 'effective', 'horror', 'heaven', 'leading', 'spot', 'blow', 'sent', 'commercials', 'happening', 'redemption', 'picks', 'dumb', 'castle', 'suspense', 'situation', 'bob', 'featuring', 'upon', 'unintentionally', 'rules', 'relief', 'miscast', 'comics', 'rather', 'spite', 'levels', 'pro', 'lines', 'fever', 'waste', 'novels', 'reporter', 'goal', \"doesn't\", 'responsible', 'leads', 'vincent', 'ridiculous', 'while', 'd', 'incredible', 'bible', 'gave', 'fake', 'tense', 'although', 'frank', 'parts', 'calls', 'totally', 'acts', 'chase', 'charles', 'girlfriend', 'failed', 'risk', 'twist', 'spanish', 'avoid', 'throat', 'moon', 'person', 'born', 'eye', 'catholic', 'wind', 'touched', 'branagh', 'treasure', 'mom', 'wrong', 'logical', 'directing', 'guys', 'andrew', 'keaton', \"didn't\", 'run', 'politics', 'to', 'keeps', 'voices', 'plan', 'faced', 'indeed', 'block', 'trash', 'machine', 'conceived', 'pure', 'put', 'scale', 'discovery', 'help', 'credit', 'cliché', 'population', 'touches', 'allowed', 'western', 'repeat', 'marriage', 'letting', 'supporting', 'apparently', 'control', 'jon', 'reasonable', 'characterization', 'parker', 'roy', 'lucky', 'kids', \"she's\", 'ups', 'innocent', 'amateur', 'according', 'pulled', 'cultural', 'flawless', 'enters', 'talents', 'whoever', 'initial', 'classics', 'incredibly', '70s', 'likely', 'fully', 'town', 'grew', 'worthwhile', 'inspiration', 'arm', 'hysterical', 'menacing', 'state', 'would', 'seem', 'tongue', 'stanley', 'absolute', 'string', 'ms', 'titled', 'useless', 'experienced', 'home', 'opera', 'approach', 'third', 'month', 'aside', \"can't\", 'pitt', 'japan', \"they're\", 'laura', 'mistakes', 'oh', \"you've\", 'silver', 'not', 'hamlet', 'hoped', 'television', 'stuck', 'adequate', 'sequence', 'badly', 'suggests', 'us', 'she', 'rate', 'looked', 'bullet', 'harry', 'couple', 'millions', 'discovered', 'thirty', 'ignore', 'creatures', 'photographer', 'stopped', 'conversations', 'song', 'inner', 'ralph', 'insult', 'wondered', 'attempts', 'include', 'london', 'front', 'delight', 'shooting', 'few', 'described', 'term', 'must', 'does', 'mature', 'heroes', '2', 'window', 'thoughts', 'striking', 'repeated', 'ticket', 'energy', 'developed', 'case', 'ill', 'choreography', 'scream', 'european', 'earth', 'techniques', \"they'll\", 'amount', 'nonetheless', 'equal', 'younger', 'capable', 'productions', 'renting', 'grandmother', 'pool', 'disagree', 'horrid', 'skills', 'super', 'wonder', 'seasons', 'ride', 'match', 'smart', 'prepared', 'uses', 'level', 'stock', 'morning', 'brilliantly', 'anti', 'carter', \"here's\", 'speaks', 'kills', 'body', 'dinosaurs', 'lou', 'offered', 'load', 'high', 'fight', 'woods', 'place', 'bus', 'presented', 'law', 'russian', 'odds', \"wasn't\", 'unexpected', 'connected', 'comment', 'may', 'nonsense', 'offering', 'changing', 'speech', 'take', 'raised', 'bush', '2000', 'becoming', 'confusing', 'football', 'hidden', 'might', 'recommended', 'vague', 'lab', 'hand', 'there', 'charismatic', 'spiritual', 'controversial', 'matrix', 'affair', 'theory', 'hair', 'gonna', 'holes', 'argument', 'jake', 'because', 'kinda', 'our', 'field', 'truth', 'open', 'cgi', 'alone', 'lesser', 'realism', 'complex', 'website', 'joke', 'amazed', 'occur', 'masterpiece', 'laid', 'wave', 'kong', 'stanwyck', 'somehow', 'respect', 'exceptional', 'inept', 'eric', 'quiet', 'built', 'tony', 'remind', 'jeff', 'visuals', 'release', 'largely', 'gross', 'stunning', 'american', 'beyond', 'spectacular', 'bought', 'about', 'knock', 'jr', 'sides', 'seat', 'jimmy', 'favorite', 'talked', 'hugh', 'garbage', 'engaging', 'proof', 'slightly', 'build', 'basic', \"weren't\", 'haunted', 'accents', 'theme', 'family', 'narrative', 'drama', 'helping', 'rachel', 'tune', 'entertain', 'discussion', 'taste', 'directors', 'lisa', 'instantly', 'hotel', 'stupidity', 'satisfying', 'thing', 'lost', 'tell', 'below', 'gentle', 'compelling', 'm', 'duke', 'things', 'claims', 'gray', 'concept', 'appreciated', 'pushing', 'attacked', 'meeting', 'idiots', 'contrived', 'determined', 'horribly', 'myself', 'possible', 'struck', 'wwii', 'popcorn', 'walking', \"50's\", 'hunting', 'sun', 'assume', \"won't\", 'area', 'episode', 'serves', 'small', 'existed', 'forest', 'angels', 'push', 'admittedly', 'should', 'de', 'convincing', \"shouldn't\", 'stephen', 'size', 'gotten', 'teacher', \"today's\", 'identify', 'bed', 'begin', 'riding', 'neil', '18', 'create', 'staged', 'granted', 'sam', 'turned', 'pride', 'plot', 'caught', 'random', 'loose', 'hilarious', 'movie', 'joey', 'glenn', 'timothy', 'appearances', 'language', 'purely', 'liked', 'youth', 'named', 'for', 'killed', 'animals', 'music', 'minimal', 'germany', 'silly', 'subtitles', 'believes', 'rape', 'whilst', 'kinds', 'examples', 'doo', 'robots', 'practically', 'central', 'flat', 'skill', 'struggles', 'early', 'stayed', 'tries', 'plain', 'broadcast', 'tea', 'something', 'pleasant', 'maria', 'felt', 'strike', 'insane', 'degree', 'mine', 'cup', 'spoiler', 'lacked', 'believed', 'jet', 'rob', 'honest', 'perhaps', 'drugs', 'ass', 'vision', 'till', 'screaming', 'acceptable', 'alas', 'spin', 'godfather', 'ask', 'can', 'true', 'involving', 'reference', 'shakespeare', 'uk', 'problem', 'justice', 'cardboard', 'knife', 'jail', 'sight', 'opportunity', 'walter', 'texas', 'beach', 'witty', 'admit', 'o', 'physically', 'give', 'dad', 'living', 'clues', 'forgive', 'jobs', 'kid', 'understood', 'fox', 'ratings', 'sorts', 'grown', 'crowd', 'historical', 'novel', 'carrying', 'students', 'naive', 'whereas', 'experiences', 'wonders', 'scooby', 'wish', 'mgm', 'price', 'exactly', 'thin', 'eva', 'environment', 'colour', 're', 'fame', 'jones', 'packed', 'among', 'painful', 'whatever', 'theater', 'ashamed', 'up', 'matters', 'left', 'established', 'ward', 'convinced', 'planet', 'explanation', 'sympathy', 'witch', 'real', 'rid', 'brothers', 'princess', 'working', 'premise', '100', 'soft', 'pleasure', 'top', 'turning', 'none', 'pushed', 'stick', 'reasonably', 'swear', 'reveal', 'joan', 'minor', 'mission', 'editing', 'tale', 'starts', 'successfully', 'songs', 'enough', 'accidentally', 'japanese', 'gary', 'birth', 'sexually', 'chuck', \"hasn't\", 'store', 'sad', 'bucks', 'painfully', 'imagined', 'conversation', 'works', 'dance', 'sin', 'starred', 'darker', \"90's\", 'attempt', 'watching', 'truly', 'shy', 'smoke', 'cutting', 'discover', 'treatment', 'animated', 'behind', 'once', 'powerful', 'chief', 'acted', 'soon', 'awkward', 'foster', 'falling', 'line', 'fatal', 'effort', 'bugs', \"he's\", 'other', 'several', 'least', 'encounters', 'proved', 'bollywood', 'given', 'relate', 'jim', 'reminds', 'jumps', 'animal', 'bar', 'forth', 'humour', 'awesome', 'role', 'why', 'description', 'network', 'literally', 'streets', 'sounds', 'absolutely', 'actress', 'talented', 'wanted', 'guy', 'serve', 'tortured', 'eat', 'yes', 'matter', 'elizabeth', 'los', 'admire', 'account', 'santa', 'saves', \"don't\", 'kiss', 'missed', 'italy', 'otherwise', 'appreciate', 'buy', 'holding', 'violence', 'gets', 'pretentious', 'james', \"'s\", 'singer', 'gay', 'any', 'whatsoever', 'quick', 'eyes', '17', 'depicted', 'handful', 'cuts', 'returning', 'allowing', 'happily', 'breasts', 'against', 'angry', 'weight', 'pile', 'danger', 'worried', 'forgot', 'opening', 'cox', 'escapes', 'full', 'lover', 'some', 'entertained', 'hide', 'amongst', 'nominated', 'disbelief', 'tour', 'handsome', 'albeit', 'rented', 'what', 'andrews', 'freeman', 'torn', 'partly', 'theatrical', 'goofy', 'hurt', 'attraction', 'beast', 'belongs', 'train', 'images', 'various', 'round', 'regard', 'nazi', 'production', 'strength', 'alan', 'eating', 'william', 'prove', '2005', 'warner', 'rescue', 'study', 'exciting', 'section', 'reputation', 'joy', 'extraordinary', 'frustrated', 'listen', 'player', 'portraying', 'connection', 'adventures', 'hill', 'normally', 'happened', 'jackie', 'friends', 'arts', 'uninspired', 'propaganda', 'bad', 'across', 'smooth', 'directed', 'insight', 'involvement', 'or', 'convoluted', 'countries', 'laughable', 'ways', 'sticks', 'game', 'appeared', 'contained', 'anderson', 'root', 'stereotypical', 'corpse', 'love', 'overwhelming', 'russell', 'means', 'ken', 'tone', 'co', 'feel', 'dawson', 'response', 'zero', 'demon', 'anne', 'saved', 'dvd', 'boss', 'sub', 'summary', 'five', 'comedic', 'characters', 'homage', 'actors', 'simple', 'suggest', 'manage', 'episodes', 'tight', 'live', 'america', 'tim', 'ease', 'bleak', 'ray', 'burton', 'larger', 'day', 'board', 'large', 'cut', 'flashback', 'impression', 'distant', 'persona', 'his', 'metal', 'wilson', 'mr', 'commit', 'life', 'describe', 'box', 'spoof', 'united', 'lane', 'per', 'appears', 'school', 'filmed', 'mrs', 'so', 'refuses', 'somewhat', 'the', 'rip', 'murderer', '11', 'hate', 'awful', 'powers', 'screenwriter', 'highly', 'heavy', 'never', 'hear', 'larry', 'club', 'knows', 'allow', 'child', 'poster', 'noise', 'humorous', 'table', 'both', 'follow', 'timing', 'players', 'psychotic', 'deep', 'constant', 'trade', 'sweet', 'moment', 'laughs', 'impossible', 'saturday', 'girl', \"you're\", 'single', 'dress', 'safe', 'ripped', 'breathtaking', 'hole', 'dislike', 'along', 'grand', 'temple', 'hollywood', 'draws', 'dorothy', 'direct', 'watched', 'segment', 'fish', 'e', 'paint', 'anna', 'alike', 'won', 'martin', 'harder', 'dreadful', 'buddies', 'gorgeous', 'course', 'drags', 'wanna', 'believe', 'indians', 'marry', 'example', 'dan', 'moral', 'professional', 'proud', 'trick', 'room', 'favorites', 'outstanding', \"haven't\", 'and', 'mafia', 'souls', 'strip', 'variety', 'exaggerated', 'storyline', 'afternoon', 'credible', 'hired', 'fresh', \"would've\", \"i've\", 'doors', 'ad', 'ignored', 'glimpse', 'legs', 'black', 'laugh', 'neither', 'lovable', 'mike', 'think', 'eddie', 'cross', 'ford', 'machines', 'discovers', 'opened', 'capture', 'personality', 'wow', 'soundtrack', 'reunion', 'ability', 'treated', 'good', 'feeling', 'bigger', 'all', 'jerry', 'spirited', 'manhattan', 'medium', 'documentary', 'debut', 'nearly', 'albert', 'costumes', 'stunt', 'dramatic', 'che', 'well', 'walks', 'status', 'dick', 'pitch', 'model', 'hat', 'chain', 'drew', 'beaten', 'beginning', 'michael', 'lion', 'flesh', 'probably', 'un', 'dangerous', 'apparent', 'chases', 'psychological', 'thrown', 'christopher', 'religious', 'thus', 'k', 'soap', 'shirt', 'shame', 'antics', 'creation', 'hence', 'suicide', 'scares', 'virtually', 'art', 'low', 'audience', 'oscar', 'familiar', 'originally', 'call', 'known', 'kicks', 'remarkable', 'flaws', 'focused', \"aren't\", 'audiences', 'amusing', 'holiday', 'ran', 'dressed', 'important', 'raw', 'mindless', 'beat', 'then', 'off', 'porn', 'total', 'memorable', 'dealing', 'guard', 'consequences', 'winter', 'dennis', 'lynch', 'empire', 'promise', 'rose', 'rent', 'types', 'stretch', 'even', 'asian', 'boxing', 'money', 'cage', 'contract', 'performance', 'videos', 'expect', 'asleep', 'titanic', 'doubt', 'obviously', 'fights', 'jamie', 'sign', 'needless', 'cold', 'side', 'imaginative', 'sarah', 'suited', 'fire', 'indie', 'expressions', 'screams', 'details', 'vhs', 'witness', 'crafted', 'seek', 'sequences', 'endless', 'returned', 'par', 'pair', 'slow', 'essentially', 'currently', 'decent', 'games', 'lying', 'limited', 'outcome', 'leaving', 'tiny', 'spending', 'base', '15', \"you'll\", 'curious', 'cook', 'shocked', 'before', 'convince', 'followed', 'nice', 'fbi', 'stereotypes', 'attractive', 'spoken', 'memories', 'sinatra', 'pet', 'mixed', 'worked', 'rogers', 'hooked', 'prince', 'elvira', 'sends', 'hearted', 'enjoy', 'race', \"people's\", 'families', 'creators', 'composed', 'initially', 'play', 'hang', 'building', 'everything', 'twin', 'veteran', 'main', 'unfortunately', 'friendly', 'heart', 'shocking', 'accepted', 'kelly', 'ready', 'twenty', 'mary', 'deeply', 'bullets', 'escaped', 'revealed', 'own', 'attitude', 'tied', 'ed', 'row', 'star', 'color', 'season', 'criminal', 'includes', 'jessica', 'welles', '0', 'foreign', 'forgotten', 'perspective', 'bear', 'around', 'points', 'introduction', 'shop', 'matthew', 'crying', 'nuclear', 'young', 'girls', 'fans', 'increasingly', 'freedom', 'behavior', 'be', 'presumably', 'uninteresting', 'job', 'pass', 'messages', 'hardy', 'army', 'pictures', 'park', 'horse', 'many', 'desperately', 'bin', 'originality', 'figure', 'glover', 'sympathetic', 'heard', 'its', 'substance', 'tradition', 'we', 'aspect', 'guilty', '6', 'destruction', 'learns', 'turns', 'contain', 'fellow', 'house', 'roberts', 'manages', 'animation', 'charisma', 'mention', 'shoot', 'sing', 'scared', 'band', 'disney', 'quote', 'sinister', 'back', 'credits', 'upper', 'broke', 'underground', 'builds', 'more', 'henry', 'develop', 'glass', 'adding', 'br', 'supernatural', 'uncle', 'agent', 'judge', 'rush', 'margaret', 'have', 'buried', 'east', 'burn', 'places', 'brief', 'mess', 'standing', 'stomach', 'tracy', 'guessing', 'competent', 'stan', 'despite', 'aspects', 'slowly', 'mass', 'depression', 'guns', 'trip', 'korean', 'lovers', 'roles', 'budget', 'triumph', 'lame', 'reminiscent', 'crazy', '24', 'fest', 'freddy', 'unable', 'flashbacks', 'league', 'hatred', 'scare', 'group', 'those', 'brand', 'spent', 'until', 'sea', 'imagination', 'ends', 'bloody', 'teenage', 'ireland', 'wood', 'splendid', 'partner', 'scripts', 'rubbish', 'following', 'someone', 'ego', 'mouth', 'scott', 'mirror', 'created', 'fabulous', 'tedious', 'scientific', 'cooper', 'dancer', 'mask', 'victim', 'notorious', 'mad', 'finding', 'available', 'send', 'tough', 'sacrifice', 'curtis', 'driven', 'j', 'alien', 'complete', 'carol', 'crappy', 'saying', 'everybody', 'jewish', 'wise', 'moore', 'hype', 'folk', 'von', 'generation', 'nowadays', 'emotionally', 'original', 'nature', 'station', 'went', 'long', 'based', 'silent', 'driving', 'sexuality', 'expecting', 'tremendous', 'led', 'answers', 'devil', 'chan', 'holds', 'threatening', 'pull', 'greatly', 'mst3k', 'madness', 'friendship', 'personal', 'atrocious', 'ensemble', 'sharp', 'jesse', 'mistake', 'cheesy', 'edge', 'dollar', 'regardless', 'next', 'consider', 'strange', 'prime', 'alexander', 'spirit', 'collection', 'navy', 'stands', 'incoherent', 'steve', 'recently', 'lacking', 'murder', 'source', 'roll', 'character', 'way', 'offers', 'honor', 'boll', 'manager', 'usa', 'mexico', 'harsh', 'previous', 'heston', 'ugly', 'media', 'issue', 'reasons', 'between', 'pretend', 'greek', 'taken', 'happen', 'local', 'burned', 'dimensional', 'britain', 'rule', 'flawed', 'facts', 'frightening', 'perfection', 'genuinely', 'exact', 'suffer', \"director's\", 'denzel', \"he'd\", 'stranger', 'intellectual', 'check', 'dies', 'stage', 'ultra', 'weekend', 'correct', 'murphy', 'davis', 'bone', 'talk', 'shape', 'grow', 'great', 'fairy', 'courage', 'poignant', 'entirely', 'scripted', 'lonely', 'adaptation', 'dave', 'areas', 'wing', 'worker', 'show', \"70's\", 'relationship', 'humans', 'halfway', 'wonderful', 'terrific', 'demons', 'essence', 'thomas', 'warned', 'innovative', 'hiding', 'filmmakers', 'critic', 'annie', 'movements', 'sings', 'carpenter', 'that', 'share', 'dancing', 'keeping', 'murdered', 'jack', 'landscape', 'handle', 'bring', 'detective', 'loved', 'business', 'contemporary', 'legend', 'brad', 'gordon', 'last', 'remake', 'further', \"father's\", 'anybody', 'urban', 'fancy', 'use', 'feels', 'award', 'clear', 'rochester', 'bruce', 'jeremy', 'losing', 'became', 'bland', 'cameos', 'solid', 'gradually', 'location', 'wide', 'fighting', 'ended', 'chosen', 'doctor', 'specific', 'nightmare', 'q', 'finds', 'modern', 'bright', 'stewart', 'successful', '40', 'abc', 'over', 'erotic', 'wonderfully', 'unlikely', 'anymore', 'fortune', 'path', 'psychiatrist', 'flynn', 'desert', 'r', 'current', 'shortly', 'rage', 'wolf', 'reviews', 'cool', 'save', 'genius', 'promising', 'series', 'throughout', 'replaced', 'formula', 'drawing', 'extras', 'magic', 'conclusion', 'cases', 'certainly', 'charming', 'rings', 'key', 'performing', 'this', 'perfect', 'are', 'robot', 'drunk', 'commentary', 'dragon', 'visit', 'pack', 'dirty', 'trite', 'scene', 'explosions', 'short', 'ghost', 'old', 'close', 'steven', 'learned', 'delivered', 'air', 'costs', 'festival', 'huh', 'arthur', 'amateurish', \"who's\", 'seconds', 'fears', 's', 'complain', '60s', 'liners', 'achievement', 'pre', 'excited', 'stealing', 'chance', 'talking', 'hopefully', 'colors', 'covers', 'greater'}\n"
          ]
        }
      ]
    },
    {
      "cell_type": "markdown",
      "source": [
        "Run it all"
      ],
      "metadata": {
        "id": "wVd1HEgZYZxz"
      }
    },
    {
      "cell_type": "code",
      "execution_count": null,
      "metadata": {
        "colab": {
          "base_uri": "https://localhost:8080/",
          "height": 453
        },
        "id": "pcMAfMSt4W5v",
        "outputId": "461da6cc-d4c8-4b65-951a-cb7574e57353"
      },
      "outputs": [
        {
          "output_type": "stream",
          "name": "stdout",
          "text": [
            "25000\n",
            "hello let's start\n",
            "[script 0.3366060565807609, making 0.33659591775813963, since 0.3365957909857916, far 0.3365943694419989, anything 0.3365918453771541, bit 0.33658169057053244, feel 0.3365800229961272, is 0.336571646998787, last 0.33656189135622294, isn't 0.336548249801569, role 0.3365427898808765, probably 0.3365064280801708, gets 0.33648882256109003, interesting 0.3364760748189493, point 0.3364681180103855, might 0.3364673777563673, away 0.3364313880200584, whole 0.3364186880303411, minutes 0.3363875914987499, done 0.33637594525363157, almost 0.33636193821255256, sure 0.33630616999331064, may 0.33626951913374364, hard 0.33626719918047443, always 0.33625272971172193, this 0.3362444835448672, there's 0.33615636113620234, young 0.3361533863585179, original 0.3361354210765823, comedy 0.3361247649397312, least 0.3360993077263084, both 0.33602087954999316, between 0.33596561502493005, must 0.33593709496332697, i've 0.3359020932516833, action 0.33589848477429557, own 0.33589617737522004, saw 0.3358902380381063, us 0.3358782890442096, kind 0.33586530762769207, music 0.33586530762769207, am 0.33580357016803813, right 0.33579834326704067, anyone 0.3357681452027544, that's 0.3357341752586355, world 0.3357210644551365, performance 0.3357171920188636, big 0.33567445203931856, especially 0.3356722513778385, yet 0.33565701046845076, worst 0.3356416389087048, times 0.3356404694901929, rather 0.3356261365166373, 2 0.3355868069481299, come 0.3355778628620481, without 0.33552789647795794, found 0.3354298362311683, day 0.3352330485829636, believe 0.33515744382326385, having 0.3350993123319883, enough 0.3350632394336084, although 0.3349691353483951, course 0.33490709199895163, guy 0.3348756033138772, seems 0.33478858145382023, looking 0.3347245171625829, trying 0.3347245171625829, pretty 0.3347049897706442, comes 0.3346912504524359, thought 0.3346672868535634, goes 0.33461239810325905, put 0.33449675053694794, long 0.3344737224355608, however 0.33433326134990166, give 0.33427182281115214, set 0.33425476918327524, fun 0.334242293341194, in 0.33420964397158626, played 0.3341411858871532, fact 0.3341149940587635, around 0.33397536846633685, take 0.33395358407171316, screen 0.3339186070054243, family 0.3339186070054243, things 0.3338434546369165, worth 0.33376893836596955, horror 0.33371340490525914, once 0.3336431527166554, can't 0.33358257839054906, got 0.333570998098221, place 0.33348531500005396, tv 0.3334561301605794, quite 0.3334186652938829, each 0.333247612641139, girl 0.33320196427421345, reason 0.33293679688550715, he's 0.3328888503762275, everything 0.33275929154487116, down 0.3326732318097372, want 0.332581808290984, woman 0.3325265721829636, looks 0.33235563898042814, funny 0.3321659798449228, maybe 0.33198377586905686, sense 0.3319656286206834, watched 0.3319474411940961, together 0.3318742891138099, true 0.33180049181146964, money 0.33155617144774663, part 0.33150207777906077, different 0.3314217600562315, ending 0.33122625214584767, takes 0.33120647441864703, wasn't 0.33100641595859553, said 0.3309659049463924, actor 0.33088438161629086, seem 0.33088438161629086, new 0.33087558805933803, instead 0.3308021882157756, someone 0.3308021882157756, cast 0.33079896094093064, job 0.3307608396136896, shows 0.33071932274249366, series 0.3306776373506421, main 0.3306567313807247, again 0.33047244696523354, seeing 0.3302731727656866, year 0.3302731727656866, lot 0.3301384514031027, plays 0.3300541048168799, dvd 0.32971740742603817, every 0.3295987355541051, everyone 0.3294176695248043, our 0.32934744485760115, same 0.32917797504753493, high 0.32901446192655653, show 0.3290068453918643, left 0.3289661812378805, later 0.32889342498362906, during 0.3288446969350716, three 0.3284985613587044, 10 0.32834206656181714, going 0.32819922695783665, beautiful 0.3281435392632534, effects 0.3281435392632534, find 0.328127434910126, himself 0.3280920908049255, director 0.32794687443070053, mind 0.32788445814679373, special 0.32770035553568966, 1 0.32759413327563447, excellent 0.3274871657608809, else 0.3274334018102183, nothing 0.3273215482532384, didn't 0.32722811623719866, audience 0.3271891434475423, few 0.3271718775360133, actually 0.32709668376137946, idea 0.3270241856016034, look 0.3270023568170135, old 0.32664054393958925, less 0.32637598751642233, half 0.32614457327609986, play 0.32611542860857007, work 0.32560355764931076, night 0.32558248591589223, second 0.32555241228378495, shot 0.325218341209329, makes 0.3251208451723266, simply 0.32494053854750266, nice 0.3247530854129302, actors 0.3244648061014345, either 0.3243727369119315, though 0.3240896501352062, try 0.32401766009844424, used 0.3238870067289872, before 0.3238793479701026, fan 0.3237884770176795, american 0.3237884770176795, another 0.32371014625683814, rest 0.323623229539608, completely 0.32355676862296906, doesn't 0.32354009633113523, top 0.3232213475615569, years 0.3230897139771172, given 0.3230857184788665, performances 0.3229834463953508, help 0.32281194137026414, i'm 0.3227209192879219, enjoy 0.32256961705680953, along 0.3225347873805418, line 0.32249990459500755, until 0.32249990459500755, it 0.32243639439276145, read 0.32221892515237266, poor 0.32193452155362673, you're 0.32186288298842114, star 0.32186288298842114, recommend 0.3217910286485174, real 0.3216597351727263, wrong 0.32146500434924, need 0.321428507848383, now 0.32132220471470674, use 0.3213186912827416, 3 0.3212083831740771, thing 0.32114105667576825, john 0.3209862874309836, wife 0.3208744973371127, full 0.32076221078128614, short 0.320193287481491, those 0.32010766113409467, classic 0.3198847199642754, man 0.31966410144518115, came 0.3195332676405078, home 0.31949393400468523, truly 0.31937559180056707, low 0.31937559180056707, start 0.31933603047352843, tell 0.31929641210345067, to 0.3191373672275694, scene 0.3191215291218728, watching 0.3187404996249295, death 0.31861412527419514, next 0.31861412527419514, boring 0.31836933405645224, let 0.3180396837480803, why 0.31765338494059037, friends 0.3173266886803392, keep 0.3171137241569845, couple 0.3170709522524409, scenes 0.31666836052661096, production 0.3166399363758898, black 0.3166399363758898, budget 0.3166399363758898, stars 0.31655301118766005, written 0.316509458002358, camera 0.31637843545154254, perhaps 0.31633464009419116, mean 0.3162468673023532, back 0.3161443562331633, understand 0.3158933406673764, doing 0.3158488749700588, dead 0.3158488749700588, hollywood 0.3158488749700588, remember 0.3157597597424084, awful 0.3156256265132732, small 0.3155807924516591, wonderful 0.31549093952693785, moments 0.3153104929562161, others 0.3152652266800797, book 0.3151290558603239, getting 0.3151290558603239, version 0.3150835414079462, through 0.314673249952136, gives 0.31462496787344124, definitely 0.31425359495164973, house 0.3141601210524425, face 0.31406639398845293, playing 0.31392532772214354, such 0.31392490615788343, should 0.31353456985950395, itself 0.3134986898163962, often 0.3131632736111049, name 0.3130185576168613, something 0.312905483982937, absolutely 0.3128732596480336, finally 0.3127760702398546, piece 0.31238470969316645, video 0.31223687157659363, become 0.31223687157659363, while 0.31197821909853257, couldn't 0.3118397456423723, these 0.31165765805385015, early 0.31153912740516476, perfect 0.3114887921633437, stupid 0.3112867855391455, style 0.31123611716461896, men 0.31123611716461896, live 0.311185381980703, entertaining 0.31072574878487186, father 0.31062286798755623, lines 0.3105197169945682, dialogue 0.3104680400191585, case 0.31036448279865636, terrible 0.3103126024285575, head 0.31015655352696336, overall 0.31005218047144284, lost 0.30989510894568173, go 0.30948721298359694, went 0.3092606471516066, person 0.3092073270979591, here 0.3091015796810576, yes 0.3091004791470415, supposed 0.30888595005738767, felt 0.30888595005738767, certainly 0.30888595005738767, based 0.30883214382530677, waste 0.3087782678790821, hope 0.3086162211020325, liked 0.3086162211020325, beginning 0.3085078401468383, title 0.30823565972486916, entire 0.3081810125919942, called 0.30746415970164637, your 0.3073175576480938, direction 0.30724116967374776, sort 0.30718524321844803, of 0.30718524321844803, worse 0.3070170332866074, several 0.3069045338433323, throughout 0.306848176069416, human 0.306622023019633, against 0.306622023019633, under 0.30605156247859666, women 0.30582133537808204, kids 0.3057635953244938, loved 0.3055899341637992, already 0.30535735429719796, unfortunately 0.30535735429719796, say 0.3052994193858438, school 0.30524062094342147, problem 0.3050649650251125, turn 0.3048886403142159, picture 0.30482971645296403, oh 0.3042363628470215, example 0.30417661437849125, laugh 0.3034537300020753, becomes 0.30339299548166565, wanted 0.30339299548166565, despite 0.30339299548166565, care 0.3033321845876423, sex 0.3032103333771711, guess 0.3030881757663093, lives 0.3026582024551908, still 0.30259763252746563, love 0.302332825370145, fans 0.30172404485585724, drama 0.30159816259996075, i'd 0.3015351035989838, close 0.3013454541566132, 4 0.301091482915663, cinema 0.3010277921969214, lead 0.30096402215510215, 5 0.30077223528988867, seemed 0.3006439792930564, final 0.30032194128915685, fine 0.3002572933805925, friend 0.30019256517955917, writing 0.30012775660441715, war 0.30012775660441715, boy 0.29999789800457705, days 0.2998677169252746, works 0.2995408490562503, quality 0.2994095341032562, end 0.29938317269537046, turns 0.29934375462194135, able 0.29914592715748767, does 0.2990816059794503, enjoyed 0.29901363382696683, behind 0.29894736440357356, you'll 0.2988145796193494, totally 0.2987480640896288, life 0.29820345574483637, white 0.2980783735030043, dark 0.2980783735030043, wants 0.2980109490357868, tries 0.2977404188507916, heart 0.2976725777925577, films 0.297533759988123, gave 0.2971268331658502, directed 0.2971268331658502, amazing 0.29685194095435147, better 0.29673848476781906, past 0.29664488345288725, won't 0.2965756946032526, sound 0.29650642076358197, side 0.29643706184436874, off 0.29633932556602655, thinking 0.2961587735765633, late 0.2960191166268954, history 0.29573877347551175, humor 0.29559808581807256, run 0.29559808581807256, hand 0.29545705313144666, character 0.2952906827363125, favorite 0.29524485556504043, parts 0.29453187963296096, she's 0.29438823564725447, starts 0.29438823564725447, obviously 0.29438823564725447, soon 0.29424424030931096, highly 0.2939551925486059, expect 0.2939551925486059, myself 0.29381013860508937, flick 0.29366473026779705, where 0.29345541204424574, themselves 0.29344595159465336, evil 0.29344595159465336, act 0.29337284734057395, viewer 0.29322637120814005, did 0.29295442465917243, eyes 0.29285861520424983, over 0.29260920500198984, they're 0.2925627935518594, actress 0.29233998002455797, anyway 0.2922655278859772, know 0.29207443463487404, hour 0.29204162719152515, except 0.2919668118682532, sometimes 0.2919668118682532, matter 0.29174181922268494, stuff 0.2916666391142709, genre 0.29159136755813375, ever 0.2912536693622525, decent 0.2910618976264572, brilliant 0.2909858908390486, heard 0.2909858908390486, self 0.29090979168875136, feeling 0.29090979168875136, b 0.29075731588881465, mother 0.29045125140622696, etc 0.2903745028316757, little 0.2901434346023495, kill 0.2899893600352068, roles 0.28975715065148033, took 0.2895240950160478, guys 0.2894462212545095, type 0.2893682530410914, leave 0.28905543353544194, children 0.28905543353544194, horrible 0.28905543353544194, stop 0.2886622711454627, slow 0.28858335252203926, best 0.28829062477221784, involved 0.28818732270818703, known 0.2878687682621814, coming 0.2877089117555015, episode 0.2876288382942379, obvious 0.2874684004006108, art 0.28730757380268807, cannot 0.2870656031278026, wouldn't 0.28682275282183456, happens 0.2867416067194751, ago 0.28657901983393247, particularly 0.28657901983393247, wonder 0.28657901983393247, chance 0.28649757882322213, writer 0.28641603928183135, experience 0.28641603928183135, including 0.2862526641495113, that 0.2861959958059369, age 0.2861708283292749, none 0.2861708283292749, two 0.2861312543001393, moment 0.28608889351974287, complete 0.28592472647170625, told 0.2858424940020937, happened 0.2858424940020937, child 0.2857601620809684, strong 0.2856777305922086, interest 0.2852640755535854, mr 0.2852640755535854, extremely 0.2851810442076115, alone 0.2851810442076115, lack 0.28509791247471233, says 0.28459700732918153, plot 0.2845398865514414, attempt 0.2844292304765602, happen 0.2844292304765602, never 0.2843443533479328, living 0.284092458323197, being 0.2839202084509753, cinematography 0.28383880926956406, characters 0.2835607994876058, score 0.2834140131585992, hit 0.2834140131585992, taken 0.2834140131585992, possible 0.28315790149810366, save 0.28281497272387257, many 0.2826766447855042, son 0.2822974636239768, michael 0.2822974636239768, exactly 0.28212412566368456, killed 0.28195036855702466, simple 0.28168894477402806, killer 0.28133890320013694, looked 0.2809871666161826, somewhat 0.2809871666161826, him 0.28093324134730535, yourself 0.2808989666539862, hell 0.2808106601050535, fight 0.2808106601050535, seriously 0.28072224683878144, stories 0.2805450996304392, i'll 0.280456365425793, car 0.280456365425793, released 0.28036752397865267, town 0.2802785751570393, serious 0.28018951882869686, taking 0.27992170347653766, usually 0.27983221579312106, sad 0.27983221579312106, opening 0.27974261993749217, across 0.27974261993749217, please 0.27965291577570817, running 0.2794731819964812, ends 0.2794731819964812, middle 0.2792930133781967, hilarious 0.2792027656665148, she 0.2791136725646343, its 0.2790804962305313, violence 0.27902194275976117, cut 0.27902194275976117, annoying 0.27874988764751163, started 0.27865898319584737, voice 0.278567968808279, usual 0.278567968808279, ridiculous 0.2784768443470967, wish 0.2784768443470967, group 0.2784768443470967, career 0.2782942646515624, crap 0.2782942646515624, kid 0.2782942646515624, opinion 0.2781112430016112, light 0.2781112430016112, shown 0.27801956609628453, change 0.27783587942740556, level 0.27783587942740556, blood 0.27774386938393586, turned 0.27765174801399434, saying 0.2775595151768604, ok 0.2774671707315072, city 0.2773747145366008, huge 0.2770966740365808, hours 0.2770037694239294, call 0.2769107523504039, mostly 0.27681762267280247, disappointed 0.276631024930993, view 0.27644397504657614, god 0.27616254992019723, whose 0.2759743646061165, film's 0.2759743646061165, happy 0.27588010094190746, talent 0.27578572307739735, today 0.2755966241589456, due 0.27531211559208413, basically 0.27531211559208413, single 0.27521704942620584, ones 0.275121868023754, non 0.27483563090158974, attention 0.27473998705579444, and 0.27464422722321385, important 0.27464422722321385, order 0.2745483512527892, word 0.2745483512527892, finds 0.2745483512527892, 7 0.2742600249987307, number 0.27416368295949084, talking 0.27416368295949084, seen 0.2740024812963552, a 0.27368021622122823, apparently 0.2734860069332294, cool 0.2734860069332294, movies 0.2734305427632702, knew 0.2733887254005405, aren't 0.2733887254005405, acting 0.2732285067192762, supporting 0.27319380777981356, easily 0.27309617137951475, female 0.2727044381855601, clearly 0.2724093869004589, words 0.2724093869004589, beyond 0.2724093869004589, bring 0.2723107972663927, daughter 0.27221208776379185, 8 0.2721132582326899, major 0.2721132582326899, rating 0.27201430851274594, knows 0.27201430851274594, girls 0.2719152384432457, fast 0.2718160478630994, murder 0.2715177514422186, silly 0.27121836458993565, body 0.27101816538282764, relationship 0.27101816538282764, strange 0.2709178828951645, shots 0.27081747826499664, giving 0.27061630191550773, reality 0.27041463500715124, entertainment 0.27041463500715124, sets 0.27031361717691704, james 0.27031361717691704, moving 0.2702124762063957, five 0.2702124762063957, think 0.2701876498429298, similar 0.27011121192790044, cheap 0.27000982417334396, whether 0.26990831277423694, upon 0.2698066775616856, enjoyable 0.26970491836639116, english 0.26970491836639116, falls 0.2695010273483438, watch 0.26937370830514457, modern 0.26929663835754336, police 0.2691942566947651, brother 0.2689891181756427, add 0.2689891181756427, above 0.2688863609745254, tells 0.26837068862016455, near 0.26837068862016455, predictable 0.26837068862016455, appears 0.26837068862016455, robert 0.2681635361270831, needs 0.2681635361270831, problems 0.2679558766420626, gore 0.26785185633624825, events 0.26785185633624825, room 0.2677477087519884, miss 0.2675390310367869, scary 0.26722505541819347, surprised 0.2671201404156001, s 0.2669099246342006, hero 0.2668046234932857, haven't 0.2668046234932857, future 0.26669919327673686, we 0.2666182775322308, song 0.2665936338023692, straight 0.2663821263491646, within 0.26627617800367553, local 0.26627617800367553, mention 0.266170099667062, jokes 0.2660638911548466, nearly 0.2660638911548466, stand 0.2658510828633775, four 0.2658510828633775, review 0.26574448271284234, class 0.26563775164413755, ways 0.26563775164413755, country 0.26553088947044856, working 0.2654238960044865, power 0.26510212597295096, david 0.2649946054554936, them 0.26491159456483215, ten 0.26488695270216384, easy 0.2642382485455049, husband 0.2641296647891016, using 0.2640209472617911, thriller 0.2639120957694662, eye 0.26369399011083666, bunch 0.2635847355538021, avoid 0.2635847355538021, effort 0.2635847355538021, talk 0.2635847355538021, television 0.2634753462502898, stay 0.2633658220036656, feels 0.2631463678919815, showing 0.2630364376310859, then 0.2629955524896292, points 0.2629263716354029, clear 0.2629263716354029, fall 0.2628161697057193, sorry 0.26270583164229944, among 0.26270583164229944, storyline 0.26270583164229944, game 0.2621520922916326, follow 0.2621520922916326, comic 0.26192963656542634, fantastic 0.26192963656542634, what's 0.26159491933348944, begins 0.26159491933348944, doubt 0.2614830704650636, minute 0.2613710830245956, actual 0.26125895680537015, dull 0.26114669160011933, form 0.2610342872010218, tried 0.26092174339969787, theater 0.26092174339969787, means 0.26092174339969787, typical 0.2608090599872097, sequence 0.2606962367540574, buy 0.2606962367540574, too 0.26059468217733583, certain 0.2604701699849408, gone 0.2603569260271489, lots 0.2603569260271489, feature 0.260243541405033, viewers 0.260243541405033, editing 0.260243541405033, filmed 0.260243541405033, material 0.2600163493178848, elements 0.2600163493178848, comments 0.2600163493178848, kept 0.2600163493178848, viewing 0.2600163493178848, mystery 0.25990254142643954, songs 0.25990254142643954, brought 0.25978859201783944, somehow 0.25978859201783944, hate 0.25978859201783944, theme 0.2596745008774251, imagine 0.25956026778995267, leads 0.25933137490991737, die 0.259101911643984, period 0.259101911643984, famous 0.2589869655719074, particular 0.2589869655719074, i 0.2589452276336393, any 0.25891084025044464, musical 0.2588718762488813, herself 0.2588718762488813, release 0.2588718762488813, romantic 0.2587566434554961, re 0.2587566434554961, whatever 0.2587566434554961, figure 0.2587566434554961, after 0.2585669168998158, sit 0.25841008204999216, soundtrack 0.2580622214541073, hear 0.2579459781735693, 9 0.2575963759456713, named 0.2575963759456713, forget 0.2573625785477917, message 0.2573625785477917, weak 0.2572454603945309, deal 0.2572454603945309, move 0.2572454603945309, british 0.25701078403875693, wait 0.2567755194223275, decided 0.2565396647021783, note 0.2565396647021783, believable 0.2565396647021783, novel 0.2565396647021783, rent 0.2565396647021783, possibly 0.25642151547439385, oscar 0.25642151547439385, richard 0.25630321802478623, expected 0.25630321802478623, third 0.25630321802478623, tale 0.25630321802478623, dialog 0.25618477212001634, eventually 0.25618477212001634, earth 0.25618477212001634, could 0.2556748384674617, greatest 0.2555903075551273, general 0.25535147430115257, unless 0.25535147430115257, premise 0.25523183227443347, check 0.25511203966221363, atmosphere 0.2549920962243692, indeed 0.2549920962243692, bad 0.2549166213972858, realistic 0.25487200172008173, average 0.2546313585454097, otherwise 0.25451080938988446, lame 0.25402708995350676, george 0.2539057781637728, free 0.2539057781637728, leaves 0.25366269453955526, difficult 0.2535409222084577, suspense 0.2535409222084577, acted 0.25341899586573924, episodes 0.25341899586573924, reading 0.2532969152612571, became 0.2531746801441304, surprise 0.25268418950544835, sequences 0.25268418950544835, learn 0.2525611780357333, paul 0.2525611780357333, needed 0.2525611780357333, you've 0.2525611780357333, reviews 0.25243801053235354, nor 0.2523146867391509, begin 0.2523146867391509, forward 0.25206756925481044, poorly 0.25206756925481044, sequel 0.2518198235180425, forced 0.2514470223924578, write 0.2514470223924578, okay 0.25132243896618073, 20 0.25132243896618073, screenplay 0.2511976969097041, credits 0.2511976969097041, superb 0.251072795959034, meets 0.251072795959034, memorable 0.2509477358493734, documentary 0.25082251631511815, realize 0.2504458984965424, killing 0.25019401792174617, who's 0.25019401792174617, way 0.24998370890698451, earlier 0.24994149320453568, sister 0.24981498861358742, subject 0.24981498861358742, question 0.24968832217063092, interested 0.24943450263227218, lady 0.24930734898653018, deep 0.24930734898653018, shame 0.24930734898653018, crime 0.2491800323880915, york 0.24892490922298205, imdb 0.24866913090796666, result 0.24866913090796666, setting 0.24854099536886315, keeps 0.24854099536886315, situation 0.24841269520006382, parents 0.24828423011898576, team 0.24828423011898576, laughs 0.24828423011898576, let's 0.2481555998421529, meet 0.24802680408519406, quickly 0.24802680408519406, whom 0.24802680408519406, romance 0.24789784256283603, directing 0.24789784256283603, comment 0.24789784256283603, sounds 0.24776871498890074, worked 0.24776871498890074, brings 0.24750996053703161, badly 0.24738033308217466, hands 0.2472505384218852, perfectly 0.2472505384218852, older 0.2472505384218852, apart 0.2471205762653913, truth 0.2471205762653913, dramatic 0.2471205762653913, mess 0.2471205762653913, ask 0.24699044632098882, total 0.24699044632098882, red 0.24686014829603725, writers 0.24686014829603725, towards 0.24686014829603725, open 0.24686014829603725, admit 0.24686014829603725, nature 0.24672968189695338, make 0.2466019518698721, male 0.24659904682920925, peter 0.24646824279732515, people 0.24646395347536482, development 0.24607481394767733, hot 0.24607481394767733, t 0.24607481394767733, emotional 0.24607481394767733, rate 0.24607481394767733, features 0.24581167776687024, appear 0.24567985369123368, weird 0.24567985369123368, rock 0.24567985369123368, previous 0.24567985369123368, unique 0.24554785855607747, incredibly 0.24528335389317807, personal 0.24528335389317807, masterpiece 0.24515084375592894, deserves 0.2450181613401396, plus 0.2450181613401396, effect 0.2450181613401396, leading 0.24475227844285796, crazy 0.24475227844285796, directors 0.2446190773437838, sexual 0.2444857027309939, jack 0.2444857027309939, background 0.24435215429313178, plenty 0.2440845346915841, potential 0.2440845346915841, telling 0.24395046289998684, king 0.24395046289998684, box 0.24395046289998684, casting 0.24381621602748382, front 0.24381621602748382, air 0.24381621602748382, beauty 0.243681793757488, meant 0.24354719577235012, hardly 0.24341242175335248, fails 0.24341242175335248, pay 0.243277471380705, space 0.243277471380705, recently 0.2431423443335377, reasons 0.2431423443335377, business 0.2431423443335377, street 0.24287155892673745, break 0.24260006294420428, stage 0.24260006294420428, will 0.24256799782917027, french 0.24246404767324042, present 0.24246404767324042, unlike 0.24246404767324042, because 0.24243020458610803, portrayed 0.24205492880864377, create 0.24205492880864377, animation 0.24205492880864377, cheesy 0.24205492880864377, e 0.241918197070853, don't 0.2418446958697883, various 0.24178128538925764, america 0.2415069208610452, missing 0.24123183254526281, agree 0.2410940161248522, fairly 0.2408178370643856, powerful 0.24067947374294457, how 0.240605449401061, plain 0.24054092743779226, great 0.24050222214605677, talented 0.2404021978052523, following 0.24026328450044326, return 0.24012418717727246, attempts 0.24012418717727246, mentioned 0.23998490548842832, sadly 0.23984543908537548, tom 0.23984543908537548, society 0.23970578761834643, success 0.23970578761834643, flat 0.23970578761834643, wrote 0.23942592808709467, inside 0.23942592808709467, creepy 0.23942592808709467, co 0.23942592808709467, further 0.23942592808709467, dream 0.23928571931712062, girlfriend 0.23928571931712062, expecting 0.23928571931712062, mark 0.23914532407165356, outside 0.23900474199466892, era 0.23900474199466892, missed 0.23900474199466892, manages 0.23900474199466892, pure 0.2385818711952296, joke 0.23844053820637162, made 0.23843925402489508, wasted 0.2378733162980354, pace 0.2378733162980354, spoilers 0.2375885662470681, considering 0.2374459051568028, waiting 0.2374459051568028, list 0.23730305286144704, large 0.23730305286144704, filled 0.23716000898787631, produced 0.23701677316159947, hold 0.23701677316159947, compared 0.23701677316159947, rich 0.23687334500674948, ended 0.23687334500674948, ideas 0.2367297241460768, caught 0.2367297241460768, sweet 0.2367297241460768, cute 0.23658591020094183, slightly 0.23658591020094183, first 0.2365854899440935, married 0.2364419027913053, fire 0.2364419027913053, into 0.2364140007817436, familiar 0.23629770153572366, spent 0.23629770153572366, baby 0.2358639308575911, neither 0.2358639308575911, 30 0.2357189503753691, fighting 0.2357189503753691, odd 0.2354284016972282, her 0.23531714438093299, bored 0.235282832719739, popular 0.235282832719739, also 0.23521437579941473, nudity 0.23513706679314245, dance 0.23513706679314245, dumb 0.23484494251325855, uses 0.23484494251325855, decides 0.23469858336655497, copy 0.23469858336655497, value 0.23469858336655497, convincing 0.23469858336655497, sees 0.2344052690647978, twist 0.2344052690647978, moves 0.23425831310726208, laughing 0.23425831310726208, fantasy 0.23411115740775063, incredible 0.23411115740775063, entirely 0.23396380156118446, intelligent 0.2338162451609343, choice 0.2338162451609343, clever 0.2338162451609343, created 0.2338162451609343, william 0.23366848779880983, cold 0.23366848779880983, most 0.23350322522727662, social 0.23337236854832005, dr 0.23337236854832005, dog 0.23337236854832005, biggest 0.2332240058356897, credit 0.2332240058356897, ultimately 0.23307544051263512, public 0.23307544051263512, suddenly 0.23307544051263512, footage 0.23292667216302532, secret 0.23292667216302532, consider 0.23292667216302532, villain 0.23277770036911166, successful 0.23277770036911166, members 0.23262852471152, spend 0.23262852471152, trouble 0.23232956011961242, recommended 0.23232956011961242, 6 0.23232956011961242, battle 0.23217977033832737, sci 0.23217977033832737, fi 0.23202977499940589, follows 0.23202977499940589, recent 0.23202977499940589, 15 0.23202977499940589, runs 0.23187957367519318, language 0.23187957367519318, appreciate 0.23187957367519318, exciting 0.23187957367519318, speak 0.23157855135183877, common 0.23157855135183877, tension 0.231427729488917, amusing 0.231427729488917, state 0.23127669991312488, concept 0.2311254621882752, positive 0.23097401587644226, lee 0.23097401587644226, filmmakers 0.23097401587644226, crew 0.2305184210134992, conclusion 0.23036613593934732, office 0.23021364006214082, impossible 0.23021364006214082, basic 0.23006093293329952, depth 0.2297548831173097, solid 0.2297548831173097, starring 0.22960153952388435, former 0.22960153952388435, de 0.22960153952388435, boys 0.229447982866247, died 0.229447982866247, ' 0.229447982866247, amount 0.229447982866247, respect 0.229447982866247, effective 0.2292942126866322, focus 0.22914022852540256, we're 0.22914022852540256, store 0.22914022852540256, leaving 0.22914022852540256, portrayal 0.22898602992103634, political 0.22898602992103634, cover 0.22898602992103634, do 0.2288668514431189, visual 0.22883161641011746, longer 0.22883161641011746, weren't 0.22883161641011746, escape 0.22867698752732174, violent 0.22867698752732174, pointless 0.22867698752732174, century 0.22867698752732174, been 0.22859503860825492, producers 0.22852214280540506, walk 0.22836708177519316, somewhere 0.22821180396556634, barely 0.22821180396556634, situations 0.22821180396556634, impressive 0.22805630890344866, control 0.22790059611379637, hair 0.22790059611379637, failed 0.22758851544178854, other 0.22757673065993206, rated 0.22743214659938638, younger 0.22743214659938638, honest 0.22743214659938638, decide 0.22727555810932915, considered 0.22727555810932915, party 0.22711874948653674, revenge 0.22711874948653674, showed 0.2269617202438836, gun 0.2269617202438836, bizarre 0.22680446989218328, fit 0.226646997940178, kills 0.226646997940178, heavy 0.226646997940178, remake 0.226646997940178, thanks 0.22648930389452324, touch 0.22633138725977364, force 0.22633138725977364, chemistry 0.22633138725977364, aside 0.22633138725977364, literally 0.22633138725977364, meaning 0.2261732475383712, cop 0.2261732475383712, company 0.2260148842306301, fear 0.22585629683472283, trash 0.22585629683472283, c 0.22569748484666563, charming 0.22553844776030604,  0.22537918506730628, likes 0.22537918506730628, changed 0.22537918506730628, project 0.22537918506730628, makers 0.22521969625712981, glad 0.22521969625712981, generally 0.22521969625712981, get 0.22520707471797446, surprisingly 0.2250599808170271, stick 0.22490003823202043, fair 0.22473986798488826, sick 0.22473986798488826, were 0.22459925916514673, immediately 0.22457946955615155, adult 0.22457946955615155, post 0.22441884242405796, trip 0.22441884242405796, grade 0.22425798606456615, season 0.22425798606456615, knowing 0.22409689995133114, pathetic 0.22409689995133114, sitting 0.223935583555688, accent 0.223935583555688, involving 0.223935583555688, brothers 0.223935583555688, catch 0.22377403634663656, utterly 0.22361225779082516, won 0.22361225779082516, win 0.22345024735253532, values 0.22328800449366504, explain 0.22312552867371246, yeah 0.22312552867371246, personally 0.22312552867371246, tone 0.22312552867371246, bill 0.22296281934975937, cause 0.22296281934975937, water 0.22296281934975937, honestly 0.22296281934975937, tough 0.22296281934975937, doctor 0.22296281934975937, pick 0.2227998759764547, aspect 0.2227998759764547, appearance 0.22263669800599864, purpose 0.22263669800599864, adventure 0.22263669800599864, western 0.22263669800599864, added 0.22247328488812396, bought 0.22230963607007953, garbage 0.22230963607007953, standard 0.22214575099661477, monster 0.22214575099661477, shooting 0.22214575099661477, awesome 0.22214575099661477, loud 0.22198162910995933, spirit 0.22198162910995933, appeal 0.22181726984980782, singing 0.22181726984980782, d 0.22181726984980782, shoot 0.22181726984980782, nowhere 0.22165267265330169, audiences 0.22165267265330169, ability 0.22148783695500962, thinks 0.22115744777838053, natural 0.22115744777838053, beautifully 0.22115744777838053, touching 0.22115744777838053, rare 0.22115744777838053, fake 0.22115744777838053, taste 0.22115744777838053, images 0.22115744777838053, alive 0.2209918931561614, equally 0.2209918931561614, law 0.2209918931561614, questions 0.2203272609723613, disturbing 0.2203272609723613, climax 0.2203272609723613, unbelievable 0.2203272609723613, drawn 0.2201604965896623, mood 0.2201604965896623, twists 0.21999348849754619, likely 0.21999348849754619, ex 0.2198262361038446, genius 0.2198262361038446, bottom 0.21965873881360903, college 0.21965873881360903, normal 0.21965873881360903, subtle 0.21949099602909028, motion 0.21949099602909028, dancing 0.21949099602909028, managed 0.21932300714971995, thank 0.21932300714971995, excuse 0.21932300714971995, studio 0.21932300714971995, super 0.21932300714971995, 100 0.21915477157208713, japanese 0.21915477157208713, cult 0.21898628868992076, fully 0.21898628868992076, movie's 0.21881755789406626, date 0.21881755789406626, science 0.21881755789406626, laughable 0.21881755789406626, mad 0.21881755789406626, terms 0.21864857857246595, besides 0.21847935011013722, remains 0.2183098718891508, week 0.2183098718891508, anti 0.2183098718891508, pass 0.2183098718891508, outstanding 0.21814014328860995, pictures 0.21814014328860995, edge 0.21814014328860995, brain 0.21797016368462713, surely 0.21797016368462713, disappointing 0.21797016368462713, culture 0.21797016368462713, books 0.21797016368462713, drive 0.21797016368462713, painful 0.21797016368462713, mistake 0.21797016368462713, sexy 0.21779993245030327, costumes 0.21779993245030327, magic 0.21779993245030327, exception 0.21762944895570427, joe 0.21762944895570427, cinematic 0.21762944895570427, terrific 0.21762944895570427, their 0.21746007748879115, contains 0.21745871256783922, constantly 0.21745871256783922, hoping 0.21745871256783922, finish 0.21728772265063717, complex 0.21711647856492355, disappointment 0.21694497966839832, thrown 0.21694497966839832, ahead 0.2167732253156107, developed 0.2167732253156107, key 0.2167732253156107, nobody 0.2166012148579372, presence 0.2166012148579372, wow 0.2166012148579372, pieces 0.21642894764355614, speaking 0.21642894764355614, scenery 0.21642894764355614, bother 0.21642894764355614, walking 0.21642894764355614, impression 0.21642894764355614, thus 0.21625642301742343, places 0.21625642301742343, but 0.21623092505557123, lovely 0.21608364032124983, photography 0.21608364032124983, fiction 0.21608364032124983, slowly 0.21608364032124983, stands 0.21608364032124983, la 0.21591059889347347, plan 0.2157372980692377, stunning 0.2157372980692377, throw 0.2155637371803633, presented 0.2155637371803633, manner 0.21521583251922327, mainly 0.21521583251922327, innocent 0.21521583251922327, aspects 0.21504148739376172, producer 0.21486687949721694, channel 0.21486687949721694, ride 0.21486687949721694, animated 0.21486687949721694, disney 0.21486687949721694, italian 0.21469200814441544, minor 0.21469200814441544, brief 0.21469200814441544, f 0.21451687264670355, you'd 0.21451687264670355, mysterious 0.21451687264670355, details 0.21451687264670355, loves 0.21416580644438005, charm 0.21416580644438005, expectations 0.21416580644438005, hey 0.21416580644438005, cat 0.21416580644438005, acts 0.21416580644438005, gay 0.21416580644438005, much 0.21414627395338662, held 0.21398987434482258, comedies 0.21398987434482258, road 0.2138136753104078, twice 0.2138136753104078, forever 0.2136372086346756, master 0.2136372086346756, themes 0.2136372086346756, ben 0.2136372086346756, suppose 0.2136372086346756, opportunity 0.2136372086346756, award 0.2136372086346756, intended 0.21346047360752005, mary 0.21346047360752005, cartoon 0.21328346951515953, filming 0.21328346951515953, humour 0.21328346951515953, puts 0.21310619564010913, smart 0.21310619564010913, for 0.21302569495393897, support 0.21292865126114852, track 0.21292865126114852, wild 0.21292865126114852, sent 0.21292865126114852, adaptation 0.21292865126114852, than 0.21292697484065143, soul 0.21275083565329522, 'the 0.21275083565329522, available 0.21275083565329522, names 0.21257274808777116, door 0.21257274808777116, lived 0.21257274808777116, fascinating 0.21239438783197448, offer 0.21221575414944824, naked 0.21221575414944824, u 0.21221575414944824, spot 0.21221575414944824, central 0.21221575414944824, scott 0.21221575414944824, attack 0.21203684629984723, followed 0.21203684629984723, suggest 0.21185766353890945, emotions 0.21167820511842242, happening 0.21167820511842242, include 0.21167820511842242, fresh 0.21167820511842242, putting 0.21149847028619062, confused 0.21149847028619062, west 0.21149847028619062, hasn't 0.21149847028619062, falling 0.21149847028619062, changes 0.21131845828600376, tired 0.21131845828600376, computer 0.21131845828600376, difference 0.2111381683576038, mix 0.2111381683576038, issues 0.2111381683576038, narrative 0.2111381683576038, spoiler 0.2111381683576038, feelings 0.210957599736651, blue 0.21077675165469062, band 0.21077675165469062, island 0.21059562333911847, emotion 0.21059562333911847, compelling 0.21059562333911847, everybody 0.21059562333911847, wondering 0.21041421401314692, bed 0.21041421401314692, victim 0.21041421401314692, frank 0.21023252289576988, gorgeous 0.21023252289576988, double 0.2100505492017275, proves 0.2100505492017275, appeared 0.2100505492017275, army 0.2100505492017275, dies 0.2100505492017275, worthy 0.2098682921414701, g 0.2098682921414701, mediocre 0.2096857509211233, detective 0.2096857509211233, supposedly 0.20950292474244991, dreams 0.20950292474244991, paid 0.20950292474244991, notice 0.20950292474244991, journey 0.20950292474244991, chase 0.20950292474244991, cry 0.20931981280281403, six 0.20931981280281403, german 0.20931981280281403, justice 0.20931981280281403, building 0.20931981280281403, color 0.20931981280281403, element 0.20913641429514448, helps 0.20913641429514448, marriage 0.20913641429514448, fellow 0.20913641429514448, shock 0.20895272840789547, likable 0.20876875432500885, lacks 0.20858449122587708, dad 0.20858449122587708, share 0.20858449122587708, gem 0.20839993828530215, van 0.20839993828530215, camp 0.20839993828530215, million 0.20821509467345656, laughed 0.20821509467345656, south 0.20821509467345656, image 0.20802995955584436, impressed 0.20802995955584436, born 0.20802995955584436, content 0.2078445320932601, becoming 0.2078445320932601, historical 0.2078445320932601, forgotten 0.2078445320932601, military 0.20765881144174736, thoroughly 0.20765881144174736, confusing 0.20765881144174736, sub 0.20765881144174736, 80's 0.20747279675255864, merely 0.20747279675255864, critics 0.20747279675255864, pain 0.20747279675255864, stuck 0.20747279675255864, addition 0.20728648717211154, christmas 0.20728648717211154, numbers 0.20728648717211154, absolute 0.20728648717211154, turning 0.20728648717211154, bar 0.20728648717211154, lighting 0.2070998818419491, christopher 0.2070998818419491, flaws 0.2070998818419491, prison 0.2069129798986945, fell 0.2069129798986945, delivers 0.2069129798986945, 90 0.2069129798986945, damn 0.2069129798986945, direct 0.2069129798986945, ground 0.2067257804740089, actresses 0.2067257804740089, approach 0.2067257804740089, thin 0.2067257804740089, lover 0.2067257804740089, attractive 0.2067257804740089, silent 0.2067257804740089, government 0.20653828269454755, adults 0.20653828269454755, inspired 0.20653828269454755, funniest 0.20653828269454755, standards 0.20653828269454755, boyfriend 0.20653828269454755, wise 0.20653828269454755, pull 0.20653828269454755, reminded 0.2063504856819151, drug 0.2063504856819151, hurt 0.2063504856819151, provides 0.2061623885526203, finding 0.2061623885526203, collection 0.2061623885526203, offers 0.2061623885526203, me 0.2061150024078664, flicks 0.20597399041803133, seemingly 0.20597399041803133, charles 0.20597399041803133, victims 0.205785290384329, negative 0.205785290384329, faces 0.205785290384329, shouldn't 0.205785290384329, imagination 0.205785290384329, creative 0.20559628755246145, fashion 0.20559628755246145, detail 0.20559628755246145, rented 0.20559628755246145, tragic 0.2054069810180948, relationships 0.2054069810180948, ghost 0.2054069810180948, student 0.20521736987156752, club 0.20521736987156752, festival 0.20521736987156752, ready 0.2050274531978416, winning 0.20483723007645216, event 0.20483723007645216, zombie 0.20483723007645216, seconds 0.20483723007645216, latter 0.20464669958146026, nasty 0.20464669958146026, adds 0.20445586078140132, jim 0.20445586078140132, afraid 0.20426471273923485, r 0.20426471273923485, extreme 0.2040732545122927, 50 0.2040732545122927, folks 0.2040732545122927, lets 0.2040732545122927, quick 0.2040732545122927, train 0.2040732545122927, listen 0.2040732545122927, zero 0.2040732545122927, describe 0.2038814851522276, therefore 0.2036894037049602, impact 0.2036894037049602, redeeming 0.2036894037049602, random 0.2036894037049602, personality 0.2036894037049602, location 0.2036894037049602, gang 0.20349700921062577, length 0.20349700921062577, answer 0.20349700921062577, affair 0.20349700921062577, led 0.20349700921062577, states 0.203304300703521, picked 0.203304300703521, sam 0.203304300703521, childhood 0.20311127721204714, moral 0.20311127721204714, ugly 0.20311127721204714, wonderfully 0.20311127721204714, anymore 0.20311127721204714, land 0.20291793775865757, deliver 0.20291793775865757, lose 0.20291793775865757, compare 0.20291793775865757, match 0.20291793775865757, planet 0.20291793775865757, mouth 0.20291793775865757, green 0.2027242813597998, wooden 0.2027242813597998, step 0.2027242813597998, allowed 0.2027242813597998, holes 0.2027242813597998, professional 0.2027242813597998, smith 0.20253030702585859, necessary 0.20253030702585859, beat 0.20253030702585859, includes 0.20253030702585859, industry 0.20233601376110066, wall 0.20233601376110066, clothes 0.2021414005636136, trust 0.2021414005636136, carry 0.2021414005636136, tragedy 0.2021414005636136, london 0.2021414005636136, whatsoever 0.2021414005636136, had 0.2021392716059277, onto 0.20194646642524833, wearing 0.20194646642524833, mid 0.20175121033156, realized 0.20175121033156, desperate 0.20155563126174603, asks 0.20135972818858539, tears 0.20135972818858539, willing 0.20135972818858539, cross 0.20135972818858539, deeply 0.20135972818858539, steve 0.20135972818858539, intense 0.2011635000783779, system 0.2011635000783779, information 0.2011635000783779, count 0.2011635000783779, intelligence 0.2011635000783779, moved 0.2011635000783779, helped 0.2011635000783779, shocking 0.2011635000783779, treat 0.20096694589087863, sleep 0.20096694589087863, giant 0.20096694589087863, boss 0.20096694589087863, rarely 0.2007700645792365, man's 0.2007700645792365, trailer 0.2007700645792365, loving 0.2007700645792365, sight 0.2007700645792365, continue 0.2005728550899284, member 0.2005728550899284, build 0.2005728550899284, o 0.2005728550899284, angry 0.2005728550899284, thats 0.2003753163626944, design 0.2003753163626944, animals 0.2003753163626944, warning 0.20017744733047155, artistic 0.20017744733047155, 12 0.20017744733047155, finished 0.19997924691932578, extra 0.19997924691932578, began 0.19997924691932578, cliché 0.19997924691932578, pleasure 0.19997924691932578, allow 0.19997924691932578, apparent 0.19997924691932578, agent 0.19997924691932578, well 0.19979198697301492, summer 0.1997807140483852, energy 0.1997807140483852, engaging 0.1997807140483852, jones 0.1997807140483852, with 0.1996025276294568, americans 0.1995818476297704, hidden 0.1995818476297704, unnecessary 0.199183109762541, news 0.199183109762541, watchable 0.19898323610249638, soldiers 0.19898323610249638, anywhere 0.19898323610249638, comedic 0.19898323610249638, p 0.19878302447177215, normally 0.19878302447177215, holds 0.19878302447177215, introduced 0.198582473746384, intriguing 0.198582473746384, accident 0.198582473746384, which 0.19840567939406428, process 0.19838158279490625, jean 0.19838158279490625, area 0.19838158279490625, j 0.19838158279490625, provide 0.1981803504783964, pop 0.1981803504783964, story 0.1980288361306667, food 0.1979787756503175, disaster 0.1979787756503175, slasher 0.1979787756503175, murders 0.1979787756503175, physical 0.1979787756503175, according 0.1979787756503175, martin 0.1979787756503175, ii 0.19777685715646132, flying 0.19777685715646132, reminds 0.19777685715646132, limited 0.19777685715646132, superior 0.1975745938348683, wanting 0.1975745938348683, character's 0.1975745938348683, serial 0.1975745938348683, surprising 0.1975745938348683, originally 0.1975745938348683, park 0.1975745938348683, roll 0.1975745938348683, favourite 0.19737198451574942, opera 0.19737198451574942, rip 0.19737198451574942, unusual 0.19716902802140238, deserved 0.19716902802140238, actions 0.19716902802140238, sat 0.1969657231661303, smile 0.1969657231661303, woods 0.1969657231661303, remarkable 0.1969657231661303, paced 0.1967620687561596, absurd 0.1967620687561596, suspect 0.1967620687561596, brutal 0.1967620687561596, criminal 0.1967620687561596, pre 0.1967620687561596, really 0.19665170200676324, memory 0.19655806358955355, chris 0.19655806358955355, dying 0.19655806358955355, growing 0.19655806358955355, struggle 0.19655806358955355, suicide 0.19655806358955355, commentary 0.19655806358955355, creating 0.19635370645612743, seven 0.19635370645612743, exist 0.19635370645612743, bloody 0.19635370645612743, returns 0.19614899613736092, blame 0.19614899613736092, ill 0.19614899613736092, nonsense 0.19614899613736092, ray 0.19614899613736092, porn 0.19614899613736092, lord 0.19594393140630956, asked 0.19594393140630956, heads 0.19594393140630956, tony 0.19594393140630956, students 0.19594393140630956, capture 0.19594393140630956, station 0.19594393140630956, jason 0.19573851102751702, deserve 0.19573851102751702, search 0.19573851102751702, mental 0.19573851102751702, bits 0.19573851102751702, indian 0.19553273375692082, race 0.19553273375692082, noir 0.19532659834176364, nicely 0.19532659834176364, met 0.19532659834176364, technical 0.19532659834176364, independent 0.19532659834176364, teen 0.19532659834176364, heroes 0.19532659834176364, joy 0.19532659834176364, 11 0.19532659834176364, constant 0.19532659834176364, 70's 0.19532659834176364, jane 0.19512010352049797, church 0.19512010352049797, hospital 0.19512010352049797, fail 0.19491324802269117, accept 0.19491324802269117, jump 0.19491324802269117, epic 0.19491324802269117, starting 0.19491324802269117, stephen 0.19491324802269117, gotten 0.19491324802269117, twenty 0.19491324802269117, teenage 0.19491324802269117, anybody 0.19491324802269117, pacing 0.19470603056892988, instance 0.19470603056892988, featuring 0.19470603056892988, mom 0.19470603056892988, explanation 0.19470603056892988, artist 0.19449844987072268, vision 0.19449844987072268, lacking 0.19449844987072268, wide 0.19449844987072268, hadn't 0.19429050463039899, aware 0.19429050463039899, animal 0.19429050463039899, clichés 0.19408219354101158, soft 0.19408219354101158, hated 0.19387351528623198, quiet 0.19387351528623198, below 0.19387351528623198, keeping 0.19387351528623198, hopes 0.19366446854024785, loose 0.19366446854024785, 40 0.19366446854024785, results 0.19345505196765822, noticed 0.19345505196765822, hits 0.19345505196765822, skip 0.19345505196765822, somebody 0.19345505196765822, phone 0.19345505196765822, responsible 0.19345505196765822, grace 0.19324526422336663, toward 0.19324526422336663, included 0.19324526422336663, filmmaker 0.19324526422336663, accurate 0.19324526422336663, whenever 0.19303510395247156, plots 0.19303510395247156, england 0.19303510395247156, desire 0.19303510395247156, explained 0.19303510395247156, terribly 0.19303510395247156, pulled 0.19303510395247156, manage 0.19303510395247156, dangerous 0.19303510395247156, finest 0.1928245697901593, apartment 0.1928245697901593, unknown 0.1928245697901593, floor 0.1928245697901593, lies 0.1928245697901593, ms 0.1928245697901593, powers 0.1928245697901593, treated 0.1928245697901593, suit 0.19261366036158983, billy 0.19261366036158983, passion 0.19261366036158983, record 0.19261366036158983, mixed 0.19261366036158983, drunk 0.19261366036158983, dirty 0.19261366036158983, understanding 0.19240237428178403, players 0.19240237428178403, scared 0.19240237428178403, months 0.19219071015550973, naturally 0.19219071015550973, field 0.19219071015550973, rape 0.19219071015550973, witty 0.19219071015550973, saved 0.19219071015550973, theatre 0.19197866657716456, brian 0.19197866657716456, saving 0.19197866657716456, sign 0.19197866657716456, lovers 0.19197866657716456, bland 0.19197866657716456, empty 0.1917662421306562, creature 0.1917662421306562, numerous 0.1917662421306562, torture 0.1917662421306562, mine 0.1917662421306562, knowledge 0.19155343538928404, concerned 0.19155343538928404, opposite 0.19155343538928404, received 0.19155343538928404, discovered 0.19155343538928404, vhs 0.19155343538928404, ed 0.19155343538928404, portray 0.19134024491561522, cable 0.19134024491561522, al 0.19134024491561522, bright 0.19134024491561522, zombies 0.19112666926136107, sucks 0.19112666926136107, academy 0.19112666926136107, community 0.19112666926136107, machine 0.19112666926136107, talents 0.19112666926136107, kinda 0.19112666926136107, realism 0.19112666926136107, cuts 0.19112666926136107, memories 0.19112666926136107, issue 0.19112666926136107, delightful 0.1909127069672512, don 0.1909127069672512, continues 0.1909127069672512, european 0.1909127069672512, prove 0.1909127069672512, dealing 0.1909127069672512, visit 0.1909127069672512, ups 0.19069835656290537, drugs 0.19069835656290537, discover 0.19069835656290537, player 0.19069835656290537, opens 0.19048361656670298, grand 0.19048361656670298, fights 0.19048361656670298, essentially 0.19048361656670298, rubbish 0.19048361656670298, locations 0.19026848548565192, cgi 0.19026848548565192, jr 0.19026848548565192, partner 0.19026848548565192, existence 0.19005296181525247, dated 0.19005296181525247, ladies 0.19005296181525247, lucky 0.19005296181525247, hotel 0.19005296181525247, eat 0.19005296181525247, humorous 0.19005296181525247, driving 0.19005296181525247, higher 0.18983704403936336, finale 0.18983704403936336, fate 0.18983704403936336, christian 0.18983704403936336, occasionally 0.18983704403936336, international 0.18983704403936336, frankly 0.18983704403936336, luck 0.18983704403936336, regular 0.18983704403936336, today's 0.18983704403936336, can 0.18963728866806367, edited 0.18962073063006152, genuine 0.18962073063006152, teacher 0.18962073063006152, eating 0.18962073063006152, scientist 0.18940402004750084, harry 0.18940402004750084, youth 0.18940402004750084, witch 0.18940402004750084, murdered 0.18940402004750084, current 0.18940402004750084, advice 0.1891869107397719, loses 0.1891869107397719, shallow 0.1891869107397719, calls 0.1891869107397719, ass 0.1891869107397719, pretentious 0.1891869107397719, magnificent 0.18896940114275265, radio 0.18896940114275265, breaks 0.18896940114275265, remembered 0.18896940114275265, captured 0.18896940114275265, forces 0.18896940114275265, alan 0.18896940114275265, bigger 0.18896940114275265, friendship 0.18896940114275265, learned 0.18896940114275265, reviewers 0.18875148967996383, dressed 0.18875148967996383, develop 0.18875148967996383, director's 0.18875148967996383, wars 0.1885331747624176, deals 0.1885331747624176, sheer 0.1885331747624176, favor 0.1885331747624176, queen 0.1885331747624176, ordinary 0.1885331747624176, loss 0.1885331747624176, skills 0.1885331747624176, here's 0.1885331747624176, curious 0.1885331747624176, humans 0.1885331747624176, nightmare 0.1885331747624176, efforts 0.18831445478846437, visually 0.18831445478846437, grew 0.18831445478846437, unexpected 0.18831445478846437, price 0.18831445478846437, debut 0.18831445478846437, henry 0.18831445478846437, dimensional 0.18831445478846437, broken 0.188095328143639, humanity 0.188095328143639, x 0.188095328143639, survive 0.188095328143639, morning 0.188095328143639, genuinely 0.188095328143639, comparison 0.1878757932005019, cameo 0.1878757932005019, awkward 0.1878757932005019, types 0.1878757932005019, guns 0.1878757932005019, unable 0.1878757932005019, they've 0.187655848318479, fat 0.187655848318479, kick 0.187655848318479, spectacular 0.187655848318479, legend 0.187655848318479, allows 0.1874354918436994, context 0.1874354918436994, wedding 0.1874354918436994, gold 0.1874354918436994, creates 0.1874354918436994, reaction 0.1874354918436994, screaming 0.1874354918436994, connection 0.1874354918436994, judge 0.1874354918436994, standing 0.1874354918436994, core 0.18721472210882925, we've 0.18721472210882925, brilliantly 0.18721472210882925, grown 0.18721472210882925, religious 0.18721472210882925, behavior 0.18721472210882925, ultimate 0.18699353743290198, sake 0.18699353743290198, overly 0.18699353743290198, heroine 0.18699353743290198, 13 0.18699353743290198, meanwhile 0.18699353743290198, window 0.18699353743290198, stock 0.18699353743290198, study 0.18699353743290198, revealed 0.18699353743290198, perspective 0.18699353743290198, media 0.18699353743290198, delivered 0.18699353743290198, proved 0.18677193612114962, board 0.18677193612114962, costs 0.18677193612114962, private 0.18654991646482566, douglas 0.18654991646482566, unfunny 0.18654991646482566, stone 0.18654991646482566, references 0.18654991646482566, psychological 0.18654991646482566, cops 0.18632747674102956, decade 0.18632747674102956, majority 0.18632747674102956, kevin 0.18632747674102956, faith 0.18632747674102956, officer 0.18632747674102956, ages 0.18632747674102956, strength 0.18632747674102956, corny 0.18610461521252664, paris 0.18610461521252664, executed 0.18610461521252664, fault 0.18610461521252664, one's 0.18610461521252664, lesson 0.18610461521252664, wind 0.18610461521252664, whilst 0.18610461521252664, painfully 0.18610461521252664, tim 0.18610461521252664, soap 0.18610461521252664, games 0.18610461521252664, suffering 0.1858813301275628, frame 0.1858813301275628, failure 0.1858813301275628, gratuitous 0.1858813301275628, traditional 0.1858813301275628, owner 0.1858813301275628, mission 0.1858813301275628, pair 0.1858813301275628, sing 0.1858813301275628, driven 0.1858813301275628, reach 0.18565761971968003, vampire 0.18565761971968003, relief 0.18565761971968003, bruce 0.18565761971968003, passed 0.18543348220752576, soldier 0.18543348220752576, aged 0.18543348220752576, captain 0.18543348220752576, underrated 0.18543348220752576, discovers 0.18543348220752576, jerry 0.18543348220752576, alien 0.18543348220752576, versions 0.1852089157946592, laughter 0.1852089157946592, nevertheless 0.1852089157946592, identity 0.1852089157946592, utter 0.1852089157946592, steal 0.1852089157946592, villains 0.1852089157946592, entertained 0.1852089157946592, arts 0.1852089157946592, conflict 0.18498391866935654, site 0.18498391866935654, w 0.18498391866935654, sucked 0.18498391866935654, pity 0.18498391866935654, described 0.18498391866935654, practically 0.18498391866935654, relate 0.18498391866935654, singer 0.18498391866935654, ran 0.18498391866935654, asking 0.18475848900440842, gags 0.18475848900440842, caused 0.18475848900440842, range 0.18475848900440842, dreadful 0.18475848900440842, emotionally 0.18475848900440842, commercial 0.18453262495691936, bond 0.18453262495691936, combination 0.18453262495691936, scream 0.18453262495691936, visuals 0.18453262495691936, m 0.18453262495691936, produce 0.1843063246680985, decision 0.1843063246680985, ball 0.1843063246680985, plane 0.1843063246680985, capable 0.1843063246680985, streets 0.1843063246680985, endless 0.1843063246680985, clean 0.18407958626304943, cares 0.18407958626304943, martial 0.18407958626304943, obsessed 0.18407958626304943, treatment 0.18407958626304943, round 0.18407958626304943, stereotypes 0.18407958626304943, attitude 0.18407958626304943, uncle 0.18407958626304943, excited 0.18407958626304943, would 0.1840466648718575, irritating 0.18385240785055634, monsters 0.18385240785055634, ring 0.18385240785055634, portrays 0.18385240785055634, wit 0.18385240785055634, bet 0.18385240785055634, williams 0.18385240785055634, blonde 0.18385240785055634, heaven 0.18385240785055634, classics 0.18385240785055634, meeting 0.18385240785055634, pleasant 0.18385240785055634, dry 0.18362478752286535, theaters 0.18362478752286535, reviewer 0.18362478752286535, 000 0.18362478752286535, fill 0.18362478752286535, breaking 0.18362478752286535, product 0.18362478752286535, stopped 0.18362478752286535, par 0.18362478752286535, hearted 0.18362478752286535, sympathetic 0.18362478752286535, danny 0.18339672335546067, anthony 0.18339672335546067, feet 0.18339672335546067, chinese 0.18339672335546067, hearing 0.18339672335546067, author 0.18339672335546067, gonna 0.18339672335546067, built 0.18339672335546067, proper 0.18316821340684014, sudden 0.18316821340684014, vehicle 0.18316821340684014, leader 0.18316821340684014, embarrassing 0.18316821340684014, cash 0.18316821340684014, matters 0.18316821340684014, send 0.18316821340684014, generation 0.18316821340684014, grow 0.18316821340684014, kate 0.1829392557182848, appropriate 0.1829392557182848, ruined 0.1829392557182848, seat 0.1829392557182848, fame 0.1829392557182848, flashbacks 0.1829392557182848, chosen 0.1829392557182848, see 0.18287094723375463, strongly 0.18270984831362203, cars 0.18270984831362203, sell 0.18270984831362203, unrealistic 0.18270984831362203, logic 0.18270984831362203, travel 0.18270984831362203, national 0.18270984831362203, page 0.18270984831362203, rise 0.18270984831362203, largely 0.18270984831362203, assume 0.18270984831362203, fox 0.18270984831362203, joan 0.18270984831362203, portraying 0.18270984831362203, shop 0.18270984831362203, learns 0.18270984831362203, amateurish 0.18270984831362203, golden 0.1824799891989886, pilot 0.1824799891989886, paper 0.1824799891989886, contrived 0.1824799891989886, correct 0.1824799891989886, cost 0.182249676362586, foot 0.182249676362586, choose 0.182249676362586, appealing 0.182249676362586, bringing 0.182249676362586, vote 0.182249676362586, ice 0.1820189077744328, circumstances 0.1820189077744328, graphic 0.1820189077744328, horribly 0.1820189077744328, handsome 0.1820189077744328, flesh 0.1820189077744328, my 0.18196479680596328, candy 0.1817876813861128, heck 0.1817876813861128, psycho 0.1817876813861128, gory 0.1817876813861128, individual 0.1817876813861128, fits 0.1817876813861128, allen 0.1817876813861128, horse 0.1817876813861128, formula 0.1817876813861128, hopefully 0.1817876813861128, center 0.18155599513051573, miles 0.18155599513051573, spoil 0.18155599513051573, levels 0.18155599513051573, satisfying 0.18155599513051573, model 0.18155599513051573, families 0.18155599513051573, tedious 0.18155599513051573, crappy 0.18155599513051573, involves 0.18132384692157685, river 0.18132384692157685, recall 0.18132384692157685, satire 0.18132384692157685, thoughts 0.18132384692157685, believes 0.18132384692157685, convinced 0.18132384692157685, steals 0.18109123465400914, warm 0.18109123465400914, relatively 0.18109123465400914, bob 0.18109123465400914, theatrical 0.18109123465400914, foreign 0.18109123465400914, thomas 0.18109123465400914, stewart 0.18109123465400914, l 0.180858156203031, village 0.180858156203031, excitement 0.180858156203031, tape 0.180858156203031, insult 0.180858156203031, the 0.180858156203031, sea 0.180858156203031, blind 0.18062460942408765, sky 0.18062460942408765, tend 0.18062460942408765, evening 0.18062460942408765, dubbed 0.18062460942408765, contrast 0.18062460942408765, gary 0.18062460942408765, substance 0.18062460942408765, losing 0.18062460942408765, awards 0.18039059215257092, test 0.18039059215257092, african 0.18039059215257092, hanging 0.18039059215257092, protagonist 0.18039059215257092, ship 0.18039059215257092, factor 0.18039059215257092, spanish 0.18039059215257092, russian 0.18039059215257092, naive 0.18039059215257092, bear 0.18039059215257092, extras 0.18039059215257092, costume 0.18015610220352857, welcome 0.18015610220352857, 80s 0.18015610220352857, speed 0.18015610220352857, h 0.18015610220352857, insane 0.18015610220352857, rescue 0.18015610220352857, hill 0.18015610220352857, united 0.18015610220352857, remain 0.17992113737137055, eight 0.17992113737137055, market 0.17992113737137055, captures 0.17992113737137055, covered 0.17992113737137055, category 0.17992113737137055, depressing 0.17992113737137055, lower 0.17992113737137055, rental 0.17992113737137055, saturday 0.17992113737137055, dick 0.17992113737137055, promising 0.17992113737137055, lousy 0.17968569542957188, disgusting 0.17968569542957188, com 0.17968569542957188, talks 0.17968569542957188, parody 0.17968569542957188, moon 0.17968569542957188, touches 0.17968569542957188, virtually 0.17968569542957188, davis 0.17968569542957188, unlikely 0.17968569542957188, clue 0.17944977413036345, destroy 0.17944977413036345, ancient 0.17944977413036345, continuity 0.17944977413036345, unfortunate 0.17944977413036345, semi 0.17944977413036345, believed 0.17944977413036345, holding 0.17944977413036345, asleep 0.17944977413036345, no 0.17941685916226305, handled 0.1792133712044235, teenager 0.1792133712044235, claim 0.1792133712044235, v 0.1792133712044235, hide 0.1792133712044235, charlie 0.1789764843605588, highlight 0.1789764843605588, fly 0.1789764843605588, display 0.1789764843605588, ruin 0.1789764843605588, mike 0.1789764843605588, promise 0.1789764843605588, scare 0.1789764843605588, steven 0.1789764843605588, previously 0.1787391112853799, qualities 0.1787391112853799, gene 0.1787391112853799, drop 0.1787391112853799, provided 0.1787391112853799, fare 0.1787391112853799, crowd 0.1787391112853799, marry 0.1787391112853799, 0 0.1787391112853799, technology 0.17850124964297204, bodies 0.17850124964297204, refreshing 0.17850124964297204, influence 0.17850124964297204, fred 0.17850124964297204, nick 0.17850124964297204, viewed 0.17850124964297204, faced 0.17850124964297204, scale 0.17850124964297204, initial 0.17850124964297204, serves 0.17850124964297204, cutting 0.17850124964297204, danger 0.17850124964297204, shocked 0.17850124964297204, suffers 0.17826289707455772, angles 0.17826289707455772, chick 0.17826289707455772, surprises 0.17826289707455772, haunting 0.17826289707455772, notch 0.17826289707455772, johnny 0.17826289707455772, bomb 0.17826289707455772, drag 0.17826289707455772, rules 0.17826289707455772, pile 0.17826289707455772, target 0.17802405119815168, offensive 0.17802405119815168, research 0.17802405119815168, native 0.17802405119815168, japan 0.17802405119815168, speaks 0.17802405119815168, jeff 0.17802405119815168, source 0.17802405119815168, arthur 0.17802405119815168, boat 0.17778470960821144, forgettable 0.17778470960821144, repeated 0.17778470960821144, contemporary 0.17778470960821144, combined 0.17754486987527818, designed 0.17754486987527818, winner 0.17754486987527818, inner 0.17754486987527818, granted 0.17754486987527818, degree 0.17754486987527818, uk 0.17754486987527818, depicted 0.17754486987527818, safe 0.17754486987527818, k 0.17754486987527818, draw 0.17730452954561082, latest 0.17730452954561082, related 0.17730452954561082, skin 0.17730452954561082, buddy 0.17730452954561082, brown 0.17730452954561082, amateur 0.17730452954561082, claims 0.17730452954561082, walks 0.17730452954561082, wood 0.17730452954561082, atrocious 0.17730452954561082, liners 0.17730452954561082, chose 0.1770636861408159, presents 0.1770636861408159, dozen 0.1770636861408159, voices 0.1770636861408159, whoever 0.1770636861408159, till 0.1770636861408159, freedom 0.1770636861408159, sharp 0.1770636861408159, desert 0.1770636861408159, surreal 0.17682233715746243, closer 0.17682233715746243, experiences 0.17682233715746243, accidentally 0.17682233715746243, section 0.17682233715746243, weeks 0.17658048006669796, plans 0.17658048006669796, barbara 0.17658048006669796, mrs 0.17658048006669796, witness 0.17658048006669796, tiny 0.17658048006669796, facts 0.17658048006669796, colors 0.17658048006669796, 25 0.17633811231384708, everywhere 0.17633811231384708, exploitation 0.17633811231384708, sequels 0.17633811231384708, 14 0.17633811231384708, technically 0.17633811231384708, directly 0.17633811231384708, deaths 0.17633811231384708, gangster 0.17633811231384708, blow 0.17633811231384708, appreciated 0.17633811231384708, walter 0.17633811231384708, sympathy 0.17633811231384708, focused 0.17633811231384708, uninteresting 0.17633811231384708, prime 0.17633811231384708, twisted 0.17609523131801055, occasional 0.17609523131801055, evidence 0.17609523131801055, kinds 0.17609523131801055, sorts 0.17609523131801055, adventures 0.17609523131801055, frightening 0.17609523131801055, walked 0.1758518344716482, makeup 0.1758518344716482, program 0.1758518344716482, killers 0.1758518344716482, france 0.1758518344716482, convince 0.1758518344716482, devil 0.1758518344716482, harsh 0.1758518344716482, massive 0.175607919140159, jennifer 0.175607919140159, teenagers 0.175607919140159, brave 0.175607919140159, movement 0.175607919140159, eric 0.175607919140159, chief 0.175607919140159, passing 0.1753634826614467, remotely 0.1753634826614467, suspenseful 0.1753634826614467, recognize 0.1753634826614467, routine 0.1753634826614467, spends 0.1753634826614467, legendary 0.1753634826614467, politics 0.1753634826614467, offered 0.1753634826614467, accents 0.1753634826614467, proud 0.1753634826614467, hat 0.1753634826614467, committed 0.1751185223454818, execution 0.1751185223454818, mainstream 0.1751185223454818, dollars 0.1751185223454818, downright 0.1751185223454818, vs 0.1751185223454818, 70s 0.1751185223454818, experienced 0.1751185223454818, haunted 0.1751185223454818, asian 0.1751185223454818, only 0.17487929810949124, north 0.17487303547384925, realizes 0.17487303547384925, required 0.17487303547384925, president 0.17487303547384925, struggling 0.17487303547384925, changing 0.17487303547384925, veteran 0.17487303547384925, supernatural 0.17487303547384925, weekend 0.17487303547384925, department 0.17462701929928837, figured 0.17462701929928837, regret 0.17462701929928837, gritty 0.17462701929928837, hall 0.17462701929928837, belief 0.17462701929928837, structure 0.17462701929928837, explains 0.17462701929928837, listening 0.17462701929928837, enter 0.17462701929928837, europe 0.17462701929928837, featured 0.17462701929928837, performed 0.17462701929928837, castle 0.17462701929928837, worthwhile 0.17462701929928837, jimmy 0.17462701929928837, forth 0.17462701929928837, variety 0.17462701929928837, kelly 0.17462701929928837, guilty 0.17462701929928837, gordon 0.17462701929928837, path 0.17462701929928837, bothered 0.17438047104522275, minds 0.17438047104522275, adam 0.17438047104522275, effectively 0.17438047104522275, mistakes 0.17438047104522275, junk 0.17413338790527982, blown 0.17413338790527982, pulls 0.17413338790527982, surface 0.17413338790527982, buying 0.17413338790527982, howard 0.17413338790527982, training 0.17413338790527982, prior 0.17413338790527982, amazed 0.17413338790527982, stayed 0.17413338790527982, reputation 0.17413338790527982, insight 0.17413338790527982, eddie 0.17413338790527982, crying 0.17413338790527982, unconvincing 0.17388576704279918, blockbuster 0.17388576704279918, multiple 0.17388576704279918, deadly 0.17388576704279918, taylor 0.17388576704279918, universe 0.17388576704279918, statement 0.17388576704279918, favorites 0.17388576704279918, bore 0.17363760559033042, paying 0.17363760559033042, abandoned 0.17363760559033042, afternoon 0.17363760559033042, trilogy 0.1733889006491194, peace 0.1733889006491194, heavily 0.1733889006491194, washington 0.1733889006491194, rolling 0.1733889006491194, edward 0.1733889006491194, creatures 0.1733889006491194, nominated 0.1733889006491194, seek 0.1733889006491194, exact 0.1733889006491194, even 0.17332101385147047, placed 0.1731396492885831, narration 0.1731396492885831, hunter 0.1731396492885831, reveals 0.1731396492885831, focuses 0.1731396492885831, false 0.1731396492885831, anger 0.1731396492885831, trapped 0.1731396492885831, stolen 0.1731396492885831, stays 0.1731396492885831, thankfully 0.1731396492885831, examples 0.1731396492885831, understood 0.1731396492885831, summary 0.1731396492885831, friendly 0.1731396492885831, breath 0.17288984854577358, service 0.17288984854577358, ludicrous 0.17288984854577358, code 0.17288984854577358, lake 0.17288984854577358, sheriff 0.17288984854577358, melodrama 0.17288984854577358, hunt 0.17288984854577358, speech 0.17288984854577358, subtitles 0.17288984854577358, tight 0.17288984854577358, hired 0.17288984854577358, prefer 0.17263949542482626, alright 0.17263949542482626, lewis 0.17263949542482626, crash 0.17263949542482626, friday 0.17263949542482626, calling 0.17263949542482626, nude 0.17263949542482626, facial 0.17263949542482626, sports 0.17263949542482626, idiot 0.17263949542482626, figures 0.17263949542482626, cant 0.17263949542482626, productions 0.17263949542482626, abuse 0.1723885868964019, handed 0.1723885868964019, broadway 0.1723885868964019, delivery 0.1723885868964019, grant 0.1723885868964019, aka 0.1723885868964019, donald 0.1723885868964019, closing 0.1723885868964019, renting 0.1723885868964019, jobs 0.1723885868964019, starred 0.1723885868964019, paint 0.1723885868964019, desperately 0.1723885868964019, erotic 0.1723885868964019, print 0.17213711989710792, morgan 0.17213711989710792, lights 0.17213711989710792, reveal 0.17213711989710792, account 0.17213711989710792, mask 0.17213711989710792, suffer 0.17213711989710792, bank 0.17188509132891314, necessarily 0.17188509132891314, roger 0.17188509132891314, magical 0.17188509132891314, rough 0.17188509132891314, robin 0.17188509132891314, skill 0.17188509132891314, conversation 0.17188509132891314, status 0.17188509132891314, reminiscent 0.17188509132891314, lonely 0.17188509132891314, greater 0.17188509132891314, format 0.1716324980585448, teens 0.1716324980585448, amazingly 0.1716324980585448, beloved 0.1716324980585448, happiness 0.1716324980585448, decades 0.1716324980585448, wear 0.1716324980585448, settings 0.1716324980585448, mini 0.1716324980585448, ryan 0.1716324980585448, spite 0.1716324980585448, kong 0.1716324980585448, helping 0.1716324980585448, germany 0.1716324980585448, description 0.1716324980585448, 17 0.1716324980585448, forgot 0.1716324980585448, disbelief 0.1716324980585448, would've 0.1716324980585448, scares 0.1716324980585448, rule 0.1716324980585448, destroyed 0.17137933691687224, andy 0.17137933691687224, quirky 0.17137933691687224, lifetime 0.17137933691687224, sleeping 0.17137933691687224, significant 0.17137933691687224, crude 0.17137933691687224, scenario 0.17137933691687224, drinking 0.17137933691687224, mere 0.17137933691687224, lawyer 0.17137933691687224, sensitive 0.17137933691687224, position 0.17137933691687224, prepared 0.17137933691687224, entertain 0.17137933691687224, initially 0.17137933691687224, joseph 0.17112560469827684, basis 0.17112560469827684, faithful 0.17112560469827684, mildly 0.17112560469827684, california 0.17112560469827684, achieve 0.17112560469827684, throwing 0.17112560469827684, reporter 0.17112560469827684, network 0.17112560469827684, fabulous 0.17112560469827684, enemy 0.170871298160008, darkness 0.170871298160008, rights 0.170871298160008, sounded 0.170871298160008, express 0.170871298160008, views 0.170871298160008, quest 0.170871298160008, clichéd 0.170871298160008, terror 0.170871298160008, complicated 0.170871298160008, picks 0.170871298160008, seasons 0.170871298160008, anne 0.170871298160008, halfway 0.170871298160008, praise 0.17061641402151878, canadian 0.17061641402151878, angel 0.17061641402151878, cultural 0.17061641402151878, ignore 0.17061641402151878, inept 0.17061641402151878, birth 0.17061641402151878, stereotypical 0.17061641402151878, people's 0.17061641402151878, choices 0.1703609489637933, critical 0.1703609489637933, sean 0.1703609489637933, priest 0.1703609489637933, campy 0.1703609489637933, expert 0.1703609489637933, touched 0.1703609489637933, mature 0.1703609489637933, raised 0.1703609489637933, propaganda 0.1703609489637933, originality 0.1703609489637933, adding 0.1703609489637933, ain't 0.17010489962865052, interview 0.17010489962865052, matt 0.17010489962865052, via 0.17010489962865052, headed 0.17010489962865052, regarding 0.17010489962865052, grave 0.17010489962865052, purely 0.17010489962865052, timing 0.17010489962865052, breathtaking 0.17010489962865052, he'd 0.17010489962865052, warned 0.17010489962865052, jackson 0.16984826261803518, universal 0.16984826261803518, daniel 0.16984826261803518, security 0.16984826261803518, task 0.16984826261803518, teeth 0.16984826261803518, comical 0.16984826261803518, storytelling 0.16984826261803518, suck 0.16984826261803518, parker 0.16984826261803518, extraordinary 0.16984826261803518, albert 0.16984826261803518, crafted 0.16984826261803518, fictional 0.16959103449329163, convey 0.16959103449329163, bound 0.16959103449329163, extent 0.16959103449329163, deeper 0.16959103449329163, sunday 0.16959103449329163, strangely 0.16959103449329163, caring 0.16959103449329163, charge 0.16959103449329163, jesus 0.16959103449329163, treasure 0.16959103449329163, dress 0.16959103449329163, handle 0.16959103449329163, encounter 0.1693332117744163, properly 0.1693332117744163, fourth 0.1693332117744163, expression 0.1693332117744163, punch 0.1693332117744163, bitter 0.1693332117744163, throws 0.1693332117744163, device 0.1693332117744163, succeeds 0.1693332117744163, simon 0.1693332117744163, religion 0.1693332117744163, enjoying 0.1693332117744163, term 0.1693332117744163, carrying 0.1693332117744163, indie 0.1693332117744163, spoken 0.1693332117744163, introduction 0.1693332117744163, answers 0.1693332117744163, learning 0.16907479093929612, join 0.16907479093929612, causes 0.16907479093929612, screening 0.16907479093929612, provoking 0.16907479093929612, imagery 0.16907479093929612, titles 0.16907479093929612, dogs 0.16907479093929612, remote 0.16907479093929612, carries 0.16907479093929612, notable 0.16907479093929612, inspiration 0.16907479093929612, nonetheless 0.16907479093929612, serve 0.16907479093929612, un 0.16907479093929612, wears 0.16881576842292445, attempting 0.16881576842292445, cruel 0.16881576842292445, flow 0.16881576842292445, determined 0.16881576842292445, sun 0.16881576842292445, successfully 0.16881576842292445, goofy 0.16881576842292445, flashback 0.16881576842292445, table 0.16881576842292445, stomach 0.16881576842292445, nowadays 0.16881576842292445, intellectual 0.16881576842292445, father's 0.16881576842292445, existent 0.1685561406165987, ironic 0.1685561406165987, embarrassed 0.1685561406165987, slapstick 0.1685561406165987, exists 0.1685561406165987, patrick 0.1685561406165987, lesbian 0.1685561406165987, fortunately 0.1685561406165987, alas 0.1685561406165987, environment 0.1685561406165987, raw 0.1685561406165987, cases 0.1685561406165987, criticism 0.1682959038670977, horrific 0.1682959038670977, funnier 0.1682959038670977, locked 0.1682959038670977, protect 0.1682959038670977, turkey 0.1682959038670977, studios 0.1682959038670977, gruesome 0.1682959038670977, carried 0.1682959038670977, artists 0.1682959038670977, reference 0.1682959038670977, texas 0.1682959038670977, established 0.1682959038670977, princess 0.1682959038670977, prince 0.1682959038670977, rings 0.1682959038670977, everyday 0.16803505447583883, kim 0.16803505447583883, balance 0.16803505447583883, shut 0.16803505447583883, arrives 0.16803505447583883, oddly 0.16803505447583883, shadow 0.16803505447583883, chilling 0.16803505447583883, served 0.16803505447583883, cartoons 0.16803505447583883, laid 0.16803505447583883, gross 0.16803505447583883, cage 0.16803505447583883, poignant 0.16803505447583883, challenge 0.16777358869801132, daily 0.16777358869801132, aliens 0.16777358869801132, rain 0.16777358869801132, fu 0.16777358869801132, could've 0.16777358869801132, arms 0.16777358869801132, max 0.16777358869801132, depiction 0.16777358869801132, lie 0.16777358869801132, obnoxious 0.16777358869801132, beach 0.16777358869801132, kiss 0.16777358869801132, amongst 0.16777358869801132, albeit 0.16777358869801132, trick 0.16777358869801132, base 0.16777358869801132, dollar 0.16777358869801132, authentic 0.16751150274168974, seeking 0.16751150274168974, halloween 0.16751150274168974, sum 0.16751150274168974, pregnant 0.16751150274168974, essential 0.16751150274168974, angle 0.16751150274168974, ann 0.16751150274168974, batman 0.16751150274168974, raise 0.16751150274168974, sir 0.16751150274168974, risk 0.16751150274168974, lesser 0.16751150274168974, packed 0.16751150274168974, escapes 0.16751150274168974, urban 0.16751150274168974, lazy 0.16724879276692295, sisters 0.16724879276692295, harris 0.16724879276692295, confusion 0.16724879276692295, fallen 0.16724879276692295, victor 0.16724879276692295, court 0.16724879276692295, thrilling 0.16724879276692295, dude 0.16724879276692295, revolves 0.16724879276692295, minded 0.16724879276692295, stops 0.16724879276692295, delight 0.16724879276692295, remind 0.16724879276692295, murderer 0.16724879276692295, needless 0.16724879276692295, expressions 0.16724879276692295, replaced 0.16724879276692295, marvelous 0.16698545488480027, sleazy 0.16698545488480027, driver 0.16698545488480027, mountain 0.16698545488480027, jumps 0.16698545488480027, screenwriter 0.16698545488480027, opened 0.16698545488480027, contain 0.16698545488480027, sinister 0.16698545488480027, robot 0.16698545488480027, fool 0.16672148515649204, san 0.16672148515649204, presentation 0.16672148515649204, busy 0.16672148515649204, upset 0.16672148515649204, tongue 0.16672148515649204, stupidity 0.16672148515649204, ashamed 0.16672148515649204, regard 0.16672148515649204, greatly 0.16672148515649204, up 0.16666698491197374, very 0.16656143158572512, wins 0.16645687959226502, sold 0.16645687959226502, africa 0.16645687959226502, gas 0.16645687959226502, segment 0.16645687959226502, credible 0.16645687959226502, hence 0.16645687959226502, guessing 0.16645687959226502, cynical 0.16619163415047283, wasting 0.16619163415047283, adapted 0.16619163415047283, australian 0.16619163415047283, theory 0.16619163415047283, shakespeare 0.16619163415047283, hole 0.16619163415047283, alike 0.16619163415047283, lynch 0.16619163415047283, tradition 0.16619163415047283, east 0.16619163415047283, trite 0.16619163415047283, advantage 0.16592574473651842, ron 0.16592574473651842, wealthy 0.16592574473651842, frequently 0.16592574473651842, children's 0.16592574473651842, jon 0.16592574473651842, attacked 0.16592574473651842, forest 0.16592574473651842, happily 0.16592574473651842, spoof 0.16592574473651842, upper 0.16592574473651842, underground 0.16592574473651842, personalities 0.16565920720178756, topic 0.16565920720178756, 80 0.16565920720178756, mentally 0.16565920720178756, perform 0.16565920720178756, warn 0.16565920720178756, professor 0.16565920720178756, innocence 0.16565920720178756, thousands 0.16565920720178756, weapons 0.16565920720178756, sides 0.16565920720178756, struggles 0.16565920720178756, jail 0.16565920720178756, physically 0.16565920720178756, legs 0.16565920720178756, lessons 0.165392017342554, stylish 0.165392017342554, succeed 0.165392017342554, suffered 0.165392017342554, hint 0.165392017342554, southern 0.165392017342554, credibility 0.165392017342554, intensity 0.165392017342554, uncomfortable 0.165392017342554, infamous 0.165392017342554, glimpse 0.165392017342554, mass 0.165392017342554, flawed 0.165392017342554, shape 0.165392017342554, time 0.16519712021656832, rival 0.1651241708988575, sword 0.1651241708988575, leslie 0.1651241708988575, shines 0.1651241708988575, enjoyment 0.1651241708988575, nine 0.1651241708988575, drives 0.1651241708988575, searching 0.1651241708988575, internet 0.1651241708988575, hundreds 0.1651241708988575, refuses 0.1651241708988575, dan 0.1651241708988575, ford 0.1651241708988575, broke 0.1651241708988575, separate 0.16485566355334513, interpretation 0.16485566355334513, trek 0.16485566355334513, racist 0.16485566355334513, hundred 0.16485566355334513, tales 0.16485566355334513, hoped 0.16485566355334513, pool 0.16485566355334513, ratings 0.16485566355334513, torn 0.16485566355334513, drew 0.16485566355334513, dennis 0.16485566355334513, tied 0.16485566355334513, 2001 0.16458649093008493, comedian 0.16458649093008493, toy 0.16458649093008493, gripping 0.16458649093008493, atmospheric 0.16458649093008493, experiment 0.16458649093008493, irish 0.16458649093008493, obsession 0.16458649093008493, overcome 0.16458649093008493, intentions 0.16458649093008493, tense 0.16458649093008493, tour 0.16458649093008493, wanna 0.16458649093008493, mindless 0.16458649093008493, glass 0.16458649093008493, fairy 0.16458649093008493, julie 0.16431664859334602, attacks 0.16431664859334602, chair 0.16431664859334602, aired 0.16431664859334602, criminals 0.16431664859334602, unforgettable 0.16431664859334602, letting 0.16431664859334602, connected 0.16431664859334602, whereas 0.16431664859334602, wilson 0.16431664859334602, rose 0.16431664859334602, scripts 0.16431664859334602, dean 0.1640461320463421, suspects 0.1640461320463421, 2006 0.1640461320463421, worry 0.1640461320463421, consists 0.1640461320463421, exceptional 0.1640461320463421, lovable 0.1640461320463421, quote 0.1640461320463421, madness 0.1640461320463421, ensemble 0.1640461320463421, stranger 0.1640461320463421, courage 0.1640461320463421, thousand 0.16377493672994162, wishes 0.16377493672994162, boredom 0.16377493672994162, annoyed 0.16377493672994162, clark 0.16377493672994162, luke 0.16377493672994162, steps 0.16377493672994162, drink 0.16377493672994162, tree 0.16377493672994162, suggests 0.16377493672994162, football 0.16377493672994162, belongs 0.16377493672994162, anderson 0.16377493672994162, per 0.16377493672994162, dislike 0.16377493672994162, guard 0.16377493672994162, stretch 0.16377493672994162, hiding 0.16377493672994162, brad 0.16377493672994162, endearing 0.1635030580213399, shower 0.1635030580213399, noted 0.1635030580213399, checking 0.1635030580213399, ourselves 0.1635030580213399, grim 0.1635030580213399, dinner 0.1635030580213399, contact 0.1635030580213399, idiotic 0.1635030580213399, bag 0.1635030580213399, troubled 0.1635030580213399, gain 0.1635030580213399, develops 0.1635030580213399, maker 0.1635030580213399, tune 0.1635030580213399, spin 0.1635030580213399, larger 0.1635030580213399, usa 0.1635030580213399, chasing 0.1632304912326921, baseball 0.1632304912326921, nose 0.1632304912326921, appearing 0.1632304912326921, neat 0.1632304912326921, louis 0.1632304912326921, cheese 0.1632304912326921, graphics 0.1632304912326921, mexican 0.1632304912326921, alice 0.1632304912326921, colorful 0.1632304912326921, susan 0.1632304912326921, 2000 0.1632304912326921, rob 0.1632304912326921, saves 0.1632304912326921, attraction 0.1632304912326921, hang 0.1632304912326921, mexico 0.1632304912326921, interviews 0.1629572316097103, technique 0.1629572316097103, elsewhere 0.1629572316097103, oliver 0.1629572316097103, flash 0.1629572316097103, concerns 0.1629572316097103, ghosts 0.1629572316097103, entry 0.1629572316097103, nation 0.1629572316097103, flight 0.1629572316097103, novels 0.1629572316097103, equal 0.1629572316097103, proof 0.1629572316097103, riding 0.1629572316097103, competent 0.1629572316097103, notorious 0.1629572316097103, perfection 0.1629572316097103, stealing 0.1629572316097103, dragged 0.16268327433021454, spots 0.16268327433021454, hong 0.16268327433021454, expensive 0.16268327433021454, spy 0.16268327433021454, closely 0.16268327433021454, hitting 0.16268327433021454, sentimental 0.16268327433021454, woman's 0.16268327433021454, michelle 0.16268327433021454, believing 0.16268327433021454, hip 0.16268327433021454, wake 0.16268327433021454, miscast 0.16268327433021454, month 0.16268327433021454, millions 0.16268327433021454, wwii 0.16268327433021454, countries 0.16268327433021454, accepted 0.16268327433021454, charisma 0.16268327433021454, mirror 0.16268327433021454, cameos 0.16268327433021454, fortune 0.16268327433021454, meaningful 0.16240861450264565, mouse 0.16240861450264565, split 0.16240861450264565, rushed 0.16240861450264565, clips 0.16240861450264565, retarded 0.16240861450264565, johnson 0.16240861450264565, dubbing 0.16240861450264565, condition 0.16240861450264565, china 0.16240861450264565, daughters 0.16240861450264565, arm 0.16240861450264565, striking 0.16240861450264565, appearances 0.16240861450264565, larry 0.16240861450264565, imaginative 0.16240861450264565, lying 0.16240861450264565, destruction 0.16240861450264565, was 0.16220709267654648, surrounded 0.16213324716453176, workers 0.16213324716453176, plastic 0.16213324716453176, countless 0.16213324716453176, mansion 0.16213324716453176, burning 0.16213324716453176, guts 0.16213324716453176, eerie 0.16213324716453176, thrillers 0.16213324716453176, briefly 0.16213324716453176, 16 0.16213324716453176, corner 0.16213324716453176, attempted 0.16213324716453176, fashioned 0.16213324716453176, shoots 0.16213324716453176, fitting 0.16213324716453176, thirty 0.16213324716453176, admittedly 0.16213324716453176, 18 0.16213324716453176, moore 0.16213324716453176, incoherent 0.16213324716453176, essence 0.16213324716453176, irony 0.16185716728090782, dialogs 0.16185716728090782, patient 0.16185716728090782, dare 0.16185716728090782, slight 0.16185716728090782, beating 0.16185716728090782, vacation 0.16185716728090782, achieved 0.16185716728090782, protagonists 0.16185716728090782, redemption 0.16185716728090782, goal 0.16185716728090782, encounters 0.16185716728090782, warner 0.16185716728090782, ripped 0.16185716728090782, anna 0.16185716728090782, ad 0.16185716728090782, hooked 0.16185716728090782, sings 0.16185716728090782, profound 0.16158036974269124, hearts 0.16158036974269124, neck 0.16158036974269124, truck 0.16158036974269124, glory 0.16158036974269124, dear 0.16158036974269124, flaw 0.16158036974269124, tricks 0.16158036974269124, vietnam 0.16158036974269124, mob 0.16158036974269124, unintentionally 0.16158036974269124, repeat 0.16158036974269124, disagree 0.16158036974269124, sends 0.16158036974269124, sexuality 0.16158036974269124, honor 0.16158036974269124, ultra 0.16158036974269124, specific 0.16158036974269124, anime 0.1613028493650061, wayne 0.1613028493650061, complaint 0.1613028493650061, revolution 0.1613028493650061, portrait 0.1613028493650061, oscars 0.1613028493650061, tribute 0.1613028493650061, carefully 0.1613028493650061, inspiring 0.1613028493650061, cousin 0.1613028493650061, dealt 0.1613028493650061, gag 0.1613028493650061, solve 0.1613028493650061, performers 0.1613028493650061, revelation 0.1613028493650061, card 0.1613028493650061, sitcom 0.1613028493650061, vampires 0.1613028493650061, kung 0.1613028493650061, 60's 0.1613028493650061, techniques 0.1613028493650061, 90's 0.1613028493650061, italy 0.1613028493650061, fest 0.1613028493650061, manager 0.1613028493650061, as 0.16104214660583005, mild 0.16102460088545462, crisis 0.16102460088545462, library 0.16102460088545462, terrifying 0.16102460088545462, stiff 0.16102460088545462, luckily 0.16102460088545462, stood 0.16102460088545462, dramas 0.16102460088545462, importance 0.16102460088545462, inevitable 0.16102460088545462, alex 0.16102460088545462, surrounding 0.16102460088545462, charismatic 0.16102460088545462, controversial 0.16102460088545462, elizabeth 0.16102460088545462, weight 0.16102460088545462, russell 0.16102460088545462, chases 0.16102460088545462, spending 0.16102460088545462, bbc 0.16074561896233833, jungle 0.16074561896233833, buck 0.16074561896233833, they'd 0.16074561896233833, pointed 0.16074561896233833, horrendous 0.16074561896233833, tear 0.16074561896233833, stated 0.16074561896233833, text 0.16074561896233833, associated 0.16074561896233833, wave 0.16074561896233833, rachel 0.16074561896233833, instantly 0.16074561896233833, metal 0.16074561896233833, wing 0.16074561896233833, pack 0.16074561896233833, con 0.1604658981728228, teach 0.1604658981728228, multi 0.1604658981728228, intention 0.1604658981728228, reactions 0.1604658981728228, 1950s 0.1604658981728228, cell 0.1604658981728228, franchise 0.1604658981728228, 60 0.1604658981728228, importantly 0.1604658981728228, cowboy 0.1604658981728228, spell 0.1604658981728228, smoking 0.1604658981728228, requires 0.1604658981728228, object 0.1604658981728228, keaton 0.1604658981728228, enters 0.1604658981728228, bus 0.1604658981728228, matrix 0.1604658981728228, santa 0.1604658981728228, covers 0.1604658981728228, aunt 0.16018543301104446, dropped 0.16018543301104446, easier 0.16018543301104446, shall 0.16018543301104446, weapon 0.16018543301104446, christ 0.16018543301104446, medical 0.16018543301104446, grows 0.16018543301104446, strikes 0.16018543301104446, chances 0.16018543301104446, sophisticated 0.16018543301104446, eyed 0.16018543301104446, strictly 0.16018543301104446, woody 0.16018543301104446, exercise 0.16018543301104446, selling 0.16018543301104446, thrills 0.16018543301104446, guilt 0.16018543301104446, typically 0.16018543301104446, trial 0.16018543301104446, julia 0.16018543301104446, westerns 0.16018543301104446, tea 0.16018543301104446, allowing 0.16018543301104446, demon 0.16018543301104446, assistant 0.1599042178861586, attached 0.1599042178861586, basement 0.1599042178861586, bridge 0.1599042178861586, evident 0.1599042178861586, host 0.1599042178861586, thumbs 0.1599042178861586, occurs 0.1599042178861586, rocks 0.1599042178861586, knife 0.1599042178861586, handful 0.1599042178861586, trade 0.1599042178861586, drags 0.1599042178861586, cook 0.1599042178861586, burn 0.1599042178861586, league 0.1599042178861586, huh 0.1599042178861586, brilliance 0.1596222471203244, relevant 0.1596222471203244, walls 0.1596222471203244, curse 0.1596222471203244, dig 0.1596222471203244, aforementioned 0.1596222471203244, health 0.1596222471203244, resolution 0.1596222471203244, afterwards 0.1596222471203244, wondered 0.1596222471203244, knock 0.1596222471203244, struck 0.1596222471203244, hunting 0.1596222471203244, identify 0.1596222471203244, pride 0.1596222471203244, wonders 0.1596222471203244, 2005 0.1596222471203244, kicks 0.1596222471203244, holiday 0.1596222471203244, dancer 0.1596222471203244, worlds 0.15933951494662676, tons 0.15933951494662676, blair 0.15933951494662676, battles 0.15933951494662676, overlooked 0.15933951494662676, letter 0.15933951494662676, flawless 0.15933951494662676, silver 0.15933951494662676, acceptable 0.15933951494662676, sexually 0.15933951494662676, bucks 0.15933951494662676, fish 0.15933951494662676, increasingly 0.15933951494662676, tremendous 0.15933951494662676, regardless 0.15933951494662676, appalling 0.15905601550692958, india 0.15905601550692958, highlights 0.15905601550692958, pleased 0.15905601550692958, jay 0.15905601550692958, kidnapped 0.15905601550692958, fired 0.15905601550692958, kudos 0.15905601550692958, pleasantly 0.15905601550692958, storm 0.15905601550692958, civil 0.15905601550692958, claire 0.15905601550692958, beings 0.15905601550692958, string 0.15905601550692958, vague 0.15905601550692958, pushed 0.15905601550692958, frustrated 0.15905601550692958, commit 0.15905601550692958, pitch 0.15905601550692958, threatening 0.15905601550692958, performing 0.15905601550692958, projects 0.15877174284966003, accomplished 0.15877174284966003, neighborhood 0.15877174284966003, zone 0.15877174284966003, prevent 0.15877174284966003, secretary 0.15877174284966003, miserably 0.15877174284966003, n 0.15877174284966003, stronger 0.15877174284966003, musicals 0.15877174284966003, ironically 0.15877174284966003, insulting 0.15877174284966003, 2002 0.15877174284966003, continued 0.15877174284966003, talked 0.15877174284966003, lacked 0.15877174284966003, mgm 0.15877174284966003, uninspired 0.15877174284966003, homage 0.15877174284966003, strip 0.15877174284966003, medium 0.15877174284966003, presumably 0.15877174284966003, rush 0.15877174284966003, 24 0.15877174284966003, planning 0.15848669092751913, gotta 0.15848669092751913, guest 0.15848669092751913, plague 0.15848669092751913, represents 0.15848669092751913, watches 0.15848669092751913, silence 0.15848669092751913, loser 0.15848669092751913, drivel 0.15848669092751913, generous 0.15848669092751913, photographed 0.15848669092751913, jumping 0.15848669092751913, toilet 0.15848669092751913, listed 0.15848669092751913, curiosity 0.15848669092751913, pg 0.15848669092751913, crimes 0.15848669092751913, superbly 0.15848669092751913, pro 0.15848669092751913, useless 0.15848669092751913, ralph 0.15848669092751913, push 0.15848669092751913, strike 0.15848669092751913, root 0.15848669092751913, beaten 0.15848669092751913, creation 0.15848669092751913, jessica 0.15848669092751913, hype 0.15848669092751913, 60s 0.15848669092751913, spoiled 0.1582008535951188, butt 0.1582008535951188, midnight 0.1582008535951188, 45 0.1582008535951188, burt 0.1582008535951188, hire 0.1582008535951188, picking 0.1582008535951188, slightest 0.1582008535951188, world's 0.1582008535951188, realise 0.1582008535951188, cared 0.1582008535951188, ambitious 0.1582008535951188, conceived 0.1582008535951188, characterization 0.1582008535951188, forgive 0.1582008535951188, returning 0.1582008535951188, nazi 0.1582008535951188, convoluted 0.1582008535951188, distant 0.1582008535951188, persona 0.1582008535951188, exaggerated 0.1582008535951188, depression 0.1582008535951188, brand 0.1582008535951188, achievement 0.1582008535951188, racism 0.15791422460653654, fifteen 0.15791422460653654, spooky 0.15791422460653654, guide 0.15791422460653654, competition 0.15791422460653654, killings 0.15791422460653654, precious 0.15791422460653654, relative 0.15791422460653654, hitchcock 0.15791422460653654, gift 0.15791422460653654, logical 0.15791422460653654, they'll 0.15791422460653654, response 0.15791422460653654, lane 0.15791422460653654, chain 0.15791422460653654, consequences 0.15791422460653654, videos 0.15791422460653654, murphy 0.15791422460653654, shortly 0.15791422460653654, fears 0.15791422460653654, subplot 0.15762679761279003, loosely 0.15762679761279003, corrupt 0.15762679761279003, timeless 0.15762679761279003, cabin 0.15762679761279003, slap 0.15762679761279003, miller 0.15762679761279003, worthless 0.15762679761279003, aimed 0.15762679761279003, notably 0.15762679761279003, revealing 0.15762679761279003, captivating 0.15762679761279003, repeatedly 0.15762679761279003, pulling 0.15762679761279003, poverty 0.15762679761279003, 1st 0.15762679761279003, menacing 0.15762679761279003, size 0.15762679761279003, colour 0.15762679761279003, breasts 0.15762679761279003, beast 0.15762679761279003, jackie 0.15762679761279003, smooth 0.15762679761279003, sarah 0.15762679761279003, row 0.15762679761279003, scripted 0.15762679761279003, fancy 0.15762679761279003, when 0.1573514145797153, directorial 0.1573385661592273, individuals 0.1573385661592273, jealous 0.1573385661592273, horrors 0.1573385661592273, definite 0.1573385661592273, subsequent 0.1573385661592273, distance 0.1573385661592273, jerk 0.1573385661592273, ian 0.1573385661592273, opposed 0.1573385661592273, intrigued 0.1573385661592273, cardboard 0.1573385661592273, shy 0.1573385661592273, worker 0.1573385661592273, providing 0.1570495236828226, burns 0.1570495236828226, snow 0.1570495236828226, melodramatic 0.1570495236828226, catherine 0.1570495236828226, investigation 0.1570495236828226, elderly 0.1570495236828226, shorts 0.1570495236828226, painting 0.1570495236828226, noble 0.1570495236828226, dawn 0.1570495236828226, obscure 0.1570495236828226, wreck 0.1570495236828226, titled 0.1570495236828226, ticket 0.1570495236828226, minimal 0.1570495236828226, reasonably 0.1570495236828226, admire 0.1570495236828226, 's 0.1570495236828226, noise 0.1570495236828226, reunion 0.1570495236828226, outcome 0.1570495236828226, splendid 0.1570495236828226, areas 0.1570495236828226, dragon 0.1570495236828226, overdone 0.15675966350938447, reached 0.15675966350938447, repetitive 0.15675966350938447, motivation 0.15675966350938447, dignity 0.15675966350938447, notes 0.15675966350938447, arrested 0.15675966350938447, meat 0.15675966350938447, territory 0.15675966350938447, failing 0.15675966350938447, invisible 0.15675966350938447, 1970s 0.15675966350938447, accused 0.15675966350938447, unbearable 0.15675966350938447, misses 0.15675966350938447, digital 0.15675966350938447, explore 0.15675966350938447, occurred 0.15675966350938447, reduced 0.15675966350938447, marks 0.15675966350938447, outrageous 0.15675966350938447, pitt 0.15675966350938447, screams 0.15675966350938447, returned 0.15675966350938447, buried 0.15675966350938447, cooper 0.15675966350938447, jewish 0.15675966350938447, more 0.15655135329601613, unbelievably 0.15646897885066305, nights 0.15646897885066305, dire 0.15646897885066305, sole 0.15646897885066305, remaining 0.15646897885066305, hood 0.15646897885066305, marie 0.15646897885066305, blows 0.15646897885066305, elaborate 0.15646897885066305, attracted 0.15646897885066305, childish 0.15646897885066305, press 0.15646897885066305, hitler 0.15646897885066305, suits 0.15646897885066305, helen 0.15646897885066305, reasonable 0.15646897885066305, roy 0.15646897885066305, hysterical 0.15646897885066305, rid 0.15646897885066305, fatal 0.15646897885066305, poster 0.15646897885066305, ignored 0.15646897885066305, spirited 0.15646897885066305, currently 0.15646897885066305, pet 0.15646897885066305, bullets 0.15646897885066305, gradually 0.15646897885066305, altogether 0.1561774628013558, stunts 0.1561774628013558, heat 0.1561774628013558, nancy 0.1561774628013558, recognized 0.1561774628013558, hills 0.1561774628013558, trap 0.1561774628013558, heroic 0.1561774628013558, wannabe 0.1561774628013558, bare 0.1561774628013558, beer 0.1561774628013558, farce 0.1561774628013558, bride 0.1561774628013558, bears 0.1561774628013558, exposed 0.1561774628013558, improved 0.1561774628013558, throat 0.1561774628013558, idiots 0.1561774628013558, existed 0.1561774628013558, imagined 0.1561774628013558, darker 0.1561774628013558, worried 0.1561774628013558, contained 0.1561774628013558, psychotic 0.1561774628013558, stunt 0.1561774628013558, mst3k 0.1561774628013558, movements 0.1561774628013558, contrary 0.1558851083360089, ranks 0.1558851083360089, ah 0.1558851083360089, pacino 0.1558851083360089, broad 0.1558851083360089, sadness 0.1558851083360089, massacre 0.1558851083360089, connect 0.1558851083360089, pseudo 0.1558851083360089, liberal 0.1558851083360089, sloppy 0.1558851083360089, neighbor 0.1558851083360089, factory 0.1558851083360089, laura 0.1558851083360089, load 0.1558851083360089, involvement 0.1558851083360089, dorothy 0.1558851083360089, doors 0.1558851083360089, creators 0.1558851083360089, triumph 0.1558851083360089, ego 0.1558851083360089, sacrifice 0.1558851083360089, inspector 0.15559190830580627, magazine 0.15559190830580627, absence 0.15559190830580627, 2004 0.15559190830580627, lloyd 0.15559190830580627, installment 0.15559190830580627, thick 0.15559190830580627, 20th 0.15559190830580627, gothic 0.15559190830580627, explicit 0.15559190830580627, freak 0.15559190830580627, sons 0.15559190830580627, drunken 0.15559190830580627, executive 0.15559190830580627, stanley 0.15559190830580627, adequate 0.15559190830580627, occur 0.15559190830580627, tortured 0.15559190830580627, sticks 0.15559190830580627, corpse 0.15559190830580627, suited 0.15559190830580627, messages 0.15559190830580627, builds 0.15559190830580627, curtis 0.15559190830580627, demons 0.15559190830580627, canada 0.15529785543524086, anyways 0.15529785543524086, intent 0.15529785543524086, arrive 0.15529785543524086, birthday 0.15529785543524086, enjoys 0.15529785543524086, resembles 0.15529785543524086, blend 0.15529785543524086, ridiculously 0.15529785543524086, comfortable 0.15529785543524086, raped 0.15529785543524086, kurt 0.15529785543524086, displays 0.15529785543524086, he'll 0.15529785543524086, horses 0.15529785543524086, discovery 0.15529785543524086, horrid 0.15529785543524086, swear 0.15529785543524086, smoke 0.15529785543524086, draws 0.15529785543524086, contract 0.15529785543524086, pretend 0.15529785543524086, jeremy 0.15529785543524086, complain 0.15529785543524086, 99 0.15500294231866954, segments 0.15500294231866954, extended 0.15500294231866954, hoffman 0.15500294231866954, superficial 0.15500294231866954, beats 0.15500294231866954, demands 0.15500294231866954, concerning 0.15500294231866954, cheek 0.15500294231866954, merit 0.15500294231866954, wicked 0.15500294231866954, differences 0.15500294231866954, incident 0.15500294231866954, threw 0.15500294231866954, disease 0.15500294231866954, commercials 0.15500294231866954, vincent 0.15500294231866954, staged 0.15500294231866954, los 0.15500294231866954, cox 0.15500294231866954, overwhelming 0.15500294231866954, antics 0.15500294231866954, von 0.15500294231866954, vicious 0.1547071614167356, estate 0.1547071614167356, daring 0.1547071614167356, translation 0.1547071614167356, duo 0.1547071614167356, shadows 0.1547071614167356, 1980s 0.1547071614167356, thrill 0.1547071614167356, kitchen 0.1547071614167356, documentaries 0.1547071614167356, tunes 0.1547071614167356, oil 0.1547071614167356, cried 0.1547071614167356, thief 0.1547071614167356, argument 0.1547071614167356, website 0.1547071614167356, discussion 0.1547071614167356, gentle 0.1547071614167356, 50's 0.1547071614167356, sin 0.1547071614167356, partly 0.1547071614167356, critic 0.1547071614167356, investigate 0.1544105050526609, receive 0.1544105050526609, overrated 0.1544105050526609, engaged 0.1544105050526609, proceedings 0.1544105050526609, secrets 0.1544105050526609, restaurant 0.1544105050526609, argue 0.1544105050526609, cameras 0.1544105050526609, odds 0.1544105050526609, lisa 0.1544105050526609, angels 0.1544105050526609, godfather 0.1544105050526609, foster 0.1544105050526609, winter 0.1544105050526609, britain 0.1544105050526609, girl's 0.15411296540840103, barry 0.15411296540840103, sutherland 0.15411296540840103, shoes 0.15411296540840103, selfish 0.15411296540840103, ted 0.15411296540840103, threat 0.15411296540840103, pie 0.15411296540840103, kane 0.15411296540840103, affected 0.15411296540840103, border 0.15411296540840103, morality 0.15411296540840103, 1930s 0.15411296540840103, piano 0.15411296540840103, scientists 0.15411296540840103, mile 0.15411296540840103, 1950's 0.15411296540840103, concert 0.15411296540840103, catholic 0.15411296540840103, broadcast 0.15411296540840103, clues 0.15411296540840103, ease 0.15411296540840103, harder 0.15411296540840103, composed 0.15411296540840103, twin 0.15411296540840103, bin 0.15411296540840103, freddy 0.15411296540840103, scientific 0.15411296540840103, innovative 0.15411296540840103, 2003 0.15381453452064855, styles 0.15381453452064855, synopsis 0.15381453452064855, ought 0.15381453452064855, tame 0.15381453452064855, coherent 0.15381453452064855, craft 0.15381453452064855, brazil 0.15381453452064855, trio 0.15381453452064855, reed 0.15381453452064855, editor 0.15381453452064855, vivid 0.15381453452064855, stole 0.15381453452064855, citizen 0.15381453452064855, explosion 0.15381453452064855, block 0.15381453452064855, offering 0.15381453452064855, spiritual 0.15381453452064855, popcorn 0.15381453452064855, cup 0.15381453452064855, folk 0.15381453452064855, bone 0.15381453452064855, drawing 0.15381453452064855, lit 0.15351520427669224, st 0.15351520427669224, baker 0.15351520427669224, audio 0.15351520427669224, superman 0.15351520427669224, blank 0.15351520427669224, web 0.15351520427669224, bathroom 0.15351520427669224, university 0.15351520427669224, genres 0.15351520427669224, kidding 0.15351520427669224, population 0.15351520427669224, souls 0.15351520427669224, navy 0.15351520427669224, bat 0.15321496641010826, show's 0.15321496641010826, nelson 0.15321496641010826, we'll 0.15321496641010826, holy 0.15321496641010826, union 0.15321496641010826, tall 0.15321496641010826, andrew 0.15321496641010826, bollywood 0.15321496641010826, escaped 0.15321496641010826, conspiracy 0.15291381249628747, spring 0.15291381249628747, shining 0.15291381249628747, philip 0.15291381249628747, pushing 0.15291381249628747, bleak 0.15291381249628747, rogers 0.15291381249628747, hatred 0.15291381249628747, landscape 0.15291381249628747, it's 0.15274019528963537, eve 0.15261173394778751, nurse 0.15261173394778751, dialogues 0.15261173394778751, sadistic 0.15261173394778751, dynamic 0.15261173394778751, kenneth 0.15261173394778751, newspaper 0.15261173394778751, photographer 0.15261173394778751, conversations 0.15261173394778751, nuclear 0.15261173394778751, explosions 0.15261173394778751, sidney 0.15230872200949633, juvenile 0.15230872200949633, grey 0.15230872200949633, craig 0.15230872200949633, 2nd 0.15230872200949633, clothing 0.15230872200949633, le 0.15230872200949633, aging 0.15230872200949633, mate 0.15230872200949633, farm 0.15230872200949633, bible 0.15230872200949633, carter 0.15230872200949633, indians 0.15230872200949633, roberts 0.15230872200949633, burned 0.15230872200949633, rage 0.15230872200949633, rural 0.1520047677536047, disc 0.1520047677536047, fx 0.1520047677536047, narrator 0.1520047677536047, choreography 0.1520047677536047, glenn 0.1520047677536047, buddies 0.1520047677536047, australia 0.1516998620743743, symbolism 0.1516998620743743, goldberg 0.1516998620743743, pat 0.1516998620743743, powell 0.1516998620743743, bullet 0.1516998620743743, shirt 0.1516998620743743, birds 0.15139399568268855, twelve 0.15139399568268855, iii 0.15139399568268855, turner 0.15139399568268855, jamie 0.15139399568268855, on 0.15124554427085452, warren 0.15108715910038029, pulp 0.15108715910038029, bette 0.15108715910038029, foul 0.15108715910038029, grandmother 0.15108715910038029, lab 0.15108715910038029, manhattan 0.15108715910038029, werewolf 0.15077934265432222, mountains 0.15077934265432222, mitchell 0.15077934265432222, emma 0.15077934265432222, mother's 0.15077934265432222, sally 0.15077934265432222, mel 0.15077934265432222, futuristic 0.15077934265432222, cruise 0.15077934265432222, comics 0.15077934265432222, timothy 0.15077934265432222, mafia 0.15077934265432222, fbi 0.15077934265432222, psychiatrist 0.15077934265432222, francisco 0.15047053647026565, progress 0.15047053647026565, journalist 0.15047053647026565, denzel 0.15047053647026565, [oov] 0.15016073046641448, virgin 0.15016073046641448, homeless 0.15016073046641448, caine 0.15016073046641448, hugh 0.15016073046641448, ward 0.15016073046641448, empire 0.15016073046641448, ned 0.14984991434672684, wes 0.14984991434672684, emily 0.14984991434672684, slave 0.14984991434672684, bobby 0.14984991434672684, reynolds 0.14984991434672684, ken 0.14984991434672684, matthew 0.14984991434672684, monkey 0.1495380775939154, savage 0.1495380775939154, chuck 0.1495380775939154, bugs 0.1495380775939154, sinatra 0.1495380775939154, bite 0.1492252094621475, bird 0.1492252094621475, maria 0.1492252094621475, glover 0.1492252094621475, alexander 0.1492252094621475, q 0.1492252094621475, versus 0.1489112989694103, warrior 0.1489112989694103, freeman 0.1489112989694103, lion 0.1489112989694103, carol 0.1489112989694103, chan 0.1489112989694103, leg 0.14859633488953672, soviet 0.14859633488953672, ho 0.14828030574386455, lucy 0.14828030574386455, jazz 0.14828030574386455, chaplin 0.14828030574386455, brooks 0.14828030574386455, walken 0.14828030574386455, temple 0.14828030574386455, korean 0.14828030574386455, wolf 0.14828030574386455, hudson 0.1479631997925085, thugs 0.1479631997925085, eva 0.1479631997925085, hardy 0.1479631997925085, ha 0.1476450050252251, derek 0.1476450050252251, tap 0.1476450050252251, duke 0.1476450050252251, rex 0.14732570915184504, hanks 0.14732570915184504, rap 0.14732570915184504, diamond 0.14732570915184504, virus 0.14732570915184504, fever 0.14732570915184504, neil 0.14732570915184504, tracy 0.14732570915184504, annie 0.14732570915184504, bush 0.1470052995922442, jet 0.1470052995922442, welles 0.1470052995922442, terry 0.14668376346583045, spielberg 0.14668376346583045, ritter 0.14668376346583045, cia 0.14668376346583045, machines 0.14668376346583045, carrie 0.14636108758051253, greek 0.14636108758051253, shark 0.14603725842112086, dancers 0.14603725842112086, blah 0.14603725842112086, titanic 0.14603725842112086, arnold 0.1457122621372436, purple 0.1457122621372436, nazis 0.14538608453044186, gray 0.14538608453044186, abc 0.14538608453044186, samurai 0.1450587110408048, branagh 0.1450587110408048, sunshine 0.14473012673280067, sandler 0.14473012673280067, lucas 0.14473012673280067, norman 0.14473012673280067, jake 0.14473012673280067, robots 0.14473012673280067, margaret 0.14473012673280067, cole 0.14440031628037406, ruth 0.14440031628037406, tarzan 0.14440031628037406, spike 0.14440031628037406, doc 0.14440031628037406, bo 0.14440031628037406, burton 0.14440031628037406, good 0.14414284028450944, victoria 0.14406926395124403, widmark 0.14406926395124403, ireland 0.14406926395124403, what 0.1437701791421144, joey 0.1437369535903439, heston 0.1437369535903439, some 0.1435434639597715, ellen 0.14340336860234604, lugosi 0.14340336860234604, cinderella 0.14306849193320428, swedish 0.14306849193320428, cube 0.14306849193320428, dentist 0.14273230605065026, fisher 0.14273230605065026, brando 0.14273230605065026, jesse 0.14273230605065026, carpenter 0.14273230605065026, sullivan 0.1423947929235584, dave 0.1423947929235584, boxing 0.14205593400010533, there 0.1418779624196607, superhero 0.14171571018463142, lou 0.14171571018463142, matthau 0.1413741018131026, andrews 0.1413741018131026, holmes 0.14103108862707056, dinosaurs 0.14103108862707056, dawson 0.14103108862707056, flynn 0.14103108862707056, movie 0.141022000790887, cusack 0.14068664974601053, hamlet 0.14034076363790884, stanwyck 0.1399934080879624, carrey 0.1396445601652314, brosnan 0.13929419618707609, elvis 0.13929419618707609, rambo 0.13929419618707609, laurel 0.13929419618707609, he 0.1385078439605686, davies 0.138233759002445, boll 0.138233759002445, columbo 0.13787707755705528, stan 0.13715874406891432, fay 0.1367970327651482, doo 0.1367970327651482, prom 0.1360683644001826, giallo 0.1360683644001826, seagal 0.1357013410083293, not 0.13549611968963665, has 0.1354783090969711, lincoln 0.13533247837478124, bourne 0.13533247837478124, lily 0.13533247837478124, karloff 0.13458908740049894, cagney 0.13458908740049894, rochester 0.1342144811278597, astaire 0.13383787954155477, scooby 0.13383787954155477, elvira 0.13345923924994796, blob 0.13269565888122492, streisand 0.13114188466464327, br 0.1309346398826274, or 0.13087082876686804, che 0.13074757138469484, they 0.1304115179992184, modesty 0.13035078667187847, about 0.12851368478535932, bettie 0.1283272714839826, just 0.1276629955814605, out 0.12676587334147674, his 0.1258562226945649, if 0.12572110124835809, have 0.1240672728210739, be 0.12349682332849672, one 0.1230251402693025, are 0.12077970059631232, who 0.12043725011468617, film 0.12000300715805873, like 0.11595787743249907, so 0.11572665335359983, from 0.11572071478114261, by 0.11568524093846272, all 0.11462714651385283, at 0.11412443557210904, you 0.11395790331373422, an 0.11371039464451377]\n"
          ]
        },
        {
          "output_type": "error",
          "ename": "KeyboardInterrupt",
          "evalue": "ignored",
          "traceback": [
            "\u001b[0;31m---------------------------------------------------------------------------\u001b[0m",
            "\u001b[0;31mKeyboardInterrupt\u001b[0m                         Traceback (most recent call last)",
            "\u001b[0;32m<ipython-input-136-4d05dba08e91>\u001b[0m in \u001b[0;36m<module>\u001b[0;34m()\u001b[0m\n\u001b[1;32m     12\u001b[0m     \u001b[0mc\u001b[0m \u001b[0;34m=\u001b[0m \u001b[0mfindValueFromArray\u001b[0m\u001b[0;34m(\u001b[0m\u001b[0msentense\u001b[0m\u001b[0;34m,\u001b[0m \u001b[0mmax\u001b[0m\u001b[0;34m.\u001b[0m\u001b[0mindex\u001b[0m\u001b[0;34m)\u001b[0m\u001b[0;34m\u001b[0m\u001b[0;34m\u001b[0m\u001b[0m\n\u001b[1;32m     13\u001b[0m     \u001b[0;32mwhile\u001b[0m \u001b[0mlen\u001b[0m\u001b[0;34m(\u001b[0m\u001b[0mcopy_words\u001b[0m\u001b[0;34m)\u001b[0m \u001b[0;34m!=\u001b[0m \u001b[0;36m0\u001b[0m \u001b[0;32mand\u001b[0m \u001b[0mmax\u001b[0m\u001b[0;34m.\u001b[0m\u001b[0mp0\u001b[0m \u001b[0;34m!=\u001b[0m \u001b[0;36m1\u001b[0m \u001b[0;32mand\u001b[0m \u001b[0mmax\u001b[0m\u001b[0;34m.\u001b[0m\u001b[0mp1\u001b[0m \u001b[0;34m!=\u001b[0m\u001b[0;36m1\u001b[0m\u001b[0;34m:\u001b[0m\u001b[0;34m\u001b[0m\u001b[0;34m\u001b[0m\u001b[0m\n\u001b[0;32m---> 14\u001b[0;31m       \u001b[0mnext\u001b[0m \u001b[0;34m=\u001b[0m \u001b[0mfindTheNextWord\u001b[0m\u001b[0;34m(\u001b[0m\u001b[0mmax\u001b[0m\u001b[0;34m,\u001b[0m \u001b[0mcopy_words\u001b[0m\u001b[0;34m,\u001b[0m \u001b[0mc\u001b[0m\u001b[0;34m)\u001b[0m\u001b[0;34m\u001b[0m\u001b[0;34m\u001b[0m\u001b[0m\n\u001b[0m\u001b[1;32m     15\u001b[0m       \u001b[0;32mif\u001b[0m\u001b[0;34m(\u001b[0m\u001b[0mnext\u001b[0m \u001b[0;34m==\u001b[0m \u001b[0;32mNone\u001b[0m\u001b[0;34m)\u001b[0m\u001b[0;34m:\u001b[0m\u001b[0;34m\u001b[0m\u001b[0;34m\u001b[0m\u001b[0m\n\u001b[1;32m     16\u001b[0m         \u001b[0mstopTheWhile\u001b[0m \u001b[0;34m=\u001b[0m \u001b[0;32mTrue\u001b[0m\u001b[0;34m\u001b[0m\u001b[0;34m\u001b[0m\u001b[0m\n",
            "\u001b[0;32m<ipython-input-18-6fc11ce63a2d>\u001b[0m in \u001b[0;36mfindTheNextWord\u001b[0;34m(maxWord, array, c)\u001b[0m\n\u001b[1;32m      1\u001b[0m \u001b[0;32mdef\u001b[0m \u001b[0mfindTheNextWord\u001b[0m\u001b[0;34m(\u001b[0m\u001b[0mmaxWord\u001b[0m\u001b[0;34m,\u001b[0m \u001b[0marray\u001b[0m\u001b[0;34m,\u001b[0m \u001b[0mc\u001b[0m\u001b[0;34m)\u001b[0m\u001b[0;34m:\u001b[0m\u001b[0;34m\u001b[0m\u001b[0;34m\u001b[0m\u001b[0m\n\u001b[1;32m      2\u001b[0m   \u001b[0mnextWord\u001b[0m \u001b[0;34m=\u001b[0m \u001b[0marray\u001b[0m\u001b[0;34m.\u001b[0m\u001b[0mpop\u001b[0m\u001b[0;34m(\u001b[0m\u001b[0;34m)\u001b[0m\u001b[0;34m\u001b[0m\u001b[0;34m\u001b[0m\u001b[0m\n\u001b[0;32m----> 3\u001b[0;31m   \u001b[0;32mwhile\u001b[0m \u001b[0mhasTheWord\u001b[0m\u001b[0;34m(\u001b[0m\u001b[0mmaxWord\u001b[0m\u001b[0;34m,\u001b[0m \u001b[0mnextWord\u001b[0m\u001b[0;34m)\u001b[0m \u001b[0;34m!=\u001b[0m \u001b[0mc\u001b[0m\u001b[0;34m:\u001b[0m\u001b[0;34m\u001b[0m\u001b[0;34m\u001b[0m\u001b[0m\n\u001b[0m\u001b[1;32m      4\u001b[0m     \u001b[0;32mif\u001b[0m \u001b[0mlen\u001b[0m\u001b[0;34m(\u001b[0m\u001b[0marray\u001b[0m\u001b[0;34m)\u001b[0m \u001b[0;34m==\u001b[0m \u001b[0;36m0\u001b[0m\u001b[0;34m:\u001b[0m\u001b[0;34m\u001b[0m\u001b[0;34m\u001b[0m\u001b[0m\n\u001b[1;32m      5\u001b[0m       \u001b[0;32mreturn\u001b[0m \u001b[0;32mNone\u001b[0m\u001b[0;34m\u001b[0m\u001b[0;34m\u001b[0m\u001b[0m\n",
            "\u001b[0;32m<ipython-input-16-ac6c90f03ced>\u001b[0m in \u001b[0;36mhasTheWord\u001b[0;34m(word1, word2)\u001b[0m\n\u001b[1;32m      3\u001b[0m   \u001b[0mindex2\u001b[0m \u001b[0;34m=\u001b[0m \u001b[0mword2\u001b[0m\u001b[0;34m.\u001b[0m\u001b[0mindex\u001b[0m\u001b[0;34m\u001b[0m\u001b[0;34m\u001b[0m\u001b[0m\n\u001b[1;32m      4\u001b[0m   \u001b[0;32mfor\u001b[0m \u001b[0mx\u001b[0m \u001b[0;32min\u001b[0m \u001b[0mx_train_binary\u001b[0m\u001b[0;34m:\u001b[0m\u001b[0;34m\u001b[0m\u001b[0;34m\u001b[0m\u001b[0m\n\u001b[0;32m----> 5\u001b[0;31m     \u001b[0;32mif\u001b[0m\u001b[0;34m(\u001b[0m\u001b[0mx\u001b[0m\u001b[0;34m[\u001b[0m\u001b[0mindex1\u001b[0m\u001b[0;34m]\u001b[0m \u001b[0;34m==\u001b[0m \u001b[0;36m1\u001b[0m \u001b[0;32mand\u001b[0m \u001b[0mx\u001b[0m\u001b[0;34m[\u001b[0m\u001b[0mindex2\u001b[0m\u001b[0;34m]\u001b[0m \u001b[0;34m==\u001b[0m \u001b[0;36m1\u001b[0m\u001b[0;34m)\u001b[0m\u001b[0;34m:\u001b[0m\u001b[0;34m\u001b[0m\u001b[0;34m\u001b[0m\u001b[0m\n\u001b[0m\u001b[1;32m      6\u001b[0m       \u001b[0;32mreturn\u001b[0m \u001b[0;36m1\u001b[0m\u001b[0;34m\u001b[0m\u001b[0;34m\u001b[0m\u001b[0m\n\u001b[1;32m      7\u001b[0m \u001b[0;34m\u001b[0m\u001b[0m\n",
            "\u001b[0;31mKeyboardInterrupt\u001b[0m: "
          ]
        }
      ],
      "source": [
        "j = 0\n",
        "#next = findTheNextWord(max, words, c)\n",
        "good_result = 0\n",
        "print(len(x_train_binary))\n",
        "print(\"hello let's start\")\n",
        "print(words)\n",
        "for sentense in x_train_binary:\n",
        "  copy_words = words.copy()\n",
        "  max = copy_words.pop()\n",
        "  stopTheWhile = False\n",
        "  while len(copy_words) !=0 and not stopTheWhile:\n",
        "    c = findValueFromArray(sentense, max.index)\n",
        "    while len(copy_words) != 0 and max.p0 != 1 and max.p1 !=1:\n",
        "      next = findTheNextWord(max, copy_words, c)\n",
        "      if(next == None):\n",
        "        stopTheWhile = True\n",
        "        break\n",
        "      max = next\n",
        "  if(max.p0 > max.p1):\n",
        "    if 0 == y_train[j]:\n",
        "      good_result += 1\n",
        "  else:\n",
        "    if 1 == y_train[j]:\n",
        "      good_result += 1\n",
        "\n",
        "  j+=1\n",
        "  print(good_result/j*100)\n",
        "\n",
        "\n",
        "\n",
        "print(\"teliko\")\n",
        "print(good_result/j*100)\n"
      ]
    },
    {
      "cell_type": "markdown",
      "source": [
        "ID3 class"
      ],
      "metadata": {
        "id": "9CntF0sUe4TK"
      }
    },
    {
      "cell_type": "code",
      "source": [
        "class ID3:\n",
        "    def __init__(self, x_tr_bin:list(), y_tr:list(), wor:list()):\n",
        "        self.x_tr_bin = x_tr_bin\n",
        "        self.y_tr = y_tr\n",
        "        self.wor  = wor\n",
        "\n",
        "    def run(self):\n",
        "      j = 0 #next = findTheNextWord(max, words, c)\n",
        "      good_result = 0\n",
        "      print('------------------------------stolou------- len(self.x_tr_bin)', len(self.x_tr_bin))\n",
        "      print(\"------------------------------stolou------- hello let's start\")\n",
        "      print(self.wor)\n",
        "      for sentense in self.x_tr_bin:\n",
        "        print('!!@@@@!!@!@!@protash')\n",
        "        copy_words = self.wor.copy()\n",
        "        max = copy_words.pop()\n",
        "        stopTheWhile = False\n",
        "        while len(copy_words) !=0 and not stopTheWhile:\n",
        "          c = findValueFromArray(sentense, max.index)\n",
        "          while len(copy_words) != 0 and max.p0 != 1 and max.p1 !=1:\n",
        "            next = findTheNextWord(max, copy_words, c)\n",
        "            if(next == None):\n",
        "              stopTheWhile = True\n",
        "              break\n",
        "            max = next\n",
        "        if(max.p0 > max.p1):\n",
        "          if 0 == self.y_tr[j]:\n",
        "            good_result += 1\n",
        "        else:\n",
        "          if 1 == self.y_tr[j]:\n",
        "            good_result += 1\n",
        "\n",
        "        j+=1\n",
        "        \n",
        "        print('------------------------------stolou------- ', good_result/j*100)\n",
        "      return good_result/j*100"
      ],
      "metadata": {
        "id": "rOFM9pjQGfrj"
      },
      "execution_count": null,
      "outputs": []
    },
    {
      "cell_type": "markdown",
      "source": [
        "Run ID3 class"
      ],
      "metadata": {
        "id": "hQWm1a7yezRg"
      }
    },
    {
      "cell_type": "code",
      "source": [
        "id3Obj = ID3(x_train_binary, y_train, words)\n",
        "id3Obj.run()"
      ],
      "metadata": {
        "id": "rE0TZa4YGnJO"
      },
      "execution_count": null,
      "outputs": []
    },
    {
      "cell_type": "code",
      "source": [
        "import random\n",
        "from random import randint\n",
        "\"\"\"\n",
        "- emina sth fash pou enna mikratw thn lista words(tixeo iposinolo, idio gia oulla)\n",
        "na dw dld pws enna gnt o xorismos giati en j h lista words pou enna allassei gia kathe dentro\n",
        "na eshei omos diplotipa\n",
        "\"\"\"\n",
        "#print(len(words))\n",
        "#print(words)\n",
        "\n",
        "numOfTrees = 3 # number of trees in random forest, kanonika prepei na en tosa nmz: int(len(x_train_binary) * 0.3)\n",
        "\n",
        "# random size for words' subset(prepei na einai idio gia kathe dentro)\n",
        "wordsSize = 100 # randint(100, len(words))\n",
        "newl = random.choices(words, k=wordsSize) # subets with same length\n",
        "#print(len(newl))\n",
        "\n",
        "\"\"\"\n",
        "id3Obj = ID3(x_train_binary, y_train, words)\n",
        "\"\"\"\n",
        "randomForest = []\n",
        "resRF = []\n",
        "newX_train_binary = x_train_binary[:5] # prosorina, meta enna mpei oullh alios osh theloume\n",
        "newY_train = y_train[:5] # >>\n",
        "\n",
        "for i in range(numOfTrees):\n",
        "  subWords = random.choices(words, k=5) # subWords = random.choices(words, k=wordsSize)\n",
        "  randomForest.append(ID3(newX_train_binary, newY_train, subWords))\n",
        "\n",
        "print(len(randomForest))\n",
        "\n",
        "for obj in randomForest:\n",
        "  temp = obj.run()\n",
        "  resRF.append(temp)\n",
        "  print('end of tree\\n\\n\\n\\n', temp)\n",
        "\n",
        "\n",
        "\n",
        "print('\\nresRF: ', resRF)\n"
      ],
      "metadata": {
        "colab": {
          "base_uri": "https://localhost:8080/"
        },
        "id": "tFjP5wFpe91D",
        "outputId": "7388f677-9a94-4f83-89c5-3d76f97b29ee"
      },
      "execution_count": null,
      "outputs": [
        {
          "output_type": "stream",
          "name": "stdout",
          "text": [
            "3\n",
            "------------------------------stolou------- len(self.x_tr_bin) 5\n",
            "------------------------------stolou------- hello let's start\n",
            "[albert 0.16984826261803518, opens 0.19048361656670298, aliens 0.16777358869801132, prom 0.1360683644001826, versus 0.1489112989694103]\n",
            "!!@@@@!!@!@!@protash\n",
            "------------------------------stolou-------  100.0\n",
            "!!@@@@!!@!@!@protash\n",
            "------------------------------stolou-------  50.0\n",
            "!!@@@@!!@!@!@protash\n",
            "------------------------------stolou-------  33.33333333333333\n",
            "!!@@@@!!@!@!@protash\n",
            "------------------------------stolou-------  50.0\n",
            "!!@@@@!!@!@!@protash\n",
            "------------------------------stolou-------  40.0\n",
            "end of tree\n",
            "\n",
            "\n",
            "\n",
            " 40.0\n",
            "------------------------------stolou------- len(self.x_tr_bin) 5\n",
            "------------------------------stolou------- hello let's start\n",
            "[built 0.18339672335546067, humorous 0.19005296181525247, importance 0.16102460088545462, decade 0.18632747674102956, branagh 0.1450587110408048]\n",
            "!!@@@@!!@!@!@protash\n",
            "------------------------------stolou-------  100.0\n",
            "!!@@@@!!@!@!@protash\n",
            "------------------------------stolou-------  50.0\n",
            "!!@@@@!!@!@!@protash\n",
            "------------------------------stolou-------  33.33333333333333\n",
            "!!@@@@!!@!@!@protash\n",
            "------------------------------stolou-------  50.0\n",
            "!!@@@@!!@!@!@protash\n",
            "------------------------------stolou-------  40.0\n",
            "end of tree\n",
            "\n",
            "\n",
            "\n",
            " 40.0\n",
            "------------------------------stolou------- len(self.x_tr_bin) 5\n",
            "------------------------------stolou------- hello let's start\n",
            "[becomes 0.30339299548166565, watch 0.26937370830514457, himself 0.3280920908049255, enjoys 0.15529785543524086, husband 0.2641296647891016]\n",
            "!!@@@@!!@!@!@protash\n",
            "------------------------------stolou-------  100.0\n",
            "!!@@@@!!@!@!@protash\n",
            "------------------------------stolou-------  50.0\n",
            "!!@@@@!!@!@!@protash\n",
            "------------------------------stolou-------  33.33333333333333\n",
            "!!@@@@!!@!@!@protash\n",
            "------------------------------stolou-------  50.0\n",
            "!!@@@@!!@!@!@protash\n",
            "------------------------------stolou-------  40.0\n",
            "end of tree\n",
            "\n",
            "\n",
            "\n",
            " 40.0\n",
            "\n",
            "resRF:  [40.0, 40.0, 40.0]\n"
          ]
        }
      ]
    }
  ],
  "metadata": {
    "colab": {
      "collapsed_sections": [],
      "name": "old_RF.ipynb",
      "provenance": []
    },
    "kernelspec": {
      "display_name": "Python 3",
      "name": "python3"
    },
    "language_info": {
      "name": "python"
    }
  },
  "nbformat": 4,
  "nbformat_minor": 0
}