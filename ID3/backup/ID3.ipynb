{
  "cells": [
    {
      "cell_type": "markdown",
      "metadata": {
        "id": "YsOzWPK3sQTk"
      },
      "source": [
        "add data"
      ]
    },
    {
      "cell_type": "code",
      "execution_count": null,
      "metadata": {
        "id": "Kg6skOVdlPyy",
        "colab": {
          "base_uri": "https://localhost:8080/"
        },
        "outputId": "133e0c4e-3617-44b5-f203-6f47544674a7"
      },
      "outputs": [
        {
          "output_type": "stream",
          "name": "stdout",
          "text": [
            "Downloading data from https://storage.googleapis.com/tensorflow/tf-keras-datasets/imdb.npz\n",
            "17465344/17464789 [==============================] - 0s 0us/step\n",
            "17473536/17464789 [==============================] - 0s 0us/step\n",
            "Downloading data from https://storage.googleapis.com/tensorflow/tf-keras-datasets/imdb_word_index.json\n",
            "1646592/1641221 [==============================] - 0s 0us/step\n",
            "1654784/1641221 [==============================] - 0s 0us/step\n"
          ]
        }
      ],
      "source": [
        "import tensorflow as tf\n",
        "import numpy as np\n",
        "\n",
        "(x_train, y_train), (x_test, y_test) = tf.keras.datasets.imdb.load_data(num_words=4000)\n",
        "\n",
        "word_index = tf.keras.datasets.imdb.get_word_index()\n",
        "index2word = dict((i + 3, word) for (word, i) in word_index.items())\n",
        "index2word[0] = '[pad]'\n",
        "index2word[1] = '[bos]'\n",
        "index2word[2] = '[oov]'\n",
        "x_train = np.array([' '.join([index2word[idx] for idx in text]) for text in x_train])\n",
        "x_test = np.array([' '.join([index2word[idx] for idx in text]) for text in x_test])"
      ]
    },
    {
      "cell_type": "code",
      "execution_count": null,
      "metadata": {
        "colab": {
          "base_uri": "https://localhost:8080/"
        },
        "id": "vvyxjs6X1D_3",
        "outputId": "da0677c8-b85c-46d5-d241-15c599b12d25"
      },
      "outputs": [
        {
          "output_type": "stream",
          "name": "stdout",
          "text": [
            "3998\n"
          ]
        }
      ],
      "source": [
        "vocabulary = list()\n",
        "for text in x_train:\n",
        "  tokens = text.split()\n",
        "  vocabulary.extend(tokens)\n",
        "\n",
        "vocabulary = set(vocabulary)\n",
        "print(len(vocabulary))"
      ]
    },
    {
      "cell_type": "code",
      "execution_count": null,
      "metadata": {
        "colab": {
          "base_uri": "https://localhost:8080/"
        },
        "id": "awd5VZ4DzA4-",
        "outputId": "12553168-af00-4a62-bdb9-0fe2ffa5601f"
      },
      "outputs": [
        {
          "output_type": "stream",
          "name": "stderr",
          "text": [
            "100%|██████████| 25000/25000 [07:26<00:00, 56.03it/s]\n",
            "100%|██████████| 25000/25000 [07:10<00:00, 58.04it/s]\n"
          ]
        }
      ],
      "source": [
        "from tqdm import tqdm\n",
        "\n",
        "x_train_binary = list()\n",
        "x_test_binary = list()\n",
        "\n",
        "for text in tqdm(x_train):\n",
        "  tokens = text.split()\n",
        "  binary_vector = list()\n",
        "  for vocab_token in vocabulary:\n",
        "    if vocab_token in tokens:\n",
        "      binary_vector.append(1)\n",
        "    else:\n",
        "      binary_vector.append(0)\n",
        "  x_train_binary.append(binary_vector)\n",
        "\n",
        "x_train_binary = np.array(x_train_binary)\n",
        "\n",
        "for text in tqdm(x_test):\n",
        "  tokens = text.split()\n",
        "  binary_vector = list()\n",
        "  for vocab_token in vocabulary:\n",
        "    if vocab_token in tokens:\n",
        "      binary_vector.append(1)\n",
        "    else:\n",
        "      binary_vector.append(0)\n",
        "  x_test_binary.append(binary_vector)\n",
        "\n",
        "x_test_binary = np.array(x_test_binary)"
      ]
    },
    {
      "cell_type": "code",
      "execution_count": null,
      "metadata": {
        "colab": {
          "base_uri": "https://localhost:8080/"
        },
        "id": "kEmeqaw4xvxG",
        "outputId": "f3a76075-5cd9-41e5-babc-a2f446d7c72b"
      },
      "outputs": [
        {
          "output_type": "stream",
          "name": "stdout",
          "text": [
            "[1 0 0 ... 0 0 0]\n",
            "1\n",
            "[0 0 0 ... 0 0 0]\n",
            "0\n"
          ]
        }
      ],
      "source": [
        "print(x_test_binary[2])\n",
        "print(y_test[2])\n",
        "print(x_train_binary[2])\n",
        "print(y_train[2])"
      ]
    },
    {
      "cell_type": "markdown",
      "metadata": {
        "id": "l6vNaFxJO7ya"
      },
      "source": [
        "Calculate entropy"
      ]
    },
    {
      "cell_type": "code",
      "execution_count": null,
      "metadata": {
        "colab": {
          "base_uri": "https://localhost:8080/"
        },
        "id": "lVXZNBd1NFpd",
        "outputId": "dfc81aba-a2d8-42c3-81ce-2d312737b0f5"
      },
      "outputs": [
        {
          "output_type": "stream",
          "name": "stdout",
          "text": [
            "25000\n"
          ]
        }
      ],
      "source": [
        "def calculate_entropy_word(binary_array, result_array, c, word, word_position, cProb):\n",
        "  if(cProb == 1 or cProb == 0):\n",
        "    return 0\n",
        "  return - ( cProb * np.log2(cProb) ) - ( (1.0 - cProb) * np.log2(1.0 - cProb))\n",
        "\n",
        "\n",
        "def calculate_entropy_total(binary_array, result_array):\n",
        "  first = 0 # c value\n",
        "  count = 0 # lengeth\n",
        "  for element in binary_array:\n",
        "      if(result_array[count] == 1):\n",
        "        first += 1\n",
        "      count += 1\n",
        "  cProb = first/binary_array.shape[0]\n",
        "  if(cProb == 1 or cProb == 0):\n",
        "    return 0      \n",
        "  return - ( cProb * np.log2(cProb) ) - ( (1.0 - cProb) * np.log2(1.0 - cProb))\n",
        "\n",
        "  \n",
        "\n",
        "#print(calculate_entropy_total(x_train_binary, y_train))  \n",
        "#print(calculate_entropy_word(x_train_binary,y_train, 1, Word(None, 0), 0))\n",
        "print(len(y_train))"
      ]
    },
    {
      "cell_type": "markdown",
      "metadata": {
        "id": "5jIRutchfXsh"
      },
      "source": [
        "return the position of a word"
      ]
    },
    {
      "cell_type": "code",
      "execution_count": null,
      "metadata": {
        "id": "yinX5BZncTjX"
      },
      "outputs": [],
      "source": [
        "# -1 = has not found the word\n",
        "def return_word(word):\n",
        "  count = 0\n",
        "  for element in vocabulary:\n",
        "    if word == element:\n",
        "      return count\n",
        "    else:\n",
        "      count += 1\n",
        "  \n",
        "  return -1"
      ]
    },
    {
      "cell_type": "markdown",
      "metadata": {
        "id": "4cviRH02okRX"
      },
      "source": [
        "calculate probability"
      ]
    },
    {
      "cell_type": "code",
      "execution_count": null,
      "metadata": {
        "id": "b92d_G8GnLI8"
      },
      "outputs": [],
      "source": [
        "def calculate_probability(array, result_array, c, word, word_position = -1):\n",
        "  #Entropy\n",
        "  has_the_word = 0 # c value\n",
        "  count = 0 # lengeth\n",
        "  is_positive = 0\n",
        "  if word_position == -1:\n",
        "    word_position = return_word(word) # the word column\n",
        "  \n",
        "  for element in array:\n",
        "      element_i = element[word_position]\n",
        "      count += 1\n",
        "      if(element_i == c):\n",
        "        has_the_word += 1\n",
        "        if(result_array[count-1] == 1):\n",
        "          is_positive += 1\n",
        "  \n",
        "  if(has_the_word == 0):\n",
        "    #ToDo DES TO\n",
        "    return 0\n",
        "  \n",
        "  return is_positive/has_the_word"
      ]
    },
    {
      "cell_type": "code",
      "source": [
        "def calculate_probability_total(result_array):\n",
        "  #Node \n",
        "  count = 0\n",
        "  p = 0\n",
        "  for x in result_array:\n",
        "    if(x == 1):\n",
        "      p += 1\n",
        "    count += 1\n",
        "  return p/count"
      ],
      "metadata": {
        "id": "DG-Ry7kwmSTy"
      },
      "execution_count": null,
      "outputs": []
    },
    {
      "cell_type": "markdown",
      "metadata": {
        "id": "cGM9ktOgVG62"
      },
      "source": [
        "calculate sum"
      ]
    },
    {
      "cell_type": "code",
      "execution_count": null,
      "metadata": {
        "id": "njQ8iEwnVGlw"
      },
      "outputs": [],
      "source": [
        "def calculate_sum(binary_array, result_array, word):\n",
        "    word_position = word.index\n",
        "    p0 = (calculate_probability(binary_array, result_array, 0, word, word_position))\n",
        "    p1 = 1 - p0\n",
        "    word.setEntropy0(calculate_entropy_word(binary_array, result_array, 0, word,  word_position, p0))\n",
        "    word.setEntropy1(calculate_entropy_word(binary_array, result_array, 1, word,  word_position, p1))\n",
        "    if p0 == 0 or word.entropy0 ==0:\n",
        "      a = 0\n",
        "    else:\n",
        "      a = np.log2(p0 * word.entropy0)\n",
        "\n",
        "    if p1 == 0 or word.entropy1 ==0:\n",
        "      b = 0\n",
        "    else:\n",
        "      b = np.log2(p1 * word.entropy1)\n",
        "    return  a + b"
      ]
    },
    {
      "cell_type": "markdown",
      "metadata": {
        "id": "srdFOxEBVe4v"
      },
      "source": [
        "calculate IG"
      ]
    },
    {
      "cell_type": "code",
      "execution_count": null,
      "metadata": {
        "id": "vw5xlXQiVguR"
      },
      "outputs": [],
      "source": [
        "def calculate_IG(binary_array, result_array, word, calculate_entrupy_total):\n",
        "    word.setIg(calculate_entrupy_total - calculate_sum(binary_array, result_array, word))"
      ]
    },
    {
      "cell_type": "code",
      "execution_count": null,
      "metadata": {
        "id": "AQ_HScftv6J2"
      },
      "outputs": [],
      "source": [
        "class Word:\n",
        "\n",
        "  def __init__(self, value:str, index:int):\n",
        "    self.value = value\n",
        "    self.index = index\n",
        "    self.ig = None\n",
        "    self.entropy0 = None\n",
        "    self.entropy1 = None\n",
        "  \n",
        "  def setIg(self, ig):\n",
        "    if(ig != None):\n",
        "      self.ig = float(ig)\n",
        "      \n",
        "  def getIg(self):\n",
        "    return self.ig\n",
        "\n",
        "  def setEntropy0(self, entropy0):\n",
        "    self.entropy0 = entropy0\n",
        "\n",
        "  def setEntropy1(self, entropy1):\n",
        "    self.entropy1  = entropy1\n",
        "\n",
        "  def __str__(self):\n",
        "    return self.value\n",
        "\n",
        "  def __repr__(self):\n",
        "    return self.value + \" \" + str(self.ig)\n",
        "  "
      ]
    },
    {
      "cell_type": "markdown",
      "metadata": {
        "id": "flxeQqSyahtP"
      },
      "source": [
        "Node"
      ]
    },
    {
      "cell_type": "code",
      "execution_count": null,
      "metadata": {
        "id": "FPc5k8h3GJ_R"
      },
      "outputs": [],
      "source": [
        "def hasTheWord(word1: Word, word2: Word, array):\n",
        "  index1 = int(word1.index)\n",
        "  index2 = int(word2.index)\n",
        "  for x in array:\n",
        "    if(x[index1] == 1 and x[index2] == 1):\n",
        "      return 1\n",
        "  return 0"
      ]
    },
    {
      "cell_type": "code",
      "execution_count": null,
      "metadata": {
        "colab": {
          "base_uri": "https://localhost:8080/"
        },
        "id": "V4RhpVOQNnoL",
        "outputId": "e6278645-373c-4b8d-f4eb-edac86627998"
      },
      "outputs": [
        {
          "output_type": "stream",
          "name": "stdout",
          "text": [
            "169\n",
            "24831\n"
          ]
        }
      ],
      "source": [
        "def remove_words(array, word_index, keep_the_word = True):\n",
        "  num = []\n",
        "  c = 1\n",
        "  if(keep_the_word):\n",
        "    c = 0\n",
        "  count = 0\n",
        "  for x in array:\n",
        "    if(x[word_index] == c):\n",
        "      num.append(count)\n",
        "    count+=1\n",
        "\n",
        "  return num #np.delete(array, num, 0)\n",
        "\n",
        "print(len(remove_words(x_train_binary, 3730, False)))\n",
        "print(len(remove_words(x_train_binary, 3730)))"
      ]
    },
    {
      "cell_type": "code",
      "execution_count": null,
      "metadata": {
        "id": "W4zpecd3X39Q"
      },
      "outputs": [],
      "source": [
        "class Node:\n",
        "  value: Word\n",
        "  left = None # must be Node\n",
        "  right = None # must be Node\n",
        "  depth = None\n",
        "  p0 = None\n",
        "  p1 = None\n",
        "\n",
        "  def __init__(self, v: int = None, depth = None):\n",
        "    self.value = v\n",
        "    if depth == None:\n",
        "      self.depth = 10\n",
        "    else:\n",
        "      self.depth = depth\n",
        "  \n",
        "  def setLeftChild(self, v: Word):\n",
        "    self.left = v\n",
        "\n",
        "  def setRightChild(self, v: Word):\n",
        "    self.right  = v\n",
        "\n",
        "  def setChilds(self, l, r):\n",
        "    self.setLeftChild(l)\n",
        "    self.setRightChild(r)\n",
        "\n",
        "  def setP0(self, p0):\n",
        "    self.p0 = p0\n",
        "  \n",
        "  def setP1(self, p1):\n",
        "    self.p1 = p1\n",
        "\n",
        "  def __str__(self):\n",
        "    return self.value.value"
      ]
    },
    {
      "cell_type": "markdown",
      "metadata": {
        "id": "x7d48TpzqULq"
      },
      "source": [
        "Remove words"
      ]
    },
    {
      "cell_type": "code",
      "execution_count": null,
      "metadata": {
        "id": "J8dyqz8W0ey5"
      },
      "outputs": [],
      "source": [
        "#there is the word in the setence\n",
        "def findValueFromArray(array, index):\n",
        "  if len(array) < index:\n",
        "    return None\n",
        "  try:\n",
        "    if(array[index] == 1):\n",
        "     return index\n",
        "  except:\n",
        "    return None\n",
        "  return None"
      ]
    },
    {
      "cell_type": "code",
      "execution_count": null,
      "metadata": {
        "id": "umwJfOe9UPHp"
      },
      "outputs": [],
      "source": [
        "import math \n",
        "def get_my_key(obj:Word):\n",
        "  return obj.getIg()\n",
        "\n",
        "def next_word_subtree(array, result_array, words):\n",
        "  i = 0\n",
        "  et = calculate_entropy_total(array, result_array)\n",
        "  words_to_remove = list()\n",
        "  for word in words:\n",
        "   word.setEntropy0(None)\n",
        "   word.setEntropy1(None)\n",
        "   word.setIg(None)\n",
        "   calculate_IG(array, result_array, word, et)\n",
        "  for x in words:\n",
        "    if x.ig == None or math.isnan(x.ig):\n",
        "     words_to_remove.append(x)\n",
        "  for x in words_to_remove:\n",
        "      words.remove(x)\n",
        "  #words.sort(reverse=True, key=get_my_key)\n",
        "  words = sorted(words, key=get_my_key, reverse=True)\n",
        "  re = words.pop()\n",
        "  return (re, words)\n",
        "\n"
      ]
    },
    {
      "cell_type": "code",
      "source": [
        "words = calculate_words()\n",
        "print(len(x_train_binary))\n",
        "print(len(words))\n",
        "data = next_word_subtree(x_train_binary, y_train, words)\n",
        "print(data)"
      ],
      "metadata": {
        "colab": {
          "base_uri": "https://localhost:8080/"
        },
        "id": "Hmn1K1zezSzr",
        "outputId": "b526d2ae-e12e-4e31-dc45-d98ee7d50d52"
      },
      "execution_count": null,
      "outputs": [
        {
          "output_type": "stream",
          "name": "stdout",
          "text": [
            "25000\n",
            "3996\n",
            "(alone 3.0, [boll 12.737239994004213, incoherent 9.365938844119018, mst3k 8.76252870308834, seagal 8.29989492846237, unfunny 8.112723194034194, waste 7.704116234415141, flawless 7.691998717324379, matthau 7.523639088575765, horrid 7.2869982682587695, superbly 7.256364788928487, atrocious 7.256364788928487, pointless 7.115407490432135, blah 7.053377903168913, redeeming 7.042941679897531, drivel 6.941872543273921, perfection 6.805029807511074, laughable 6.7325273360263775, lousy 6.690830551087513, worst 6.680129652515021, wasting 6.61529526814544, remotely 6.555186212396595, awful 6.4890979318827675, poorly 6.408278417057342, captures 6.25929737613413, existent 6.221910890416405, wonderfully 6.201765812216544, insult 6.058613202234289, boredom 6.019382552377046, sucks 6.013597277199288, miserably 5.977343158536796, uninspired 5.977343158536796, lame 5.975739060561352, stupidity 5.910606199564269, refreshing 5.904833168094241, breathtaking 5.858264219868793, amateurish 5.825071200951983, appalling 5.803585599654905, uninteresting 5.761134688260642, pathetic 5.724809680115483, unconvincing 5.718912158565345, astaire 5.6845341737720805, idiotic 5.655353924198955, delightful 5.628909259128213, wasted 5.567128290846611, suck 5.562614456764537, crap 5.5200999760256915, powell 5.513244155817118, beautifully 5.493641330193339, underrated 5.491666430698894, dreadful 5.45196590684236, tedious 5.4459558591474995, gripping 5.440551531736791, insulting 5.423051087226593, dire 5.3896966772436015, victoria 5.384928465226416, delight 5.372567558135724, mess 5.348722038113834, horrible 5.345779605701283, sadness 5.336939684933759, timeless 5.323644186237423, cardboard 5.298413149293235, superb 5.279060813329297, embarrassing 5.270030673704906, badly 5.262335471768459, garbage 5.261436989864459, favorites 5.258451352598366, prom 5.208876999083104, turkey 5.2042198977227585, wooden 5.185539548516619, terrible 5.183362004894011, touching 5.168740006995737, unforgettable 5.152852732791578, pile 5.150288353113476, worse 5.115873070905378, extraordinary 5.090874130684447, brosnan 5.042737291541632, inept 5.039278106202743, worthless 5.018464204782447, junk 4.981399906843075, ashamed 4.978962308214438, stupid 4.968979783942789, brilliantly 4.960487167940472, forgettable 4.947726097782542, 0 4.923539788044123, friendship 4.920563015416144, avoid 4.9167012199143185, terrific 4.895012078356897, marvelous 4.891300434276782, tremendous 4.890456442028158, gem 4.881855107913584, dull 4.874456505164236, rubbish 4.872695167027236, finest 4.871504929401545, pleasantly 4.867607364001898, magnificent 4.856138374345633, splendid 4.832561366135107, ralph 4.821552638204457, excuse 4.810277806660417, whatsoever 4.786492504228558, unbelievably 4.783919211192615, gentle 4.767996544528317, ridiculous 4.766739463580036, poignant 4.765330251140497, outstanding 4.76172465692415, bourne 4.759399531338523, nancy 4.759399531338523, wonderful 4.717120173869782, sullivan 4.706134613857541, fest 4.690033768668204, ridiculously 4.685038778021196, exceptional 4.682261452885905, costs 4.678370399833094, freedom 4.670156938573227, crappy 4.648939982263483, horrendous 4.647907983181456, ludicrous 4.646663211217624, captivating 4.6303967460974205, excellent 4.625183461273329, ripped 4.62506664205812, bother 4.619145041949086, embarrassed 4.618467318393968, fantastic 4.614325167443468, horribly 4.609464835988941, unintentionally 4.60457871725305, boring 4.585782967745608, useless 4.58400208015955, sinatra 4.58400208015955, fails 4.5697469232643755, bland 4.552970541277659, plastic 4.544122645000481, flynn 4.54258223305859, haunting 4.530086904885053, noir 4.516514153743579, darker 4.513558581457259, ensemble 4.4906694896046, walter 4.486802290344746, mediocre 4.486217920749297, disappointing 4.478243698223663, unless 4.469164328959538, mildly 4.45988390082557, clichéd 4.444148415891505, overlooked 4.437476368447036, dumb 4.435070914648099, sidney 4.4283640251221765, innocence 4.425813580947089, chilling 4.418773960921225, hoffman 4.418043548587381, glover 4.411696135406901, obnoxious 4.401948264540146, notch 4.401948264540146, annoying 4.396059727068437, shines 4.389974244626507, amazing 4.374066315811746, appreciated 4.356536276752694, amateur 4.348712060705703, dinosaurs 4.348712060705703, asleep 4.346887728692881, disappointment 4.344933931846069, cliché 4.338825178979401, stunning 4.328610293891771, remarkable 4.326660985801187, gritty 4.3225651606160564, vivid 4.320724003170955, utter 4.3197417981573984, irritating 4.302655336784165, kidding 4.296115936649409, supposed 4.282294193811514, troubled 4.280979292397458, perfect 4.275863540843353, stewart 4.266125022031058, margaret 4.258268240472022, powerful 4.255263192245545, builds 4.2515456757235555, recommended 4.2515456757235555, unbearable 4.2427427297576905, pitt 4.2427427297576905, crafted 4.239170137308528, modesty 4.23723406245523, bin 4.23723406245523, draws 4.228630095682442, cheap 4.228122651661563, miscast 4.225666655585098, trite 4.224576778532457, poor 4.213302879056046, alright 4.208504956318534, idiot 4.208504956318534, daughters 4.207111285455033, barbara 4.191463021831472, unbelievable 4.19104844649328, psychiatrist 4.178321044171106, emotions 4.172053014332717, rural 4.171453128954855, rare 4.169634563396784, random 4.169069224497769, favorite 4.1679938294645495, depression 4.165150815072674, subtle 4.1605693292332795, journey 4.147439523236341, zombies 4.145783922932667, consequences 4.144398292448198, fake 4.144398292448198, fears 4.144398292448198, sensitive 4.1360781715643, vampires 4.132317149399657, portrait 4.132317149399657, perfectly 4.131116360164256, skip 4.13052541350685, marie 4.1274384800516595, coherent 4.1127245667045536, cox 4.109124291753516, idiots 4.105788957873486, wannabe 4.105788957873486, joke 4.102031422010741, generous 4.0998041727873, pretentious 4.0984340198167075, blame 4.097692589121295, bette 4.095409758921608, brilliant 4.091927490057713, cried 4.0865784883771, renting 4.074738840404095, screaming 4.059268685520537, seconds 4.0559229666129735, andrews 4.0554563713542455, ritter 4.0480801307861745, walked 4.044228659334671, favourite 4.043861745852224, disgusting 4.042173705503303, huh 4.037597698671739, highly 4.034142219118988, porn 4.027086448561297, courage 4.01850051370359, lincoln 4.01850051370359, rival 4.01850051370359, lazy 4.01850051370359, paint 4.01850051370359, toilet 4.01850051370359, unexpected 4.01850051370359, scooby 4.01850051370359, fabulous 4.004374007995032, everyday 4.003286283634554, slightest 3.998716189912316, painfully 3.9980330740662335, wreck 3.9980330740662335, sloppy 3.997301098590534, triumph 3.997301098590534, satisfying 3.9960994069430273, loved 3.992110266274255, bad 3.987827447541731, trash 3.9866798762321616, inspiring 3.9824919010608344, repetitive 3.9775124082099023, werewolf 3.9689468766938716, monkey 3.966785484345638, dramas 3.9644269693754772, helps 3.9644269693754772, elvira 3.9644269693754772, provides 3.961843080411236, smooth 3.9589998975461236, offensive 3.9589998975461236, dude 3.9574685621277066, bo 3.9558563358227916, blend 3.9547333576052814, cinderella 3.952362148294321, contrast 3.951109173220347, today 3.9474871824555904, sucked 3.94663588750338, unique 3.946566688409793, bored 3.945208147399981, intense 3.9421403740164447, definite 3.9390715476227873, tragic 3.9333695308337866, warm 3.9302002038799206, incredible 3.9260710769735976, widmark 3.9243591256425567, joan 3.9226687037662824, failed 3.9224872279980922, achievement 3.9223233113980327, deeply 3.9203643916953137, retarded 3.916242345660485, pseudo 3.915651198876141, nominated 3.9147515579620253, claire 3.9065947595970587, stanwyck 3.9065947595970587, unusual 3.9055801969694928, fascinating 3.9054093130377048, creates 3.9029614917994517, cheese 3.9024231171969332, ugly 3.902016034250564, explanation 3.9007774831656636, sat 3.8974599835537846, curtis 3.8949385909603342, painful 3.8921470963099494, carries 3.8904946322438843, zombie 3.8849326590924718, awesome 3.8839119626587415, halfway 3.8826794574330616, chick 3.880574389884541, gradually 3.879030412312839, holmes 3.877849575186627, spectacular 3.876162443055305, happiness 3.872337317797677, paper 3.8716325453666327, oh 3.869913665324645, nowhere 3.8676316451611523, warn 3.8651248653631356, shy 3.8641273913095104, bleak 3.8634069394905084, touched 3.855282396090767, mature 3.855282396090767, portrayal 3.8543975313647527, clue 3.852234253685431, paid 3.8511524693117107, flat 3.8480418036513546, doo 3.8474427649885747, victor 3.8432340684849304, learns 3.8429800501040043, unrealistic 3.8429800501040043, lacks 3.842753638099878, cole 3.83881342230336, ruth 3.83881342230336, lonely 3.8361859391670325, sorry 3.8341644370886483, balance 3.8330572921808956, seasons 3.832097691612674, bore 3.831257984274628, today's 3.8306939720695983, beauty 3.830517022164772, spending 3.830178282974561, terrifying 3.830178282974561, absurd 3.829268993454131, annoyed 3.8133467614722134, plain 3.8118396889024955, honestly 3.811698625019754, secrets 3.811698625019754, overrated 3.811698625019754, hong 3.8077482982507806, predictable 3.8062813048813986, save 3.8059438705307667, joy 3.802509722213202, complex 3.7997918288429124, comfortable 3.7984704643291414, solid 3.7904829548949683, emma 3.7875906226768055, ages 3.783946286097454, 90 3.783534271050275, colorful 3.7814523685176082, bothered 3.7782596636167245, daniel 3.7782596636167245, eerie 3.774980110381377, below 3.774980110381377, essence 3.774980110381377, lovable 3.7720364522202874, 7 3.769890063988922, reveals 3.760918844989201, raw 3.7589474022077227, hooked 3.7585744073405527, daring 3.7580273372637545, contrived 3.7580273372637545, welles 3.757147240896123, motivation 3.755496971103069, mgm 3.753264071475601, musicals 3.753264071475601, tear 3.751279100384162, masterpiece 3.747529284303038, kelly 3.7473086899559918, sons 3.746924424426291, beautiful 3.74623000920318, prince 3.7451427572634994, sweet 3.7447618338239095, treat 3.742543410076899, grim 3.740893699139215, greatest 3.740391080141408, slasher 3.736276728991535, carrey 3.735393992824675, hype 3.735393992824675, debut 3.735393992824675, continuity 3.7335122884643104, tears 3.731652356767076, zero 3.731024089591454, surreal 3.7287727037781178, bat 3.727996330116806, bunch 3.7277937950692825, douglas 3.726725864167155, subsequent 3.726725864167155, gore 3.721678382378773, 8 3.7214620472102733, feelings 3.72052386762949, guilt 3.7175137343920728, ned 3.7175137343920728, thrillers 3.7175137343920728, 1 3.71691641423277, rented 3.7142444359475397, vhs 3.7133486985847464, charming 3.7126875487580957, loving 3.7104426512089863, pleased 3.708826267096736, arthur 3.706654179304316, jimmy 3.705818740145716, subtitles 3.7053508893760156, carrie 3.704293127361069, sings 3.7015094650321445, brazil 3.6972409865306943, synopsis 3.6972409865306943, hoping 3.6932934115415277, sounded 3.6921719156184274, brain 3.6908379129724045, intensity 3.6885510229675282, winning 3.68808380500709, compelling 3.687699036391908, tragedy 3.6867608895713215, themes 3.686249854600121, slap 3.681735047083615, jackie 3.681735047083615, witty 3.681019362253357, explicit 3.679498530512901, shallow 3.678963026217862, heart 3.678332248250711, shark 3.6778454523773165, realizes 3.6773464103005695, gorgeous 3.675771005390545, lily 3.6740670023759936, wood 3.6740670023759936, yeah 3.673366165058885, decent 3.672908285668142, treasure 3.672217988889873, davis 3.6711211235212238, alexander 3.6707245660047603, dollar 3.6702046363496033, anime 3.6694931562270257, allows 3.6690291491468248, winter 3.668460368210736, worlds 3.666825135940016, endless 3.66604526329585, craig 3.665077152768294, minutes 3.663436112859115, holes 3.660697721035036, swear 3.660488838995853, aunt 3.659975104362927, terribly 3.658267127780349, magical 3.65668728487903, essential 3.65668728487903, unnecessary 3.653858357545611, lovely 3.6502285155277967, kudos 3.6499295163559546, natural 3.647714036684064, wanna 3.645103067960436, surprising 3.645103067960436, mindless 3.645103067960436, bond 3.6437868524567847, nudity 3.641993685554432, security 3.64148357496183, albert 3.64148357496183, ruined 3.64148357496183, emily 3.6386686412228295, dawson 3.637483469818525, focuses 3.635637416748919, disagree 3.631740529640939, relate 3.6312752617034176, deeper 3.6288181847155734, dancer 3.62710703749803, strong 3.6232153197362647, breasts 3.6219449134102253, somebody 3.621285613811846, oscar 3.6212469619477927, throwing 3.620208795556091, moving 3.6187218393921214, nonsense 3.6185982909101755, oscars 3.6161583427575312, stanley 3.6161583427575312, italy 3.6161583427575312, bettie 3.6161583427575312, nicely 3.613688907538446, grave 3.6120259765748854, disaster 3.6114494305897766, quiet 3.6110963040420785, enjoyed 3.6102552076839793, money 3.6041487611266656, total 3.601373925313001, strength 3.5959180269017867, funniest 3.5959180269017867, davies 3.592348593295143, attempt 3.591478121569219, spy 3.591478121569219, sentimental 3.591478121569219, adds 3.5890374738920405, legendary 3.5872508222397634, fisher 3.5872508222397634, noise 3.5872508222397634, torture 3.585029264984652, memorable 3.584042016822632, aliens 3.581721207735764, 99 3.5793759774335343, von 3.5793759774335343, winner 3.5784419748773297, frank 3.578345959673447, presumably 3.5778866534283176, secretary 3.5778866534283176, downright 3.57642408984792, bomb 3.5757026197098263, simon 3.57487813252268, jake 3.572189964753464, carol 3.5712144047424292, touches 3.5704906529964457, con 3.569488607413124, packed 3.5688277300358235, cabin 3.5656064893734847, steals 3.5656064893734847, drew 3.5656064893734847, studios 3.5656064893734847, complaint 3.5656064893734847, tony 3.5638257229472, adventure 3.563277851826095, donald 3.5627506806710563, provoking 3.5625175858166456, paris 3.5592121167360906, sharp 3.557912029556821, stereotypical 3.5567055571004467, freak 3.5567055571004467, cgi 3.555781212329098, producers 3.5549513259270693, figured 3.55479918742548, tense 3.551853686999631, tight 3.54880002489198, holds 3.54880002489198, credibility 3.54880002489198, hearted 3.5478122829476986, achieved 3.547161874991021, impressed 3.5468810778271718, clichés 3.545563473713997, 45 3.545169915580945, rip 3.544984322966921, impact 3.5440033957449515, 9 3.5440033957449515, rules 3.543295907119239, realistic 3.5425152941487648, portraying 3.5407831877839646, bottom 3.5392092882210338, kurt 3.5389273628416777, supposedly 3.5376118323143584, leslie 3.535375894025289, warned 3.5330090775917, explained 3.5324319078954565, reunion 3.532023103945356, elderly 3.532023103945356, boxing 3.5296290942692923, louis 3.526957558981853, edge 3.526618295908751, weak 3.526226527100288, princess 3.52552675408143, childhood 3.52552675408143, couldn't 3.524664387621029, failure 3.5236472396070386, health 3.523003316940888, threw 3.521185480108969, grade 3.521185480108969, covers 3.520299445588993, barely 3.5194627330190587, deals 3.5179216713540633, unfortunately 3.5163045842869076, 4 3.515823025289336, christian 3.515280618673402, premise 3.513826546132151, logic 3.5123300232509043, ok 3.511619483487978, nowadays 3.511268116482679, jim 3.5103149941812, spring 3.5090121143373123, landscape 3.5090121143373123, captured 3.5087680035188002, stylish 3.506560799051381, styles 3.5061647121960675, sophisticated 3.505253803400807, importance 3.5030548194543494, apartment 3.501995337444222, chan 3.5009612520003, nothing 3.500489287790214, fresh 3.499455782991735, nevertheless 3.498577760937616, owner 3.497435316745175, develops 3.497061472189715, jesse 3.497061472189715, shoot 3.4964459435481405, lucas 3.490242901619741, greatly 3.490242901619741, drags 3.490242901619741, won 3.4896957681860137, rental 3.48908977338389, urban 3.488713291858132, substance 3.4879718099355217, enjoyable 3.4866744496602347, profound 3.4866744496602347, fat 3.4862989536920335, danny 3.4838213136938565, ha 3.4819200419967986, consists 3.4819200419967986, apparently 3.4809158647085674, interpretation 3.4804738676355913, burns 3.4801221542072183, sides 3.479089597367729, effectively 3.477333525405168, 2005 3.4752708921376843, hamlet 3.4752708921376843, monsters 3.4744286441635124, portrays 3.4744286441635124, colors 3.47429058387855, stomach 3.4740983884917447, lovers 3.4731097384295477, wayne 3.472423849167871, traditional 3.4720392357012386, driven 3.4720392357012386, bible 3.4715344750140917, 3 3.469305641442622, families 3.4682399379672177, guess 3.4676094394350043, relationship 3.466273594257391, effort 3.466156397242367, load 3.465313313670544, confusing 3.4648570272896198, vampire 3.46396924329982, sake 3.462696263290021, alas 3.462388469894006, influence 3.4622057270823143, bitter 3.461488881638446, promising 3.4607938636645095, write 3.459681366379853, disbelief 3.4589873036955336, brings 3.458875002075485, stiff 3.4582132805131707, stays 3.4574665402651314, patient 3.4572234419641608, okay 3.4567456660240357, seriously 3.45618669973869, endearing 3.455376321840043, cagney 3.455376321840043, f 3.4547254686451865, jean 3.4536870699657527, emotional 3.453287078088998, script 3.452489626769534, smith 3.4510541288168124, thief 3.449707823731347, relationships 3.449387185608975, bullets 3.447870978941826, execution 3.445461325254319, burn 3.444736740584715, memories 3.4443875881618684, england 3.443389012181755, magic 3.443389012181755, dubbing 3.442761243426897, season 3.440860840496567, par 3.440512529603189, 80 3.440512529603189, performances 3.43903644127135, 2 3.438948548689308, propaganda 3.4377658010917407, thin 3.437564280786276, hudson 3.4369813690827766, saved 3.436732229146408, silly 3.4360188701923353, available 3.435569784790058, mother's 3.4349324618539674, none 3.4325359466836254, raped 3.4322780773955257, gonna 3.4322780773955257, throat 3.431833467973688, cry 3.4314123068753775, award 3.4303906675654696, gag 3.42960086843939, manager 3.42960086843939, tried 3.4285377349239634, great 3.4283150772546684, makers 3.42808243162828, lesbian 3.427219461768026, environment 3.427219461768026, supporting 3.426717693530288, anger 3.4260430095566283, tale 3.4185319733591415, semi 3.415863189890416, exercise 3.415863189890416, refuses 3.415863189890416, denzel 3.415863189890416, morality 3.415863189890416, plague 3.415863189890416, perspective 3.415863189890416, sir 3.415863189890416, aired 3.415863189890416, shower 3.415863189890416, norman 3.415863189890416, christ 3.415863189890416, purple 3.415863189890416, rose 3.415863189890416, strikes 3.415863189890416, juvenile 3.415863189890416, demands 3.415863189890416, instead 3.413100687024449, simple 3.4119993349975806, delivers 3.41055588118231, emotionally 3.4080113742346496, handsome 3.40756957241143, figures 3.405713521204576, thats 3.404092496462673, paced 3.403342621010326, imaginative 3.402787272430222, episodes 3.4021803756127893, knife 3.401855300617874, vague 3.4015144045996464, distant 3.401156503851291, jerk 3.4007802935708034, gratuitous 3.400584877633537, low 3.3998746539793263, surprisingly 3.3998591548848154, spent 3.3987687820670396, philip 3.3985682174495624, glenn 3.3980455956641293, manhattan 3.3974904080743067, unlike 3.3970006208257004, would've 3.3952414783536558, germany 3.3952414783536558, greek 3.39409980929333, albeit 3.3932657894726947, adapted 3.392365312061881, experiment 3.3913901058503617, brad 3.3908715115186236, meets 3.3906937289778134, genius 3.3901448777356578, hated 3.3897654857219828, tribute 3.389174940382123, brian 3.3888695333394874, romantic 3.3880298313192774, accomplished 3.38723131899424, rambo 3.386518989338827, laurel 3.386518989338827, recognized 3.384982467880875, contract 3.3841522654319354, stick 3.3841522654319354, throw 3.3840300083835038, assume 3.3837202028876163, navy 3.3823503917850664, empty 3.3821588822234014, ann 3.382029989049775, here's 3.3801161667040995, weren't 3.3785324909188432, larger 3.3784535721011717, appreciate 3.3765655066649285, charismatic 3.3759204381062435, utterly 3.3757393169464205, greater 3.3754645361159925, mean 3.3746171530285842, blob 3.3740322146353963, atmosphere 3.373846006065606, henry 3.3730195820428026, charlie 3.3728111477376723, ultimate 3.3719567422495382, gross 3.3716827474633915, lacking 3.3713254067347913, expressions 3.370839869446586, overdone 3.370839869446586, accents 3.369422319587961, neither 3.3687871224296497, castle 3.368679564486301, merit 3.3684266760007633, hoped 3.3681067309562986, effective 3.3680322841598, sutherland 3.367120489783553, piano 3.367120489783553, affected 3.367120489783553, nose 3.366092694401663, baseball 3.366092694401663, animated 3.365997107072421, holy 3.365740405012387, striking 3.3650206648837573, arm 3.3650206648837573, dear 3.363901486076376, tricks 3.363901486076376, succeeds 3.3627319812479803, academy 3.3621272850301422, hour 3.3619972443465995, could've 3.3607473177547806, depiction 3.3607473177547806, impressive 3.3600524396891416, favor 3.359564471151696, easy 3.3581610887884015, glimpse 3.3574762099046835, reasonable 3.3559959142517575, 20th 3.3544387224357823, pleasant 3.3544387224357823, deserve 3.3544387224357823, ride 3.3530381463522456, society 3.3527984937373256, looked 3.3524999201972356, fashioned 3.352459897001902, brave 3.3520684571658954, trio 3.351068417086309, carefully 3.351068417086309, criticism 3.351068417086309, rings 3.351068417086309, awards 3.3501673512508843, seeking 3.349861410909991, sum 3.349861410909991, authentic 3.349861410909991, rogers 3.3492409172477053, peace 3.3489714121400906, trilogy 3.3489714121400906, performance 3.347907714737642, rent 3.347746799789816, suppose 3.3475717736916373, scientist 3.347307544844689, fx 3.347307544844689, fill 3.3468625993207652, watchable 3.3466379579993375, lacked 3.3465024711527356, inner 3.346298245579341, joseph 3.345558967307941, moved 3.3437674342466646, hugh 3.3430842136582304, sunday 3.3430842136582304, realism 3.3430842136582304, discovers 3.342176471758625, advice 3.3405541775030545, inspired 3.33996793256226, reason 3.3395463338663154, court 3.3390280689703227, wolf 3.3383077921460553, lucy 3.3383077921460553, russell 3.3383077921460553, brooks 3.3383077921460553, stood 3.3383077921460553, cameras 3.3372764776841386, odds 3.3372764776841386, paul 3.3369266005410125, psychological 3.336894639405722, sees 3.335677178863753, virus 3.335677178863753, lack 3.335558761718099, saying 3.335286779928551, let's 3.3352055340056954, identity 3.3349285679536287, bucks 3.334760313317665, master 3.334760313317665, keeping 3.3346173982395824, tales 3.334494499289092, remembered 3.3338223011636843, hell 3.3331205599627363, meeting 3.3328624048430395, dimensional 3.3328624048430395, budget 3.332067515185126, saving 3.331956255743127, mouth 3.33061856537282, australia 3.330464668881688, symbolism 3.330464668881688, fail 3.3302881076096744, abc 3.3298435044837804, cooper 3.3287879732026244, gangster 3.32792477840031, sexuality 3.327549595175464, they'd 3.325624795064022, innocent 3.32429447859195, eddie 3.3238195898471425, definitely 3.323692527033413, grand 3.323614560875066, surprises 3.323427379830821, concert 3.3218699423637696, pie 3.3218699423637696, freddy 3.3218699423637696, india 3.3215131031757905, dreams 3.3208639471725734, york 3.3206455807481383, mistake 3.319994089791614, gives 3.319880062200185, william 3.3193141004946574, proof 3.3193141004946574, nation 3.3193141004946574, midnight 3.3193141004946574, andrew 3.3193141004946574, wouldn't 3.3182155771236763, san 3.3175319225527975, individuals 3.3170106372271753, variety 3.3163633108624158, originality 3.3160583290219576, priest 3.3160583290219576, offers 3.3160583290219576, japan 3.3152099545077425, please 3.3148195670856575, determined 3.312576491125042, dialog 3.3124906423063014, corpse 3.3120592600611154, gothic 3.3120592600611154, julie 3.3117696768422666, broadway 3.3115845584149293, pleasure 3.311232005785664, brilliance 3.3107433567814595, francisco 3.3107433567814595, growing 3.3107433567814595, progress 3.3107433567814595, knowing 3.310072884271149, touch 3.309769558955769, cheesy 3.3096967116148397, understanding 3.3090713004596912, best 3.308532239967964, stronger 3.308358898018069, complicated 3.30813678522527, dragged 3.3075399992356886, monster 3.307303745374681, he'd 3.3063264902659695, personal 3.305995145359117, anna 3.305294397982392, warner 3.305294397982392, half 3.304342617152331, sequels 3.303865914641981, soap 3.3032522147865846, racist 3.302714911472296, morgan 3.3023538707496316, god 3.3019905341489912, demon 3.300513789049134, cover 3.300513789049134, quirky 3.300513789049134, works 3.300513789049134, believable 3.2995713530315074, stereotypes 3.2990943779709383, classic 3.298888768889671, pulls 3.2987618825460783, intent 3.2976398600415067, reminds 3.2972176540364453, epic 3.297047932416211, brothers 3.296148928684654, china 3.295846253300497, you'd 3.29549847366438, sports 3.2950946962425287, britain 3.2946202124515755, gene 3.294205991225854, truck 3.293369068872303, desire 3.293369068872303, rough 3.2931743084796286, 30 3.29252064774397, stock 3.29252064774397, performed 3.291907462029935, fairy 3.2917391789474193, tend 3.291443590823483, pregnant 3.2903477222313966, taylor 3.2900310933192283, bite 3.2900310933192283, drink 3.289334740415952, golden 3.2889008112072204, sub 3.287586632079364, individual 3.2872841870429212, france 3.2871749606535556, loves 3.2871749606535556, convince 3.2871749606535556, french 3.286552522028394, ah 3.286552522028394, era 3.2864797581359166, chaplin 3.2861042588920806, jazz 3.2861042588920806, forest 3.2857660362542154, future 3.285382067104249, overwhelming 3.283348693037112, vincent 3.283348693037112, dealing 3.283348693037112, che 3.283348693037112, joey 3.283348693037112, whoever 3.282730398187046, arrives 3.282586902885102, jr 3.2819270066109536, sisters 3.2802486265342985, 1950's 3.279983797933479, scientists 3.279983797933479, melodrama 3.279290431352213, jealous 3.279290431352213, horrors 3.279290431352213, twists 3.279290431352213, franchise 3.278717904355473, santa 3.278717904355473, review 3.2783187507778964, chinese 3.2779573078406172, lives 3.2771677019883048, love 3.2766587217036407, naked 3.275876185426058, players 3.275652135532011, countries 3.2755323522149, experiences 3.2747167115919185, marriage 3.2738220177349824, rain 3.272720427247197, adventures 3.272720427247197, aging 3.272720427247197, dennis 3.272720427247197, ad 3.272720427247197, daily 3.272720427247197, always 3.2722978415121204, suspenseful 3.2706675991919503, city 3.2705373660406263, lewis 3.2705373660406263, screenwriter 3.2702201235059807, t 3.2701258630401595, madness 3.270024217017234, artist 3.269914282033601, gift 3.2695231911949416, duo 3.269195698878747, category 3.269005436218296, turner 3.2687934612689524, europe 3.268555832560055, reminiscent 3.268287593188534, jack 3.267436808741941, fantasy 3.267407675558514, both 3.266940231611082, reasonably 3.26618189275191, wow 3.265904371616447, fay 3.2654955007284214, except 3.2654955007284214, somewhere 3.265322932109292, thanks 3.26514191849755, job 3.264878057386187, makeup 3.264648104633964, charm 3.264648104633964, images 3.2645415178845107, lying 3.26431967162355, friendly 3.2641452255668244, fine 3.263661508215909, bush 3.2635755330661227, idea 3.2633491415857807, flick 3.2632007575450297, heroic 3.262686762237178, bare 3.262686762237178, intentions 3.2621742909769673, 2001 3.2621742909769673, problem 3.2621279185457626, nature 3.261881202523486, handed 3.261840888768278, hearts 3.261299297009829, bound 3.2611065829835884, root 3.260265993560863, pg 3.260265993560863, kong 3.2594666000038153, jeremy 3.2590271513924427, channel 3.2588297684153615, wave 3.258158061416585, true 3.25738925122831, fox 3.257132074483672, chief 3.256625862558726, flash 3.256306044433633, dave 3.256306044433633, competent 3.256306044433633, flesh 3.2551914367231607, sit 3.2547476546421588, nine 3.25466603320454, timing 3.254495326189347, frankly 3.253203614958048, lab 3.253203614958048, explore 3.253203614958048, branagh 3.253203614958048, meat 3.253203614958048, least 3.2528171456126227, potential 3.252462591492987, cash 3.252235745182097, imdb 3.2518087376705993, performing 3.251483501829398, family 3.2514058781034314, basically 3.2512127145046925, blank 3.2511669107594114, web 3.2511669107594114, tap 3.2507074942358036, revolution 3.249980451781863, empire 3.248655831812063, ward 3.248655831812063, conceived 3.24793394821964, convoluted 3.24793394821964, sent 3.24747966038334, personalities 3.24747966038334, dry 3.24747966038334, james 3.247138674763906, 11 3.2470839914435223, dynamic 3.246939659708027, sadistic 3.246939659708027, horror 3.2465998415199904, max 3.2464283147436657, plot 3.2459185760429192, brought 3.2456925393193807, millions 3.245482930453371, teeth 3.245482930453371, positive 3.244870999142189, asking 3.2448341463813946, different 3.244438948125926, deep 3.2442865743536613, stands 3.2439666379704644, visually 3.243668730733706, dated 3.243143422956835, wasn't 3.242849285086062, remote 3.2427473797188036, un 3.2427473797188036, creature 3.242651516740269, contemporary 3.2424944258390704, redemption 3.2421899251386423, sadly 3.2419696350633553, summary 3.2413471292497564, broadcast 3.2413471292497564, approach 3.2406760942172896, sole 3.2403646816198, versions 3.2403646816198, ironically 3.23951393960104, controversial 3.2387700855625847, futuristic 3.237814452856606, humanity 3.2376427436133373, someone 3.2373650368069087, received 3.2370103677343365, anything 3.2368035317607835, famous 3.2366807418613037, jesus 3.2365415970670126, helping 3.236117648882447, scares 3.236117648882447, fifteen 3.2357323882244446, paying 3.2357323882244446, killings 3.2357323882244446, roles 3.2356680214490634, julia 3.2352161947840896, mouse 3.23476215329538, appearances 3.23476215329538, overcome 3.234359676603772, grow 3.2342354865645015, adult 3.2342354865645015, generation 3.2342354865645015, walk 3.233889139524849, smile 3.232732184690026, looks 3.2326507424212956, thrown 3.23255737252438, grey 3.232458167933225, sky 3.232271379913011, success 3.232098631047792, streets 3.2319383959018824, century 3.231789362307916, shorts 3.231789362307916, noble 3.231789362307916, providing 3.231789362307916, minimal 3.231789362307916, blair 3.231520508437296, shut 3.2307236314250374, killing 3.229211277746165, wonder 3.2281599105888805, pointed 3.227674710578185, photographed 3.227674710578185, reed 3.227674710578185, proud 3.227674710578185, initially 3.227674710578185, pre 3.227674710578185, appropriate 3.227674710578185, editing 3.2263277586355272, sleep 3.226113368551414, youth 3.2257573196872116, harry 3.2257573196872116, spirit 3.225427951290239, cultural 3.2248308835795942, writers 3.224484009672816, scripts 3.2243487840176575, cut 3.2239588254597225, loosely 3.2236698660537453, poverty 3.2236698660537453, language 3.2228090858741156, hey 3.222642693731106, tired 3.2224179857640003, either 3.222355476974424, accurate 3.2223385561016897, walking 3.2216048272271003, enjoy 3.2216048272271003, struggles 3.2212748325727647, animation 3.220906896197941, dentist 3.220906896197941, brando 3.220906896197941, scare 3.220637166544666, passion 3.2204940757767537, kung 3.2204940757767537, visit 3.2202681869204985, continues 3.2202681869204985, string 3.2200276254208244, failing 3.219496369360058, faithful 3.2193024933146526, fully 3.2183644934714195, disc 3.218176708234671, michelle 3.2173431780695307, wwii 3.2173431780695307, fellow 3.2168690412723078, remake 3.2162493833274253, hire 3.2159741136616815, moves 3.2155412435265953, share 3.2154334173662122, cynical 3.215143890079358, sacrifice 3.215143890079358, tradition 3.215143890079358, detail 3.2148403382295183, young 3.2146703933999183, necessary 3.21418687827423, dubbed 3.21418687827423, settings 3.2139776664474216, guy 3.2138789028629158, obvious 3.213539153689159, sympathetic 3.21289709135011, fits 3.2123474794530784, flicks 3.2121373485474356, thing 3.2110859535330993, differences 3.210601315173624, frightening 3.2104226450995297, color 3.2103108242645866, inevitable 3.209824911238862, key 3.209824911238862, crisis 3.209824911238862, nurse 3.209266870047047, world 3.2091635291369744, complete 3.209042839071566, attitude 3.2089415106428043, atmospheric 3.2082550402405365, kills 3.2081420266279093, discovered 3.207858974871292, project 3.2077949573946523, father 3.207764459579222, mary 3.2077062553123534, caine 3.2077062553123534, international 3.207233646072253, viewing 3.2065890578430745, genuinely 3.2065675875351713, catholic 3.2058566886912505, 1930s 3.2058566886912505, trial 3.2058566886912505, lawyer 3.2058566886912505, jon 3.2058566886912505, ease 3.2058566886912505, scenario 3.2058566886912505, mrs 3.2058566886912505, whatever 3.2056089669122736, modern 3.2054228075198514, shows 3.2054132872385965, combination 3.2050962670039893, obviously 3.205066533328059, com 3.2050173012945296, gordon 3.2049200348411726, documentary 3.204761382687182, sign 3.2045380251601583, bullet 3.204110792731419, disappointed 3.2036842129105807, tells 3.2034488917866724, what's 3.203235987673554, ordinary 3.2030498463294044, columbo 3.202783017890051, heaven 3.202783017890051, among 3.202336878313056, maria 3.2020614415531745, genuine 3.201739238552173, recently 3.201636882651775, patrick 3.201556712751005, drama 3.2014235875381525, united 3.2008971498535272, h 3.2008971498535272, wearing 3.2008971498535272, show's 3.2008971498535272, asian 3.200332232837184, mainstream 3.200332232837184, intelligent 3.200060375254612, games 3.199998602106229, terry 3.199622086781771, machines 3.199622086781771, vision 3.198979125608443, mel 3.198702452754894, mountains 3.198702452754894, criminals 3.198702452754894, why 3.198395315644418, destroy 3.1983325066096975, documentaries 3.1980078164139853, vicious 3.1980078164139853, acting 3.1976057378280625, represents 3.197464608058315, nobody 3.197163800497778, especially 3.197131997610967, victims 3.1971084642939087, familiar 3.196669863716915, nonetheless 3.196370412671463, imagery 3.196370412671463, singing 3.1962132462763186, ho 3.19611642195697, temple 3.19611642195697, present 3.1958982698966127, warning 3.195708871086494, le 3.195708871086494, gory 3.195542892369356, heck 3.195542892369356, bears 3.195396242706938, thoroughly 3.195396242706938, happy 3.195214093442418, thumbs 3.1951488335977416, ourselves 3.194948162904573, bag 3.194948162904573, information 3.1947821295711223, finding 3.194642478090638, romance 3.1943595928571247, lower 3.1943310380429932, artists 3.193024353987133, dealt 3.193024353987133, weekend 3.193024353987133, born 3.193024353987133, ken 3.193024353987133, 50 3.1921900928947946, pitch 3.190860710486792, civil 3.190860710486792, beings 3.190860710486792, hilarious 3.1906389836777307, discovery 3.190603543588198, dream 3.190544595710684, seemed 3.190307537862255, annie 3.1898486228156835, scream 3.189480216185046, brutal 3.1892619866966085, 1950s 3.188879125872085, lights 3.1884095202427107, bruce 3.1884095202427107, strongly 3.1881324226414773, father's 3.188032511244236, attempting 3.188032511244236, d 3.1879810093993557, hardly 3.187879677538741, surprised 3.1871586934332576, remains 3.187057616421881, deserved 3.1865125973132757, spoilers 3.186466519793555, blood 3.1860854633315308, restaurant 3.185609559763013, finds 3.185495362141717, position 3.1852313125222547, popular 3.1852313125222547, each 3.1847439272974305, gay 3.1845855980545386, eat 3.1845855980545386, aforementioned 3.1845855980545386, pride 3.1845855980545386, wrong 3.184448957520003, call 3.184207745822626, welcome 3.1840547483844683, calling 3.1839597123342105, superior 3.183823228099209, tour 3.183823228099209, dorothy 3.1836106185719473, flaws 3.1836106185719473, wondering 3.183352758255772, jokes 3.1832892674639623, choreography 3.1823809687451625, john 3.1822510731128153, ian 3.1817942231555385, dollars 3.1816372896914378, destruction 3.181365757008955, physical 3.1811921291256358, age 3.180903307884286, thugs 3.180781907365243, otherwise 3.1806012909811106, deaths 3.180574078876022, comedic 3.1805133973074247, losing 3.180402667096388, accent 3.1803277518735804, sitting 3.1803277518735804, tree 3.1799394322619174, college 3.179526617957806, married 3.179334667864593, spoiler 3.1791345450136044, strictly 3.1786176143315785, provided 3.1786176143315785, storytelling 3.1786176143315785, lose 3.1780285332713536, robert 3.1779048908705896, musical 3.177550141934203, minor 3.177153922362253, helen 3.176998867322836, childish 3.176998867322836, theatrical 3.1768591568572764, closer 3.1766930523471624, plays 3.176674699517916, desperately 3.1764922941212532, challenge 3.176244774845114, gray 3.176244774845114, humour 3.176128835668315, sex 3.1758920860449953, research 3.1758085816929906, elvis 3.175524261087027, guide 3.175524261087027, precious 3.175524261087027, value 3.1749705486917508, dialogues 3.1749705486917508, stories 3.1749705486917508, human 3.1748672700487863, festival 3.1746675207052424, battles 3.174175395984012, campy 3.174175395984012, acceptable 3.174175395984012, fun 3.17365284161841, computer 3.1735068369858395, border 3.173419919966722, center 3.173419919966722, format 3.1732369051739573, brown 3.172936871754131, completely 3.17287529563309, sinister 3.172601404579523, pace 3.172354847819596, culture 3.1721659910339945, inspector 3.172016701354187, reality 3.171979625059527, alan 3.171895723394246, learned 3.171895723394246, established 3.171639959298701, virtually 3.1714349895301606, aren't 3.170911085670412, investigation 3.1707408550777467, begins 3.1699527518918744, care 3.169930272757213, quest 3.1698982269546256, younger 3.1698125983583707, thinking 3.169722003922652, gotta 3.1695758134306944, loser 3.1695758134306944, reveal 3.1691069224386705, detective 3.1687290749984696, promise 3.168636377841403, gun 3.1685647575778626, bridge 3.1685077595276123, exist 3.168231732114675, 15 3.1681363434905703, union 3.168006399878621, we'll 3.168006399878621, no 3.167800330841097, hall 3.1676606252686095, techniques 3.1675250796771928, sequel 3.167407740855708, pictures 3.167214747720279, dialogue 3.1668826748020207, shadows 3.166838124440805, closely 3.1666179414634246, presents 3.166371429653645, stranger 3.165777965133828, 2006 3.165777965133828, friday 3.1651240740545528, hint 3.1649979650929487, aimed 3.164811590967548, notably 3.164811590967548, tries 3.1640653999348896, seat 3.163687982591238, fame 3.163687982591238, mitchell 3.1633779246522264, timothy 3.1633779246522264, enters 3.1631145011988107, scary 3.1631145011988107, recommend 3.1630214078573085, term 3.162959846139053, throws 3.162959846139053, answers 3.162959846139053, marry 3.1623653917616963, decade 3.1623653917616963, carter 3.1623653917616963, wise 3.1623653917616963, qualities 3.1623653917616963, intelligence 3.162050920639808, light 3.1620390398206824, minute 3.1619630337580924, neat 3.1616726114968396, relatively 3.161453118544485, sometimes 3.161453118544485, struggle 3.161345397306965, crime 3.160957493592248, kill 3.160683344650517, wealthy 3.1604324164320077, damn 3.1603685841783316, visuals 3.1602423909182793, buried 3.159875183594879, important 3.159875183594879, visual 3.1596977158074533, fortunately 3.159354383728885, butt 3.1591882694066395, woods 3.1590027566492185, spielberg 3.158866558653877, radio 3.158866558653877, hanging 3.158679969182714, identify 3.1585581474561772, grant 3.157978057330554, reynolds 3.1571894346533034, purpose 3.1567884594073785, searching 3.1564847514332786, grew 3.1564847514332786, attempts 3.1562467471847384, role 3.1561979099771698, trying 3.1561598091636607, they're 3.1559962345114574, pushing 3.1558512876804956, base 3.1556541250576284, puts 3.155436646807642, foster 3.155278769170804, ways 3.155201446749138, follows 3.155158944222962, neighbor 3.1547588067225143, criminal 3.1546604900926845, didn't 3.154606463090483, decades 3.154595933418107, pass 3.1545502959703526, breath 3.154284482939083, regular 3.153646240317348, slowly 3.1533246002311675, boat 3.1532018419232677, ultra 3.1530822577238773, river 3.152527901968644, social 3.1524688039485866, attacks 3.1524250122358715, breaking 3.1521306423421955, ass 3.151281811647785, war 3.1511641879656556, neil 3.1511327612011826, soundtrack 3.150972164231103, explain 3.1509617128394396, keeps 3.1508908761392167, versus 3.150719894689715, effects 3.1502262552180427, filmmakers 3.1502157123485275, uncle 3.149328824221105, clean 3.149328824221105, remaining 3.1492087793676715, south 3.1492087793676715, blows 3.1492087793676715, hitchcock 3.1489840879760203, edited 3.1487778231658776, discover 3.148680906657119, pack 3.148587807644724, workers 3.1484121941302936, lord 3.1482494051119776, score 3.147762653629543, cant 3.147374989003798, exploitation 3.147100476192329, depicted 3.1470185070951326, guns 3.1464364697593497, met 3.1461169556781936, seven 3.146077903904596, killer 3.145902046469317, trade 3.1439541030875207, sunshine 3.1439541030875207, hopes 3.1439541030875207, listed 3.1439541030875207, birth 3.1439541030875207, eric 3.1439541030875207, african 3.1439541030875207, skill 3.1439541030875207, nuclear 3.1439541030875207, areas 3.1439541030875207, support 3.1439541030875207, titled 3.1439541030875207, giallo 3.1439541030875207, flawed 3.1439541030875207, practically 3.1439541030875207, often 3.1431086051799566, successful 3.142749161244847, equally 3.142530394082433, david 3.1415835215808428, stay 3.1415347630946284, they've 3.141483956780468, herself 3.1413943657586287, years 3.1408999763050014, pay 3.1408273370702773, small 3.1407087172850483, thrilling 3.140112521948873, attacked 3.1399828260432634, spoof 3.1399828260432634, multi 3.139362802677402, cell 3.139362802677402, fired 3.139176319577611, beast 3.138974047706565, miller 3.138974047706565, colour 3.138974047706565, scripted 3.138974047706565, stunts 3.1387538934457453, boss 3.1381558062490593, howard 3.137462543214763, sick 3.137278352401036, view 3.1371627345880357, forgot 3.13708340550589, caught 3.136062909645649, wild 3.1360172780848727, ford 3.13590872448431, wanted 3.1358104463395406, history 3.1354737786514115, don't 3.1353656082158894, critics 3.135318156832635, rape 3.134989130062506, cuts 3.1348150347812385, humorous 3.134634045815006, late 3.1344670426037284, spend 3.1344457455623416, forces 3.1344457455623416, island 3.1341144197132036, territory 3.1338322626913295, reduced 3.1338322626913295, misses 3.1338322626913295, becoming 3.133685029775201, events 3.13344481043123, video 3.133434072055674, enjoys 3.1333773337398343, pretend 3.1333773337398343, there's 3.132902717124899, billy 3.132879603514837, protect 3.132879603514837, mixed 3.132879603514837, suit 3.132879603514837, dick 3.132612755693927, cruise 3.1317290821759656, comics 3.1317290821759656, comedies 3.131568246002557, i'm 3.1313863690426977, older 3.131325419968329, elsewhere 3.131290575490185, bird 3.1310593165400205, possibly 3.131012048031612, liked 3.1307210002192862, grows 3.130311957119482, shall 3.130311957119482, destroyed 3.130311957119482, ain't 3.129904843282442, lesser 3.129013151783972, alien 3.128853422978791, phone 3.1288071574637004, burton 3.1285235043886344, creators 3.1285235043886344, movement 3.1285235043886344, pacino 3.1285235043886344, live 3.128301690668714, development 3.1282664554089434, de 3.128042173622852, trek 3.128000704928282, states 3.1275689517663565, heads 3.127441272016015, conspiracy 3.127046019942955, viewed 3.126631402606975, particular 3.1265705075387977, enjoying 3.1261959627972393, b 3.1261959627972393, fourth 3.1261959627972393, incredibly 3.1261959627972393, birds 3.1261959627972393, instantly 3.1261959627972393, entire 3.125930773553666, likable 3.125695296897224, creating 3.1255801843900795, bloody 3.1255801843900795, north 3.125256018369775, murder 3.124920223619908, charles 3.1248890985626314, else 3.124799831803626, they'll 3.124747768440911, engaging 3.124747768440911, proves 3.1244831535803916, america 3.1243266007055315, writing 3.1239106857794097, kinda 3.1238364641683223, lucky 3.1234472973644953, spots 3.12304280150967, witness 3.12304280150967, parker 3.12304280150967, segments 3.12304280150967, hip 3.12304280150967, wicked 3.12304280150967, universal 3.12304280150967, experience 3.1224230181681873, cop 3.1223665659540796, revelation 3.1222730881098597, door 3.122215938389358, starring 3.1221840583971647, includes 3.1220717395713065, shots 3.1220389138587388, opposite 3.1218666230128993, silent 3.1218347254432404, catch 3.1216452152791154, advantage 3.1210062836060497, johnny 3.1210062836060497, i'll 3.1208236721719946, any 3.1207787298286207, creation 3.120550533737469, silence 3.120550533737469, curiosity 3.120550533737469, life 3.1205164163505232, decided 3.12034963492463, irish 3.1202365301801835, single 3.119968365510691, audiences 3.1196940811810814, glad 3.119635537654515, outcome 3.119582606923448, lesson 3.119582606923448, justice 3.119582606923448, chasing 3.119413465830422, notable 3.119291209591176, later 3.1191906912217684, nor 3.1191055295373085, wide 3.1189801854853236, anywhere 3.118946223178739, details 3.118531369280036, demons 3.118531369280036, reviewers 3.118531369280036, thinks 3.1182395208923537, nasty 3.1177788078623543, killed 3.1177427220765095, students 3.1176590672677946, matrix 3.117583673001345, reactions 3.117583673001345, smoking 3.117583673001345, including 3.117411616716117, threat 3.1173856149732484, ted 3.1173856149732484, exciting 3.117281097988863, accept 3.117200140630309, views 3.1170829021360458, dan 3.116862433080808, haunted 3.1165628013969577, die 3.116437494230379, fiction 3.1163377572065514, rarely 3.1161320420214453, maybe 3.1161055008872136, surprise 3.1158837517666904, country 3.115639949500632, can't 3.115593419956095, revealing 3.1154599705663797, teen 3.1154599705663797, dark 3.115340811636934, nude 3.115072424554528, also 3.114588999317786, plenty 3.1136918812748258, release 3.1133184561376037, uses 3.113062239885315, that's 3.1129656920205067, 50's 3.1129656920205067, goofy 3.112507071126764, thankfully 3.112413719918781, understood 3.112413719918781, claims 3.112336930150164, hidden 3.112062905713568, collection 3.1120094784693975, rating 3.1119221349056305, realise 3.111548047378289, ambitious 3.111548047378289, ed 3.111548047378289, twisted 3.111548047378289, persona 3.111548047378289, camera 3.1111339604071246, entertaining 3.1110972260587912, giant 3.1110463629034473, battle 3.1109229415644135, adults 3.1106337447730494, sam 3.1105841991354057, lynch 3.110528976162371, played 3.1104800228467266, own 3.1104537391111178, murdered 3.1103174595911045, marks 3.110225991951402, screams 3.110225991951402, parents 3.1100390575935095, device 3.1096666203932295, we're 3.1095978591942677, photography 3.1095834993953884, hundred 3.1094440698579953, return 3.1093118101588013, richard 3.109283337486697, dropped 3.109161807424468, recent 3.108743802080916, even 3.1082867781012844, recognize 3.1082867781012844, gain 3.1082867781012844, virgin 3.1082867781012844, miss 3.1082148812711425, robots 3.1075546037683495, w 3.1075546037683495, tame 3.107231587077372, editor 3.107231587077372, shoots 3.1070496591074703, admittedly 3.1070496591074703, fitting 3.1070496591074703, summer 3.106985560347537, mention 3.106974225823479, dozen 3.1068517225492887, wit 3.1067919294697477, classics 3.1067919294697477, london 3.1066803755714925, directorial 3.106398557520731, soviet 3.106398557520731, leg 3.106398557520731, succeed 3.106398557520731, become 3.1062093210418995, system 3.106112473493988, count 3.106112473493988, japanese 3.1059678015926804, better 3.105745331570016, drop 3.1055271172614987, beloved 3.1053779571008353, levels 3.105167190451073, swedish 3.105167190451073, enter 3.1049705965488035, lighting 3.104846717340557, ego 3.104846717340557, laura 3.104846717340557, harris 3.1046993030803653, totally 3.104354031696827, eating 3.1043007502731363, increasingly 3.1043007502731363, ship 3.1043007502731363, choices 3.1043007502731363, edward 3.10395718520465, rolling 3.10395718520465, theater 3.10395718520465, sing 3.1037728949130385, sally 3.103657963499305, happily 3.1034790533318173, law 3.1032751540489762, tough 3.103162138299738, engaged 3.103162138299738, straight 3.1031004116616945, sounds 3.103083919913632, murphy 3.102768048029521, videos 3.102768048029521, driving 3.102599846673, released 3.1024894141295807, hair 3.1024472962448604, cousin 3.1024472962448604, dance 3.1021467889089047, stopped 3.102102232372172, 000 3.102102232372172, apparent 3.1020643823494733, nazis 3.1019567710657094, fell 3.1017650330316022, period 3.1016792579107655, cinematography 3.1014820637039673, joe 3.1013889535836023, roy 3.1011131814673907, suits 3.1011131814673907, currently 3.1011131814673907, basement 3.1009404173497335, rocks 3.1009404173497335, occurs 3.1009404173497335, cook 3.1009404173497335, business 3.100766267037402, change 3.1007162528872323, segment 3.100678666893517, believes 3.100287955505142, thoughts 3.100287955505142, excited 3.1002353320271556, credits 3.099970319007424, whose 3.099795963805939, wrote 3.0996996519646047, protagonists 3.0993211182823286, dialogs 3.0993211182823286, running 3.0993211182823286, superficial 3.0993211182823286, broke 3.0993211182823286, guest 3.0993211182823286, deal 3.0993211182823286, cinema 3.0991490712585255, shame 3.098989351569606, decide 3.098874728943134, anybody 3.098578813967169, form 3.0984653558645503, guys 3.0983229631536995, certain 3.098172840843847, matt 3.0980885803338984, mountain 3.097990974632457, jumps 3.097990974632457, stage 3.0978765807073443, luke 3.0978765807073443, although 3.0976716818252075, fault 3.0975765040719194, evening 3.097374296643764, disney 3.0971889529727212, conversation 3.0969646067540766, non 3.0969310762192475, lines 3.096922543964348, describe 3.096786836584939, similar 3.096786836584939, political 3.096721466116768, conflict 3.0966526341200495, bringing 3.096503424329482, word 3.0962089319050374, chemistry 3.096176923990613, storyline 3.095991431942696, hours 3.095842010815079, ago 3.09582497293719, search 3.09569166734517, williams 3.09569166734517, suffers 3.095252083097686, wilson 3.095080899914052, jerry 3.094933223200438, songs 3.0944546820640304, meet 3.0943241189774113, throughout 3.094302348215801, size 3.0942230227176584, study 3.0942230227176584, produce 3.093951435755471, australian 3.093951435755471, store 3.093745817847375, originally 3.0937279700848013, shoes 3.09364929105039, composed 3.09364929105039, mile 3.09364929105039, female 3.0934851016221736, novels 3.0934851016221736, jane 3.0934851016221736, california 3.093381945540036, could 3.093135806825046, somehow 3.093038717797913, song 3.0930298067055104, happens 3.0930075629674487, struck 3.092930090276168, knock 3.092930090276168, professional 3.092930090276168, british 3.0928176412519024, context 3.0926110343481166, farce 3.092258459830901, stunt 3.092258459830901, psychotic 3.092258459830901, heat 3.092258459830901, worried 3.092258459830901, combined 3.0921508176230814, k 3.0921508176230814, might 3.092061306289388, jackson 3.09200208670806, honor 3.0917831917553733, sends 3.0917831917553733, manage 3.0917831917553733, mob 3.0917831917553733, path 3.0916853210889084, truly 3.091459422586684, explosions 3.091429157489058, you're 3.091052408367373, cared 3.09104024509795, concept 3.09104024509795, focused 3.090936956081076, portrayed 3.0907589631931667, tape 3.0907589631931667, noted 3.0907589631931667, german 3.0907589631931667, led 3.0905460637616007, biggest 3.090486151244278, lion 3.0903793130678254, want 3.0903708694797034, others 3.0902698608687027, helped 3.0902061059550823, normally 3.0898387631907873, team 3.0898123354784612, series 3.0897642200401156, comic 3.0896834054800015, u 3.089007538910386, attempted 3.089007538910386, grandmother 3.089007538910386, fate 3.089007538910386, central 3.089007538910386, personally 3.0887248631864788, kate 3.088451792880825, universe 3.088333384672075, theme 3.0883149388650786, men 3.088030635052702, lived 3.0880167303060495, medium 3.0880167303060495, picks 3.0875650292620356, wind 3.0874464127146917, mine 3.0871391401055615, contains 3.0868684835026605, complain 3.0868155620985007, he'll 3.0868155620985007, resembles 3.0868155620985007, act 3.08663982735332, mike 3.0866077617333865, ruin 3.0866077617333865, terms 3.0866077617333865, enough 3.086513175586709, personality 3.0863564384629427, fictional 3.086046320417792, evidence 3.0858227982323063, kinds 3.0858227982323063, pretty 3.0856540450232375, yourself 3.0855842793776556, son 3.0850039450364175, studio 3.084871313530574, community 3.084783682264875, drunk 3.0844453951707687, forced 3.0844453951707687, created 3.0844453951707687, cup 3.0844453951707687, building 3.0841977636846694, became 3.0841775971734564, shop 3.0840482159429548, normal 3.084022688154511, weeks 3.0839936534950105, suddenly 3.0839217127172955, situation 3.0838764064365445, saves 3.0838225184064574, alice 3.0838225184064574, mexico 3.0838225184064574, exception 3.0835753038596856, tone 3.0834426429311055, frame 3.0833291858360026, doing 3.0832093078631035, eight 3.0831867792190057, television 3.083156890520974, spooky 3.083002722943032, 20 3.0829427951880546, make 3.0828626299703767, host 3.0824063655057143, attached 3.0824063655057143, league 3.0824063655057143, living 3.082369048565549, something 3.0823328748411236, chose 3.0822226007819395, desert 3.0822226007819395, range 3.0821713650666487, actually 3.082125862564755, crowd 3.0818751439382117, canadian 3.0818751439382117, slight 3.0818751439382117, myself 3.0815021120615724, ask 3.081425588265235, clark 3.0813989463047546, anderson 3.0813989463047546, places 3.081358090196957, current 3.081334915332258, power 3.081250989733867, harsh 3.080809542002893, hitler 3.08070619689994, five 3.08070619689994, spirited 3.08070619689994, encounter 3.0802265415028636, attack 3.0802265415028636, filming 3.080079152694165, addition 3.0799028237460053, turning 3.0799028237460053, spell 3.079801005675741, teach 3.079801005675741, cares 3.0794936563361017, johnson 3.079420922828782, belief 3.079332162330452, various 3.0792457106025926, still 3.079130988625493, early 3.0791130995425515, 14 3.079079382408726, hatred 3.078627424873146, steve 3.078627424873146, shining 3.078627424873146, overall 3.0785635030867846, kim 3.078490644446366, shadow 3.078490644446366, concerning 3.0782351450332266, ill 3.0780923640396853, ryan 3.078001190022041, genre 3.0778914579042453, escape 3.0778914579042453, one's 3.0778914579042453, creatures 3.077786165312246, exact 3.077786165312246, off 3.0775201976984987, well 3.077490599156675, months 3.077317733534281, between 3.077257749021878, cutting 3.0772341880885095, message 3.0771221640645905, concerns 3.0770758257737545, somewhat 3.0769724997486154, ratings 3.076857937474827, torn 3.076857937474827, intended 3.0767372889286912, fool 3.0766606609912643, upset 3.0766606609912643, material 3.0765391943859344, ironic 3.076481204072775, survive 3.0764249339476777, chance 3.0763703086000938, working 3.076282730229882, stuck 3.0762404846182614, simply 3.076210677350743, army 3.076096287066962, blockbuster 3.076028490106504, dramatic 3.075708084562189, truth 3.075708084562189, rich 3.075569873179872, lit 3.075569873179872, appealing 3.0754742398745485, executive 3.0753847490379487, 2004 3.0753847490379487, blonde 3.0753847490379487, element 3.0752740020960077, wife 3.0751422030578137, hunting 3.0750777225492674, glory 3.0749490111933597, dangerous 3.0749490111933597, capture 3.074833454800887, usa 3.074833454800887, stops 3.0746344882171357, forward 3.074569069371968, screening 3.074548229339096, inspiration 3.074548229339096, adam 3.074329937371192, travel 3.074061334566674, wedding 3.073938582074495, cold 3.0738850819584638, theatre 3.0738359710550074, earlier 3.073651501227288, loud 3.0733926625249266, whole 3.073357085734818, piece 3.0733314386572057, leading 3.073202566959456, isn't 3.072801471470221, dress 3.0726878756731195, known 3.0726878756731195, angles 3.0726878756731195, thirty 3.0726878756731195, remain 3.0726878756731195, drag 3.0726878756731195, sleeping 3.0726878756731195, allowing 3.0726878756731195, beer 3.0726878756731195, proper 3.0726878756731195, weapon 3.0726878756731195, unable 3.0726878756731195, required 3.0726878756731195, believe 3.072422063089027, indeed 3.0722385676126893, whom 3.0721964951936753, started 3.072020821701337, making 3.0717689544168207, able 3.071662326726409, higher 3.0715031510098036, dead 3.0714746192916866, naive 3.0712616661774126, 5 3.0711850875004676, spends 3.0710998188662275, humor 3.0710795394713646, status 3.0709698439077227, africa 3.070729408837142, animals 3.070729408837142, wins 3.070729408837142, talking 3.0705820577033225, watching 3.070555316236269, rachel 3.070410731299367, projects 3.070280138997815, reached 3.070133657965445, accused 3.070133657965445, notes 3.070133657965445, arrested 3.070133657965445, partly 3.0699682009683738, length 3.069908180429132, drawn 3.069829324032549, man's 3.069779825661608, anyway 3.0696255676015283, memory 3.0695634165389416, journalist 3.0695634165389416, manages 3.0694003182462444, remember 3.068876807659944, contain 3.068849301933925, flashbacks 3.068665439285118, internet 3.068665439285118, let 3.0686284028569384, point 3.0684963750413825, indian 3.06846308113243, solve 3.0682392896213804, sympathy 3.068076445188705, prime 3.068076445188705, win 3.067952634642373, friend 3.0679486164870706, looking 3.067759523474505, ended 3.067645797565264, husband 3.067572303367367, properly 3.0672854471319937, soul 3.06714974817194, costume 3.067043416287257, hill 3.067043416287257, soon 3.067043416287257, insane 3.067043416287257, bodies 3.0668471733773743, wars 3.0667227412782814, queen 3.0667227412782814, art 3.066531205579609, absolutely 3.0664572720691474, may 3.0662667716073084, emotion 3.0661670876580702, bet 3.0661670876580702, warrior 3.0661670876580702, ideas 3.0659938913402085, wear 3.0659037987449036, step 3.0653078837449295, hate 3.0652716949675543, bit 3.0651121783290693, footage 3.0650764686458807, spike 3.0649688969988054, alike 3.0649688969988054, doc 3.0649688969988054, sort 3.064845395495891, town 3.0647351220162418, page 3.064725073978378, sell 3.064725073978378, actions 3.064597298751723, thomas 3.064465359851941, bone 3.064465359851941, spiritual 3.064465359851941, condition 3.064188150447313, clips 3.064188150447313, needed 3.0641426645155745, critical 3.064012677328271, beyond 3.063940444744336, bed 3.063778598635394, together 3.0637508179439665, cowboy 3.0637354646725488, portray 3.0637354646725488, try 3.0636169755239364, takes 3.0635948769351335, leader 3.0635263686064045, ray 3.0634625276401257, should 3.063405933352526, filled 3.063355418154667, presentation 3.0632319115439737, mistakes 3.0632319115439737, spoil 3.0632319115439737, student 3.0630344822486943, past 3.062943468036363, name 3.0626805901347516, anne 3.0624653870644973, rex 3.0624653870644973, partner 3.0624653870644973, reviewer 3.062360757740448, deserves 3.0623456358696215, ghosts 3.0622969473540507, technique 3.0622969473540507, notorious 3.0622969473540507, creative 3.0622539678957112, dressed 3.0621815411589557, laugh 3.0621815411589557, usual 3.0620743829245534, stan 3.0620336338131833, bill 3.0620336338131833, learning 3.0620336338131833, 40 3.0620336338131833, office 3.0618815097948335, president 3.061837246009176, focus 3.0617249865300034, confused 3.0616334955868867, dancing 3.0615022269660206, narration 3.0614219614629015, false 3.0614219614629015, body 3.0614084719642065, stop 3.0613895324078455, mother 3.0613691362830453, rage 3.061313135079957, clothing 3.061313135079957, roberts 3.061313135079957, our 3.061282286640754, your 3.061272981609317, round 3.061227030643072, commit 3.0611572046742155, highlights 3.0611572046742155, military 3.0609736912691567, pilot 3.0608691981931133, new 3.060817424002196, record 3.060801728524325, box 3.0607762287984666, then 3.060617993561192, checking 3.060488352887813, admire 3.060488352887813, george 3.060488352887813, corny 3.060488352887813, village 3.060488352887813, painting 3.060488352887813, free 3.060488352887813, spin 3.060488352887813, spot 3.0602631678600787, episode 3.060158046292548, lover 3.05999771911232, beach 3.059961163160485, fu 3.059961163160485, plots 3.0598688475362534, cheek 3.059737338534024, commercials 3.059737338534024, bizarre 3.059583708251251, day 3.059574359783845, roger 3.0595349505230063, stone 3.0594408556241497, kept 3.0594408556241497, curse 3.059183245195424, singer 3.059050656949089, surface 3.058684058484522, insight 3.058684058484522, 1st 3.0584204112550974, carried 3.0584204112550974, moral 3.0584204112550974, peter 3.0584204112550974, media 3.0584204112550974, repeatedly 3.0584204112550974, intriguing 3.0582574194949945, moore 3.058066538763059, man 3.0579611508190423, production 3.0579067526784494, directing 3.0577894384184425, 80s 3.0577293087920383, rest 3.057707570785342, very 3.057650802931313, adequate 3.057566573399002, follow 3.057566573399002, lloyd 3.057566573399002, praise 3.057566573399002, top 3.057444974276586, faced 3.0572302865510865, technology 3.0572302865510865, toy 3.0571003059317854, issues 3.0571003059317854, character's 3.0571003059317854, just 3.0570833256328602, reviews 3.056938453663572, slow 3.056869299584827, certainly 3.056806541813666, returns 3.0567313699013186, genres 3.0566044963288963, st 3.0566044963288963, baker 3.0566044963288963, university 3.0566044963288963, average 3.0565504729011557, going 3.056443542989914, cameos 3.0563446262746403, fortune 3.0563446262746403, expensive 3.0563446262746403, featuring 3.0563446262746403, commentary 3.0559142609715013, existed 3.0555123286284402, jamie 3.0555123286284402, hills 3.0555123286284402, bride 3.0555123286284402, foreign 3.0555123286284402, setting 3.05532624582742, told 3.0552798717198018, leads 3.055188373814543, thriller 3.0550539370270475, image 3.054852032859127, rule 3.054852032859127, escapes 3.0547832159913018, attraction 3.054698386050386, american 3.0546356152380048, 2002 3.054591218106748, task 3.0541392590505163, legs 3.053989856013084, ireland 3.053989856013084, dies 3.053920577420592, speak 3.053888918241686, i'd 3.05372350927025, include 3.05365260113757, print 3.0535663905524473, occurred 3.0535663905524473, ice 3.053420969589812, machine 3.0533227956865128, doesn't 3.0532767940733487, stretch 3.053123436891819, starts 3.0529357617449495, brother 3.0528166388089337, raised 3.0528166388089337, forever 3.0528166388089337, child 3.0526395516130234, plans 3.052591584374011, side 3.0525079781647486, clever 3.0523865489680544, vacation 3.05217347642781, million 3.0519411130658507, bobby 3.0518850169268044, matthew 3.0518850169268044, intrigued 3.051721258459737, clothes 3.0515758584682993, dvd 3.0515698403442184, rights 3.0515420202519716, possible 3.0514973566487225, mr 3.051487654871428, actual 3.0513218950041523, c 3.051283277239056, opens 3.051127412771456, kenneth 3.051127412771456, handful 3.051127412771456, falls 3.0510398455959935, turned 3.050969282801259, result 3.0507857255947153, animal 3.0506161682381236, hadn't 3.0506161682381236, eye 3.0505637200514126, do 3.050560548005212, anthony 3.0504992805473417, displays 3.0504992805473417, birthday 3.0504992805473417, designed 3.0504182066003205, european 3.050313102745279, andy 3.050313102745279, match 3.0502479338876207, start 3.0502336280759863, begin 3.050152582254501, times 3.0500524072485713, racism 3.0499700714288793, laughs 3.049874077637013, fans 3.0497998730409654, boys 3.049661267323861, cast 3.049312077709128, date 3.0492518191907525, oliver 3.0491277221763435, awkward 3.0491277221763435, fear 3.0491277221763435, nelson 3.0491277221763435, viewers 3.04898604213839, expected 3.0489787930624925, occasionally 3.048927595565313, michael 3.0489128201577698, lessons 3.048787066821984, shape 3.048787066821984, makes 3.048751157528436, factory 3.048682964133846, novel 3.048682964133846, kiss 3.0484872348771077, quite 3.048379922895312, fred 3.0483771282332333, music 3.048354988075748, pro 3.0483065437924326, head 3.048275172130455, locations 3.0481392227199824, surrounding 3.047983841324798, library 3.047983841324798, mild 3.047983841324798, elizabeth 3.047983841324798, gags 3.047811419245881, only 3.0477529725069443, maker 3.0477041280648054, former 3.047652598409787, proved 3.047652598409787, sense 3.0476130516870854, accidentally 3.0475777954481185, presented 3.0475777954481185, warren 3.0475777954481185, pure 3.0475447422943973, historical 3.0475261121540638, 6 3.0475058310950356, americans 3.0474593530982745, imagine 3.047426859167222, funnier 3.047243357141247, members 3.047112937029518, angel 3.0470513479356924, seems 3.0470032428354807, attracted 3.0469631237903076, nights 3.0469631237903076, hysterical 3.0469631237903076, hired 3.0468795410177263, finished 3.0468157755919325, smart 3.0467249080866865, jay 3.0467249080866865, committed 3.0467249080866865, street 3.0466767425365058, skin 3.046584997168331, flaw 3.0465199208614315, tell 3.046479085683508, jump 3.046427788895409, dancers 3.0460468432117658, stuff 3.0460269575008416, absolute 3.0459235510793006, western 3.0459004890621566, washington 3.0458130119974984, will 3.0457273824385385, ten 3.0457133447568676, attention 3.0457028724347293, shirt 3.0456230207711794, soldiers 3.0456230207711794, circumstances 3.045465598120969, catherine 3.045333031279005, tim 3.045333031279005, names 3.0452557006306455, sister 3.0452411532907373, ladies 3.0452198645088093, mansion 3.045122129817969, surrounded 3.045122129817969, corner 3.045122129817969, talk 3.0450057409180804, spite 3.0448359097662454, shown 3.0448032276138655, bear 3.04465071243313, m 3.044580638858533, humans 3.0445210768667037, many 3.044415013301628, jones 3.0443861527953886, say 3.043989997370277, subplot 3.043786536045001, antics 3.043786536045001, powers 3.043786536045001, picture 3.043786536045001, cusack 3.043786536045001, woody 3.043786536045001, rochester 3.043786536045001, cia 3.043786536045001, burned 3.043786536045001, opinion 3.043786536045001, comical 3.043786536045001, wait 3.043523058195415, merely 3.043261956378741, angry 3.043199013569514, car 3.043005804088822, recall 3.042947258984608, veteran 3.0428234557056992, narrative 3.04279918140905, facial 3.042773651855577, children 3.042737485539079, served 3.0426568092058646, oddly 3.0426568092058646, said 3.0426043588983656, thousands 3.0425876607362623, perform 3.0425876607362623, king 3.042549812118366, typical 3.0425419538152574, graphics 3.042509495961356, hang 3.042509495961356, clearly 3.042495466737236, thank 3.0424811258644278, costumes 3.042451466693377, luck 3.0423710678139404, forgive 3.0423180065842494, hasn't 3.0423180065842494, picking 3.0423180065842494, pair 3.042260812563006, drunken 3.042198983391083, learn 3.042131931860655, politics 3.041891867610895, kid 3.041795581426922, hollywood 3.0417405354498057, hanks 3.0416889863986887, meant 3.041622789369069, price 3.0416113482308407, gang 3.041570333622735, hit 3.0415492408820617, cops 3.0415277428544276, began 3.041437454963768, theory 3.041437454963768, decision 3.041437454963768, tarzan 3.041437454963768, offer 3.0413797332090713, dirty 3.041117395178878, killers 3.0409904108363914, carry 3.040963550546726, afternoon 3.0408507442821513, imagined 3.0406963964590124, improved 3.0406963964590124, movements 3.0406963964590124, teenage 3.0405957467909377, rise 3.040569551884677, join 3.0405249250516646, viewer 3.0405158507513037, tongue 3.0403333144823117, surely 3.0402818433164738, drive 3.0402818433164738, or 3.040280350166214, reminded 3.0401177973275595, independent 3.0399996313953235, honest 3.0399750793404383, villains 3.0399750793404383, were 3.0399701306969646, crying 3.039937648796566, happening 3.039937648796566, anti 3.039873604587424, vehicle 3.0398208148513675, eva 3.0397389060247715, sexually 3.0395946094129176, called 3.039489291785557, fire 3.0394272564162366, picked 3.0393991069283617, died 3.0393577991823024, returned 3.0392728072581185, style 3.0392143116298773, product 3.039092654813972, tied 3.0389970808955686, school 3.038954919790959, innovative 3.038897537684682, kane 3.038897537684682, starred 3.038814876420681, morning 3.0387785890761094, managed 3.0386855125292396, basic 3.0386855125292396, aware 3.0386855125292396, artistic 3.038610695134718, imagination 3.0385492439679753, purely 3.0385492439679753, list 3.0385140328324134, play 3.038454284730805, getting 3.038421862646566, quick 3.038405503467854, comment 3.0383505395358004, italian 3.0383306367646292, trip 3.038275873821689, instance 3.0381113180480277, private 3.037922763670672, depressing 3.037922763670672, lake 3.037922763670672, once 3.037825094857501, questions 3.0375498363646933, oil 3.0374490852414286, thrill 3.0374490852414286, massive 3.0373751072910307, course 3.0372737456563987, asks 3.037088446021482, number 3.037071077366661, seek 3.0370611119941815, expectations 3.036972127000573, frequently 3.036892314730105, weird 3.036789886684476, rock 3.036789886684476, books 3.036516719273565, girls 3.0364894625552994, along 3.0364894625552994, group 3.036487422084449, cannot 3.0363778190342057, soldier 3.036371309779004, intellectual 3.0363310726531303, himself 3.0362195554425897, moments 3.036172168387149, yet 3.036150046616336, anyways 3.036080195110408, comparison 3.0360247981074964, guessing 3.0359033736887735, would 3.035663253996966, newspaper 3.0354237742610928, indie 3.0354237742610928, strike 3.0354237742610928, mark 3.03528978582103, us 3.0351918497538217, appears 3.035147932407755, la 3.035051910288484, nice 3.0348758464535637, story 3.034825380907602, broad 3.0347851355853095, connect 3.0347851355853095, went 3.034775445882311, talent 3.0347551567938447, talks 3.034722224939349, fair 3.0346099973555836, obsession 3.0344279364756845, difficult 3.0342123545010287, chase 3.034199736423955, crash 3.034199736423955, risk 3.0340413459358615, knowledge 3.0340413459358615, escaped 3.0340413459358615, been 3.033909832702258, science 3.0338358775202825, guts 3.0338358775202825, countless 3.0338358775202825, elements 3.033805818801304, read 3.033803331661577, left 3.033699174862482, jeff 3.0336216015017587, target 3.0336216015017587, hunter 3.033418679015095, plan 3.033397942585707, sound 3.033325613657322, boyfriend 3.0332990632169623, original 3.0332972765069703, because 3.03319272343346, holiday 3.0331642746337595, did 3.033108135533048, already 3.033057033093545, features 3.0330112318658378, final 3.0330112318658378, initial 3.032939108016089, terror 3.0328971450489712, moment 3.032888581850736, if 3.0328863210602566, there 3.0328589244436905, craft 3.032738416061773, block 3.032738416061773, popcorn 3.032738416061773, speaking 3.032704247587059, impression 3.032704247587059, adaptation 3.0325584164057835, felt 3.0324868326326193, technically 3.0324590583428765, willing 3.0324351436126964, 's 3.0323960674782278, happened 3.032383764661339, fly 3.032277218941058, interest 3.0321486646116047, chances 3.0321148688254285, medical 3.0321148688254285, drinking 3.0321148688254285, crude 3.0321148688254285, derek 3.0321148688254285, duke 3.0321148688254285, grace 3.031992301831334, eventually 3.0319690354281708, mexican 3.0318797857554887, hole 3.031680337535115, bright 3.031608775046813, boy 3.031530924135879, argue 3.031508994849006, graphic 3.031508994849006, within 3.0314753733228796, english 3.0313802538406605, kind 3.031332772459777, corrupt 3.0312929284258647, they 3.0311849597309775, several 3.0311309917105507, metal 3.0311145688337433, add 3.0310878251829747, based 3.0309868624046246, steps 3.0309648393224675, wishes 3.0309648393224675, correct 3.0309201315088545, changed 3.0308776944952007, busy 3.0308373595862386, compare 3.0307804692908324, gold 3.0307624008951732, finale 3.0306941991488046, note 3.0306780986260122, shooting 3.0306686093926016, korean 3.030631880229877, walken 3.030631880229877, aka 3.030631880229877, goldberg 3.030473481626987, showing 3.0303982624041774, passed 3.0302939566969904, nazi 3.030245271065005, brand 3.030245271065005, got 3.0302306360451614, its 3.030187672784721, sitcom 3.030160353580496, remind 3.030027633643277, happen 3.0300002838960785, sea 3.0298198551470867, run 3.0297909385936226, heroes 3.029681438963475, films 3.029659663415342, superhero 3.029249431113919, talked 3.029249431113919, n 3.029249431113919, previously 3.029249431113919, installment 3.029249431113919, week 3.029249431113919, everyone 3.0290596141418162, fast 3.028958962485784, developed 3.0289466107924428, shock 3.028907880520211, continue 3.0288577903574603, girlfriend 3.02880938973582, calls 3.0287698798677947, ball 3.028722575369607, subject 3.028675387608938, hide 3.02866491725445, full 3.028652672002406, friends 3.02853979783511, horrific 3.0285011344410573, uncomfortable 3.028444767773359, suffered 3.028444767773359, larry 3.02837921803959, tom 3.02837921803959, grown 3.02825808331082, foot 3.0281566764932, till 3.0280321621352475, bugs 3.027958622662759, interested 3.02791246859965, year 3.027899302743751, appeal 3.0278577315003936, legend 3.0277812286414107, thus 3.0277397345808077, mid 3.0277289920569457, underground 3.0276729020907855, upper 3.0276729020907855, victim 3.02759987965515, rescue 3.027547321076618, riding 3.027547321076618, treated 3.0274767187840332, floor 3.0274767187840332, unknown 3.0274767187840332, uk 3.0274518652073565, appear 3.0274518652073565, attractive 3.027158765538156, aspects 3.0271089084160545, latter 3.0270882935879273, had 3.027069533084477, eyes 3.0270587568936387, gary 3.027012906983323, population 3.027012906983323, superman 3.027012906983323, prove 3.026965097640715, executed 3.0267515204914903, karloff 3.0267515204914903, showed 3.0266917400820583, west 3.026676345450051, generally 3.026629029838534, considering 3.026596507927654, introduced 3.0264734671553053, nick 3.0263441182001865, secret 3.0262040437397895, shouldn't 3.0260965691229877, girl's 3.0259897551939856, barry 3.0259897551939856, stolen 3.0259897551939856, meanwhile 3.025841315356714, knows 3.0257324158213925, luckily 3.025720809628881, dad 3.0255833369658602, halloween 3.025537057635981, line 3.0254541046677037, case 3.0254188614629136, reaction 3.025403556330204, lane 3.025403556330204, response 3.025403556330204, competition 3.025403556330204, parts 3.0253466621520886, comedian 3.0252601093070473, revenge 3.0252225622703897, tracy 3.0251583906463115, prison 3.0251583906463115, rap 3.0251583906463115, fever 3.0251583906463115, worth 3.0250825048097427, translation 3.025023719904827, event 3.025023719904827, kitchen 3.025023719904827, leaves 3.025023719904827, rated 3.0249990302506538, christmas 3.024856898516345, training 3.0248369922526197, stayed 3.0248369922526197, captain 3.0247784602306975, mental 3.0247403987100885, bits 3.0247403987100885, huge 3.0246753167942653, dog 3.0246613084542338, heston 3.0245608000461575, sets 3.0245608000461575, beaten 3.0245608000461575, hundreds 3.0245608000461575, responsible 3.0245608000461575, noticed 3.0245608000461575, chosen 3.0245608000461575, so 3.024552383718607, mission 3.024345998677333, title 3.024218865010249, 18 3.0241915465814895, director's 3.0241550804637227, develop 3.0241550804637227, canada 3.0241106227601593, actors 3.0241076131274625, game 3.0240805518030394, suicide 3.024033597166842, 'the 3.0240220752075944, against 3.023940771751456, topic 3.0238901667641187, weapons 3.0238901667641187, physically 3.0238901667641187, considered 3.0238016542642576, threatening 3.0237593430927574, vs 3.0237593430927574, storm 3.0237593430927574, haven't 3.023658797707281, movie 3.023593071393763, comedy 3.0235802826378833, hitting 3.0234776177248786, month 3.0234776177248786, career 3.0232822191096638, east 3.0232466610348028, streisand 3.0232466610348028, christopher 3.0232466610348028, contrary 3.0232466610348028, church 3.023132460036308, religious 3.0231145053366877, home 3.0231049573355406, convey 3.0230538906163877, inside 3.023013847182006, relevant 3.0229965274569834, caused 3.0228320104051627, points 3.022817910713935, feature 3.0227591353862646, sorts 3.022750413862868, v 3.0226288376646133, photographer 3.0226288376646133, earth 3.022594606417905, slightly 3.0225846022258285, reading 3.022522372922821, cost 3.022522372922821, entertained 3.022428367785449, rid 3.022428367785449, turns 3.0223323924543806, easier 3.022269905796896, unlikely 3.0221815086422823, thousand 3.022141502201558, football 3.022141502201558, cars 3.0221039479759395, samurai 3.022035346533701, fallen 3.022035346533701, minded 3.022035346533701, desperate 3.022035346533701, loss 3.0219742369343012, stand 3.0219370746488683, changes 3.0218700680781554, multiple 3.0218700680781554, force 3.0218700680781554, find 3.0218441417250914, voices 3.021804477529601, towards 3.0216361617185994, who's 3.0216054336661657, white 3.021592603181759, text 3.021577221697216, most 3.0214483878073852, achieve 3.021421967776527, network 3.021421967776527, him 3.0213613142016174, blind 3.021325784344107, stephen 3.0212272255470363, brief 3.0211407891842192, sarah 3.020916392052669, stole 3.020916392052669, card 3.020916392052669, fancy 3.020916392052669, performers 3.020916392052669, build 3.020916392052669, revealed 3.020916392052669, using 3.0206877301184587, answer 3.0206499849372968, judge 3.020562313958141, his 3.020439742458858, sun 3.020388640358071, table 3.020388640358071, flow 3.020388640358071, wears 3.020388640358071, mass 3.02034165703658, infamous 3.02034165703658, look 3.020287853755671, goal 3.020285491320778, like 3.0202604066033594, characterization 3.0202171599859664, world's 3.0202171599859664, types 3.0202171599859664, named 3.0201771264000596, godfather 3.0201322307268246, receive 3.0201322307268246, feel 3.020111873171703, highlight 3.020081530049746, introduction 3.01988063245348, ron 3.0197903115638107, far 3.019590028447029, laughing 3.019587531904931, entertainment 3.0195634373500773, prevent 3.0195524459992407, allow 3.0195230149276515, aside 3.0194351196996383, literally 3.0194351196996383, pacing 3.0193913947198707, disease 3.0193913947198707, los 3.0193913947198707, loses 3.019232326975516, limited 3.019187238810765, foul 3.019187238810765, example 3.019169247971944, anyone 3.0191535267561362, disturbing 3.0191064790832414, feet 3.0190362322389683, he's 3.019019787545267, trailer 3.0190044299774503, ben 3.0189200128754665, sean 3.0189200128754665, plus 3.0189200128754665, fish 3.0189200128754665, particularly 3.0188939696936297, space 3.0188749477907684, made 3.018860445040753, walks 3.0187884904493156, robot 3.0187528589044477, absence 3.0186907473601874, messages 3.0186907473601874, blown 3.0186384323618958, amazed 3.0186384323618958, folks 3.0186021688732634, impossible 3.0184919004365005, 100 3.0184810221505884, background 3.0183465061165697, evident 3.018317801911574, days 3.0183107227018775, despite 3.0182975516658113, batman 3.0182644873232234, villain 3.0182508155124705, department 3.01822771357911, worthwhile 3.01822771357911, finish 3.0182132971581046, post 3.0181110162525195, trap 3.018027431024976, mood 3.0179387201232237, writer 3.0179156859292697, allen 3.0178565132526223, cage 3.017794964080525, respect 3.017794964080525, importantly 3.0177439160799855, object 3.0177439160799855, intention 3.0177439160799855, bus 3.0177439160799855, 60 3.0177439160799855, easily 3.0176764844359236, indians 3.017664140859775, necessarily 3.0176046622782584, van 3.0176046622782584, lugosi 3.0175218960902033, ellen 3.0175218960902033, digital 3.017398837847237, cult 3.017311731750282, drug 3.0172665447505502, acts 3.017258453008795, upon 3.017255070877547, ahead 3.0171966050159593, alex 3.0171966050159593, violent 3.017096809371682, shot 3.0170614986039124, actresses 3.017057995441398, process 3.0170373487455655, above 3.017019790396555, parody 3.0169697731044818, scott 3.016942855467904, seem 3.0169343684775756, immediately 3.0168802963726393, service 3.016802583951338, worker 3.016802583951338, worked 3.0167742867229244, while 3.016745061372193, hot 3.0166870185091232, give 3.0166717376915635, am 3.0166482752586994, ever 3.016589255861537, theaters 3.0165726422002708, 13 3.01651589487504, caring 3.0164901970218896, twist 3.016466065600414, cartoon 3.0163920729934555, person 3.0162799660870863, treatment 3.0162733293828747, relative 3.016236486739251, sure 3.016205690270694, drugs 3.016204082410825, extra 3.016126706994635, via 3.0160870632079195, regarding 3.0160870632079195, baby 3.015822686176232, native 3.0156985448212206, flying 3.0156985448212206, standards 3.0156985448212206, source 3.0156985448212206, watches 3.0156985448212206, woman's 3.0156985448212206, six 3.0156985448212206, believing 3.0156985448212206, push 3.0156985448212206, given 3.0154680107873886, doctor 3.015403077013125, cause 3.015403077013125, get 3.015199319372352, frustrated 3.015186920244508, sin 3.0151158790837265, argument 3.0151158790837265, critic 3.0151158790837265, steven 3.0150724091082384, rate 3.0150564411465584, passing 3.015021930893018, routine 3.015021930893018, mini 3.014962601310692, usually 3.0149320515188838, following 3.0148918689519113, arms 3.0148918689519113, toward 3.0147559901716123, resolution 3.014699922724122, standard 3.014664784899115, account 3.014613899967239, mask 3.014613899967239, author 3.0145650829456745, missed 3.014533625782299, evil 3.014533625782299, copy 3.014465167791139, convincing 3.014465167791139, women 3.014465167791139, essentially 3.014465167791139, fbi 3.014388165584669, behavior 3.014388165584669, 25 3.014388165584669, put 3.014379212770665, movies 3.014373782149356, until 3.0143643678153293, affair 3.014327005962959, soft 3.0143162536051644, ring 3.0143009140937504, direction 3.01425278379571, film's 3.01425278379571, mainly 3.014235995621691, ground 3.014214454406142, spanish 3.0142012225830923, titanic 3.014145850326302, successfully 3.014145850326302, middle 3.0141074787220696, doors 3.0140438723509466, director 3.014039134038964, cable 3.014012230469458, due 3.013958151008457, less 3.013905330138103, really 3.0138662775092953, iii 3.0137937034543256, everybody 3.0137937034543256, carrying 3.0137937034543256, buck 3.0137937034543256, bbc 3.0137937034543256, religion 3.0137937034543256, must 3.013663290507832, involves 3.0136617582566667, satire 3.0136617582566667, presence 3.013650848428864, p 3.0136037232928192, laughed 3.0135501643867073, finally 3.01337657199929, voice 3.0133564655108382, male 3.0133260333066376, negative 3.0132896518432166, children's 3.0132353585460225, buddies 3.0132353585460225, directed 3.013203576689153, deliver 3.013178566594239, quality 3.013173715740192, order 3.0131719092444573, vote 3.013152478215803, dawn 3.0130820563825345, melodramatic 3.0130820563825345, structure 3.013040709175601, main 3.013023302451179, choice 3.013021480907933, fare 3.0129688220553543, beating 3.0129688220553543, came 3.0129603586334133, feeling 3.0128929486957183, credible 3.0128817648844977, class 3.0128127491409384, says 3.0127910699707576, have 3.0127671801021503, know 3.0127547471664915, eve 3.012710261494819, how 3.0127021803049963, turn 3.0126965062437536, menacing 3.0126378075016444, window 3.0126378075016444, scenes 3.0126193294064096, prepared 3.0125089433238004, teenagers 3.01248186210537, jennifer 3.01248186210537, entry 3.0122158224901296, spoiled 3.0122158224901296, mysterious 3.0122158224901296, camp 3.0122158224901296, interviews 3.0122158224901296, extremely 3.0121645655360725, missing 3.0121263343609765, industry 3.0120574109666234, manner 3.011958203567617, closing 3.011932891105336, seemingly 3.0119182732604703, around 3.011873657175086, 24 3.0118146372996906, homage 3.0118146372996906, strip 3.0118146372996906, depth 3.011800160140831, party 3.011784599110009, site 3.011784599110009, hurt 3.0117735612963967, folk 3.011749699199905, offering 3.011749699199905, explosion 3.011749699199905, movie's 3.0117300417384465, gave 3.011693316795696, real 3.0116798770392657, hunt 3.0116596820478527, code 3.0116596820478527, quote 3.011526584706463, suspects 3.011526584706463, has 3.0115208496736665, me 3.0114793780035907, hand 3.0114629999325704, sequence 3.011460889513626, saw 3.011447152453241, was 3.011335949146312, proceedings 3.011309768910135, angels 3.011309768910135, thought 3.011309768910135, lisa 3.011309768910135, causes 3.011309768910135, self 3.011280344315482, though 3.011280344315482, again 3.0112261391710984, forgotten 3.0112203052988016, playing 3.011159762684722, deadly 3.0111406930424627, q 3.0111406930424627, statement 3.0111406930424627, need 3.0111294314093078, martin 3.0110472497370773, handle 3.0110300745520777, ones 3.011024236823152, coming 3.0110051639143967, realized 3.0109657731529644, taste 3.010947008852432, down 3.01092235421171, beats 3.0108941042579382, incident 3.0108941042579382, audience 3.010869403723478, two 3.010845770200708, becomes 3.010840020486702, hope 3.010827060503052, trust 3.010823136051633, starting 3.0108137260739065, not 3.0107426821197034, requires 3.0107229503529025, matter 3.010663851747127, slave 3.010655616966716, couple 3.0106440434337713, magazine 3.0105009520378405, thick 3.0105009520378405, her 3.0104922656003144, x 3.0104423614675784, broken 3.0104423614675784, aspect 3.0104347554053854, offered 3.0104248799482995, hold 3.0103925305857926, be 3.010332044977175, s 3.010298710477656, etc 3.010281929737696, beginning 3.0102646280291334, constantly 3.0101806676016687, protagonist 3.0101617294422103, factor 3.0101617294422103, altogether 3.0101287146441433, contained 3.0101287146441433, away 3.010103486756983, repeat 3.0100771585508372, whenever 3.0100771585508372, vietnam 3.0100771585508372, amazingly 3.010009027472729, description 3.010009027472729, mystery 3.010002618454805, falling 3.0099965524330115, blow 3.009985344837335, steal 3.009949978252055, results 3.0099248313726723, hits 3.0099248313726723, opera 3.0099147993199766, stars 3.00977593378106, invisible 3.00977593378106, murderer 3.00977593378106, convinced 3.00977593378106, 1970s 3.00977593378106, outrageous 3.00977593378106, reach 3.00977593378106, cute 3.00977593378106, revolves 3.00977593378106, work 3.0097648025395753, question 3.009711843270824, bought 3.009682919483846, provide 3.009639966699881, candy 3.0095912270088063, horse 3.0095912270088063, related 3.0095730449273956, go 3.009562060724769, much 3.009523310073662, accepted 3.0094880222015057, charisma 3.0094880222015057, bring 3.009441276129194, green 3.0094006562553464, involved 3.009346116080007, placed 3.0093335369102787, arnold 3.00928035787647, than 3.0092712250572218, largely 3.0092371852333684, ultimately 3.009223433628894, rob 3.009212650337989, standing 3.0091235207042724, shortly 3.0091235207042724, chain 3.0091235207042724, through 3.009120470381019, asked 3.0090794403665764, flashback 3.009046589515222, farm 3.0090008971517754, i've 3.008982586536691, break 3.0089491001069852, guard 3.0089491001069852, dislike 3.0089491001069852, suggests 3.0089491001069852, belongs 3.0089491001069852, afraid 3.0089330052412415, what 3.008832553354357, efforts 3.008821547683505, teenager 3.008821547683505, handled 3.008821547683505, jumping 3.008821547683505, 60s 3.008821547683505, action 3.008813871868365, fact 3.008762167160682, ms 3.00875399254153, super 3.0087338773455277, listening 3.008724216980381, guilty 3.008724216980381, forth 3.008724216980381, some 3.008702896057639, letting 3.008696704120946, whereas 3.008696704120946, set 3.0085987283559406, wanting 3.0085744932221594, interesting 3.0085473743392863, experienced 3.0085343285079205, those 3.0084920828509496, check 3.008447446553248, expecting 3.0084275853846614, adding 3.0083959529597926, seeing 3.008342721094537, audio 3.0083145376025344, bathroom 3.0083145376025344, government 3.0082943688735293, wondered 3.0082609170967993, land 3.0082078138286525, express 3.0081946180502386, waiting 3.00818671585835, band 3.008183001135956, here 3.0081536667465563, exactly 3.0081054893945174, mix 3.008090948996288, selling 3.0080004420335675, selfish 3.0080004420335675, typically 3.0080004420335675, facts 3.0080004420335675, harder 3.0080004420335675, train 3.007899692024807, hence 3.007786863039555, wing 3.007752099602277, wish 3.0077108576749882, perhaps 3.007674226425779, degree 3.0076718849840782, jobs 3.007632243930443, special 3.0076279639827552, driver 3.0075817268786986, another 3.007554111179738, show 3.007527187477937, speaks 3.007515147570436, 90's 3.007515147570436, telling 3.007444423194772, held 3.00740738450179, pulled 3.007400726437866, too 3.0073964111226426, raise 3.00738459419164, she's 3.0073570614157172, nightmare 3.007349579208738, up 3.007295638665696, encounters 3.007288899628109, dare 3.007288899628109, freeman 3.007288899628109, laid 3.00719505384133, cartoons 3.00719505384133, allowed 3.00719505384133, pick 3.0071174249388806, unfortunate 3.007072720405279, lead 3.0069682208293713, savage 3.0069682208293713, chuck 3.0069682208293713, major 3.0069682208293713, place 3.0069682208293713, hood 3.0069066293062314, open 3.0068972262325424, pieces 3.0068779273499198, hospital 3.006866020999726, titles 3.0068372340115594, changing 3.0068157624526735, test 3.0067991322236782, russian 3.0067991322236782, first 3.006760076262219, during 3.0067414033750812, wants 3.006692008655656, ticket 3.0066682549564936, carpenter 3.0066682549564936, strangely 3.0066682549564936, homeless 3.0066682549564936, obscure 3.0066682549564936, road 3.0065962910490605, he 3.00653142549529, faces 3.006505465659734, cross 3.006493191098588, worry 3.006478914647541, row 3.0064420155403653, as 3.0063896354494997, fit 3.0063729608082594, large 3.0063625949303834, section 3.0062533719313027, beat 3.0062432480456454, yes 3.0062271009066475, filmmaker 3.0061703540239213, included 3.0061703540239213, j 3.0061236555806428, sword 3.0061236555806428, liners 3.0061236555806428, area 3.0061236555806428, twelve 3.0061236555806428, situations 3.0060968616155, loose 3.006077485428848, sudden 3.006067296336651, teens 3.006051336614873, screen 3.0060480424685148, repeated 3.0059979350634642, jail 3.0059568878612692, news 3.0059568878612692, professor 3.0059568878612692, used 3.0059472909541736, funny 3.005898616947321, who 3.0058396546827786, tons 3.005828331516642, ends 3.0057968428694104, fan 3.0057945032121456, productions 3.005774506997282, commercial 3.005744926145754, hotel 3.005734626543844, design 3.00571922901163, worthy 3.0057082687210093, few 3.0056892822677286, trapped 3.005643163962966, conversations 3.005643163962966, sandler 3.005643163962966, regard 3.005643163962966, short 3.005628617108703, i 3.005596270202136, state 3.005595902317528, last 3.005570113541857, them 3.005550694734271, aged 3.005544082577245, at 3.005542367669113, chris 3.0054823836828746, al 3.005466684762562, suffering 3.005447588621247, keep 3.005445947089917, majority 3.005353592758332, scenery 3.005353592758332, amongst 3.005353592758332, since 3.0053307115902075, field 3.0052983585987034, quickly 3.005234602592815, drawing 3.005217096826139, locked 3.005217096826139, book 3.00520980226942, company 3.0051935520210318, effect 3.0051807765369696, about 3.005152600399164, sexy 3.00513769076668, specific 3.00513769076668, twice 3.00504914143119, over 3.005047321067078, investigate 3.005021939020617, briefly 3.0049842235309945, strange 3.0049842235309945, spoken 3.0049593154774663, punch 3.0049593154774663, see 3.0049556321947604, lot 3.0049208945413146, itself 3.0048931760947903, trouble 3.004877623704062, mirror 3.0048375328582395, opening 3.0048375328582395, tiny 3.0048375328582395, mom 3.0048375328582395, o 3.004772988032048, use 3.004740108576285, expert 3.004720182586984, now 3.0047184888367333, people 3.004705814725245, she 3.004703767531225, sticks 3.004663102655125, granted 3.0046389563965863, safe 3.0046389563965863, out 3.0046174843171682, enemy 3.0046070521067243, conclusion 3.004594010661234, other 3.0045859215247193, per 3.004562936261779, significant 3.004497941453806, exposed 3.004497941453806, issue 3.004462431671871, whether 3.0044523632582756, chair 3.0044343258027135, planet 3.0044115271655207, woman 3.004404338933184, concerned 3.0043926623728665, knew 3.0043784317697155, display 3.0043632613137774, gets 3.0043613541173, problems 3.004347054793075, jewish 3.0043414038420653, pool 3.0043110783071203, according 3.0043110783071203, food 3.0043110783071203, separate 3.0043110783071203, believed 3.004276808096764, whilst 3.004266182448566, lets 3.004246006801852, listen 3.004246006801852, dr 3.0042271484417467, southern 3.004192899632352, sheriff 3.004192899632352, end 3.0041670530778846, club 3.004089631910447, outside 3.004067201975289, l 3.0040323260361457, excitement 3.0040323260361457, front 3.0039875644045697, figure 3.003975311400017, jessica 3.0039178739827728, help 3.0038985868686425, gotten 3.003888996685962, psycho 3.0038808046714687, opened 3.0038661241441855, 70's 3.003832191896923, consider 3.0037904012541077, without 3.0037742343214595, onto 3.003765654223924, taking 3.0037185478493638, rather 3.0036690511037945, devil 3.0036690511037945, level 3.0036521922769985, their 3.0036271211117835, anymore 3.003622137870382, star 3.003595861980223, creepy 3.0035868676045636, exists 3.003576118836603, westerns 3.0035534375585233, thrills 3.0035534375585233, obsessed 3.0035373685206617, meaning 3.0035055557802925, giving 3.0034866737336308, dogs 3.0034866737336308, stated 3.0034432045925934, associated 3.0034432045925934, hard 3.0034432045925934, difference 3.003385226738924, putting 3.0033473847238312, interview 3.0033175661813245, more 3.003316687375003, red 3.0033040323642, admit 3.0033040323642, ignore 3.003237589846589, officer 3.003237589846589, lou 3.003237589846589, irony 3.003237589846589, entirely 3.003237589846589, faith 3.003237589846589, when 3.0031747725114544, claim 3.0031731318570376, rushed 3.0031416224506025, we've 3.00312826194593, core 3.00312826194593, scene 3.003096449556609, kids 3.003093991726855,  3.00309170533534, kick 3.003075663360656, flight 3.003049860224019, stealing 3.003049860224019, little 3.003039773558359, suffer 3.0030142779386617, race 3.003005479678815, heavy 3.0029819826448625, curious 3.0029743698069806, sheer 3.0029743698069806, prefer 3.0029449566126662, bigger 3.002925589573323, hands 3.002917105983972, under 3.00290561805238, cube 3.0028779997466275, miles 3.0028779997466275, suspect 3.0028779997466275, therefore 3.0028779997466275, credit 3.0028779997466275, twin 3.0028779997466275, you 3.002874426415665, abandoned 3.002813301004543, glass 3.0027974672582523, tv 3.002773161043707, estate 3.0027713731997254, website 3.0027713731997254, decides 3.0027639848075394, amount 3.002755496399413, reputation 3.0027507599624346, player 3.002741996066876, does 3.0027059269911813, fashion 3.0027035477351105, regret 3.002690281718209, three 3.002672526945147, arrive 3.0026705650501224, smoke 3.0026705650501224, built 3.0026705650501224, hearing 3.0026705650501224, close 3.002610328286965, apart 3.0025926544308557, plane 3.0025751594890293, liberal 3.0025751594890293, massacre 3.0025751594890293, pain 3.002544491674057, cool 3.0025130120177934, sight 3.0025069213236297, producer 3.0024935995032824, ignored 3.002484777203545, pet 3.002484777203545, elaborate 3.002484777203545, fatal 3.002484777203545, shocking 3.0024738150219625, watched 3.00244136029401, needless 3.00244136029401, confusion 3.00244136029401, understand 3.002427885954873, snow 3.0023990715986932, written 3.002381593942732, trick 3.002378338153939, lie 3.002378338153939, references 3.0023578723593345, type 3.0023547472378107, double 3.002344374921253, appeared 3.002344374921253, odd 3.0023361263376622, overly 3.0023177254680364, texas 3.0023177254680364, buy 3.0023177254680364, pulling 3.0023177254680364, connection 3.0022785953836366, shocked 3.002270888361569, sequences 3.002245163853771, exaggerated 3.0022404480529885, returning 3.0022404480529885, but 3.002237955634836, think 3.002234959335052, expression 3.00220325083681, holding 3.0021813754893008, neighborhood 3.00216697243982, continued 3.00216697243982, zone 3.00216697243982, needs 3.0021408113618238, likely 3.0021385910591727, jet 3.0020970532507536, teacher 3.0020970532507536, comes 3.0020354733938825, br 3.0020306492469486, fights 3.002030464591759, assistant 3.002030464591759, doubt 3.0020266467967254, bar 3.0020223646351893, actress 3.0020175279068697, move 3.0019983534928336, entertain 3.0019983534928336, took 3.0019983534928336, take 3.0019943375474596, keaton 3.0019669982249595, e 3.0019622399107737, water 3.001960815783453, 12 3.001958175086009, bank 3.0019515966358874, numerous 3.001936375249711, an 3.0019346832436424, being 3.001907979037982, abuse 3.0019064619379696, naturally 3.0019064619379696, matters 3.0018714721380224, speech 3.0018628752132406, neck 3.001848678086289, martial 3.001804321878666, mad 3.0017934822880665, right 3.001763408293124, motion 3.001758047226662, described 3.001740722253301, wake 3.001740722253301, near 3.0017048692729187, struggling 3.00170266533842, supernatural 3.00170266533842, by 3.0016946830880693, create 3.00166584305681, we 3.0016502567457337, hiding 3.00164195456691, cat 3.001630202571254, board 3.001623211838912, added 3.001610894425848, probably 3.0016035594655452, everywhere 3.0015956938413195, mafia 3.0015956938413195, after 3.0015956938413195, crew 3.0015821965346983, park 3.0015732932546193, serial 3.0015732932546193, sexual 3.0015622694475645, watch 3.0015608401070097, crazy 3.0015513611076132, version 3.0015513611076132, that 3.0015407460384473, goes 3.0015341439344025, buddy 3.001529884428498, latest 3.001529884428498, cinematic 3.001468064061, gas 3.001428909255582, long 3.001424367973052, this 3.0014115368943695, ups 3.001398702403504, local 3.001398702403504, sleazy 3.001391300366434, house 3.0013899847591836, same 3.001389626281083, part 3.001386049115099, speed 3.001355157065082, tall 3.001355157065082, casting 3.0013360331809, alive 3.0013289659746083, feels 3.0013179731406683, violence 3.0013064816836827, bob 3.00130352695055, slapstick 3.0012869712748165, cases 3.0012869712748165, model 3.001278811470639, serve 3.00125479235212, charge 3.0012238054663554, extent 3.0012238054663554, ending 3.001216238105861, staged 3.001208740721877, ghost 3.001208740721877, words 3.0011998350198903, twenty 3.0011998350198903, headed 3.0011939524559095, film 3.0011712562471047, people's 3.001165178663837, suited 3.001165178663837, pull 3.001165178663837, tortured 3.001165178663837, occur 3.001165178663837, lost 3.0011581477517946, high 3.0011374326874476, basis 3.0011374326874476, sad 3.0011340342677517, besides 3.0010957930855424, on 3.001087874456594, dignity 3.0010848334822633, ii 3.0010848334822633, where 3.0010848334822633, relief 3.0010848334822633, four 3.0010617796440924, everything 3.0010550067011135, every 3.0010521939403816, comments 3.0010477422227844, g 3.0010477422227844, distance 3.0010477422227844, opposed 3.0010477422227844, filmed 3.001041745656549, suspense 3.0010379564256118, examples 3.001035800426389, ability 3.001002784147965, cameo 3.0009955731679967, buying 3.0009900182692597, prior 3.0009900182692597, tension 3.000987258238723, planning 3.0009790470492543, done 3.0009687437735852, explains 3.0009682572042675, featured 3.0009682572042675, kidnapped 3.000947205842813, from 3.000936883370576, my 3.0009327837608475, afterwards 3.0009168931565964, wonders 3.0009168931565964, kicks 3.0009168931565964, dig 3.0009168931565964, occasional 3.0009071117333606, daughter 3.000905620801709, tea 3.0008880126949222, don 3.0008880126949222, eyed 3.0008880126949222, second 3.000879717332341, seen 3.0008760515298283, acted 3.000860475627886, come 3.0008282618400264, danger 3.000817345800686, themselves 3.0008030139718604, ' 3.0007987019908398, character 3.000791196809231, 80's 3.0007851346139036, meaningful 3.0007851346139036, split 3.0007851346139036, ancient 3.0007851346139036, lady 3.0007748198001756, talented 3.0007735447570503, saturday 3.000769738455459, hear 3.000766713606125, across 3.0007502790317413, runs 3.0007464439391494, next 3.0007461618322004, dinner 3.0007402743385163, station 3.0007402743385163, contact 3.0007402743385163, it's 3.0007325898881745, reasons 3.0007192725071246, hopefully 3.0007124702042454, formula 3.0007124702042454, choose 3.0006991519339516, roll 3.0006991519339516, values 3.0006991519339516, night 3.0006942537141392, suggest 3.0006836571917064, drives 3.000679863993634, enjoyment 3.000679863993634, fighting 3.000671841280418, mentally 3.0006613633689923, opportunity 3.000647101231548, are 3.0006447196344794, agent 3.0006436077845713, shakespeare 3.0006436077845713, back 3.00063936185692, mind 3.0006321650369974, forget 3.0006302876114614, replaced 3.0006101764147854, cruel 3.000564710063001, air 3.000540975234844, directors 3.000529665082861, with 3.000529076020031, witch 3.0005284303371775, expect 3.000523160483354, direct 3.0005115877606174, third 3.0005115877606174, darkness 3.0005115877606174, diamond 3.0005115877606174, is 3.000499523264642, big 3.000492700877707, robin 3.0004877945746067, hardy 3.0004877945746067, compared 3.0004765156814095, erotic 3.0004765156814095, produced 3.0004765156814095, scared 3.000472842872873, notice 3.000471022372177, old 3.0004699351139283, police 3.0004680114840094, lies 3.000465623511362, likes 3.000457176436062, face 3.0004551005844373, heavily 3.0004551005844373, found 3.0004393833219267, minds 3.000435097358129, followed 3.000435097358129, you've 3.000430982725688, wes 3.000425586727661, constant 3.000425586727661, hat 3.0004163845630796, longer 3.000414579972148, program 3.0004074776672973, pulp 3.000390500341422, pop 3.000385076485517, things 3.0003775700524558, pat 3.0003745623716336, public 3.0003684592951374, re 3.0003680290801635, mate 3.000359580616431, 2nd 3.000359580616431, characters 3.00034685246715, moon 3.0003454800846434, to 3.00034125439553, climax 3.0003387388373577, souls 3.0003321929951117, taken 3.0003279339500315, having 3.000320238656074, clues 3.000319657960546, scientific 3.000319657960546, 10 3.000317386757644, 1980s 3.0003078192771717, tunes 3.0003078192771717, discussion 3.0003078192771717, mentioned 3.000305530563531, girl 3.0003024397764557, horses 3.0002966263047677, before 3.0002959676557044, ranks 3.0002860329241994, involvement 3.0002860329241994, content 3.0002792828463254, poster 3.00027599706155, press 3.00027599706155, arts 3.00027599706155, never 3.000271176053441, heard 3.0002706481960417, dragon 3.0002664802696977, delivered 3.000257447359508, good 3.0002562706591673, blue 3.0002545382646906, burt 3.0002488660740765, clear 3.0002433813951424, rush 3.0002407068003225, all 3.0002405595062878, mostly 3.000234028327063, letter 3.0002329423131613, regardless 3.0002329423131613, silver 3.0002329423131613, existence 3.0002292002031927, actor 3.0002148746814266, chases 3.0002117765357204, weight 3.0002117765357204, in 3.0002023512228777, 16 3.00019922928682, burning 3.00019922928682, black 3.0001986856715632, ex 3.0001933697574827, appearing 3.0001877649814683, 2000 3.0001877649814683, susan 3.0001877649814683, can 3.000179072247573, connected 3.000177262487614, murders 3.0001723386461334, way 3.0001709694919794, which 3.000166203374893, into 3.000165328830767, sold 3.000158738162913, one 3.000156628660711, nearly 3.0001562118086147, angle 3.0001505464448135, wall 3.0001485976016498, realize 3.0001485976016498, lee 3.0001405749771446, r 3.0001393985986553, ready 3.0001359567221977, sci 3.0001359567221977, it 3.0001349388750613, reporter 3.00012636269655, 17 3.000123389507001, co 3.0001116449240457, further 3.0001116449240457, and 3.0001116326033843, fight 3.0001080476114037, fairly 3.0001075705730735, agree 3.0001067825005947, such 3.000105441536471, 70s 3.0001052321161414, these 3.0001010728962303, hero 3.0000981367346413, scale 3.000090806536929, serves 3.000090806536929, covered 3.0000855179247723, market 3.0000855179247723, for 3.0000853458447883, extras 3.0000838574016626, appearance 3.000079156013527, involving 3.0000762380394184, national 3.0000762380394184, send 3.0000748391906837, ran 3.0000696118509036, pity 3.0000696118509036, behind 3.0000679110851163, kevin 3.000066042579969, lots 3.00006491365704, gone 3.00006491365704, amusing 3.0000616952760955, skills 3.0000606755279615, breaks 3.0000596808553253, death 3.000055494026598, talents 3.0000550562020827, room 3.000053913682976, technical 3.0000472847942126, jason 3.000046599511724, dying 3.000045272894612, accident 3.000042194008696, energy 3.000040495086738, member 3.0000394188473045, location 3.000035516073101, extreme 3.0000350693321947, means 3.0000284420091536, track 3.000026452074874, serious 3.000017558559295, control 3.0000170224504674, leaving 3.0000164392822986, common 3.000015359381931, won't 3.000011565552114, previous 3.0000105120478926, fall 3.000006779125773, a 3.0000061751442, the 3.00000550946422, time 3.000004634587806, however 3.0000036470102676, you'll 3.0000027259823137, almost 3.000001995234541, of 3.0000009014824727, logical 3.0, citizen 3.0, bollywood 3.0, heroine 3.0, pushed 3.0, ought 3.0, numbers 3.0, tune 3.0, dean 3.0, laughter 3.0, walls 3.0, 60's 3.0, lifetime 3.0, narrator 3.0, directly 3.0, general 3.0, extended 3.0, mere 3.0, fi 3.0, jungle 3.0, equal 3.0, draw 3.0, 2003 3.0, crimes 3.0, gruesome 3.0, reference 3.0, leave 3.0, screenplay 3.0, delivery 3.0, capable 3.0])\n"
          ]
        }
      ]
    },
    {
      "cell_type": "code",
      "execution_count": null,
      "metadata": {
        "id": "jCPdoJ2UVuZb"
      },
      "outputs": [],
      "source": [
        "def calculate_words():\n",
        "  words = list()\n",
        "  i = 0\n",
        "  for x in vocabulary:\n",
        "    if(x != '[pad]' and x!= '[bos]' and x != '[oov]'):\n",
        "      words.append(Word(x, i))\n",
        "    i+= 1\n",
        "\n",
        "  return words"
      ]
    },
    {
      "cell_type": "code",
      "execution_count": null,
      "metadata": {
        "id": "hEq5ZPcV6ebr"
      },
      "outputs": [],
      "source": [
        "def main(tree_result):\n",
        "  good_result = 0\n",
        "  count = 0\n",
        "  for sentense in x_train_binary:\n",
        "    tree = tree_result\n",
        "    result = None\n",
        "    while True:\n",
        "      if tree.left == None and tree.right == None or tree.p1 == 1 or tree.p0 == 1:\n",
        "        result = tree\n",
        "        break\n",
        "      else:\n",
        "        sentense_word = findValueFromArray(sentense, tree.value.index)\n",
        "        if(sentense_word == None):\n",
        "          if tree.left == None:\n",
        "            result = tree\n",
        "            break\n",
        "          tree = tree.left\n",
        "        else:\n",
        "          if tree.right == None :\n",
        "            result = tree\n",
        "            break \n",
        "          tree = tree.right\n",
        "    c = 1\n",
        "    if(result.p0 > result.p1):\n",
        "      c = 0\n",
        "    if(y_train[count] == c):\n",
        "      good_result += 1\n",
        "    count += 1\n",
        "  return good_result/count*100"
      ]
    },
    {
      "cell_type": "code",
      "source": [
        "def fit(tree_result, limit: int): #fit\n",
        "  good_result = 0\n",
        "  count = 0\n",
        "  check = x_train_binary[:limit]\n",
        "  for sentense in check:\n",
        "    tree = tree_result\n",
        "    result = None\n",
        "    while True:\n",
        "      if tree.left == None and tree.right == None or tree.p1 == 1 or tree.p0 == 1:\n",
        "        result = tree\n",
        "        break\n",
        "      else:\n",
        "        sentense_word = findValueFromArray(sentense, tree.value.index)\n",
        "        if(sentense_word == None):\n",
        "          if tree.left == None:\n",
        "            result = tree\n",
        "            break\n",
        "          tree = tree.left\n",
        "        else:\n",
        "          if tree.right == None :\n",
        "            result = tree\n",
        "            break \n",
        "          tree = tree.right\n",
        "    c = 1\n",
        "    if(result.p0 > result.p1):\n",
        "      c = 0\n",
        "    if(y_train[count] == c):\n",
        "      good_result += 1\n",
        "    count += 1\n",
        "  return good_result/count*100"
      ],
      "metadata": {
        "id": "G1pJx8F512eO"
      },
      "execution_count": 34,
      "outputs": []
    },
    {
      "cell_type": "code",
      "source": [
        "def main_test(tree_result): #predict\n",
        "  good_result = 0\n",
        "  count = 0\n",
        "  for sentense in x_test_binary:\n",
        "    tree = tree_result\n",
        "    result = None\n",
        "    while True:\n",
        "      if tree.left == None and tree.right == None or tree.p1 == 1 or tree.p0 == 1:\n",
        "        result = tree\n",
        "        break\n",
        "      else:\n",
        "        sentense_word = findValueFromArray(sentense, tree.value.index)\n",
        "        if(sentense_word == None):\n",
        "          if tree.left == None:\n",
        "            result = tree\n",
        "            break\n",
        "          tree = tree.left\n",
        "        else:\n",
        "          if tree.right == None :\n",
        "            result = tree\n",
        "            break \n",
        "          tree = tree.right\n",
        "    c = 1\n",
        "    if(result.p0 > result.p1):\n",
        "      c = 0\n",
        "    if(y_test[count] == c):\n",
        "      good_result += 1\n",
        "    count += 1\n",
        "  return good_result/count*100"
      ],
      "metadata": {
        "id": "NCwhUitdPBla"
      },
      "execution_count": null,
      "outputs": []
    },
    {
      "cell_type": "code",
      "source": [
        "def predict(tree_result, limit: int):\n",
        "  good_result = 0\n",
        "  count = 0\n",
        "  check = x_test_binary[:limit]\n",
        "  ar_result = y_test[:limit]\n",
        "  for sentense in check:\n",
        "    tree = tree_result\n",
        "    result = None\n",
        "    while True:\n",
        "      if tree.left == None and tree.right == None or tree.p1 == 1 or tree.p0 == 1:\n",
        "        result = tree\n",
        "        break\n",
        "      else:\n",
        "        sentense_word = findValueFromArray(sentense, tree.value.index)\n",
        "        if(sentense_word == None):\n",
        "          if tree.left == None:\n",
        "            result = tree\n",
        "            break\n",
        "          tree = tree.left\n",
        "        else:\n",
        "          if tree.right == None :\n",
        "            result = tree\n",
        "            break \n",
        "          tree = tree.right\n",
        "    c = 1\n",
        "    if(result.p0 > result.p1):\n",
        "      c = 0\n",
        "    if(ar_result[count] == c):\n",
        "      good_result += 1\n",
        "    count += 1\n",
        "  return good_result/count*100"
      ],
      "metadata": {
        "id": "QedqGRJUeack"
      },
      "execution_count": 40,
      "outputs": []
    },
    {
      "cell_type": "code",
      "execution_count": null,
      "metadata": {
        "id": "TzyDre_-X3oW"
      },
      "outputs": [],
      "source": [
        "def anadromi(array, result_array, depth, words = None):\n",
        "  if(words == None):\n",
        "    words = calculate_words()\n",
        "  if(len(array) == 0 or len(words) == 0 or depth == 0):\n",
        "    return None\n",
        "  data = next_word_subtree(array, result_array, words)\n",
        "  word = data[0]\n",
        "  words = data[1]\n",
        "  node = Node(word, depth)\n",
        "  node.setP1(calculate_probability_total(result_array))\n",
        "  node.setP0(1-node.p1)\n",
        "  l_num = remove_words(array, word.index, False)\n",
        "  l_array = np.delete(array, l_num, 0)\n",
        "  l_result_array = np.delete(result_array, l_num, 0)\n",
        "  node.setLeftChild(anadromi(l_array, l_result_array, depth-1, words.copy()))\n",
        "  r_num = remove_words(array, word.index)\n",
        "  r_array = np.delete(array, r_num, 0)\n",
        "  r_result_array = np.delete(result_array, r_num)\n",
        "  node.setRightChild(anadromi(r_array, r_result_array, depth-1, words.copy()))\n",
        "  return node"
      ]
    },
    {
      "cell_type": "code",
      "source": [
        "x_copy = x_train_binary[:100]\n",
        "y_copy =y_train[:100]\n",
        "tree = anadromi(x_copy, y_copy, 300)\n",
        "print(\"train\")\n",
        "print(main(tree))\n",
        "print(\"test\")\n",
        "print(main_test(tree))\n",
        "print(\"train limit:\")\n",
        "print(main_limit(tree,10))\n",
        "print(main_limit(tree,20))\n",
        "print(main_limit(tree,30))\n",
        "print(main_limit(tree,40))\n",
        "print(main_limit(tree,50))\n",
        "print(main_limit(tree,100))\n",
        "print(main_limit(tree,200))\n",
        "print(main_limit(tree,300))\n",
        "print(\"test limit:\")\n",
        "print(main_test_limit(tree,10))\n",
        "print(main_test_limit(tree,20))\n",
        "print(main_test_limit(tree,30))\n",
        "print(main_test_limit(tree,40))\n",
        "print(main_test_limit(tree,50))\n",
        "print(main_test_limit(tree,100))\n",
        "print(main_test_limit(tree,200))\n",
        "print(main_test_limit(tree,300))"
      ],
      "metadata": {
        "id": "jPGxsyMG36M_",
        "colab": {
          "base_uri": "https://localhost:8080/"
        },
        "outputId": "ab5ed7a7-e92d-46b0-805e-65c66816ab01"
      },
      "execution_count": 42,
      "outputs": [
        {
          "output_type": "stream",
          "name": "stdout",
          "text": [
            "train\n",
            "54.064\n",
            "test\n",
            "53.748\n",
            "train limit:\n",
            "100.0\n",
            "100.0\n",
            "100.0\n",
            "100.0\n",
            "100.0\n",
            "100.0\n",
            "75.0\n",
            "67.33333333333333\n",
            "test limit:\n",
            "40.0\n",
            "55.00000000000001\n",
            "60.0\n",
            "60.0\n",
            "64.0\n",
            "63.0\n",
            "57.99999999999999\n",
            "58.666666666666664\n"
          ]
        }
      ]
    }
  ],
  "metadata": {
    "colab": {
      "collapsed_sections": [],
      "name": "ID3.ipynb",
      "provenance": []
    },
    "kernelspec": {
      "display_name": "Python 3",
      "name": "python3"
    },
    "language_info": {
      "name": "python"
    }
  },
  "nbformat": 4,
  "nbformat_minor": 0
}