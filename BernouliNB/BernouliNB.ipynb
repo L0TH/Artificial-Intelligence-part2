{
  "cells": [
    {
      "cell_type": "code",
      "execution_count": 2,
      "metadata": {
        "colab": {
          "base_uri": "https://localhost:8080/"
        },
        "id": "FXlqQPruQI2Z",
        "outputId": "045c3c86-0e7c-41e7-c06c-01a8f2289268"
      },
      "outputs": [
        {
          "name": "stdout",
          "output_type": "stream",
          "text": [
            "Downloading data from https://storage.googleapis.com/tensorflow/tf-keras-datasets/imdb.npz\n",
            "17465344/17464789 [==============================] - 0s 0us/step\n",
            "17473536/17464789 [==============================] - 0s 0us/step\n",
            "Downloading data from https://storage.googleapis.com/tensorflow/tf-keras-datasets/imdb_word_index.json\n",
            "1646592/1641221 [==============================] - 0s 0us/step\n",
            "1654784/1641221 [==============================] - 0s 0us/step\n"
          ]
        }
      ],
      "source": [
        "import tensorflow as tf\n",
        "import numpy as np\n",
        "\n",
        "(x_train, y_train), (x_test, y_test) = tf.keras.datasets.imdb.load_data(num_words=4000)\n",
        "\n",
        "word_index = tf.keras.datasets.imdb.get_word_index()\n",
        "index2word = dict((i + 3, word) for (word, i) in word_index.items())\n",
        "index2word[0] = '[pad]'\n",
        "index2word[1] = '[bos]'\n",
        "index2word[2] = '[oov]'\n",
        "x_train = np.array([' '.join([index2word[idx] for idx in text]) for text in x_train])\n",
        "x_test = np.array([' '.join([index2word[idx] for idx in text]) for text in x_test])\n"
      ]
    },
    {
      "cell_type": "code",
      "execution_count": 3,
      "metadata": {
        "colab": {
          "base_uri": "https://localhost:8080/"
        },
        "id": "WREOSn-xQuNK",
        "outputId": "cde8004a-d4df-487f-a211-e71a0bf23057"
      },
      "outputs": [
        {
          "name": "stdout",
          "output_type": "stream",
          "text": [
            "3998\n"
          ]
        }
      ],
      "source": [
        "vocabulary = list()\n",
        "for text in x_train:\n",
        "  tokens = text.split()\n",
        "  vocabulary.extend(tokens)\n",
        "\n",
        "vocabulary = set(vocabulary)\n",
        "print(len(vocabulary))"
      ]
    },
    {
      "cell_type": "code",
      "execution_count": 4,
      "metadata": {
        "colab": {
          "base_uri": "https://localhost:8080/"
        },
        "id": "1Ay3UflmQzaj",
        "outputId": "810dea5f-5057-406b-8eda-6f643e9efddf"
      },
      "outputs": [
        {
          "name": "stderr",
          "output_type": "stream",
          "text": [
            "100%|██████████| 25000/25000 [07:21<00:00, 56.58it/s]\n",
            "100%|██████████| 25000/25000 [07:06<00:00, 58.66it/s]\n"
          ]
        }
      ],
      "source": [
        "from tqdm import tqdm\n",
        "\n",
        "x_train_binary = list()\n",
        "x_test_binary = list()\n",
        "\n",
        "for text in tqdm(x_train):\n",
        "  tokens = text.split()\n",
        "  binary_vector = list()\n",
        "  for vocab_token in vocabulary:\n",
        "    if vocab_token in tokens:\n",
        "      binary_vector.append(1)\n",
        "    else:\n",
        "      binary_vector.append(0)\n",
        "  x_train_binary.append(binary_vector)\n",
        "\n",
        "x_train_binary = np.array(x_train_binary)\n",
        "\n",
        "for text in tqdm(x_test):\n",
        "  tokens = text.split()\n",
        "  binary_vector = list()\n",
        "  for vocab_token in vocabulary:\n",
        "    if vocab_token in tokens:\n",
        "      binary_vector.append(1)\n",
        "    else:\n",
        "      binary_vector.append(0)\n",
        "  x_test_binary.append(binary_vector)\n",
        "\n",
        "x_test_binary = np.array(x_test_binary)"
      ]
    },
    {
      "cell_type": "markdown",
      "metadata": {
        "id": "DlvT56gGAO9-"
      },
      "source": [
        "Calculation the general propabilite of P(Xi=1|C=1)\n"
      ]
    },
    {
      "cell_type": "code",
      "execution_count": null,
      "metadata": {
        "colab": {
          "base_uri": "https://localhost:8080/"
        },
        "id": "zvde5T5_6mQV",
        "outputId": "41547a10-4053-4205-bf85-ec4c32994821"
      },
      "outputs": [],
      "source": [
        "prop_list_X1C1=list()\n",
        "sum=0\n",
        "for i in range(len(vocabulary)):\n",
        "  count_1=0\n",
        "  for j in range(len(x_train_binary)):\n",
        "    if(x_train_binary[j][i]==1 and y_train[j]==1):\n",
        "      count_1=count_1+1\n",
        "      sum+=1\n",
        "  prop_list_X1C1.append(count_1)\n",
        "for i in range(len(prop_list_X1C1)):\n",
        "  prop_list_X1C1[i]=np.log((prop_list_X1C1[i]+1)/(sum+4000))\n",
        "print(prop_list_X1C1)"
      ]
    },
    {
      "cell_type": "markdown",
      "metadata": {
        "id": "JfN0pVBHP5_F"
      },
      "source": [
        "Calculation the general propabilite of P(Xi=1|C=0)"
      ]
    },
    {
      "cell_type": "code",
      "execution_count": null,
      "metadata": {
        "colab": {
          "base_uri": "https://localhost:8080/"
        },
        "id": "K8feKAsqBiIP",
        "outputId": "4297d6c9-795e-4664-94ae-6786e69b09f4"
      },
      "outputs": [],
      "source": [
        "prop_list_X1C0=list()\n",
        "sum=0\n",
        "for i in range(len(vocabulary)):\n",
        "  count_1=0\n",
        "  for j in range(len(x_train_binary)):\n",
        "    if(x_train_binary[j][i]==1 and y_train[j]==0):\n",
        "      count_1=count_1+1\n",
        "      sum+=1\n",
        "  prop_list_X1C0.append(count_1)\n",
        "for i in range(len(prop_list_X1C0)):\n",
        "  prop_list_X1C0[i]=np.log((prop_list_X1C0[i]+1)/(sum+4000))\n",
        "print(prop_list_X1C0)"
      ]
    },
    {
      "cell_type": "markdown",
      "metadata": {
        "id": "UfIQH77TP8QM"
      },
      "source": [
        "Calculation the general propabilite of P(Xi=0|C=1)"
      ]
    },
    {
      "cell_type": "code",
      "execution_count": null,
      "metadata": {
        "colab": {
          "base_uri": "https://localhost:8080/"
        },
        "id": "alG6AZ-1oqYk",
        "outputId": "21968568-a470-4dda-a1db-4261ae5b2a6e"
      },
      "outputs": [],
      "source": [
        "prop_list_X0C1=list()\n",
        "sum=0\n",
        "for i in range(len(vocabulary)):\n",
        "  count_1=0\n",
        "  for j in range(len(x_train_binary)):\n",
        "    if(x_train_binary[j][i]==0 and y_train[j]==1):\n",
        "      count_1=count_1+1\n",
        "      sum+=1\n",
        "  prop_list_X0C1.append(count_1)\n",
        "  \n",
        "for i in range(len(prop_list_X1C0)):\n",
        "  prop_list_X0C1[i]=np.log((prop_list_X0C1[i]+1)/((sum+4000)))\n",
        "  \n",
        "print(prop_list_X0C1)"
      ]
    },
    {
      "cell_type": "markdown",
      "metadata": {
        "id": "cZXWfJvvP-Oo"
      },
      "source": [
        "Calculation the general propabilite of P(Xi=0|C=0)"
      ]
    },
    {
      "cell_type": "code",
      "execution_count": null,
      "metadata": {
        "colab": {
          "base_uri": "https://localhost:8080/"
        },
        "id": "qt53Jv51o4Of",
        "outputId": "e1c0280f-7c3b-46b9-db34-408fe7b06514"
      },
      "outputs": [],
      "source": [
        "prop_list_X0C0=list()\n",
        "sum=0\n",
        "for i in range(len(vocabulary)):\n",
        "  count_1=0\n",
        "  for j in range(len(x_train_binary)):\n",
        "    if(x_train_binary[j][i]==0 and y_train[j]==0):\n",
        "      count_1=count_1+1\n",
        "      sum+=1\n",
        "  prop_list_X0C0.append(count_1)\n",
        "for i in range(len(prop_list_X0C0)):\n",
        "  prop_list_X0C0[i]=np.log((prop_list_X0C0[i]+1)/(sum+4000))\n",
        "print(prop_list_X0C0)"
      ]
    },
    {
      "cell_type": "code",
      "execution_count": null,
      "metadata": {
        "colab": {
          "base_uri": "https://localhost:8080/"
        },
        "id": "jkwPI5XFJlkO",
        "outputId": "593a2b1b-6229-4514-b805-579290bf8089"
      },
      "outputs": [
        {
          "name": "stdout",
          "output_type": "stream",
          "text": [
            "              precision    recall  f1-score   support\n",
            "\n",
            "           0       0.83      0.85      0.84     12500\n",
            "           1       0.85      0.83      0.84     12500\n",
            "\n",
            "    accuracy                           0.84     25000\n",
            "   macro avg       0.84      0.84      0.84     25000\n",
            "weighted avg       0.84      0.84      0.84     25000\n",
            "\n"
          ]
        }
      ],
      "source": [
        "from sklearn.metrics import classification_report\n",
        "def predict():\n",
        "  y_predict=list()\n",
        "  count_neg=0\n",
        "  count_pos=0\n",
        "  for test in x_test_binary:\n",
        "    prop_pos=np.log(0.5)\n",
        "    prop_neg=np.log(0.5)\n",
        "    for i in range(len(test)):\n",
        "      if(test[i]==1):\n",
        "        prop_pos+=(prop_list_X1C1[i])\n",
        "        prop_neg+=(prop_list_X1C0[i])\n",
        "      else:\n",
        "        prop_pos+=(prop_list_X0C1[i])\n",
        "        prop_neg+=(prop_list_X0C0[i])\n",
        "\n",
        "    if ((prop_pos)>(prop_neg)):\n",
        "      y_predict.append(1)\n",
        "    elif((prop_neg)>(prop_pos)):\n",
        "      y_predict.append(0)\n",
        "    else:\n",
        "      y_predict.append(0)\n",
        "  return y_predict    \n",
        "    \n",
        "print(classification_report(y_test, predict(), labels=[0, 1]))"
      ]
    },
    {
      "cell_type": "code",
      "execution_count": null,
      "metadata": {
        "colab": {
          "base_uri": "https://localhost:8080/"
        },
        "id": "I6tDuB1gcXS_",
        "outputId": "450fa4bc-6b1f-4358-e2a4-8958c1c96aa0"
      },
      "outputs": [
        {
          "name": "stdout",
          "output_type": "stream",
          "text": [
            "              precision    recall  f1-score   support\n",
            "\n",
            "           0       0.84      0.84      0.84     12500\n",
            "           1       0.84      0.84      0.84     12500\n",
            "\n",
            "    accuracy                           0.84     25000\n",
            "   macro avg       0.84      0.84      0.84     25000\n",
            "weighted avg       0.84      0.84      0.84     25000\n",
            "\n"
          ]
        }
      ],
      "source": [
        "from sklearn.naive_bayes import BernoulliNB\n",
        "nb= BernoulliNB()\n",
        "\n",
        "nb.fit(x_train_binary,y_train)\n",
        "\n",
        "from sklearn.metrics import classification_report\n",
        "print(classification_report(y_test, nb.predict(x_test_binary)))"
      ]
    }
  ],
  "metadata": {
    "colab": {
      "collapsed_sections": [],
      "name": "BernouliNB.ipynb",
      "provenance": []
    },
    "kernelspec": {
      "display_name": "Python 3",
      "name": "python3"
    },
    "language_info": {
      "name": "python"
    }
  },
  "nbformat": 4,
  "nbformat_minor": 0
}
